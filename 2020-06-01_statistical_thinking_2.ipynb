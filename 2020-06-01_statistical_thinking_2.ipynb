{
 "cells": [
  {
   "cell_type": "markdown",
   "metadata": {},
   "source": [
    "- Notebook Author: [Trenton McKinney](https://trenton3983.github.io/)\n",
    "- Course: **[DataCamp: Statistical Thinking in Python (Part 2)](https://learn.datacamp.com/courses/statistical-thinking-in-python-part-2)**\n",
    "- This [notebook](https://github.com/trenton3983/DataCamp/blob/master/2020-06-01_statistical_thinking_2.ipynb) is a reproducible reference.\n",
    "- The material is from the course\n",
    "- I completed the exercises\n",
    "- If you find the content beneficial, consider a [DataCamp Subscription](https://www.datacamp.com/pricing?period=yearly).\n",
    "- `def create_dir_save_file` downloads and saves the required data (`data/2020-06-01_statistical_thinking_2`) and image (`Images/2020-06-01_statistical_thinking_2`) files."
   ]
  },
  {
   "cell_type": "markdown",
   "metadata": {},
   "source": [
    "## Course Description\n",
    "\n",
    "An understanding of statistical inference will be provided. Building on the foundations from [Part 1](https://trenton3983.github.io/posts/statistical-thinking-1/), your ability to estimate parameters and conduct hypothesis tests using real-world data sets will be enhanced. Hands-on analysis, including the study of beak measurements of Darwin's finches, will solidify your skills. By the end of the course, you'll be equipped with advanced tools and practical experience to confidently approach and solve your own data inference challenges.\n",
    "\n",
    "### Synopsis\n",
    "\n",
    "#### Parameter estimation by optimization\n",
    "- **Objective:** Estimate probability distribution parameters to describe data.\n",
    "- **Key Concepts:**\n",
    "  - Importance of parameter estimation in statistical inference.\n",
    "  - Use of probability distributions to model data.\n",
    "- **Methods:**\n",
    "  - Normality check using Michelson's speed of light data.\n",
    "  - Calculation of mean and standard deviation.\n",
    "  - Comparison of empirical and theoretical CDFs.\n",
    "- **Findings:**\n",
    "  - Good parameter estimates provide a good fit between empirical and theoretical CDFs.\n",
    "  - Impact of poor parameter estimates on the accuracy of the CDF fit.\n",
    "\n",
    "#### Bootstrap confidence intervals\n",
    "- **Objective:** Estimate confidence intervals using bootstrap resampling.\n",
    "- **Key Concepts:**\n",
    "  - Variability in parameter estimates.\n",
    "  - Interpretation of bootstrap confidence intervals.\n",
    "- **Methods:**\n",
    "  - Implementation of the bootstrap method.\n",
    "  - Application to Michelson's data for mean estimation.\n",
    "- **Findings:**\n",
    "  - Bootstrap provides insight into the precision of parameter estimates.\n",
    "  - Confidence intervals help in understanding the range of plausible values.\n",
    "\n",
    "#### Introduction to hypothesis testing\n",
    "- **Objective:** Framework for making statistical decisions.\n",
    "- **Key Concepts:**\n",
    "  - Null and alternative hypotheses.\n",
    "  - Test statistics and their role.\n",
    "  - P-values and significance levels.\n",
    "- **Methods:**\n",
    "  - Explanation of hypothesis testing steps.\n",
    "  - Introduction to decision-making based on statistical tests.\n",
    "- **Findings:**\n",
    "  - P-values quantify the evidence against the null hypothesis.\n",
    "  - Significance levels help determine the threshold for rejecting the null hypothesis.\n",
    "\n",
    "#### Hypothesis test examples\n",
    "- **Objective:** Practical application of hypothesis testing.\n",
    "- **Key Concepts:**\n",
    "  - Type I and Type II errors.\n",
    "  - Interpretation of test results.\n",
    "- **Methods:**\n",
    "  - Hypothesis tests on real datasets (e.g., finch beak data).\n",
    "  - Calculation and interpretation of p-values.\n",
    "- **Findings:**\n",
    "  - Examples illustrate the application of hypothesis testing.\n",
    "  - Understanding errors in hypothesis testing helps in making informed decisions.\n",
    "\n",
    "#### Case study\n",
    "- **Objective:** Comprehensive analysis using learned methods.\n",
    "- **Key Concepts:**\n",
    "  - Integration of parameter estimation, bootstrap, and hypothesis testing.\n",
    "  - Application to biological data (Darwin's finches).\n",
    "- **Methods:**\n",
    "  - Detailed analysis of finch beak measurements from different years.\n",
    "  - Use of statistical methods to interpret data.\n",
    "- **Findings:**\n",
    "  - Combined methods provide a thorough understanding of data.\n",
    "  - Statistical analysis aids in drawing meaningful conclusions from biological studies."
   ]
  },
  {
   "cell_type": "markdown",
   "metadata": {},
   "source": [
    "### Imports"
   ]
  },
  {
   "cell_type": "code",
   "execution_count": null,
   "metadata": {},
   "outputs": [],
   "source": [
    "import pandas as pd\n",
    "import matplotlib.pyplot as plt\n",
    "from matplotlib import collections as mc\n",
    "import numpy as np\n",
    "from scipy.stats import pearsonr\n",
    "import seaborn as sns\n",
    "from pathlib import Path\n",
    "import requests\n",
    "from datetime import datetime"
   ]
  },
  {
   "cell_type": "code",
   "execution_count": null,
   "metadata": {},
   "outputs": [],
   "source": [
    "import matplotlib as mpl"
   ]
  },
  {
   "cell_type": "code",
   "execution_count": null,
   "metadata": {},
   "outputs": [],
   "source": [
    "mpl.__version__"
   ]
  },
  {
   "cell_type": "markdown",
   "metadata": {},
   "source": [
    "### Pandas Configuration Options"
   ]
  },
  {
   "cell_type": "code",
   "execution_count": null,
   "metadata": {},
   "outputs": [],
   "source": [
    "pd.set_option('display.max_columns', 200)\n",
    "pd.set_option('display.max_rows', 300)\n",
    "pd.set_option('display.expand_frame_repr', True)"
   ]
  },
  {
   "cell_type": "markdown",
   "metadata": {},
   "source": [
    "### Matplotlib Configuration Options"
   ]
  },
  {
   "cell_type": "code",
   "execution_count": null,
   "metadata": {},
   "outputs": [],
   "source": [
    "plt.rcParams['figure.figsize'] = (10.0, 10.0)\n",
    "# plt.style.use('seaborn-dark-palette')\n",
    "plt.rcParams['axes.grid'] = True\n",
    "plt.rcParams[\"patch.force_edgecolor\"] = True"
   ]
  },
  {
   "cell_type": "markdown",
   "metadata": {},
   "source": [
    "### Functions"
   ]
  },
  {
   "cell_type": "markdown",
   "metadata": {},
   "source": [
    "#### `def create_dir_save_file`"
   ]
  },
  {
   "cell_type": "code",
   "execution_count": null,
   "metadata": {},
   "outputs": [],
   "source": [
    "def create_dir_save_file(dir_path: Path, url: str):\n",
    "    \"\"\"\n",
    "    Check if the path exists and create it if it does not.\n",
    "    Check if the file exists and download it if it does not.\n",
    "    \"\"\"\n",
    "    if not dir_path.parents[0].exists():\n",
    "        dir_path.parents[0].mkdir(parents=True)\n",
    "        print(f'Directory Created: {dir_path.parents[0]}')\n",
    "    else:\n",
    "        print('Directory Exists')\n",
    "        \n",
    "    if not dir_path.exists():\n",
    "        r = requests.get(url, allow_redirects=True)\n",
    "        open(dir_path, 'wb').write(r.content)\n",
    "        print(f'File Created: {dir_path.name}')\n",
    "    else:\n",
    "        print('File Exists')"
   ]
  },
  {
   "cell_type": "code",
   "execution_count": null,
   "metadata": {},
   "outputs": [],
   "source": [
    "data_dir = Path('data/2020-06-01_statistical_thinking_2')\n",
    "images_dir = Path('Images/2020-06-01_statistical_thinking_2')"
   ]
  },
  {
   "cell_type": "markdown",
   "metadata": {},
   "source": [
    "#### `def ecdf`\n",
    "\n",
    " - empirical cumulative distribution function\n",
    " - [Computing the ECDF](https://trenton3983.github.io/posts/statistical-thinking-1/#computing-the-ecdf)"
   ]
  },
  {
   "cell_type": "code",
   "execution_count": null,
   "metadata": {},
   "outputs": [],
   "source": [
    "def ecdf(data):\n",
    "    \"\"\"Compute ECDF for a one-dimensional array of measurements.\"\"\"\n",
    "    # Number of data points: n\n",
    "    n = len(data)\n",
    "\n",
    "    # x-data for the ECDF: x\n",
    "    x = np.sort(data)\n",
    "\n",
    "    # y-data for the ECDF: y\n",
    "    y = np.arange(1, n+1) / n\n",
    "\n",
    "    return x, y"
   ]
  },
  {
   "cell_type": "markdown",
   "metadata": {},
   "source": [
    "#### `def pearson`\n",
    "\n",
    "- Pearson correlation coefficient\n",
    "- [Computing the Pearson correlation coefficient](https://trenton3983.github.io/posts/statistical-thinking-1/#computing-the-pearson-correlation-coefficient)"
   ]
  },
  {
   "cell_type": "code",
   "execution_count": null,
   "metadata": {},
   "outputs": [],
   "source": [
    "def pearson_r(x, y):\n",
    "    \"\"\"Compute Pearson correlation coefficient between two arrays.\"\"\"\n",
    "    # Compute correlation matrix: corr_mat\n",
    "    corr_mat = np.corrcoef(x, y)\n",
    "\n",
    "    # Return entry [0,1]\n",
    "    return corr_mat[0,1]"
   ]
  },
  {
   "cell_type": "markdown",
   "metadata": {},
   "source": [
    "### Datasets"
   ]
  },
  {
   "cell_type": "code",
   "execution_count": null,
   "metadata": {},
   "outputs": [],
   "source": [
    "anscombe = 'https://assets.datacamp.com/production/repositories/470/datasets/fe820c6cbe9bcf4060eeb9e31dd86aa04264153a/anscombe.csv'\n",
    "bee_sperm = 'https://assets.datacamp.com/production/repositories/470/datasets/e427679d28d154934a6c087b2fa945bc7696db6d/bee_sperm.csv'\n",
    "female_lit_fer = 'https://assets.datacamp.com/production/repositories/470/datasets/f1e7f8a98c18da5c60b625cb8af04c3217f4a5c3/female_literacy_fertility.csv'\n",
    "finch_beaks_1975 = 'https://assets.datacamp.com/production/repositories/470/datasets/eb228490f7d823bfa6458b93db075ca5ccd3ec3d/finch_beaks_1975.csv'\n",
    "finch_beaks_2012 = 'https://assets.datacamp.com/production/repositories/470/datasets/b28d5bf65e38460dca7b3c5c0e4d53bdfc1eb905/finch_beaks_2012.csv'\n",
    "fortis_beak = 'https://assets.datacamp.com/production/repositories/470/datasets/532cb2fecd1bffb006c79a28f344af2290d643f3/fortis_beak_depth_heredity.csv'\n",
    "frog_tongue = 'https://assets.datacamp.com/production/repositories/470/datasets/df6e0479c0f292ce9d2b951385f64df8e2a8e6ac/frog_tongue.csv'\n",
    "basball = 'https://assets.datacamp.com/production/repositories/470/datasets/593c37a3588980e321b126e30873597620ca50b7/mlb_nohitters.csv'\n",
    "scandens_beak = 'https://assets.datacamp.com/production/repositories/470/datasets/7ff772e1f4e99ed93685296063b6e604a334236d/scandens_beak_depth_heredity.csv'\n",
    "sheffield_weather = 'https://assets.datacamp.com/production/repositories/470/datasets/129cba08c45749a82701fbe02180c5b69eb9adaf/sheffield_weather_station.csv'\n",
    "nohitter_time = 'https://raw.githubusercontent.com/trenton3983/DataCamp/master/data/2020-06-01_statistical_thinking_2/nohitter_time.csv'\n",
    "sol = 'https://assets.datacamp.com/production/repositories/469/datasets/df23780d215774ff90be0ea93e53f4fb5ebbade8/michelson_speed_of_light.csv'\n",
    "votes = 'https://assets.datacamp.com/production/repositories/469/datasets/8fb59b9a99957c3b9b1c82b623aea54d8ccbcd9f/2008_all_states.csv'\n",
    "swing = 'https://assets.datacamp.com/production/repositories/469/datasets/e079fddb581197780e1a7b7af2aeeff7242535f0/2008_swing_states.csv'"
   ]
  },
  {
   "cell_type": "code",
   "execution_count": null,
   "metadata": {},
   "outputs": [],
   "source": [
    "datasets = [anscombe, bee_sperm, female_lit_fer, finch_beaks_1975, finch_beaks_2012, fortis_beak, frog_tongue, basball, scandens_beak, sheffield_weather, nohitter_time, sol, votes, swing]\n",
    "data_paths = list()\n",
    "\n",
    "for data in datasets:\n",
    "    file_name = data.split('/')[-1].replace('?raw=true', '')\n",
    "    data_path = data_dir / file_name\n",
    "    create_dir_save_file(data_path, data)\n",
    "    data_paths.append(data_path)"
   ]
  },
  {
   "cell_type": "markdown",
   "metadata": {},
   "source": [
    "### DataFrames"
   ]
  },
  {
   "cell_type": "code",
   "execution_count": null,
   "metadata": {},
   "outputs": [],
   "source": [
    "df_bb = pd.read_csv(data_paths[7])\n",
    "nohitter_times = pd.read_csv(data_paths[10])\n",
    "sol = pd.read_csv(data_paths[11])\n",
    "votes = pd.read_csv(data_paths[12])\n",
    "swing = pd.read_csv(data_paths[13])\n",
    "fem = pd.read_csv(data_paths[2])\n",
    "anscombe = pd.read_csv(data_paths[0], header=[0, 1])\n",
    "anscombe.columns = [f'{x[1]}_{x[0]}' for x in anscombe.columns]  # reduce multi-level column name to single level\n",
    "sheffield = pd.read_csv(data_paths[9], header=[8], sep='\\\\s+')\n",
    "frogs = pd.read_csv(data_paths[6], header=[14])\n",
    "frogs.date = pd.to_datetime(frogs.date, format='%Y_%m_%d')\n",
    "baseball_df = pd.read_csv(data_paths[7])\n",
    "baseball_df.date = pd.to_datetime(baseball_df.date, format='%Y%m%d')\n",
    "baseball_df['days_since_last_nht'] = baseball_df.date.diff()  # calculate days since last no-hitter\n",
    "baseball_df['games_since_last_nht'] = baseball_df.game_number.diff().fillna(0) - 1  # calculate games since last no-hitter\n",
    "bees = pd.read_csv(data_paths[1], header=[3])\n",
    "finch_1975 = pd.read_csv(data_paths[3])\n",
    "finch_1975['year'] = 1975\n",
    "finch_1975.rename(columns={'Beak length, mm': 'beak_length', 'Beak depth, mm': 'beak_depth'}, inplace=True)\n",
    "finch_2012 = pd.read_csv(data_paths[4])\n",
    "finch_2012['year'] = 2012\n",
    "finch_2012.rename(columns={'blength': 'beak_length', 'bdepth': 'beak_depth'}, inplace=True)\n",
    "finch = pd.concat([finch_1975, finch_2012]).reset_index(drop=True)"
   ]
  },
  {
   "cell_type": "markdown",
   "metadata": {},
   "source": [
    "## Parameter estimation by optimization\n",
    "\n",
    "When doing statistical inference, we speak the language of probability. A probability distribution that describes your data has parameters. So, a major goal of statistical inference is to estimate the values of these parameters, which allows us to concisely and unambiguously describe our data and draw conclusions from it. In this chapter, you will learn how to find the optimal parameters, those that best describe your data."
   ]
  },
  {
   "cell_type": "markdown",
   "metadata": {},
   "source": [
    "### Optimal parameters\n",
    "\n",
    "- Outcomes of measurements follow probability distributions defined by the story of how the data came to be.\n",
    "- When we looked at Michelson's speed of light in air measurements, we assumed that the results were Normally distributed.\n",
    "- We verified that both by looking at the PDF and the CDF, which was more effective becasue there is no binning bias.\n",
    "\n",
    "#### Checking Normality of the Michelson data\n",
    "- To compute the theoretical CDF by sampling, we pass two parameters to `np.random.normal`\n",
    "- Calculate the mean and standard deviation (std) of the data\n",
    "- The values chosen for these parameters are the mean and std of the data\n",
    "\n",
    "#### CDF of the Michelson measurements\n",
    "- The theoretical CDF overlays nicely with the empirical CDF.\n",
    "- How did we know the mean and std calculated from the data were the appropriate values for the _**Normal**_ parameters?\n",
    "\n",
    "#### CDF with Bad Estimates\n",
    "- We could have chosen others\n",
    " - What if the std differs by 50%?\n",
    "   - The CDF no longer match.\n",
    " - What if the main varies by just 0.01%?\n",
    " \n",
    "#### Optimal Parameters\n",
    "- If we believe the process that generates our data gives Normally distributed results, the set of parameters that brings the model, in this case, a Normal distribution, in closest agreement with the data, uses the mean and std computed directly from the data.\n",
    " - Parameter values that bring the model in closest agreement with the data\n",
    " - **These are the optimal parameters.**\n",
    "- Remember though, the parameters are only optimal for the model chosen for the data.\n",
    "\n",
    "#### Mass of MA Large mouth bass\n",
    "![cdf_bass](https://raw.githubusercontent.com/trenton3983/DataCamp/master/Images/2020-06-01_statistical_thinking_2/cdf_bass.JPG)\n",
    "- When your model is wrong, the optimal parameters are not really meaningful.\n",
    "- Finding the optimal parameters is not always as easy as just computing the mean and std from the data.\n",
    "- We'll encounter this later in this chapter when we do linear regressions and we rely on built-in Numpy functions to find the optimal parameter for us.\n",
    "\n",
    "#### Packages to do statistical inference\n",
    "- There are great tolls in the Python ecosystem for doing statistical inference, including by optimization\n",
    " - [scipy.stats](https://docs.scipy.org/doc/scipy/reference/stats.html#module-scipy.stats)\n",
    " - [statsmodels](https://www.statsmodels.org/stable/index.html)\n",
    "- In this course we focus on hacker statistics using Numpy.\n",
    " - The same simple principle is applicable to a wide variety of statistical problems."
   ]
  },
  {
   "cell_type": "code",
   "execution_count": null,
   "metadata": {},
   "outputs": [],
   "source": [
    "f, axes = plt.subplots(2, 2, figsize=(20, 10), sharex=False)\n",
    "\n",
    "# Plot 1\n",
    "sns.histplot(sol['velocity of light in air (km/s)'], bins=9, kde=True, ax=axes[0, 0])\n",
    "axes[0, 0].set_title('Histogram of the Michelson Measurements')\n",
    "axes[0, 0].set_ylabel('PDF')\n",
    "\n",
    "# Plot 2\n",
    "mean = np.mean(sol['velocity of light in air (km/s)'])\n",
    "std = np.std(sol['velocity of light in air (km/s)'])\n",
    "\n",
    "samples = np.random.normal(mean, std, size=10000)\n",
    "x, y = ecdf(sol['velocity of light in air (km/s)'])\n",
    "x_theor, y_theor = ecdf(samples)\n",
    "\n",
    "sns.set()\n",
    "sns.lineplot(x=x_theor, y=y_theor, label='theoretical', ax=axes[0, 1])\n",
    "sns.scatterplot(x=x, y=y, label='measured', color='purple', ax=axes[0, 1])\n",
    "axes[0, 1].set_title('CDF of the Michelson Measurements')\n",
    "axes[0, 1].set_xlabel('speed of light (km/s)')\n",
    "axes[0, 1].set_ylabel('CDF')\n",
    "\n",
    "# Plot 3\n",
    "samples = np.random.normal(mean, std*1.5, size=10000)\n",
    "x_theor3, y_theor3 = ecdf(samples)\n",
    "\n",
    "sns.set()\n",
    "sns.lineplot(x=x_theor3, y=y_theor3, label='theoretical', ax=axes[1, 0])\n",
    "sns.scatterplot(x=x, y=y, label='measured', color='purple', ax=axes[1, 0])\n",
    "axes[1, 0].set_title('CDF of the Michelson Measurements: STD 50% Larger')\n",
    "axes[1, 0].set_xlabel('speed of light (km/s)')\n",
    "axes[1, 0].set_ylabel('CDF')\n",
    "ticks= axes[1, 0].get_xticks()\n",
    "\n",
    "# Plot 4\n",
    "samples = np.random.normal(mean*1.0001, std, size=10000)\n",
    "x_theor4, y_theor4 = ecdf(samples)\n",
    "\n",
    "sns.set()\n",
    "sns.lineplot(x=x_theor4, y=y_theor4, label='theoretical', ax=axes[1, 1])\n",
    "sns.scatterplot(x=x, y=y, label='measured', color='purple', ax=axes[1, 1])\n",
    "axes[1, 1].set_title('CDF of the Michelson Measurements: Mean 0.01% Larger')\n",
    "axes[1, 1].set_xlabel('speed of light (km/s)')\n",
    "axes[1, 1].set_ylabel('CDF')\n",
    "\n",
    "plt.tight_layout()\n",
    "plt.show()"
   ]
  },
  {
   "cell_type": "markdown",
   "metadata": {},
   "source": [
    "#### How often do we get no-hitters?\n",
    "\n",
    "The number of games played between each no-hitter in the modern era (1901-2015) of Major League Baseball is stored in the array `nohitter_times`.\n",
    "\n",
    "If you assume that no-hitters are described as a Poisson process, then the time between no-hitters is Exponentially distributed. As you have seen, the Exponential distribution has a single parameter, which we will call $\\tau$, the typical interval time. The value of the parameter $\\tau$ that makes the exponential distribution best match the data is the mean interval time (where time is in units of number of games) between no-hitters.\n",
    "\n",
    "Compute the value of this parameter from the data. Then, use `np.random.exponential()` to \"repeat\" the history of Major League Baseball by drawing inter-no-hitter times from an exponential distribution with the $\\tau$ you found and plot the histogram as an approximation to the PDF.\n",
    "\n",
    "NumPy, pandas, matlotlib.pyplot, and seaborn have been imported for you as `np`, `pd`, `plt`, and `sns`, respectively.\n",
    "\n",
    "**Instructions**\n",
    "\n",
    "- Seed the random number generator with `42`.\n",
    "- Compute the mean time (in units of number of games) between no-hitters.\n",
    "- Draw 100,000 samples from an Exponential distribution with the parameter you computed from the mean of the inter-no-hitter times.\n",
    "- Plot the theoretical PDF using `plt.hist()`. Remember to use keyword arguments `bins=50`, `normed=True`, and `histtype='step'`. Be sure to label your axes.\n",
    "- Show your plot."
   ]
  },
  {
   "cell_type": "code",
   "execution_count": null,
   "metadata": {},
   "outputs": [],
   "source": [
    "# Seed random number generator\n",
    "np.random.seed(42)\n",
    "\n",
    "# Compute mean no-hitter time: tau\n",
    "tau = np.mean(nohitter_times)\n",
    "\n",
    "# Draw out of an exponential distribution with parameter tau: inter_nohitter_time\n",
    "inter_nohitter_time = np.random.exponential(tau, 100000)\n",
    "\n",
    "# Plot the PDF and label axes\n",
    "_ = plt.hist(inter_nohitter_time, bins=50, density=True, histtype='step')\n",
    "_ = plt.xlabel('Games between no-hitters')\n",
    "_ = plt.ylabel('PDF')\n",
    "\n",
    "# Show the plot\n",
    "plt.show()"
   ]
  },
  {
   "cell_type": "markdown",
   "metadata": {},
   "source": [
    "**We see the typical shape of the Exponential distribution, going from a maximum at 0 and decaying to the right.**"
   ]
  },
  {
   "cell_type": "markdown",
   "metadata": {},
   "source": [
    "#### Do the data follow our story?\n",
    "\n",
    "You have modeled no-hitters using an Exponential distribution. Create an ECDF of the real data. Overlay the theoretical CDF with the ECDF from the data. This helps you to verify that the Exponential distribution describes the observed data.\n",
    "\n",
    "It may be helpful to remind yourself of the [function you created in the previous course](https://trenton3983.github.io/posts/statistical-thinking-1/#def-ecdf) to compute the ECDF, as well as the code you wrote to [plot it](https://trenton3983.github.io/posts/statistical-thinking-1/#plotting-the-ecdf).\n",
    "\n",
    "**Instructions**\n",
    "\n",
    "- Compute an ECDF from the actual time between no-hitters (`nohitter_times`). Use the `ecdf()` function you wrote in the prequel course.\n",
    "- Create a CDF from the theoretical samples you took in the last exercise (`inter_nohitter_time`).\n",
    "- Plot `x_theor` and `y_theor` as a line using `plt.plot()`. Then overlay the ECDF of the real data `x` and `y` as points. To do this, you have to specify the keyword arguments `marker = '.'` and `linestyle = 'none'` in addition to `x` and `y` inside `plt.plot()`.\n",
    "- Set a 2% margin on the plot.\n",
    "- Show the plot."
   ]
  },
  {
   "cell_type": "code",
   "execution_count": null,
   "metadata": {},
   "outputs": [],
   "source": [
    "# Create an ECDF from real data: x, y\n",
    "x, y = ecdf(nohitter_times.nohitter_time)\n",
    "\n",
    "# Create a CDF from theoretical samples: x_theor, y_theor\n",
    "x_theor, y_theor = ecdf(inter_nohitter_time)\n",
    "\n",
    "# Overlay the plots\n",
    "plt.plot(x_theor, y_theor, label='Theoretical ECDF')\n",
    "plt.plot(x, y, marker='.', linestyle='none', label='Real ECDF')\n",
    "\n",
    "# Margins and axis labels\n",
    "plt.margins(0.02)\n",
    "plt.xlabel('Games between no-hitters')\n",
    "plt.ylabel('CDF')\n",
    "plt.legend()\n",
    "\n",
    "# Show the plot\n",
    "plt.show()"
   ]
  },
  {
   "cell_type": "markdown",
   "metadata": {},
   "source": [
    "**It looks like no-hitters in the modern era of Major League Baseball are Exponentially distributed. Based on the story of the Exponential distribution, this suggests that they are a random process; when a no-hitter will happen is independent of when the last no-hitter was.**"
   ]
  },
  {
   "cell_type": "markdown",
   "metadata": {},
   "source": [
    "#### How is this parameter optimal?\n",
    "\n",
    "Now sample out of an exponential distribution with $\\tau$ being twice as large as the optimal $\\tau$. Do it again for $\\tau$ half as large. Make CDFs of these samples and overlay them with your data. You can see that they do not reproduce the data as well. Thus, the $\\tau$ you computed from the mean inter-no-hitter times is optimal in that it best reproduces the data.\n",
    "\n",
    "Note: In this and all subsequent exercises, the random number generator is pre-seeded for you to save you some typing.\n",
    "\n",
    "**Instructions**\n",
    "\n",
    "- Take `10000` samples out of an Exponential distribution with parameter $\\tau_{\\frac{1}{2}} =$ `tau/2`.\n",
    "- Take `10000` samples out of an Exponential distribution with parameter $\\tau_{2} =$ `2*tau`.\n",
    "- Generate CDFs from these two sets of samples using your `ecdf()` function.\n",
    "- Add these two CDFs as lines to your plot."
   ]
  },
  {
   "cell_type": "code",
   "execution_count": null,
   "metadata": {},
   "outputs": [],
   "source": [
    "# Plot the theoretical CDFs\n",
    "plt.plot(x_theor, y_theor, label='Theoretical ECDF')\n",
    "plt.plot(x, y, marker='.', linestyle='none', label='Real ECDF')\n",
    "plt.margins(0.02)\n",
    "plt.xlabel('Games between no-hitters')\n",
    "plt.ylabel('CDF')\n",
    "\n",
    "# Compute mean no-hitter time: tau\n",
    "tau = np.mean(nohitter_times)\n",
    "\n",
    "# Take samples with half tau: samples_half\n",
    "samples_half = np.random.exponential(tau/2, 10000)\n",
    "\n",
    "# Take samples with double tau: samples_double\n",
    "samples_double = np.random.exponential(tau*2, 10000)\n",
    "\n",
    "# Generate CDFs from these samples\n",
    "x_half, y_half = ecdf(samples_half)\n",
    "x_double, y_double = ecdf(samples_double)\n",
    "\n",
    "# Plot these CDFs as lines\n",
    "_ = plt.plot(x_half, y_half, label='Half tau')\n",
    "_ = plt.plot(x_double, y_double, label='Double tau')\n",
    "\n",
    "plt.legend(bbox_to_anchor=(1.05, 1), loc='upper left')\n",
    "\n",
    "# Show the plot\n",
    "plt.show()"
   ]
  },
  {
   "cell_type": "markdown",
   "metadata": {},
   "source": [
    "**Notice how the value of tau given by the mean matches the data best. In this way, tau is an optimal parameter.**"
   ]
  },
  {
   "cell_type": "markdown",
   "metadata": {},
   "source": [
    "### Linear regression by least squares\n",
    "\n",
    "- Sometimes, two variables are related\n",
    "- You may recall from the [prequel course](https://trenton3983.github.io/posts/statistical-thinking-1/#covariance-and-pearson-correlation-coefficient) that we computed the Pearson correlation coefficient between Obama's vote share in each county in swing states and the total vote count of the respective counties.\n",
    "- The Pearson correlation coefficient is important to compute, be we might like to get a fuller understanding of how the data are related to each other.\n",
    "- Specifically, we might suspect some underlying function give the data its shape.\n",
    "- Often times, a linear function is appropriate to describe the data, and this is what we focus on in the course.\n",
    "- The parameters of the function are slope and intercept.\n",
    "- The slope sets how steep the line is, and the intercept sets where the line crosses the y-axis.\n",
    "- How do we figure out which slope and intercept best describe the data?\n",
    " - We want to choose the slope and intercept such that the data points collectively lie as close as possible to the line.\n",
    " - This is easiest to think about by first considering one data point.\n",
    " - The vertical distance between the data point and the line is called the _**residual**_\n",
    "   - In this case, the residual has a negative value because the data point lies below the line.\n",
    " - Each data point has an associated residual.\n",
    "\n",
    "#### Least squares\n",
    "- The process of finding the parameters for which the sum of the squares of the residual is minimal, is called _**lease squares**_\n",
    "- We define the line that is closest to the data to be the line for which the sum of the squares of all the residuals is minimal.\n",
    "- There are many algorithms to do this in practice.\n",
    "\n",
    "#### Lease squares with `np.polyfit()`\n",
    "- We will use the [np.polyfit()](https://numpy.org/doc/stable/reference/generated/numpy.polyfit.html#numpy-polyfit), which performs least squares analysis with polynomial functions.\n",
    "- We can use it because a linear function is a first degree polynomial.\n",
    "- The first two arguments to this function are the x and y data.\n",
    "- The thirst argument is the degree of the polynomial you wish to fit; for linear functions, use 1.\n",
    "- The function returns the slope and intercept of the best fit line.\n",
    "- The slope tells us we get about 4 more percent votes for Obama for every 100,000 additional voters in a county.\n",
    "\n",
    "```python\n",
    "slope, intercept = np.polyfit(swing.total_votes, swing.dem_share, 1)\n",
    "print(slope)\n",
    ">>> 4.0370717009465555e-05\n",
    "print(intercept)\n",
    ">>> 40.113911968641744\n",
    "```"
   ]
  },
  {
   "cell_type": "code",
   "execution_count": null,
   "metadata": {},
   "outputs": [],
   "source": [
    "g = sns.regplot(x='total_votes', y='dem_share', data=swing, color='purple')\n",
    "plt.xlim(0, 900000)\n",
    "plt.ylabel('Percent of Vote for Obama')\n",
    "plt.xlabel('Total Votes')\n",
    "plt.title('2008 US Swing State Election Results')\n",
    "\n",
    "plt.annotate('intercept', xy=(0, 40.1), weight='bold', xytext=(300000, 25),\n",
    "             fontsize=15, arrowprops=dict(arrowstyle=\"->\", color='black'))\n",
    "\n",
    "plt.text(550000, 70, 'slope', fontsize=15, weight='bold')\n",
    "lc = mc.LineCollection([[(500000, 69), (720000, 69)], [(500000, 69), (500000, 60)]], color='black')\n",
    "g.add_collection(lc)\n",
    "\n",
    "plt.text(520000, 57, 'residual', fontsize=15, weight='bold')\n",
    "plt.annotate('', xy=(513312, 53.59), xytext=(513312, 61), arrowprops=dict(arrowstyle=\"<->\", color='black'))\n",
    "\n",
    "plt.show()"
   ]
  },
  {
   "cell_type": "markdown",
   "metadata": {},
   "source": [
    "#### EDA of literacy/fertility data\n",
    "\n",
    "In the next few exercises, we will look at the correlation between female literacy and fertility (defined as the average number of children born per woman) throughout the world. For ease of analysis and interpretation, we will work with the illiteracy rate.\n",
    "\n",
    "It is always a good idea to do some EDA ahead of our analysis. To this end, plot the fertility versus illiteracy and compute the Pearson correlation coefficient. The Numpy array `illiteracy` has the illiteracy rate among females for most of the world's nations. The array `fertility` has the corresponding fertility data.\n",
    "\n",
    "Here, it may be useful to refer back to the [function you wrote in the previous course](https://trenton3983.github.io/posts/statistical-thinking-1/#computing-the-pearson-correlation-coefficient) to compute the Pearson correlation coefficient.\n",
    "\n",
    "**Instructions**\n",
    "\n",
    "- Plot `fertility` (y-axis) versus `illiteracy` (x-axis) as a scatter plot.\n",
    "- Set a 2% margin.\n",
    "- Compute and print the Pearson correlation coefficient between `illiteracy` and `fertility`."
   ]
  },
  {
   "cell_type": "code",
   "execution_count": null,
   "metadata": {},
   "outputs": [],
   "source": [
    "fem.head()"
   ]
  },
  {
   "cell_type": "code",
   "execution_count": null,
   "metadata": {},
   "outputs": [],
   "source": [
    "illiteracy = 100 - fem['female literacy']\n",
    "fertility = fem['fertility']"
   ]
  },
  {
   "cell_type": "code",
   "execution_count": null,
   "metadata": {},
   "outputs": [],
   "source": [
    "# Plot the illiteracy rate versus fertility\n",
    "plt.plot(illiteracy, fertility, marker='.', linestyle='none')\n",
    "\n",
    "# Set the margins and label axes\n",
    "plt.margins(0.02)\n",
    "plt.xlabel('percent illiterate')\n",
    "plt.ylabel('fertility')\n",
    "\n",
    "# Show the plot\n",
    "plt.show()\n",
    "\n",
    "# Show the Pearson correlation coefficient\n",
    "print(pearson_r(illiteracy, fertility))\n",
    "print(pearsonr(illiteracy, fertility))"
   ]
  },
  {
   "cell_type": "markdown",
   "metadata": {},
   "source": [
    "**You can see the correlation between illiteracy and fertility by eye, and by the substantial Pearson correlation coefficient of 0.8. It is difficult to resolve in the scatter plot, but there are many points around near-zero illiteracy and about 1.8 children/woman.**"
   ]
  },
  {
   "cell_type": "markdown",
   "metadata": {},
   "source": [
    "#### Linear regression\n",
    "\n",
    "We will assume that fertility is a linear function of the female illiteracy rate. That is, $f=ai+b$, where a is the slope and b is the intercept. We can think of the intercept as the minimal fertility rate, probably somewhere between one and two. The slope tells us how the fertility rate varies with illiteracy. We can find the best fit line using `np.polyfit()`.\n",
    "\n",
    "Plot the data and the best fit line. Print out the slope and intercept. (Think: what are their units?)\n",
    "\n",
    "**Instructions**\n",
    "\n",
    "- Compute the slope and intercept of the regression line using `np.polyfit()`. Remember, `fertility` is on the y-axis and `illiteracy` on the x-axis.\n",
    "- Print out the slope and intercept from the linear regression.\n",
    "- To plot the best fit line, create an array `x` that consists of 0 and 100 using `np.array()`. Then, compute the theoretical values of `y` based on your regression parameters. I.e., `y = a * x + b`.\n",
    "- Plot the data and the regression line on the same plot. Be sure to label your axes."
   ]
  },
  {
   "cell_type": "code",
   "execution_count": null,
   "metadata": {},
   "outputs": [],
   "source": [
    "# Plot the illiteracy rate versus fertility\n",
    "plt.plot(illiteracy, fertility, marker='.', linestyle='none')\n",
    "plt.margins(0.02)\n",
    "plt.xlabel('percent illiterate')\n",
    "plt.ylabel('fertility')\n",
    "\n",
    "# Perform a linear regression using np.polyfit(): a, b\n",
    "a, b = np.polyfit(illiteracy, fertility, 1)\n",
    "\n",
    "# Print the results to the screen\n",
    "print('slope =', a, 'children per woman / percent illiterate')\n",
    "print('intercept =', b, 'children per woman')\n",
    "\n",
    "# Make theoretical line to plot\n",
    "x = np.array([0, 100])\n",
    "y = a * x + b\n",
    "\n",
    "# Add regression line to your plot\n",
    "plt.plot(x, y)\n",
    "\n",
    "# Draw the plot\n",
    "plt.show()"
   ]
  },
  {
   "cell_type": "markdown",
   "metadata": {},
   "source": [
    "#### How is it optimal?\n",
    "The function `np.polyfit()` that you used to get your regression parameters finds the optimal slope and intercept. It is optimizing the sum of the squares of the residuals, also known as RSS (for residual sum of squares). In this exercise, you will plot the function that is being optimized, the RSS, versus the slope parameter `a`. To do this, fix the intercept to be what you found in the optimization. Then, plot the RSS vs. the slope. Where is it minimal?\n",
    "\n",
    "**Instructions**\n",
    "\n",
    "- Specify the values of the slope to compute the RSS. Use `np.linspace()` to get `200` points in the range between `0` and `0.1`. For example, to get `100` points in the range between `0` and `0.5`, you could use `np.linspace()` like so: `np.linspace(0, 0.5, 100)`.\n",
    "- Initialize an array, `rss`, to contain the RSS using `np.empty_like()` and the array you created above. The `empty_like()` function returns a new array with the same shape and type as a given array (in this case, `a_vals`).\n",
    "- Write a `for` loop to compute the sum of RSS of the slope. Hint: the RSS is given by `np.sum((y_data - a * x_data - b)**2)`. The variable `b` you computed in the last exercise is already in your namespace. Here, `fertility` is the `y_data` and `illiteracy` the `x_data`.\n",
    "- Plot the RSS (`rss`) versus slope (`a_vals`)."
   ]
  },
  {
   "cell_type": "code",
   "execution_count": null,
   "metadata": {},
   "outputs": [],
   "source": [
    "# Specify slopes to consider: a_vals\n",
    "a_vals = np.linspace(0, 0.1, 200)\n",
    "\n",
    "# Initialize sum of square of residuals: rss\n",
    "rss = np.empty_like(a_vals)\n",
    "\n",
    "# Compute sum of square of residuals for each value of a_vals\n",
    "for i, a in enumerate(a_vals):\n",
    "    rss[i] = np.sum((fertility - a*illiteracy - b)**2)\n",
    "\n",
    "# Plot the RSS\n",
    "plt.plot(a_vals, rss, '-')\n",
    "plt.xlabel('slope (children per woman / percent illiterate)')\n",
    "plt.ylabel('sum of square of residuals')\n",
    "\n",
    "plt.show()"
   ]
  },
  {
   "cell_type": "markdown",
   "metadata": {},
   "source": [
    "**Notice that the minimum on the plot, that is the value of the slope that gives the minimum sum of the square of the residuals, is the same value you got when performing the regression.**"
   ]
  },
  {
   "cell_type": "markdown",
   "metadata": {},
   "source": [
    "### The importance of EDA: Anscombe's quartet\n",
    "\n",
    "- In 1973, statistician Francis Anscombe published a paper that contained for fictitious x-y data sets, plotted below.\n",
    "- He uses these data sets to make an important point.\n",
    "- The point becomes clear if we blindly go about doing parameter estimation on these data sets.\n",
    "- Lets look at the mean x & y values of the four data sets.\n",
    " -  They're all the same\n",
    "- What if we do a linear regression on each of the data sets?\n",
    " - They're the same\n",
    " - Some of the fits are less optimal than others\n",
    "- Let's look at the sum of the squares of the residuals.\n",
    " - They're basically all the same\n",
    "- The data sets were constructed so this would happen.\n",
    "- He was making a very important point\n",
    "- There are already some powerful tolls for statistical inference.\n",
    " - You can compute summary statistics and optimal parameters, including linear regression parameters, and by the end of the course, you'll be able to construct confidence intervals which quantify uncertainty about the parameter estimates.\n",
    " - These are crucial skills for any data analyst, no doubt\n",
    "\n",
    "#### Look before you leap!\n",
    "- This is a powerful reminder to do some graphical exploratory data analysis before you start computing and making judgments about your data.\n",
    "\n",
    "#### Anscombe's quartet\n",
    "- For example, plot[0, 0] (`x_0, y_0`) might be well modeled with a line, and the regression parameters will be meaningful.\n",
    "- The same is true of plot[1, 0] (`x_2, y_2`), but the outlier throws off the slope and intercept\n",
    " - After doing EDA, you should look into what is causing that outlier\n",
    "- Plot[1, 1] (`x_3, y_3`) might also have a linear relationship between x, and y, but from the plot, you can conclude that you should try to acquire more data for intermediate x values to make sure that it does.\n",
    "- Plot[0, 1] (`x_1, y_1`) is definitely not linear, and you need to choose another model.\n",
    "- **Explore your data first!**"
   ]
  },
  {
   "cell_type": "code",
   "execution_count": null,
   "metadata": {},
   "outputs": [],
   "source": [
    "anscombe"
   ]
  },
  {
   "cell_type": "code",
   "execution_count": null,
   "metadata": {},
   "outputs": [],
   "source": [
    "for i in range(1, 5):\n",
    "    plt.subplot(2, 2, i)\n",
    "    g = sns.scatterplot(x=f'x_{i-1}', y=f'y_{i-1}', data=anscombe)\n",
    "    \n",
    "    # x & y mean\n",
    "    x_mean = anscombe.loc[:, f'x_{i-1}'].mean()\n",
    "    y_mean = anscombe.loc[:, f'y_{i-1}'].mean()\n",
    "    plt.vlines(anscombe.loc[:, f'x_{i-1}'].mean(), 0, 14, color='g')\n",
    "    plt.text(9.2, 4, f'x-mean: {x_mean}')\n",
    "    plt.hlines(anscombe.loc[:, f'y_{i-1}'].mean(), 2, 20, color='g')\n",
    "    plt.text(13, 6.9, f'y-mean: {y_mean:0.1f}')\n",
    "    \n",
    "    # regression line\n",
    "    slope, intercept = np.polyfit(anscombe[f'x_{i-1}'], anscombe[f'y_{i-1}'], 1)\n",
    "    y1 = slope*2 + intercept\n",
    "    y2 = slope*20 + intercept\n",
    "    lc = mc.LineCollection([[(2, y1), (20, y2)]], color='green')\n",
    "    g.add_collection(lc)\n",
    "    plt.text(15, 12, 'reg-line')\n",
    "    \n",
    "    # sum of the squares of the residuals\n",
    "    A = np.vstack((anscombe.loc[:, f'x_{i-1}'], np.ones(11))).T\n",
    "    resid = np.linalg.lstsq(A, anscombe.loc[:, f'y_{i-1}'], rcond=-1)[1][0]\n",
    "    plt.text(12.3, 1, f'sum sq. resid: {resid:0.1f}')\n",
    "    \n",
    "    plt.ylim(0, 14)\n",
    "    plt.xlim(2, 20)\n",
    "    plt.xticks(list(range(4, 22, 2)))\n",
    "    plt.ylabel('y')\n",
    "    plt.xlabel('x')"
   ]
  },
  {
   "cell_type": "markdown",
   "metadata": {},
   "source": [
    "#### The importance of EDA\n",
    "\n",
    "Why should exploratory data analysis be the first step in an analysis of data (after getting your data imported and cleaned, of course)?\n",
    "\n",
    "**Answer the question**\n",
    "\n",
    "- You can be protected from misinterpretation of the type demonstrated by Anscombe's quartet.\n",
    "- EDA provides a good starting point for planning the rest of your analysis.\n",
    "- EDA is not really any more difficult than any of the subsequent analysis, so there is no excuse for not exploring the data.\n",
    "- **All of these reasons!**"
   ]
  },
  {
   "cell_type": "markdown",
   "metadata": {},
   "source": [
    "#### Linear regression on appropriate Anscombe data\n",
    "\n",
    "For practice, perform a linear regression on the data set from Anscombe's quartet that is most reasonably interpreted with linear regression.\n",
    "\n",
    "**Instructions**\n",
    "\n",
    "- Compute the parameters for the slope and intercept using `np.polyfit()`. The Anscombe data are stored in the arrays `x` and `y`.\n",
    "- Print the slope `a` and intercept `b`.\n",
    "- Generate theoretical $x$ and $y$ data from the linear regression. Your $x$ array, which you can create with `np.array()`, should consist of `3` and `15`. To generate the $y$ data, multiply the slope by `x_theor` and add the intercept.\n",
    "- Plot the Anscombe data as a scatter plot and then plot the theoretical line. Remember to include the `marker='.'` and `linestyle='none'` keyword arguments in addition to `x` and `y` when you plot the Anscombe data as a scatter plot. You do not need these arguments when plotting the theoretical line."
   ]
  },
  {
   "cell_type": "code",
   "execution_count": null,
   "metadata": {},
   "outputs": [],
   "source": [
    "x = anscombe.x_0\n",
    "y = anscombe.y_0"
   ]
  },
  {
   "cell_type": "code",
   "execution_count": null,
   "metadata": {},
   "outputs": [],
   "source": [
    "# Perform linear regression: a, b\n",
    "a, b = np.polyfit(x, y, 1)\n",
    "\n",
    "# Print the slope and intercept\n",
    "print(a, b)\n",
    "\n",
    "# Generate theoretical x and y data: x_theor, y_theor\n",
    "x_theor = np.array([3, 15])\n",
    "y_theor = a * x_theor + b\n",
    "\n",
    "# Plot the Anscombe data and theoretical line\n",
    "_ = plt.plot(x, y, marker='.', linestyle='none')\n",
    "_ = plt.plot(x_theor, y_theor)\n",
    "\n",
    "# Label the axes\n",
    "plt.xlabel('x')\n",
    "plt.ylabel('y')\n",
    "\n",
    "# Show the plot\n",
    "plt.show()"
   ]
  },
  {
   "cell_type": "markdown",
   "metadata": {},
   "source": [
    "#### Linear regression on all Anscombe data\n",
    "\n",
    "Now, to verify that all four of the Anscombe data sets have the same slope and intercept from a linear regression, you will compute the slope and intercept for each set. The data are stored in lists; `anscombe_x = [x1, x2, x3, x4]` and `anscombe_y = [y1, y2, y3, y4]`, where, for example, `x2` and `y2` are the $x$ and $y$ values for the second Anscombe data set.\n",
    "\n",
    "**Instructions**\n",
    "\n",
    "- Write a `for` loop to do the following for each Anscombe data set.\n",
    "- Compute the slope and intercept.\n",
    "- Print the slope and intercept."
   ]
  },
  {
   "cell_type": "code",
   "execution_count": null,
   "metadata": {},
   "outputs": [],
   "source": [
    "# Iterate through x,y pairs\n",
    "for i in range(0, 4):\n",
    "    # Compute the slope and intercept: a, b\n",
    "    x = anscombe.loc[:, f'x_{i}']\n",
    "    y = anscombe.loc[:, f'y_{i}']\n",
    "    a, b = np.polyfit(x, y, 1)\n",
    "\n",
    "    # Print the result\n",
    "    print(f'x_{i} & y_{i} slope: {a:0.4f} intercept: {b:0.4f}')"
   ]
  },
  {
   "cell_type": "markdown",
   "metadata": {},
   "source": [
    "## Bootstrap confidence intervals\n",
    "\n",
    "To \"pull yourself up by your bootstraps\" is a classic idiom meaning that you achieve a difficult task by yourself with no help at all. In statistical inference, you want to know what would happen if you could repeat your data acquisition an infinite number of times. This task is impossible, but can we use only the data we actually have to get close to the same result as an infinitude of experiments? The answer is yes! The technique to do it is aptly called bootstrapping. This chapter will introduce you to this extraordinarily powerful tool."
   ]
  },
  {
   "cell_type": "markdown",
   "metadata": {},
   "source": [
    "### Generating bootstrap replicates\n",
    "\n",
    "- In the prequel to this course we computed summary statistics of measurements, including the mean, median and standard deviation (std).\n",
    "- Remember, we need to think probabilistically.\n",
    "- What if we acquire the data again?\n",
    "- Would we get the same mean? Probably not.\n",
    "- In inference problems, it is rare that we are interested in the result from a single experiment or data acquisition.\n",
    "- We want to say something more general.\n",
    "- Michaelson was not interested in what the measured speed of light was in the specific 100 measurements conducted in the summer of 1879.\n",
    "- He wanted to know what the speed of light actually is.\n",
    "- Statistically speaking, that means he wanted to know what speed of light he would observe if he did the experiment over and over again an infinite number of times.\n",
    "- Unfortunately, actually repeating the experiment lots and lots of times is just not possible.\n",
    "- But, as hackers, we can simulate getting the data again.\n",
    "- The idea is that we resample the data we have and recompute the summary statistic of interest, say the mean.\n",
    "- To resample an array of measurements, we randomly select one entry and store it, \n",
    "- Importantly, we replace the entry in the original array, or equivalently, we just don't delete it.\n",
    "- This is call _**sampling with replacement**_.\n",
    "- The, we randomly select another one and store it.\n",
    "- We do this _n_ times, where _n_ is the total number of measurements, five in this case.\n",
    "- We then have a resampled array of data.\n",
    " - Data: `[23.3, 27.1, 24.3, 25.7, 26.0]`\n",
    "  - Mean = 25.2\n",
    " - Resampled Data: `[27.1, 26.0, 23.3, 25.7, 23.3]`\n",
    "  - Mean = 25.08\n",
    "- Using this new resampled array, we compute the summary statistic and store the result.\n",
    "- Resampling the speed of light data is as if we repeated Michelson's set of measurements.\n",
    "- We do this over and over again to get a large number of summary statistics from the resampled data sets.\n",
    "- We can use these results to plot an ECDF, for example, to get a picture of the probability distribution describing the summary statistic.\n",
    "- This process is an example of bootstrapping, which more generally is the use of resampled data to perform statistical inference.\n",
    "- To make sure we have our terminology down, each resampled array is called a _**bootstrap sample**_\n",
    "- A _**bootstrap replicate**_ is the value of the summary statistic computed from the bootstrap sample.\n",
    "- The name makes sense; it's a simulated replica of the original data acquired by bootstrapping.\n",
    "- Let's look at how we can generate a bootstrap sample and compute a bootstrap replicate from it using Python.\n",
    " - We'll use Michelson's measurements of the speed of light.\n",
    "\n",
    "#### Resampling\n",
    "- We'll use [`np.random.choice`](https://numpy.org/doc/stable/reference/random/generated/numpy.random.choice.html) to perform the resampling.\n",
    " - There is a `size` argument so we can specify the sample size\n",
    " - The function does not delete an entry we it samples out of the array.\n",
    "- With this, we can draw 100 samples out of the Michelson speed of light data.\n",
    "- This is a bootstrap sample, since there we 100 data points and we are choosing 100 of them with replacement.\n",
    "- Now that we have a bootstrap sample, we can compute a bootstrap replicate.\n",
    " - We can pick whatever summary statistic we like.\n",
    " - We'll compute the mean, median and std.\n",
    "- It's as simple as treating the bootstrap sample as though it were a dataset."
   ]
  },
  {
   "cell_type": "code",
   "execution_count": null,
   "metadata": {},
   "outputs": [],
   "source": [
    "np.random.choice(list(range(1, 6)), size=5)"
   ]
  },
  {
   "cell_type": "code",
   "execution_count": null,
   "metadata": {},
   "outputs": [],
   "source": [
    "vel = sol['velocity of light in air (km/s)']\n",
    "print(f'Mean: {vel.mean()}')\n",
    "print(f'Median: {vel.median()}')\n",
    "print(f'STD: {vel.std()}')"
   ]
  },
  {
   "cell_type": "code",
   "execution_count": null,
   "metadata": {},
   "outputs": [],
   "source": [
    "bs_sample = np.random.choice(vel, size=100)\n",
    "print(f'Mean: {bs_sample.mean()}')\n",
    "print(f'Median: {np.median(bs_sample)}')\n",
    "print(f'STD: {np.std(bs_sample)}')"
   ]
  },
  {
   "cell_type": "markdown",
   "metadata": {},
   "source": [
    "#### Getting the terminology down\n",
    "\n",
    "Getting tripped up over terminology is a common cause of frustration in students. Unfortunately, you often will read and hear other data scientists using different terminology for bootstrap samples and replicates. This is even more reason why we need everything to be clear and consistent for this course. So, before going forward discussing bootstrapping, let's get our terminology down. If we have a data set with $n$ repeated measurements, a **bootstrap sample** is an array of length $n$ that was drawn from the original data with replacement. What is a **bootstrap replicate**?\n",
    "\n",
    "**Answer the question**\n",
    "\n",
    "- ~~Just another name for a bootstrap sample.~~\n",
    "- **A single value of a statistic computed from a bootstrap sample.**\n",
    "- ~~An actual repeat of the measurements.~~"
   ]
  },
  {
   "cell_type": "markdown",
   "metadata": {},
   "source": [
    "#### Bootstrapping by hand\n",
    "To help you gain intuition about how bootstrapping works, imagine you have a data set that has only three points, `[-1, 0, 1]`. How many unique bootstrap samples can be drawn (e.g., `[-1, 0, 1]` and `[1, 0, -1]` are unique), and what is the maximum mean you can get from a bootstrap sample? It might be useful to jot down the samples on a piece of paper.\n",
    "\n",
    "(These are too few data to get meaningful results from bootstrap procedures, but this example is useful for intuition.)\n",
    "\n",
    "**Instructions**\n",
    "\n",
    "- ~~There are 3 unique samples, and the maximum mean is 0.~~\n",
    "- ~~There are 10 unique samples, and the maximum mean is 0.~~\n",
    "- ~~There are 10 unique samples, and the maximum mean is 1.~~\n",
    "- ~~There are 27 unique samples, and the maximum mean is 0.~~\n",
    "- **There are 27 unique samples, and the maximum mean is 1.**\n",
    "\n",
    "\n",
    "- Types to choose from? `n = 3`\n",
    "- Number of chosen? `r = 3`\n",
    "- Order is important.\n",
    "- Repetition is allowed.\n",
    "- Formula: $n^{r}$\n",
    "\n",
    "**There are 27 total bootstrap samples, and one of them, [1,1,1] has a mean of 1. Conversely, 7 of them have a mean of zero.**"
   ]
  },
  {
   "cell_type": "markdown",
   "metadata": {},
   "source": [
    "#### Visualizing bootstrap samples\n",
    "\n",
    "In this exercise, you will generate bootstrap samples from the set of annual rainfall data measured at the Sheffield Weather Station in the UK from 1883 to 2015. The data are stored in the NumPy array `rainfall` in units of millimeters (mm). By graphically displaying the bootstrap samples with an ECDF, you can get a feel for how bootstrap sampling allows probabilistic descriptions of data.\n",
    "\n",
    "**Instructions**\n",
    "\n",
    "- Write a `for` loop to acquire `50` bootstrap samples of the rainfall data and plot their ECDF.\n",
    " - Use `np.random.choice()` to generate a bootstrap sample from the NumPy array `rainfall`. Be sure that the `size` of the resampled array is `len(rainfall)`.\n",
    " - Use the function `ecdf()` that you wrote in the prequel to this course to generate the `x` and `y` values for the ECDF of the bootstrap sample `bs_sample`.\n",
    " - Plot the ECDF values. Specify `color='gray'` (to make gray dots) and `alpha=0.1` (to make them semi-transparent, since we are overlaying so many) in addition to the `marker='.'` and `linestyle='none'` keyword arguments.\n",
    "- Use `ecdf()` to generate `x` and `y` values for the ECDF of the original `rainfall` data available in the array rainfall.\n",
    "- Plot the ECDF values of the original data."
   ]
  },
  {
   "cell_type": "code",
   "execution_count": null,
   "metadata": {},
   "outputs": [],
   "source": [
    "rainfall = sheffield.groupby('yyyy').agg({'rain': 'sum'})['rain'].tolist()"
   ]
  },
  {
   "cell_type": "code",
   "execution_count": null,
   "metadata": {},
   "outputs": [],
   "source": [
    "for _ in range(50):\n",
    "    # Generate bootstrap sample: bs_sample\n",
    "    bs_sample = np.random.choice(rainfall, size=len(rainfall))\n",
    "\n",
    "    # Compute and plot ECDF from bootstrap sample\n",
    "    x, y = ecdf(bs_sample)\n",
    "    _ = plt.plot(x, y, marker='.', linestyle='none',\n",
    "                 color='gray', alpha=0.1)\n",
    "\n",
    "# Compute and plot ECDF from original data\n",
    "x, y = ecdf(rainfall)\n",
    "_ = plt.plot(x, y, marker='.', label='real data')\n",
    "\n",
    "# Make margins and label axes\n",
    "plt.margins(0.02)\n",
    "_ = plt.xlabel('yearly rainfall (mm)')\n",
    "_ = plt.ylabel('ECDF')\n",
    "plt.legend()\n",
    "\n",
    "# Show the plot\n",
    "plt.show()"
   ]
  },
  {
   "cell_type": "markdown",
   "metadata": {},
   "source": [
    "**Notice how the bootstrap samples give an idea of how the distribution of rainfalls is spread.**"
   ]
  },
  {
   "cell_type": "markdown",
   "metadata": {},
   "source": [
    "### Bootstrap confidence intervals\n",
    "\n",
    "- In the last video, we learned how to take a set of data, create a bootstrap sample, and then compute a bootstrap replicate of a given statistic.\n",
    "- Since we will repeat the replicates over and over again, we can write a function to generate a bootstrap replicate.\n",
    "- We will call the function `bootstrap_replicate_1d`, since it works on 1-dimensional arrays.\n",
    "- We pass in the data and also a function that computes the statistic of interest.\n",
    "- We could pass `np.mean` or `np.median` for example.\n",
    "- Generating a replicate takes two steps.\n",
    " - First, we choose entries out of the data array so that the bootstrap sample has the same number of entries as the original data.\n",
    " - Then, we compute the statistic using the specified function\n",
    "- If we call the function, we get a bootstrap replicate\n"
   ]
  },
  {
   "cell_type": "markdown",
   "metadata": {},
   "source": [
    "##### `def bootstrap_replicate_1d`"
   ]
  },
  {
   "cell_type": "code",
   "execution_count": null,
   "metadata": {},
   "outputs": [],
   "source": [
    "def bootstrap_replicate_1d(data, func):\n",
    "    \"\"\"Generate bootstrap replicate of 1D data.\"\"\"\n",
    "    bs_sample = np.random.choice(data, len(data))\n",
    "    return func(bs_sample)"
   ]
  },
  {
   "cell_type": "code",
   "execution_count": null,
   "metadata": {},
   "outputs": [],
   "source": [
    "bootstrap_replicate_1d(sol['velocity of light in air (km/s)'], np.mean)"
   ]
  },
  {
   "cell_type": "code",
   "execution_count": null,
   "metadata": {},
   "outputs": [],
   "source": [
    "bootstrap_replicate_1d(sol['velocity of light in air (km/s)'], np.mean)"
   ]
  },
  {
   "cell_type": "markdown",
   "metadata": {},
   "source": [
    "#### Many bootstrap replicates\n",
    "\n",
    "- How do we repeatedly get replicates?\n",
    "- First, we have to initialize an array to store our bootstrap replicates.\n",
    "- We will make 10,000 replicates, so we use `np.empty` to create the empty array.\n",
    "- Next, we write a `for-loop` to generate a replicate and store it in the `bs_replicates` array.\n",
    "- Now that we have the replicates, we can make a histogram to see what we might expect to get for the mean of repeated measurements of the speed of light.\n",
    " - `density=True` sets the height of the bars of the histogram such that the total area of the bars is equal to one.\n",
    " - This is call normalization, and we do it so that the histogram approximates a probability density function.\n",
    " - The area under the PDF gives a probability.\n",
    "- So, we have computed the approximate PDF of the mean speed of light we would expect to get if we performed the measurements again.\n",
    "- If we repeat the experiment again and again, we are likely to only see the sample mean vary by about 30 km/s.\n",
    "- Now it's useful to summarize this result without having to resort to a graphical method like a histogram.\n",
    "\n",
    "#### Confidence interval of a statistic\n",
    "- To do this, we will compute the 95% confidence interval of the mean.\n",
    "- The p% confidence interval is defined as follows\n",
    "- If we repeated measurements over and over again, p% of the observed values would lie within the p% confidence interval.\n",
    "- In our case, if we repeated the 100 measurements of the speed of light over and over again, 95% of the sample means would lie within the 95% confidence interval.\n",
    "- By doing bootstrap replicas, we just \"repeated\" the experiment over and over again.\n",
    "- We just use `np.perentile` to compute the 2.5th and 97.5th percentiles to get the 95% confidence interval."
   ]
  },
  {
   "cell_type": "code",
   "execution_count": null,
   "metadata": {},
   "outputs": [],
   "source": [
    "bs_replicates = np.empty(10000)\n",
    "\n",
    "for i in range(10000):\n",
    "    bs_replicates[i] = bootstrap_replicate_1d(sol['velocity of light in air (km/s)'], np.mean)\n",
    "    \n",
    "conf_int = np.percentile(bs_replicates, [2.5, 97.5])\n",
    "print(conf_int)\n",
    "\n",
    "n, bins, _ = plt.hist(bs_replicates, bins=30, density=True)\n",
    "\n",
    "plt.fill_betweenx([0, n.max()], conf_int[0], conf_int[1], alpha=0.3)\n",
    "\n",
    "plt.xlabel('mean speed of light (km/s)')\n",
    "plt.ylabel('PDF')\n",
    "plt.show()"
   ]
  },
  {
   "cell_type": "markdown",
   "metadata": {},
   "source": [
    "#### Generating many bootstrap replicates\n",
    "\n",
    "The function `bootstrap_replicate_1d()` from the video is available in your namespace. Now you'll write another function, `draw_bs_reps(data, func, size=1)`, which generates many bootstrap replicates from the data set. This function will come in handy for you again and again as you compute confidence intervals and later when you do hypothesis tests.\n",
    "\n",
    "**Instructions**\n",
    "\n",
    "- Define a function with call signature `draw_bs_reps(data, func, size=1)`.\n",
    " - Using `np.empty()`, initialize an array called `bs_replicates` of size `size` to hold all of the bootstrap replicates.\n",
    " - Write a `for` loop that ranges over `size` and computes a replicate using `bootstrap_replicate_1d()`. Refer to the exercise description above to see the function signature of `bootstrap_replicate_1d()`. Store the replicate in the appropriate index of `bs_replicates`.\n",
    " - Return the array of replicates `bs_replicates`. This has already been done for you."
   ]
  },
  {
   "cell_type": "markdown",
   "metadata": {},
   "source": [
    "##### `def draw_bs_reps`"
   ]
  },
  {
   "cell_type": "code",
   "execution_count": null,
   "metadata": {},
   "outputs": [],
   "source": [
    "def draw_bs_reps(data, func, size=1):\n",
    "    \"\"\"Draw bootstrap replicates.\"\"\"\n",
    "\n",
    "    # Initialize array of replicates: bs_replicates\n",
    "    bs_replicates = np.empty(size)\n",
    "\n",
    "    # Generate replicates\n",
    "    for i in range(size):\n",
    "        bs_replicates[i] = bootstrap_replicate_1d(data, func)\n",
    "\n",
    "    return bs_replicates"
   ]
  },
  {
   "cell_type": "markdown",
   "metadata": {},
   "source": [
    "#### Bootstrap replicates of the mean and the SEM\n",
    "\n",
    "In this exercise, you will compute a bootstrap estimate of the probability density function of the mean annual rainfall at the Sheffield Weather Station. Remember, we are estimating the mean annual rainfall we would get if the Sheffield Weather Station could repeat all of the measurements from 1883 to 2015 over and over again. This is a _probabilistic_ estimate of the mean. You will plot the PDF as a histogram, and you will see that it is Normal.\n",
    "\n",
    "In fact, it can be shown theoretically that under not-too-restrictive conditions, the value of the mean will always be Normally distributed. (This does not hold in general, just for the mean and a few other statistics.) The standard deviation of this distribution, called the **standard error of the mean**, or SEM, is given by the standard deviation of the data divided by the square root of the number of data points. I.e., for a data set, `sem = np.std(data) / np.sqrt(len(data))`. Using hacker statistics, you get this same result without the need to derive it, but you will verify this result from your bootstrap replicates.\n",
    "\n",
    "The dataset has been pre-loaded for you into an array called `rainfall`.\n",
    "\n",
    "**Instructions**\n",
    "\n",
    "- Draw `10000` bootstrap replicates of the **mean** annual rainfall using your `draw_bs_reps()` function and the `rainfall` array. Hint: Pass in `np.mean` for `func` to compute the mean.\n",
    " - As a reminder, `draw_bs_reps()` accepts 3 arguments: `data`, `func`, and `size`.\n",
    "- Compute and print the standard error of the mean of `rainfall`.\n",
    " - The formula to compute this is `np.std(data) / np.sqrt(len(data))`.\n",
    "- Compute and print the standard deviation of your bootstrap replicates `bs_replicates`.\n",
    "- Make a histogram of the replicates using the `density=True` keyword argument and `50` bins."
   ]
  },
  {
   "cell_type": "code",
   "execution_count": null,
   "metadata": {},
   "outputs": [],
   "source": [
    "# Take 10,000 bootstrap replicates of the mean: bs_replicates\n",
    "bs_replicates = draw_bs_reps(rainfall, np.mean, 10000)\n",
    "\n",
    "# Compute and print SEM\n",
    "sem = np.std(rainfall) / np.sqrt(len(rainfall))\n",
    "print(sem)\n",
    "\n",
    "# Compute and print standard deviation of bootstrap replicates\n",
    "bs_std = np.std(bs_replicates)\n",
    "print(bs_std)\n",
    "\n",
    "# Make a histogram of the results\n",
    "_ = plt.hist(bs_replicates, bins=50, density=True)\n",
    "_ = plt.xlabel('mean annual rainfall (mm)')\n",
    "_ = plt.ylabel('PDF')\n",
    "\n",
    "# Show the plot\n",
    "plt.show()"
   ]
  },
  {
   "cell_type": "markdown",
   "metadata": {},
   "source": [
    "**Notice that the SEM we got from the known expression and the bootstrap replicates is the same and the distribution of the bootstrap replicates of the mean is Normal.**"
   ]
  },
  {
   "cell_type": "markdown",
   "metadata": {},
   "source": [
    "### Confidence intervals of rainfall data\n",
    "\n",
    "A _confidence interval_ gives upper and lower bounds on the range of parameter values you might expect to get if we repeat our measurements. For named distributions, you can compute them analytically or look them up, but one of the many beautiful properties of the bootstrap method is that you can take percentiles of your bootstrap replicates to get your confidence interval. Conveniently, you can use the `np.percentile()` function.\n",
    "\n",
    "Use the bootstrap replicates you just generated to compute the 95% confidence interval. That is, give the 2.5th and 97.5th percentile of your bootstrap replicates stored as `bs_replicates`. What is the 95% confidence interval?\n",
    "\n",
    "- ~~(765, 776) mm/year~~\n",
    "- **(780, 821) mm/year**\n",
    "- ~~(761, 817) mm/year~~\n",
    "- ~~(761, 841) mm/year~~"
   ]
  },
  {
   "cell_type": "code",
   "execution_count": null,
   "metadata": {},
   "outputs": [],
   "source": [
    "conf_int = np.percentile(bs_replicates, [2.5, 97.5])\n",
    "print(conf_int)"
   ]
  },
  {
   "cell_type": "markdown",
   "metadata": {},
   "source": [
    "#### Bootstrap replicates of other statistics\n",
    "\n",
    "We saw in a previous exercise that the mean is Normally distributed. This does not necessarily hold for other statistics, but no worry: as hackers, we can always take bootstrap replicates! In this exercise, you'll generate bootstrap replicates for the variance of the annual rainfall at the Sheffield Weather Station and plot the histogram of the replicates.\n",
    "\n",
    "Here, you will make use of the `draw_bs_reps()` function [you defined a few exercises ago](#def-draw_bs_reps). It is provided below for your reference:\n",
    "\n",
    "```python\n",
    "def draw_bs_reps(data, func, size=1):\n",
    "    \"\"\"Draw bootstrap replicates.\"\"\"\n",
    "    # Initialize array of replicates\n",
    "    bs_replicates = np.empty(size)\n",
    "    # Generate replicates\n",
    "    for i in range(size):\n",
    "        bs_replicates[i] = bootstrap_replicate_1d(data, func)\n",
    "    return bs_replicates\n",
    "```\n",
    "\n",
    "**Instructions**\n",
    "\n",
    "- Draw `10000` bootstrap replicates of the variance in annual rainfall, stored in the `rainfall` dataset, using your `draw_bs_reps()` function. Hint: Pass in `np.var` for computing the variance.\n",
    "- Divide your variance replicates (`bs_replicates`) by `100` to put the variance in units of square centimeters for convenience.\n",
    "- Make a histogram of `bs_replicates` using the `density=True` keyword argument and `50` bins."
   ]
  },
  {
   "cell_type": "code",
   "execution_count": null,
   "metadata": {},
   "outputs": [],
   "source": [
    "# Generate 10,000 bootstrap replicates of the variance: bs_replicates\n",
    "bs_replicates = draw_bs_reps(rainfall, np.var, 10000)\n",
    "\n",
    "# Put the variance in units of square centimeters\n",
    "bs_replicates = bs_replicates/100\n",
    "\n",
    "conf_int = np.percentile(bs_replicates, [2.5, 97.5])\n",
    "print(conf_int)\n",
    "\n",
    "# Make a histogram of the results\n",
    "n, bins, _ = plt.hist(bs_replicates, bins=50, density=True)\n",
    "plt.fill_betweenx([0, n.max()], conf_int[0], conf_int[1], alpha=0.3)\n",
    "plt.xlabel('variance of annual rainfall (sq. cm)')\n",
    "plt.ylabel('PDF')\n",
    "\n",
    "# Show the plot\n",
    "plt.show()"
   ]
  },
  {
   "cell_type": "markdown",
   "metadata": {},
   "source": [
    "**This is not normally distributed, as it has a longer tail to the right. Note that you can also compute a confidence interval on the variance, or any other statistic, using `np.percentile()` with your bootstrap replicates.**"
   ]
  },
  {
   "cell_type": "markdown",
   "metadata": {},
   "source": [
    "#### Confidence interval on the rate of no-hitters\n",
    "\n",
    "Consider again the inter-no-hitter intervals for the modern era of baseball. Generate 10,000 bootstrap replicates of the optimal parameter $τ$. Plot a histogram of your replicates and report a 95% confidence interval.\n",
    "\n",
    "**Instructions**\n",
    "\n",
    "- Generate `10000` bootstrap replicates of $τ$ from the `nohitter_times` data using your `draw_bs_reps()` function. Recall that the optimal $τ$ is calculated as the **mean** of the data.\n",
    "- Compute the 95% confidence interval using `np.percentile()` and passing in two arguments: The array `bs_replicates`, and the list of percentiles - in this case `2.5` and `97.5`.\n",
    "- Print the confidence interval.\n",
    "- Plot a histogram of your bootstrap replicates."
   ]
  },
  {
   "cell_type": "code",
   "execution_count": null,
   "metadata": {},
   "outputs": [],
   "source": [
    "# Draw bootstrap replicates of the mean no-hitter time (equal to tau): bs_replicates\n",
    "bs_replicates = draw_bs_reps(nohitter_times.nohitter_time, np.mean, 10000)\n",
    "\n",
    "# Compute the 95% confidence interval: conf_int\n",
    "conf_int = np.percentile(bs_replicates, [2.5, 97.5])\n",
    "\n",
    "# Print the confidence interval\n",
    "print('95% confidence interval =', conf_int, 'games')\n",
    "\n",
    "# Plot the histogram of the replicates\n",
    "n, bins, _ = plt.hist(bs_replicates, bins=50, density=True)\n",
    "plt.fill_betweenx([0, n.max()], conf_int[0], conf_int[1], alpha=0.3)\n",
    "plt.xlabel(r'$\\tau$ (games)')\n",
    "plt.ylabel('PDF')\n",
    "\n",
    "# Show the plot\n",
    "plt.show()"
   ]
  },
  {
   "cell_type": "markdown",
   "metadata": {},
   "source": [
    "**This gives you an estimate of what the typical time between no-hitters is. It could be anywhere between 660 and 870 games.**"
   ]
  },
  {
   "cell_type": "markdown",
   "metadata": {},
   "source": [
    "### Pairs bootstrap\n",
    "\n",
    "- When we computed bootstrap confidence intervals on summary statistics, we did so nonparametrically.\n",
    " - By this, I mean that we did not assume any model underlying the data; the estimates we done using the data alone.\n",
    "- When we performed a linear least squares regression, however, we were using a linear model, which has two parameters, the slope and intercept.\n",
    " - This was a parametric estimate.\n",
    "- The optimal parameter values we compute for our parametric model are like other statistics, in that we get different values for them if we acquired the data again.\n",
    "- We can perform bootstrap estimates to get confidence intervals on the slope and intercept as well.\n",
    "- Remember: we need to think probabilistically.\n",
    "\n",
    "#### 2008 US Swing State Election Results\n",
    "- Let's consider the swing state election data from the prequel course.\n",
    "- What if we had the election again, under identical conditions?\n",
    "- How would the slope and intercept change?\n",
    "- This is kind of a tricky question; there are several ways to get bootstrap estimates of the confidence intervals on these parameters, each of which makes different assumptions about the data.\n",
    "\n",
    "#### Pairs bootstrap for linear regression\n",
    "- We will do a method that makes the least assumptions, called pairs bootstrap\n",
    "- Since we cannot resample individual data because each county has two variables associated with it, the vote share for Obama and the total number of votes, we resample pairs.\n",
    "- For the election data, we could randomly select a given county, and keep its total votes and Democratic share as a pair.\n",
    "- So our bootstrap sample consists of a set (x, y) pair.\n",
    "- We then compute the slope and intercept from this pairs bootstrap sample to get the bootstrap replicates.\n",
    "- You can get confidence intervals from many bootstrap replicates of the slope and intercept, just like before.\n",
    "\n",
    "#### Generating a pairs bootstrap sample\n",
    "- Because `np.random.choice` must sample a 1D array, we will sample the indices of the data points.\n",
    "- We can generate the indices of a numpy array using the `np.arrange` function, which gives an array of sequential integers.\n",
    "- We then sample the indices with replacement\n",
    "- The bootstrap sample is generated by slicing out the respective values from the original data arrays.\n",
    "- We can perform a linear regression using `np.polyfit` on the pairs bootstrap sample to get a bootstrap replicate.\n",
    "- If we compare the result to the linear regression on the original data, they are close, but not equal.\n",
    "- As we have seen before, you can use many of these replicates to generate bootstrap confidence intervals for the slope and intercept using `np.percentile`.\n",
    "- You can also plot the lines you get from your bootstrap replicate to get a graphic idea how the regression line may change if the data were collected again.\n",
    "- You'll work through this whole procedure in the exercises.\n",
    "- Always keep in mind that you are thinking probabilistically.\n",
    "- Getting an optimal parameter values is the first step.\n",
    "- Now, you are finding out how that parameter is likely to change upon repeated measurements."
   ]
  },
  {
   "cell_type": "code",
   "execution_count": null,
   "metadata": {},
   "outputs": [],
   "source": [
    "np.arange(7)"
   ]
  },
  {
   "cell_type": "code",
   "execution_count": null,
   "metadata": {},
   "outputs": [],
   "source": [
    "# random.choice by indices\n",
    "inds = np.arange(len(swing.total_votes))\n",
    "bs_inds = np.random.choice(inds, len(inds))\n",
    "bs_total_votes = swing.total_votes[bs_inds].tolist()\n",
    "bs_dem_share = swing.dem_share[bs_inds].tolist()\n",
    "\n",
    "bs_slope, bs_intercept = np.polyfit(bs_total_votes, bs_dem_share, 1)\n",
    "print(bs_slope, bs_intercept)"
   ]
  },
  {
   "cell_type": "code",
   "execution_count": null,
   "metadata": {},
   "outputs": [],
   "source": [
    "# given the data in a pandas dataframe\n",
    "bs_df_sample = swing[['total_votes', 'dem_share']].sample(len(swing.index), replace=True).copy()\n",
    "\n",
    "np.polyfit(bs_df_sample.total_votes, bs_df_sample.dem_share, 1)"
   ]
  },
  {
   "cell_type": "code",
   "execution_count": null,
   "metadata": {},
   "outputs": [],
   "source": [
    "# linear regression of original data\n",
    "np.polyfit(swing.total_votes, swing.dem_share, 1)"
   ]
  },
  {
   "cell_type": "markdown",
   "metadata": {},
   "source": [
    "##### `def bs_df_poly_1`"
   ]
  },
  {
   "cell_type": "code",
   "execution_count": null,
   "metadata": {},
   "outputs": [],
   "source": [
    "def bs_df_poly_1(df: pd.DataFrame, size: int, x1: int, x2: int) -> list:\n",
    "    \"\"\"\n",
    "    Calculates a number of bootstrap samples determined by size\n",
    "    For each bs_df_sample, calculate the slope & intercept\n",
    "    For each slope & intercept, calculate the line y1 & y2 for a line segment\n",
    "    The returned list can be plotted with matplotlib.collections.LineCollection\n",
    "    \n",
    "    df: two column dataframe with x & y\n",
    "    size: number of bootstrap samples\n",
    "    x1: first x-intercept\n",
    "    x2: second x_intercpt\n",
    "    \n",
    "    returns a list of line coordinates [[(x1, y1), (x2, y2)], [(x1, y1), (x2, y2)]]\n",
    "    returns a list of slope intercepts\n",
    "    \"\"\"\n",
    "    bs_df_samples = [df.sample(len(df), replace=True) for _ in range(size)]\n",
    "    poly_samples = [np.polyfit(v.iloc[:, 0], v.iloc[:, 1], 1) for v in bs_df_samples]\n",
    "    collections = [[(x1, v[0]*x1 + v[1]), (x2, v[0]*x2 + v[1])] for v in poly_samples]\n",
    "    return poly_samples, collections"
   ]
  },
  {
   "cell_type": "code",
   "execution_count": null,
   "metadata": {},
   "outputs": [],
   "source": [
    "g = sns.scatterplot(x=swing.total_votes, y=swing.dem_share, )\n",
    "\n",
    "polys, lines = bs_df_poly_1(swing[['total_votes', 'dem_share']], 100, 0, 900000)\n",
    "\n",
    "# lines can be plotted with slope and intercept\n",
    "x = np.array([0, 900000])\n",
    "for poly in polys:\n",
    "    plt.plot(x, poly[0]*x + poly[1], linewidth=0.5, alpha=0.2, color='green')\n",
    "\n",
    "# or lines can be plotted with a collection of lines\n",
    "# lc = mc.LineCollection(lines, color='green', alpha=0.2)\n",
    "# g.add_collection(lc)\n",
    "\n",
    "\n",
    "plt.title('2008 US Swing State Election Results\\nwith Linear Regression lines for bootstrap samples')\n",
    "plt.xlabel('Total Votes')\n",
    "plt.ylabel('Percent of Vote for Obama')\n",
    "plt.show()"
   ]
  },
  {
   "cell_type": "markdown",
   "metadata": {},
   "source": [
    "#### A function to do pairs bootstrap\n",
    "\n",
    "As discussed in the video, pairs bootstrap involves resampling pairs of data. Each collection of pairs fit with a line, in this case using `np.polyfit()`. We do this again and again, getting bootstrap replicates of the parameter values. To have a useful tool for doing pairs bootstrap, you will write a function to perform pairs bootstrap on a set of `x,y` data.\n",
    "\n",
    "**Instructions**\n",
    "\n",
    "- Define a function with call signature `draw_bs_pairs_linreg(x, y, size=1)` to perform pairs bootstrap estimates on linear regression parameters.\n",
    " - Use `np.arange()` to set up an array of indices going from `0` to `len(x)`. These are what you will resample and use them to pick values out of the `x` and `y` arrays.\n",
    " - Use `np.empty()` to initialize the slope and intercept replicate arrays to be of size `size`.\n",
    " - Write a `for` loop to:\n",
    "   - Resample the indices `inds`. Use `np.random.choice()` to do this.\n",
    "   - Make new $x$ and $y$ arrays `bs_x` and `bs_y` using the the resampled indices `bs_inds`. To do this, slice `x` and `y` with `bs_inds`.\n",
    "   - Use `np.polyfit()` on the new $x$ and $y$ arrays and store the computed slope and intercept.\n",
    " - Return the pair bootstrap replicates of the slope and intercept."
   ]
  },
  {
   "cell_type": "markdown",
   "metadata": {},
   "source": [
    "##### `def draw_bs_pairs_linreg`"
   ]
  },
  {
   "cell_type": "code",
   "execution_count": null,
   "metadata": {},
   "outputs": [],
   "source": [
    "def draw_bs_pairs_linreg(x, y, size=1):\n",
    "    \"\"\"Perform pairs bootstrap for linear regression.\"\"\"\n",
    "\n",
    "    # Set up array of indices to sample from: inds\n",
    "    inds = np.arange(len(x))\n",
    "\n",
    "    # Initialize replicates: bs_slope_reps, bs_intercept_reps\n",
    "    bs_slope_reps = np.empty(size)\n",
    "    bs_intercept_reps = np.empty(size)\n",
    "\n",
    "    # Generate replicates\n",
    "    for i in range(size):\n",
    "        bs_inds = np.random.choice(inds, size=len(inds))\n",
    "        bs_x, bs_y = x[bs_inds], y[bs_inds]\n",
    "        bs_slope_reps[i], bs_intercept_reps[i] = np.polyfit(bs_x, bs_y, 1)\n",
    "\n",
    "    return bs_slope_reps, bs_intercept_reps"
   ]
  },
  {
   "cell_type": "markdown",
   "metadata": {},
   "source": [
    "#### Pairs bootstrap of literacy/fertility data\n",
    "Using the function you just wrote, perform pairs bootstrap to plot a histogram describing the estimate of the slope from the illiteracy/fertility data. Also report the 95% confidence interval of the slope. The data is available to you in the NumPy arrays `illiteracy` and `fertility`.\n",
    "\n",
    "As a reminder, `draw_bs_pairs_linreg()` has a function signature of `draw_bs_pairs_linreg(x, y, size=1)`, and it returns two values: `bs_slope_reps` and `bs_intercept_reps`.\n",
    "\n",
    "**Instructions**\n",
    "\n",
    "- Use your `draw_bs_pairs_linreg()` function to take `1000` bootstrap replicates of the slope and intercept. The x-axis data is `illiteracy` and y-axis data is `fertility`.\n",
    "- Compute and print the 95% bootstrap confidence interval for the slope.\n",
    "- Plot and show a histogram of the slope replicates. Be sure to label your axes."
   ]
  },
  {
   "cell_type": "code",
   "execution_count": null,
   "metadata": {},
   "outputs": [],
   "source": [
    "# Generate replicates of slope and intercept using pairs bootstrap\n",
    "bs_slope_reps, bs_intercept_reps = draw_bs_pairs_linreg(illiteracy, fertility, 1000)\n",
    "\n",
    "# Compute and print 95% CI for slope\n",
    "conf_int = np.percentile(bs_slope_reps, [2.5, 97.5])\n",
    "print(conf_int)\n",
    "\n",
    "# Plot the histogram\n",
    "n, bins, _ = plt.hist(bs_slope_reps, bins=50, density=True)\n",
    "plt.fill_betweenx([0, n.max()], conf_int[0], conf_int[1], alpha=0.3)\n",
    "plt.xlabel('slope')\n",
    "plt.ylabel('PDF')\n",
    "plt.show()"
   ]
  },
  {
   "cell_type": "markdown",
   "metadata": {},
   "source": [
    "#### Plotting bootstrap regressions\n",
    "\n",
    "A nice way to visualize the variability we might expect in a linear regression is to plot the line you would get from each bootstrap replicate of the slope and intercept. Do this for the first 100 of your bootstrap replicates of the slope and intercept (stored as `bs_slope_reps` and `bs_intercept_reps`).\n",
    "\n",
    "**Instructions**\n",
    "\n",
    "- Generate an array of $x$-values consisting of `0` and `100` for the plot of the regression lines. Use the `np.array()` function for this.\n",
    "- Write a `for` loop in which you plot a regression line with a slope and intercept given by the pairs bootstrap replicates. Do this for `100` lines.\n",
    " - When plotting the regression lines in each iteration of the `for` loop, recall the regression equation `y = a*x + b`. Here, `a` is `bs_slope_reps[i]` and `b` is `bs_intercept_reps[i]`.\n",
    " - Specify the keyword arguments `linewidth=0.5`, `alpha=0.2`, and `color='red'` in your call to `plt.plot()`.\n",
    "- Make a scatter plot with `illiteracy` on the x-axis and `fertility` on the y-axis. Remember to specify the `marker='.'` and `linestyle='none'` keyword arguments.\n",
    "- Label the axes, set a 2% margin, and show the plot."
   ]
  },
  {
   "cell_type": "code",
   "execution_count": null,
   "metadata": {},
   "outputs": [],
   "source": [
    "# Generate array of x-values for bootstrap lines: x\n",
    "x = np.array([0, 100])\n",
    "\n",
    "# Plot the bootstrap lines\n",
    "for i in range(0, 100):\n",
    "    _ = plt.plot(x, bs_slope_reps[i]*x + bs_intercept_reps[i], linewidth=0.5, alpha=0.2, color='green')\n",
    "\n",
    "# Plot the data\n",
    "_ = plt.plot(illiteracy, fertility, marker='.', linestyle='none')\n",
    "\n",
    "# Label axes, set the margins, and show the plot\n",
    "_ = plt.xlabel('illiteracy')\n",
    "_ = plt.ylabel('fertility')\n",
    "plt.margins(0.02)\n",
    "plt.show()"
   ]
  },
  {
   "cell_type": "markdown",
   "metadata": {},
   "source": [
    "## Introduction to hypothesis testing\n",
    "\n",
    "You now know how to define and estimate parameters given a model. But the question remains: how reasonable is it to observe your data if a model is true? This question is addressed by hypothesis tests. They are the icing on the inference cake. After completing this chapter, you will be able to carefully construct and test hypotheses using hacker statistics."
   ]
  },
  {
   "cell_type": "markdown",
   "metadata": {},
   "source": [
    "### Formulating and simulating a hypothesis\n",
    "\n",
    "- When we studied linear regression, we assumed a linear model for how the data are generated and then estimated the parameters that are defined by that model.\n",
    "- But, how do we assess how reasonable it is that our observed data are actually described by the model?\n",
    " - This is the realm of hypothesis testing.\n",
    "- Let's start by thinking about a simpler scenario.\n",
    "\n",
    "#### Consider the following\n",
    "- Ohio and Pennsylvania are similar states.\n",
    "- They're neighbors and they both have liberal urban counties and also lots of rural conservative counties.\n",
    "- I hypothesize that country-level voting in these two states have identical probability distributions.\n",
    "- We have voting data to help test this hypothesis.\n",
    "- Stated more concretely, we're going to assess how reasonable the observed data are assuming the hypothesis is true.\n",
    "\n",
    "#### Null hypothesis\n",
    "- The _hypothesis we are testing_ is typically called the _**null hypothesis**_.\n",
    "- We might start by just plotting the two ECDFs of county-level votes.\n",
    "- Based on the graph below, it's pretty tough to make a judgment.\n",
    " - Pennsylvania seems to be slightly more toward Obama in the middle part of the ECDFs, but not by much.\n",
    "   - We can't really draw a conclusion here.\n",
    " - We could just compare some summary statistics.\n",
    "   - An answer is still not clear.\n",
    "   - The means and medians of the two states are really close, and the standard deviations are almost identical.\n",
    "  - Eyeballing the data is not enough to make a determination.\n",
    "- To resolve this issue, we can simulate what the data would look like if the country-level voting trends in the two states were identically distributed.\n",
    "- We can do this by putting the Democratic share of the vote for all of Pennsylvania's 67 counties and Ohio's 88 counties together.\n",
    "- We then ignore what state they belong to.\n",
    "- Next, randomly scramble the ordering of the counties.\n",
    "- We then re-label the first 67 to be Pennsylvania and the remaining to be Ohio.\n",
    "- We we just redid the election as if there was no difference between Pennsylvania and Ohio.\n",
    "\n",
    "#### Permutation\n",
    "- This technique, of scrambling the order of an array, is called permutation.\n",
    "- It is at the heart of simulating a null hypothesis were we assume two quantities are identically distributed."
   ]
  },
  {
   "cell_type": "code",
   "execution_count": null,
   "metadata": {},
   "outputs": [],
   "source": [
    "swing.head()"
   ]
  },
  {
   "cell_type": "code",
   "execution_count": null,
   "metadata": {},
   "outputs": [],
   "source": [
    "pa_dem_share = swing.dem_share[swing.state == 'PA']\n",
    "oh_dem_share = swing.dem_share[swing.state == 'OH']\n",
    "\n",
    "pa_x, pa_y = ecdf(pa_dem_share)\n",
    "oh_x, oh_y = ecdf(oh_dem_share)"
   ]
  },
  {
   "cell_type": "code",
   "execution_count": null,
   "metadata": {},
   "outputs": [],
   "source": [
    "plt.plot(pa_x, pa_y, marker='.', linestyle='none', label='PA')\n",
    "plt.plot(oh_x, oh_y, marker='.', linestyle='none', label='OH')\n",
    "plt.xlabel('Percent of vote for Obama')\n",
    "plt.ylabel('ECDF')\n",
    "plt.legend()\n",
    "plt.show()"
   ]
  },
  {
   "cell_type": "code",
   "execution_count": null,
   "metadata": {},
   "outputs": [],
   "source": [
    "df = pd.DataFrame({'PA': pa_dem_share.reset_index(drop=True), 'OH': oh_dem_share.reset_index(drop=True)})\n",
    "df.head()"
   ]
  },
  {
   "cell_type": "code",
   "execution_count": null,
   "metadata": {},
   "outputs": [],
   "source": [
    "pa_oh_stats = df.agg(['mean', 'median', 'std'])\n",
    "pa_oh_stats['PA - OH'] = pa_oh_stats.PA - pa_oh_stats.OH\n",
    "pa_oh_stats"
   ]
  },
  {
   "cell_type": "markdown",
   "metadata": {},
   "source": [
    "#### Generating a permutation sample\n",
    "\n",
    "1. Make a single array with all the counties.\n",
    "1. Use `np.random.permutation` to permute the entries of the array.\n",
    "1. Get the _**permutation samples**_ by assigning the first 67 to be labeled Pennsylvania and the last 88 to be labeled Ohio"
   ]
  },
  {
   "cell_type": "code",
   "execution_count": null,
   "metadata": {},
   "outputs": [],
   "source": [
    "dem_share_both = np.concatenate((df.PA.dropna(), df.OH.dropna()))\n",
    "dem_share_both = np.random.permutation(dem_share_both)\n",
    "perm_sample_pa = dem_share_both[:len(df.PA.dropna())]\n",
    "perm_sample_oh = dem_share_both[len(df.PA.dropna()):]"
   ]
  },
  {
   "cell_type": "markdown",
   "metadata": {},
   "source": [
    "#### Generating a permutation sample\n",
    "\n",
    "In the video, you learned that permutation sampling is a great way to simulate the hypothesis that two variables have identical probability distributions. This is often a hypothesis you want to test, so in this exercise, you will write a function to generate a permutation sample from two data sets.\n",
    "\n",
    "Remember, a permutation sample of two arrays having respectively `n1` and `n2` entries is constructed by concatenating the arrays together, scrambling the contents of the concatenated array, and then taking the first `n1` entries as the permutation sample of the first array and the last `n2` entries as the permutation sample of the second array.\n",
    "\n",
    "**Instructions**\n",
    "\n",
    "- Concatenate the two input arrays into one using `np.concatenate()`. Be sure to pass in `data1` and `data2` as one argument `(data1, data2)`.\n",
    "- Use `np.random.permutation()` to permute the concatenated array.\n",
    "- Store the first `len(data1)` entries of `permuted_data` as `perm_sample_1` and the last `len(data2)` entries of `permuted_data` as `perm_sample_2`. In practice, this can be achieved by using `:len(data1)` and `len(data1):` to slice `permuted_data`.\n",
    "- Return `perm_sample_1` and `perm_sample_2`."
   ]
  },
  {
   "cell_type": "markdown",
   "metadata": {},
   "source": [
    "##### `def permutation_sample`"
   ]
  },
  {
   "cell_type": "code",
   "execution_count": null,
   "metadata": {},
   "outputs": [],
   "source": [
    "def permutation_sample(data1, data2, seed=None):\n",
    "    \"\"\"Generate a permutation sample from two data sets.\"\"\"\n",
    "\n",
    "    # Concatenate the data sets: data\n",
    "    data = np.concatenate((data1, data2))\n",
    "\n",
    "    # Permute the concatenated array: permuted_data\n",
    "    np.random.seed(seed)\n",
    "    permuted_data = np.random.permutation(data)\n",
    "\n",
    "    # Split the permuted array into two: perm_sample_1, perm_sample_2\n",
    "    perm_sample_1 = permuted_data[:len(data1)]\n",
    "    perm_sample_2 = permuted_data[len(data1):]\n",
    "\n",
    "    return perm_sample_1, perm_sample_2"
   ]
  },
  {
   "cell_type": "markdown",
   "metadata": {},
   "source": [
    "#### Visualizing permutation sampling\n",
    "\n",
    "To help see how permutation sampling works, in this exercise you will generate permutation samples and look at them graphically.\n",
    "\n",
    "We will use the Sheffield Weather Station data again, this time considering the monthly rainfall in June (a dry month) and November (a wet month). We expect these might be differently distributed, so we will take permutation samples to see how their ECDFs would look if they were identically distributed.\n",
    "\n",
    "The data are stored in the Numpy arrays `rain_june` and `rain_november`.\n",
    "\n",
    "As a reminder, `permutation_sample()` has a function signature of `permutation_sample(data_1, data_2)` with a return value of `permuted_data[:len(data_1)], permuted_data[len(data_1):]`, where `permuted_data = np.random.permutation(np.concatenate((data_1, data_2)))`.\n",
    "\n",
    "**Instructions**\n",
    "\n",
    "- Write a for `loop` to generate 50 permutation samples, compute their ECDFs, and plot them.\n",
    " - Generate a permutation sample pair from `rain_june` and `rain_november` using your `permutation_sample()` function.\n",
    " - Generate the `x` and `y` values for an ECDF for each of the two permutation samples for the ECDF using your `ecdf()` function.\n",
    " - Plot the ECDF of the first permutation sample (`x_1` and `y_1`) as dots. Do the same for the second permutation sample (`x_2` and `y_2`).\n",
    "- Generate `x` and `y` values for ECDFs for the `rain_june` and `rain_november` data and plot the ECDFs using respectively the keyword arguments `color='red'` and `color='blue'`.\n",
    "- Label your axes, set a 2% margin, and show your plot."
   ]
  },
  {
   "cell_type": "code",
   "execution_count": null,
   "metadata": {},
   "outputs": [],
   "source": [
    "rain_june = sheffield['rain'][sheffield.mm == 6]\n",
    "rain_november = sheffield['rain'][sheffield.mm == 11]"
   ]
  },
  {
   "cell_type": "code",
   "execution_count": null,
   "metadata": {},
   "outputs": [],
   "source": [
    "for i in range(50):\n",
    "    # Generate permutation samples\n",
    "    perm_sample_1, perm_sample_2 = permutation_sample(rain_june, rain_november)\n",
    "\n",
    "\n",
    "    # Compute ECDFs\n",
    "    x_1, y_1 = ecdf(perm_sample_1)\n",
    "    x_2, y_2 = ecdf(perm_sample_2)\n",
    "\n",
    "    # Plot ECDFs of permutation sample\n",
    "    _ = plt.plot(x_1, y_1, marker='.', linestyle='none', color='red', alpha=0.02)\n",
    "    _ = plt.plot(x_2, y_2, marker='.', linestyle='none', color='blue', alpha=0.02)\n",
    "\n",
    "# Create and plot ECDFs from original data\n",
    "x_1, y_1 = ecdf(rain_june)\n",
    "x_2, y_2 = ecdf(rain_november)\n",
    "_ = plt.plot(x_1, y_1, marker='.', linestyle='none', color='red')\n",
    "_ = plt.plot(x_2, y_2, marker='.', linestyle='none', color='blue')\n",
    "\n",
    "# Label axes, set margin, and show plot\n",
    "plt.margins(0.02)\n",
    "_ = plt.xlabel('monthly rainfall (mm)')\n",
    "_ = plt.ylabel('ECDF')\n",
    "plt.show()"
   ]
  },
  {
   "cell_type": "markdown",
   "metadata": {},
   "source": [
    "**Notice that the permutation samples ECDFs overlap and give a purple haze. None of the ECDFs from the permutation samples overlap with the observed data, suggesting that the hypothesis is not commensurate with the data. June and November rainfall are not identically distributed.**"
   ]
  },
  {
   "cell_type": "markdown",
   "metadata": {},
   "source": [
    "### Test statistics and p-values\n",
    "\n",
    "- We are testing the null hypothesis that the county-level voting is identically distributed between \n",
    "- Remember that testing a hypothesis is an assessment of how reasonable the observed data are, assuming the hypothesis is true.\n",
    "- What about the data do we assess and how do we quantify the assessment?\n",
    "- The answer to these questions hinges on the concept of a test statistic.\n",
    "- A test statistic is a single number that can be computed from observed data and also from data you simulate under the null hypothesis.\n",
    "- It serves as a basis of comparison between what the hypothesis predicts and what we actually observed.\n",
    "- Importantly, you should choose your test statistic to be something that is pertinent to the question you are trying to answer with you hypothesis test, in this case, **are the two states different**?\n",
    "- If they're identical, they should have the same mean vote share for Obama.\n",
    "- So the difference in mean vote share should be zero.\n",
    "- We'll therefore choose the difference in means as our test statistic.\n",
    "- From the permutation sample we generated in the last video, the value of the test statistic is 1.12%\n",
    "- We already calculated that the difference in mean vote share from the actual election was 1.16%.\n",
    "- For this permutation replicate, we did not quite get as big of a difference in means than what was observed in the original data.\n",
    "- We can **redo** the election 10,000 times under the null hypothesis by generating lots and lots of permutation replicates.\n",
    "- The difference of means from the elections simulated under the null hypothesis lies somewhere between -4 and 4%\n",
    "- The actual mean percent vote difference was 1.16%, shown by the red line\n",
    "- If we tally up the area of the histogram that is to the right of the read line, we get that about 23% of the simulated elections had at least a 1.16% difference or greater.\n",
    "  - This value, 0.23, is called the p-value\n",
    "- It is the probability of getting at least a 1.16% difference in the mean vote share assuming the states have identically distributed voting.\n",
    "- Is it plausible that we would observe the vote share we got if Pennsylvania and Ohio had been identically distributed?\n",
    "  - Sure it is. It happened 23% of the time under the null hypothesis.\n",
    "- We have to be careful about the definition of the p-value.\n",
    "  - _**The p-value is the probability of obtaining a value of your test statistic that is at least as extreme as what was observed, under the assumption the null hypothesis is true.**_\n",
    "  - The p-value is exactly that.\n",
    "  - It is **not** the probability that the null hypothesis is true\n",
    "  - _**The p-value is only meaningful if the null hypothesis is clearly stated, along with the test statistic used to evaluate is.**_\n",
    "  - When the p-value is small, it is often said that the data are statistically significantly different than what we would observed under the null hypothesis.\n",
    "    - Statistical significance is determined by the smallness of the p-value.\n",
    "    - For this reason, the hypothesis testing we're doing is sometimes called _null hypothesis significance testing_, or *NHST*.\n",
    "- I encourage you not to just label something as statistically significant or not, but rather to consider the value of the p-value, as well as how much difference the data are from what you would expect from the null hypothesis.\n",
    "- Remember: statistical significance (this is, low p-value) and practical significance, whether or not the difference of the data from the null hypothesis matters for practical considerations, are two different things."
   ]
  },
  {
   "cell_type": "code",
   "execution_count": null,
   "metadata": {},
   "outputs": [],
   "source": [
    "dem_share_pa = swing.dem_share[swing.state == 'PA']\n",
    "dem_share_oh= swing.dem_share[swing.state == 'OH']\n",
    "\n",
    "perm_sample_PA, perm_sample_OH = permutation_sample(dem_share_pa, dem_share_oh, seed=42)\n",
    "print(f'For seed={i}: Mean difference: {np.mean(perm_sample_PA) - np.mean(perm_sample_OH)}')"
   ]
  },
  {
   "cell_type": "code",
   "execution_count": null,
   "metadata": {},
   "outputs": [],
   "source": [
    "mean_diff = np.mean(dem_share_pa) - np.mean(dem_share_oh)\n",
    "mean_diff"
   ]
  },
  {
   "cell_type": "code",
   "execution_count": null,
   "metadata": {},
   "outputs": [],
   "source": [
    "replicates = list()\n",
    "for i in range(10000):\n",
    "    perm_sample_PA, perm_sample_OH = permutation_sample(dem_share_pa, dem_share_oh, i)\n",
    "    replicates.append(np.mean(perm_sample_PA) - np.mean(perm_sample_OH))"
   ]
  },
  {
   "cell_type": "code",
   "execution_count": null,
   "metadata": {},
   "outputs": [],
   "source": [
    "p = sns.histplot(replicates, bins=30, kde=True)\n",
    "\n",
    "plt.vlines(mean_diff, 0, 0.25, color='r', label='mean')\n",
    "\n",
    "plt.annotate('p-value', xy=(3.5, 0.05), weight='bold', color='teal',\n",
    "             xytext=(4, 0.15), fontsize=15, arrowprops=dict(arrowstyle=\"->\", color='teal'))\n",
    "\n",
    "for rectangle in p.patches:\n",
    "    if rectangle.get_x() >= mean_diff:\n",
    "        rectangle.set_facecolor('teal')\n",
    "\n",
    "width = p.patches[19].get_x() - mean_diff  # edge of the rectangle following the mean\n",
    "height = p.patches[18].get_height()\n",
    "plt.bar(x=mean_diff+0.5*width, height=height, width=width, color='#99cccc')\n",
    "\n",
    "ticks, labels = plt.xticks()\n",
    "                \n",
    "plt.legend()\n",
    "plt.ylabel('PDF')\n",
    "plt.xlabel('PA - OH mean percent replicate vote difference')\n",
    "plt.show()"
   ]
  },
  {
   "cell_type": "markdown",
   "metadata": {},
   "source": [
    "#### Test statistics\n",
    "\n",
    "When performing hypothesis tests, your choice of test statistic should be:\n",
    "\n",
    "**Answer the question**\n",
    "\n",
    "- ~~something well-known, like the mean or median.~~\n",
    "- ~~be a parameter that can be estimated.~~\n",
    "- **be pertinent to the question you are seeking to answer in your hypothesis test.**"
   ]
  },
  {
   "cell_type": "markdown",
   "metadata": {},
   "source": [
    "#### What is a p-value?\n",
    "\n",
    "The p-value is generally a measure of:\n",
    "\n",
    "**Answer the question**\n",
    "\n",
    "- ~~the probability that the hypothesis you are testing is true.~~\n",
    "- ~~the probability of observing your data if the hypothesis you are testing is true.~~\n",
    "- **the probability of observing a test statistic equally or more extreme than the one you observed, given that the null hypothesis is true.**"
   ]
  },
  {
   "cell_type": "markdown",
   "metadata": {},
   "source": [
    "#### Generating permutation replicates\n",
    "\n",
    "As discussed in the video, a permutation replicate is a single value of a statistic computed from a permutation sample. As the `draw_bs_reps()` function [you wrote in chapter 2](#def-draw_bs_reps) is useful for you to generate bootstrap replicates, it is useful to have a similar function, `draw_perm_reps()`, to generate permutation replicates. You will write this useful function in this exercise.\n",
    "\n",
    "The function has call signature `draw_perm_reps(data_1, data_2, func, size=1)`. Importantly, `func` must be a function that takes two arrays as arguments. In most circumstances, `func` will be a function you write yourself.\n",
    "\n",
    "**Instructions**\n",
    "\n",
    "- Define a function with this signature: `draw_perm_reps(data_1, data_2, func, size=1)`.\n",
    " - Initialize an array to hold the permutation replicates using `np.empty()`.\n",
    " - Write a `for` loop to:\n",
    "   - Compute a permutation sample using your `permutation_sample()` function\n",
    "   - Pass the samples into `func()` to compute the replicate and store the result in your array of replicates.\n",
    "- Return the array of replicates."
   ]
  },
  {
   "cell_type": "markdown",
   "metadata": {},
   "source": [
    "##### `def draw_perm_reps`"
   ]
  },
  {
   "cell_type": "code",
   "execution_count": null,
   "metadata": {},
   "outputs": [],
   "source": [
    "def draw_perm_reps(data_1, data_2, func, size=1, seed=None):\n",
    "    \"\"\"Generate multiple permutation replicates.\"\"\"\n",
    "\n",
    "    # Initialize array of replicates: perm_replicates\n",
    "    perm_replicates = np.empty(size)\n",
    "\n",
    "    for i in range(size):\n",
    "        # Generate permutation sample\n",
    "        perm_sample_1, perm_sample_2 = permutation_sample(data_1, data_2, seed)\n",
    "\n",
    "        # Compute the test statistic\n",
    "        perm_replicates[i] = func(perm_sample_1, perm_sample_2)\n",
    "\n",
    "    return perm_replicates"
   ]
  },
  {
   "cell_type": "markdown",
   "metadata": {},
   "source": [
    "#### Look before you leap: EDA before hypothesis testing\n",
    "\n",
    "[Kleinteich and Gorb (Sci. Rep., 4, 5225, 2014)](https://www.nature.com/articles/srep05225) performed an interesting experiment with South American horned frogs. They held a plate connected to a force transducer, along with a bait fly, in front of them. They then measured the impact force and adhesive force of the frog's tongue when it struck the target.\n",
    "\n",
    "Frog A is an adult and Frog B is a juvenile. The researchers measured the impact force of 20 strikes for each frog. In the next exercise, we will test the hypothesis that the two frogs have the same distribution of impact forces. But, remember, it is important to do EDA first! Let's make a bee swarm plot for the data. They are stored in a Pandas data frame, `df`, where column `ID` is the identity of the frog and column `impact_force` is the impact force in Newtons (N).\n",
    "\n",
    "**Instructions**\n",
    "\n",
    "- Use `sns.swarmplot()` to make a bee swarm plot of the data by specifying the `x`, `y`, and `data` keyword arguments.\n",
    "- Label your axes.\n",
    "- Show the plot."
   ]
  },
  {
   "cell_type": "code",
   "execution_count": null,
   "metadata": {},
   "outputs": [],
   "source": [
    "# Make bee swarm plot\n",
    "sns.swarmplot(x='ID', y='impact force (mN)', data=frogs)\n",
    "\n",
    "# Label axes\n",
    "plt.xlabel('frog')\n",
    "plt.ylabel('impact force (mN)')\n",
    "\n",
    "# Show the plot\n",
    "plt.show()"
   ]
  },
  {
   "cell_type": "markdown",
   "metadata": {},
   "source": [
    "**Eyeballing it, it does not look like they come from the same distribution. Frog II, the adult, has three or four very hard strikes, and Frog IV, the juvenile, has a couple weak ones. However, it is possible that with only 20 samples it might be too difficult to tell if they have difference distributions, so we should proceed with the hypothesis test.**"
   ]
  },
  {
   "cell_type": "markdown",
   "metadata": {},
   "source": [
    "#### Permutation test on frog data\n",
    "\n",
    "The average strike force of Frog A was 0.71 Newtons (N), and that of Frog B was 0.42 N for a difference of 0.29 N. It is possible the frogs strike with the same force and this observed difference was by chance. You will compute the probability of getting at least a 0.29 N difference in mean strike force under the hypothesis that the distributions of strike forces for the two frogs are identical. We use a permutation test with a test statistic of the difference of means to test this hypothesis.\n",
    "\n",
    "For your convenience, the data has been stored in the arrays `force_a` and `force_b`.\n",
    "\n",
    "**Instructions**\n",
    "\n",
    "- Define a function with call signature `diff_of_means(data_1, data_2)` that returns the differences in means between two data sets, mean of `data_1` minus mean of `data_2`.\n",
    "- Use this function to compute the empirical difference of means that was observed in the frogs.\n",
    "- Draw 10,000 permutation replicates of the difference of means.\n",
    "- Compute the p-value.\n",
    "- Print the p-value."
   ]
  },
  {
   "cell_type": "markdown",
   "metadata": {},
   "source": [
    "##### `def diff_of_means`"
   ]
  },
  {
   "cell_type": "code",
   "execution_count": null,
   "metadata": {},
   "outputs": [],
   "source": [
    "def diff_of_means(data_1, data_2):\n",
    "    \"\"\"Difference in means of two arrays.\"\"\"\n",
    "\n",
    "    # The difference of means of data_1, data_2: diff\n",
    "    diff = np.mean(data_1) - np.mean(data_2)\n",
    "\n",
    "    return diff"
   ]
  },
  {
   "cell_type": "code",
   "execution_count": null,
   "metadata": {},
   "outputs": [],
   "source": [
    "force_a = frogs['impact force (mN)'][frogs.ID == 'II'].div(1000).to_list()\n",
    "force_b = frogs['impact force (mN)'][frogs.ID == 'IV'].div(1000).to_list()"
   ]
  },
  {
   "cell_type": "code",
   "execution_count": null,
   "metadata": {},
   "outputs": [],
   "source": [
    "# Compute difference of mean impact force from experiment: empirical_diff_means\n",
    "empirical_diff_means = diff_of_means(force_a, force_b)\n",
    "\n",
    "# Draw 10,000 permutation replicates: perm_replicates\n",
    "perm_replicates = draw_perm_reps(force_a, force_b, diff_of_means, size=10000)\n",
    "\n",
    "# Compute p-value: p\n",
    "p = np.sum(perm_replicates >= empirical_diff_means) / len(perm_replicates)\n",
    "\n",
    "# Print the result\n",
    "print(f'p-value = {p}')"
   ]
  },
  {
   "cell_type": "markdown",
   "metadata": {},
   "source": [
    "**The p-value tells you that there is about a 0.6% chance that you would get the difference of means observed in the experiment if frogs were exactly the same. A p-value below 0.01 is typically said to be \"statistically significant,\" but: warning! warning! warning! You have computed a p-value; it is a number. I encourage you not to distill it to a yes-or-no phrase. p = 0.006 and p = 0.000000006 are both said to be \"statistically significant,\" but they are definitely not the same!**"
   ]
  },
  {
   "cell_type": "markdown",
   "metadata": {},
   "source": [
    "### Bootstrap hypothesis tests\n",
    "\n",
    "- Let's go over the pipeline of hypothesis testing that we have been studying.\n",
    "1. Clearly state the null hypothesis\n",
    "  - Stating the null hypothesis so that it is crystal clear is essential to be able to simulate it.\n",
    "1. Define the test statistic\n",
    "1. Generate many sets of simulated data assuming the null hypothesis is true.\n",
    "1. Compute the test statistic for each simulated data set.\n",
    "1. The p-value is then the fraction of your simulated data sets for which the test statistic is at least as extreme as for the real data.\n",
    "\n",
    "#### Let's do another hypothesis test\n",
    "- Consider again Michelson's measurements of the speed of light.\n",
    "- Around the same time that Michelson did his experiment, his future collaborator Simon Newcomb also measured the speed of light.\n",
    "- Newcomb's measurement had a mean of 299,860 km/s, differing from Michelson's by about 8 km/s.\n",
    "- We want to know if there's something fundamentally different about Newcomb's and Michelson's measurements.\n",
    "- The thing is, we only have Newcomb's mean and none of his data points.\n",
    "- The question is, could Michelson have gotten the data set he did if the true mean speed of light in his experiments was equal to Newcomb's?\n",
    "- We formally state our hypothesis as:\n",
    "  - The true mean speed of light in Michelson's experiments was actually Newcomb's reported mean, which we'll call the Newcomb value.\n",
    "- When I say the true mean speed of light in Michelson's experiments, think the mean, Michelson would have gotten had he done his experiment many times.\n",
    "- Because we are comparing a data set with a value, a permutation test is not applicable.\n",
    "- We need to simulate the situation in which the true mean speed of light in Michelson's experiments is Newcomb's value.\n",
    "- To achieve this, we shift Michelson's data such that its mean now matches Newcomb's value.\n",
    "- We can then use bootstrapping on this shifted data to simulate data acquisition under the null hypothesis.\n",
    "- The test statistic is the mean of the bootstrap sample minus Newcomb's value.\n",
    "- We write a function, `diff_from_newcomb`, to compute it, and compute the observed test statistic.\n",
    "- We then use the `draw_bs_reps` function to generate the bootstrap replicates, which is the value of the test statistic computed from a bootstrap sample.\n",
    "- Note that the data we pass into the function are the shifted Michelson measurements because those are the ones we use to simulate the null hypothesis.\n",
    "- The p-value is computed exactly the same was as for the permutation test.\n",
    "- We report the fraction of bootstrap replicates that are less than the observed test statistic.\n",
    "- In this case, we use less than, because the mean of from Michelson's experiments was less than Newcomb's value.\n",
    "- We get a p-value of 0.16, which suggests that it's quite possible that Newcomb and Michelson did not really have fundamental differences in their measurements.\n",
    "- This is an example of a **one-sample test**, since we had one set of samples from Michelson and were comparing to a single number from Newcomb.\n",
    "- Often in the field, you will do two-sample tests that require the bootstrap, which you will explore in the exercises.\n",
    "- Explicitly simulating a null hypothesis like this, where we have to shift the mean, can be tricky.\n",
    "\n",
    "#### One Sample Test\n",
    "- Compare one set of data to a single number\n",
    "\n",
    "#### Two Sample Test\n",
    "- Compare two sets of data"
   ]
  },
  {
   "cell_type": "code",
   "execution_count": null,
   "metadata": {},
   "outputs": [],
   "source": [
    "newcomb_value = 299860  #km/s\n",
    "michelson_speed_of_light = sol['velocity of light in air (km/s)']\n",
    "michelson_mean = np.mean(michelson_speed_of_light)\n",
    "michelson_shifted = michelson_speed_of_light - michelson_mean + newcomb_value"
   ]
  },
  {
   "cell_type": "code",
   "execution_count": null,
   "metadata": {},
   "outputs": [],
   "source": [
    "m_x, m_y = ecdf(michelson_speed_of_light)\n",
    "m_x_shifted, m_y_shifted = ecdf(michelson_shifted)"
   ]
  },
  {
   "cell_type": "code",
   "execution_count": null,
   "metadata": {},
   "outputs": [],
   "source": [
    "sns.scatterplot(x=m_x, y=m_y, label=\"Michelson's Data\")\n",
    "sns.scatterplot(x=m_x_shifted, y=m_y_shifted, label=\"Michelson's Data shifted to Newcomb's Mean\", color='g')\n",
    "plt.vlines(michelson_mean, 0, 1, colors='b', linestyles='--', label=f\"Michelson's Mean: {michelson_mean}\")\n",
    "plt.vlines(newcomb_value, 0, 1, colors='g', linestyles='--', label=f\"Newcomb's Mean: {newcomb_value}\")\n",
    "plt.legend()\n",
    "plt.ylabel('CDF')\n",
    "plt.xlabel('Speed of Light (km/s)')\n",
    "plt.show()"
   ]
  },
  {
   "cell_type": "markdown",
   "metadata": {},
   "source": [
    "##### `def diff_from_newcomb`"
   ]
  },
  {
   "cell_type": "code",
   "execution_count": null,
   "metadata": {},
   "outputs": [],
   "source": [
    "# calculate the test statistic\n",
    "def diff_from_newcomb(data: list, newcomb_value: int=299860) -> float:\n",
    "    return np.mean(data) - newcomb_value\n",
    "\n",
    "\n",
    "diff_obs = diff_from_newcomb(michelson_speed_of_light)\n",
    "diff_obs"
   ]
  },
  {
   "cell_type": "code",
   "execution_count": null,
   "metadata": {},
   "outputs": [],
   "source": [
    "# compute the p-value\n",
    "bs_replicates = draw_bs_reps(michelson_shifted, diff_from_newcomb, 10000)\n",
    "\n",
    "p_value = np.sum(bs_replicates <= diff_obs) / 10000\n",
    "print(f\"p-value: {p_value}. Only {p_value*100:0.02f}% of the replicates are <= to Newcomb's mean.\")"
   ]
  },
  {
   "cell_type": "markdown",
   "metadata": {},
   "source": [
    "### A one-sample bootstrap hypothesis test\n",
    "\n",
    "Another juvenile frog was studied, Frog C, and you want to see if Frog B and Frog C have similar impact forces. Unfortunately, you do not have Frog C's impact forces available, but you know they have a mean of 0.55 N. Because you don't have the original data, you cannot do a permutation test, and you cannot assess the hypothesis that the forces from Frog B and Frog C come from the same distribution. You will therefore test another, less restrictive hypothesis: The mean strike force of Frog B is equal to that of Frog C.\n",
    "\n",
    "To set up the bootstrap hypothesis test, you will take the mean as our test statistic. Remember, your goal is to calculate the probability of getting a mean impact force less than or equal to what was observed for Frog B _if the hypothesis that the true mean of Frog B's impact forces is equal to that of Frog C is true_. You first translate all of the data of Frog B such that the mean is 0.55 N. This involves adding the mean force of Frog C and subtracting the mean force of Frog B from each measurement of Frog B. This leaves other properties of Frog B's distribution, such as the variance, unchanged.\n",
    "\n",
    "**Instructions**\n",
    "\n",
    "- Translate the impact forces of Frog B such that its mean is 0.55 N.\n",
    "- Use your `draw_bs_reps()` function to take 10,000 bootstrap replicates of the mean of your translated forces.\n",
    "- Compute the p-value by finding the fraction of your bootstrap replicates that are less than the observed mean impact force of Frog B. Note that the variable of interest here is `force_b`.\n",
    "- Print your p-value."
   ]
  },
  {
   "cell_type": "code",
   "execution_count": null,
   "metadata": {},
   "outputs": [],
   "source": [
    "force_c = frogs['impact force (mN)'][frogs.ID == 'III'].div(1000).to_list()\n",
    "force_c_mean = np.mean(force_c)\n",
    "print(f'Frog C Mean Impact Force (N): {force_c_mean:0.02f}')"
   ]
  },
  {
   "cell_type": "code",
   "execution_count": null,
   "metadata": {},
   "outputs": [],
   "source": [
    "# Make an array of translated impact forces: translated_force_b\n",
    "translated_force_b = force_b - np.mean(force_b) + 0.55\n",
    "\n",
    "# Take bootstrap replicates of Frog B's translated impact forces: bs_replicates\n",
    "bs_replicates = draw_bs_reps(translated_force_b, np.mean, 10000)\n",
    "\n",
    "# Compute fraction of replicates that are less than the observed Frog B force: p\n",
    "p = np.sum(bs_replicates <= np.mean(force_b)) / 10000\n",
    "\n",
    "# Print the p-value\n",
    "print('p = ', p)"
   ]
  },
  {
   "cell_type": "markdown",
   "metadata": {},
   "source": [
    "**Great work! The low p-value suggests that the null hypothesis that Frog B and Frog C have the same mean impact force is false.**"
   ]
  },
  {
   "cell_type": "markdown",
   "metadata": {},
   "source": [
    "#### A two-sample bootstrap hypothesis test for difference of means\n",
    "\n",
    "We now want to test the hypothesis that Frog A and Frog B have the same mean impact force, but not necessarily the same distribution, which is also impossible with a permutation test.\n",
    "\n",
    "To do the two-sample bootstrap test, we shift both arrays to have the same mean, since we are simulating the hypothesis that their means are, in fact, equal. We then draw bootstrap samples out of the shifted arrays and compute the difference in means. This constitutes a bootstrap replicate, and we generate many of them. The p-value is the fraction of replicates with a difference in means greater than or equal to what was observed.\n",
    "\n",
    "The objects `forces_concat` and `empirical_diff_means` are already in your namespace.\n",
    "\n",
    "**Instructions**\n",
    "\n",
    "- Compute the mean of all forces (from `forces_concat`) using `np.mean()`.\n",
    "- Generate shifted data sets for both `force_a` and `force_b` such that the mean of each is the mean of the concatenated array of impact forces.\n",
    "- Generate 10,000 bootstrap replicates of the mean each for the two shifted arrays.\n",
    "- Compute the bootstrap replicates of the difference of means by subtracting the replicates of the shifted impact force of Frog B from those of Frog A.\n",
    "- Compute and print the p-value from your bootstrap replicates."
   ]
  },
  {
   "cell_type": "code",
   "execution_count": null,
   "metadata": {},
   "outputs": [],
   "source": [
    "forces_concat = force_a + force_b\n",
    "empirical_diff_means = np.mean(force_a) - np.mean(force_b)"
   ]
  },
  {
   "cell_type": "code",
   "execution_count": null,
   "metadata": {},
   "outputs": [],
   "source": [
    "# Compute mean of all forces: mean_force\n",
    "mean_force = np.mean(forces_concat)\n",
    "\n",
    "# Generate shifted arrays\n",
    "force_a_shifted = force_a - np.mean(force_a) + mean_force\n",
    "force_b_shifted = force_b - np.mean(force_b) + mean_force \n",
    "\n",
    "# Compute 10,000 bootstrap replicates from shifted arrays\n",
    "bs_replicates_a = draw_bs_reps(force_a_shifted, np.mean, 10000)\n",
    "bs_replicates_b = draw_bs_reps(force_b_shifted, np.mean, 10000)\n",
    "\n",
    "# Get replicates of difference of means: bs_replicates\n",
    "bs_replicates = bs_replicates_a - bs_replicates_b\n",
    "\n",
    "# Compute and print p-value: p\n",
    "p = np.sum(bs_replicates >= empirical_diff_means) / 10000\n",
    "print('p-value =', p)"
   ]
  },
  {
   "cell_type": "markdown",
   "metadata": {},
   "source": [
    "**You got a similar result as when you did the permutation test. Nonetheless, remember that it is important to carefully think about what question you want to ask. Are you only interested in the mean impact force, or in the distribution of impact forces?**"
   ]
  },
  {
   "cell_type": "markdown",
   "metadata": {},
   "source": [
    "## Hypothesis test examples\n",
    "\n",
    "As you saw from the last chapter, hypothesis testing can be a bit tricky. You need to define the null hypothesis, figure out how to simulate it, and define clearly what it means to be \"more extreme\" in order to compute the p-value. Like any skill, practice makes perfect, and this chapter gives you some good practice with hypothesis tests."
   ]
  },
  {
   "cell_type": "markdown",
   "metadata": {},
   "source": [
    "### A/B testing\n",
    "\n",
    "- Imagine your company has proposed a redesign of the splash page of its website.\n",
    "- They're interested in how many more users click through to the website for the redesign versus the original design.\n",
    "##### Is your redesign effective?\n",
    "- You devise a test\n",
    "- ![splash](https://raw.githubusercontent.com/trenton3983/DataCamp/master/Images/2020-06-01_statistical_thinking_2/splash.JPG)\n",
    "- Take a set of 1000 visitors to the site and direct 500 of them to the original splash screen and 500 of them to the redesigned one.\n",
    "- You determine whether or not each of them clicks through to the rest of the website.\n",
    "- On the original page, which we'll call page A, 45 visitors clicked through, and on the redesigned page, page B, 67 visitors clicked through.\n",
    "- This make you happy because that's almost a 50% increase in the click-through rate.\n",
    "- But maybe there really is no difference between the effect of the two designs on click-through rate and the difference you saw is due to random chance.\n",
    "- You want to check: what's the probability that you would observe, at least the observed difference in numbers of clicks through, if that were the case?\n",
    "- This is asking exactly the question you can address with a hypothesis test.\n",
    "##### Null hypothesis\n",
    "- The click-through rate is not affected by the redesign.\n",
    "- A permutation test is a good choice here because you can simulate the result as if the redesign had no effect on the click-through rate.\n",
    "##### Permutation test of clicks through\n",
    "- For each splash page design, we have a Numpy array which contains 1 or 0 values for whether or not a visitor click through.\n",
    "- Next, we need to define a function `diff_frac` for our test statistic.\n",
    "  - Ours is the fraction of visitors who click through\n",
    "- We can compute the fraction who click through, by summing the entries in the arrays of ones and zeros, and then dividing by the number of entries.\n",
    "- Finally, we compute the observed value of the test statistic using this function `diff_frac`.\n",
    "- Now everything is in place to generate our permutation replicates of the test statistic using the `draw_perm_reps` function you wrote in the exercises; we'll generate 10,000 replicates.\n",
    "- We compute the p-value as the number of replicates where the test statistic was at least as great as what we observed.\n",
    "- We get a value of 0.016, which is relatively small, so we might reasonably think that the redesign is a real improvement.\n",
    "- This is an example of an A/B test.\n",
    "##### A/B test\n",
    "- A/B testing is often used by organizations to see if a change in strategy gives different, hopefully better, results\n",
    "##### Null hypothesis of an A/B test\n",
    "- Generally, the null hypothesis in an A/B test is that your test statistic is impervious to the change.\n",
    "- A low p-value implies the change in strategy lead to a change in performance.\n",
    "- Once again, be warned that **statistical significance does not mean practical significance.**\n",
    "- A difference in click-through rate may be statistically significant, but if it's only a couple more people per day, your marketing team may not consider the change worth the cost.\n",
    "- A/B testing is just a special case of the hypothesis testing framework we have already been working with. a fun and informative one."
   ]
  },
  {
   "cell_type": "markdown",
   "metadata": {},
   "source": [
    "#### `def diff_frac`"
   ]
  },
  {
   "cell_type": "code",
   "execution_count": null,
   "metadata": {},
   "outputs": [],
   "source": [
    "def diff_frac(data_A: np.array, data_B: np.array) -> float:\n",
    "    frac_A = np.sum(data_A) / len(data_A)\n",
    "    frac_B = np.sum(data_B) / len(data_B)\n",
    "    \n",
    "    return frac_B - frac_A"
   ]
  },
  {
   "cell_type": "code",
   "execution_count": null,
   "metadata": {},
   "outputs": [],
   "source": [
    "A_0 = np.zeros((455, 1))\n",
    "A_1 = np.ones((45, 1))\n",
    "clickthrough_A = np.concatenate((A_0, A_1), axis=0)\n",
    "B_0 = np.zeros((433, 1))\n",
    "B_1 = np.ones((67, 1))\n",
    "clickthrough_B = np.concatenate((B_0, B_1), axis=0)"
   ]
  },
  {
   "cell_type": "code",
   "execution_count": null,
   "metadata": {},
   "outputs": [],
   "source": [
    "# Initialize array to store permutation replicates\n",
    "perm_replicates = np.empty(10000)\n",
    "\n",
    "# Generate permutation replicates\n",
    "for i in range(10000):\n",
    "    perm_replicates[i] = draw_perm_reps(clickthrough_A, clickthrough_B, diff_frac, size=1)[0]\n",
    "\n",
    "# Compute observed difference in fractions\n",
    "diff_frac_obs = diff_frac(clickthrough_A, clickthrough_B)\n",
    "\n",
    "# Compute p-value\n",
    "p_value = np.sum(perm_replicates >= diff_frac_obs) / 10000\n",
    "p_value"
   ]
  },
  {
   "cell_type": "markdown",
   "metadata": {},
   "source": [
    "#### The vote for the Civil Rights Act in 1964\n",
    "\n",
    "The Civil Rights Act of 1964 was one of the most important pieces of legislation ever passed in the USA. Excluding \"present\" and \"abstain\" votes, 153 House Democrats and 136 Republicans voted yea. However, 91 Democrats and 35 Republicans voted nay. Did party affiliation make a difference in the vote?\n",
    "\n",
    "To answer this question, you will evaluate the hypothesis that the party of a House member has no bearing on his or her vote. You will use the fraction of Democrats voting in favor as your test statistic and evaluate the probability of observing a fraction of Democrats voting in favor at least as small as the observed fraction of 153/244. (That's right, at least as small as. In 1964, it was the Democrats who were less progressive on civil rights issues.) To do this, permute the party labels of the House voters and then arbitrarily divide them into \"Democrats\" and \"Republicans\" and compute the fraction of Democrats voting yea.\n",
    "\n",
    "**Instructions**\n",
    "\n",
    "- Construct Boolean arrays, `dems` and `reps` that contain the votes of the respective parties; e.g., `dems` has 153 `True` entries and 91 `False` entries.\n",
    "- Write a function, `frac_yea_dems(dems, reps)` that returns the fraction of Democrats that voted yea. The first input is an array of Booleans, Two inputs are required to use your `draw_perm_reps()` function, but the second is not used.\n",
    "- Use your `draw_perm_reps()` function to draw 10,000 permutation replicates of the fraction of Democrat yea votes.\n",
    "- Compute and print the p-value."
   ]
  },
  {
   "cell_type": "code",
   "execution_count": null,
   "metadata": {},
   "outputs": [],
   "source": [
    "# Construct arrays of data: dems, reps\n",
    "dems = np.array([True] * 153 + [False] * 91)\n",
    "reps = np.array([True] * 136 + [False] * 35)\n",
    "\n",
    "def frac_yea_dems(dems, reps):\n",
    "    \"\"\"Compute fraction of Democrat yea votes.\"\"\"\n",
    "    frac = np.sum(dems) / len(dems)\n",
    "    return frac\n",
    "\n",
    "# Acquire permutation samples: perm_replicates\n",
    "perm_replicates = draw_perm_reps(dems, reps, frac_yea_dems, 10000)\n",
    "\n",
    "# Compute and print p-value: p\n",
    "p = np.sum(perm_replicates <= 153/244) / len(perm_replicates)\n",
    "print('p-value =', p)"
   ]
  },
  {
   "cell_type": "markdown",
   "metadata": {},
   "source": [
    "**This small p-value suggests that party identity had a lot to do with the voting. Importantly, the South had a higher fraction of Democrat representatives, and consequently also a more racist bias.**"
   ]
  },
  {
   "cell_type": "markdown",
   "metadata": {},
   "source": [
    "#### What is equivalent?\n",
    "\n",
    "You have experience matching stories to probability distributions. Similarly, you use the same procedure for two different A/B tests if their stories match. In the Civil Rights Act example you just did, you performed an A/B test on voting data, which has a Yes/No type of outcome for each subject (in that case, a voter). Which of the following situations involving testing by a web-based company has an equivalent set up for an A/B test as the one you just did with the Civil Rights Act of 1964?\n",
    "\n",
    "**Answer the question**\n",
    "\n",
    "- ~~You measure how much time each customer spends on your website before and after an advertising campaign.~~\n",
    "- **You measure the number of people who click on an ad on your company's website before and after changing its color.**\n",
    "- ~~You measure how many clicks each person has on your company's website before and after changing the header layout.~~\n",
    "\n",
    "**The \"Democrats\" are those who view the ad before the color change, and the \"Republicans\" are those who view it after.**"
   ]
  },
  {
   "cell_type": "markdown",
   "metadata": {},
   "source": [
    "#### A time-on-website analog\n",
    "\n",
    "It turns out that you already did a hypothesis test analogous to an A/B test where you are interested in how much time is spent on the website before and after an ad campaign. The frog tongue force (a continuous quantity like time on the website) is an analog. \"Before\" = Frog A and \"after\" = Frog B. Let's practice this again with something that actually is a before/after scenario.\n",
    "\n",
    "We return to the no-hitter data set. In 1920, Major League Baseball implemented important rule changes that ended the so-called dead ball era. Importantly, the pitcher was no longer allowed to spit on or scuff the ball, an activity that greatly favors pitchers. In this problem you will perform an A/B test to determine if these rule changes resulted in a slower rate of no-hitters (i.e., longer average time between no-hitters) using the difference in mean inter-no-hitter time as your test statistic. The inter-no-hitter times for the respective eras are stored in the arrays `nht_dead` and `nht_live`, where \"nht\" is meant to stand for \"no-hitter time.\"\n",
    "\n",
    "Since you will be using your `draw_perm_reps()` function in this exercise, it may be useful to remind yourself of its call signature: `draw_perm_reps(d1, d2, func, size=1)` or even [referring back](#def-draw_bs_reps) to the chapter 3 exercise in which you defined it.\n",
    "\n",
    "**Instructions**\n",
    "\n",
    "- Compute the observed difference in mean inter-nohitter time using `diff_of_means()`.\n",
    "- Generate 10,000 permutation replicates of the difference of means using `draw_perm_reps()`.\n",
    "- Compute and print the p-value."
   ]
  },
  {
   "cell_type": "code",
   "execution_count": null,
   "metadata": {},
   "outputs": [],
   "source": [
    "nht_dead = baseball_df.games_since_last_nht[baseball_df.date.dt.year < 1920].to_numpy()\n",
    "nht_live = baseball_df.games_since_last_nht[baseball_df.date.dt.year >= 1920].to_numpy()"
   ]
  },
  {
   "cell_type": "code",
   "execution_count": null,
   "metadata": {},
   "outputs": [],
   "source": [
    "# Compute the observed difference in mean inter-no-hitter times: nht_diff_obs\n",
    "nht_diff_obs = diff_of_means(nht_dead, nht_live)\n",
    "\n",
    "# Acquire 10,000 permutation replicates of difference in mean no-hitter time: perm_replicates\n",
    "perm_replicates = draw_perm_reps(nht_dead, nht_live, diff_of_means, 10000)\n",
    "\n",
    "# Compute and print the p-value: p\n",
    "p = np.sum(perm_replicates <= nht_diff_obs) / len(perm_replicates)\n",
    "print('p-val =', p)"
   ]
  },
  {
   "cell_type": "markdown",
   "metadata": {},
   "source": [
    "**The p-value is 0.0001, which means that only one out of your 10,000 replicates had a result as extreme as the actual difference between the dead ball and live ball eras. This suggests strong statistical significance. Watch out, though, you could very well have gotten zero replicates that were as extreme as the observed value. This just means that the p-value is quite small, almost certainly smaller than 0.001.**"
   ]
  },
  {
   "cell_type": "markdown",
   "metadata": {},
   "source": [
    "### What should you have done first?\n",
    "\n",
    "That was a nice hypothesis test you just did to check out whether the rule changes in 1920 changed the rate of no-hitters. But what should you have done with the data first?\n",
    "\n",
    "**Answer the question**\n",
    "\n",
    "- **Performed EDA, perhaps plotting the ECDFs of inter-no-hitter times in the dead ball and live ball eras.**\n",
    "- ~~Nothing. The hypothesis test was only a few lines of code.~~"
   ]
  },
  {
   "cell_type": "markdown",
   "metadata": {},
   "source": [
    "**Always a good idea to do first! I encourage you to go ahead and plot the ECDFs right now. You will see by eye that the null hypothesis that the distributions are the same is almost certainly not true.**"
   ]
  },
  {
   "cell_type": "code",
   "execution_count": null,
   "metadata": {},
   "outputs": [],
   "source": [
    "x_dead, y_dead = ecdf(nht_dead)\n",
    "x_live, y_live = ecdf(nht_live)"
   ]
  },
  {
   "cell_type": "code",
   "execution_count": null,
   "metadata": {},
   "outputs": [],
   "source": [
    "sns.scatterplot(x=x_dead, y=y_dead, label='dead ball: through 1919')\n",
    "sns.scatterplot(x=x_live, y=y_live, label='live ball: from 1920', color='purple')\n",
    "plt.vlines(np.mean(nht_dead), 0, 1, linestyles='--', label=f'dead ball mean: {np.mean(nht_dead):0.02f}', color='b')\n",
    "plt.vlines(np.mean(nht_live), 0, 1, linestyles='--', label=f'live ball mean: {np.mean(nht_live):0.02f}', color='purple')\n",
    "plt.ylabel('CDF')\n",
    "plt.xlabel('Number of games between no-hitters')\n",
    "plt.legend(loc=7)\n",
    "plt.title('ECDF for Number of Games Between No-Hitters\\nDead Ball Era vs. Live Ball Era')\n",
    "plt.show()"
   ]
  },
  {
   "cell_type": "markdown",
   "metadata": {},
   "source": [
    "### Test of correlation\n",
    "\n",
    "##### 2008 US swing state election results\n",
    "- Consider again the swing state county-level voting data\n",
    "- In the prequel to this course, we computed the Pearson correlation coefficient between Obama's vote share and the total number of votes.\n",
    "- Remember, the Pearson correlation coefficient is **a measure of how much of the variability in two variables is due to them being correlated.**\n",
    "  - It ranges from -1 for totally negatively correlated to 1 for positively correlated.\n",
    "  - We got a value of about 0.54.\n",
    "  - This value of the Pearson correlation coefficient indicates the data are not perfectly correlated, but are correlated nonetheless.\n",
    "  - How can we know for sure if this correlation is real, or if it could have happened just by chance?\n",
    "##### Hypothesis test of correlation\n",
    "- We can do a hypothesis test.\n",
    "- Posit a null hypothesis that there is no correlation between the two variables, in this case Obama's vote share and total votes.\n",
    "  - Posit a null hypothesis: the two variables are completely uncorrelated\n",
    "- We then simulate the election assuming the null hypothesis is true (which you will figure out how to do in the exercises), and use the Pearson correlation coefficient, $\\rho$, as the test statistic.\n",
    "  - Simulate data assuming null hypothesis is True\n",
    "- The p-value is then the fraction of replicates that have a Pearson correlation coefficient at least as large as what was observed\n",
    "  - Compute p-value as fraction of replicates that have $\\rho$ at leas as large as observed.\n",
    "- I did this procedure, and in all 10,000 of my replicates under the null hypothesis, not one had a Pearson correlation coefficient as high as the observed value of 0.54.\n",
    "  - The same for 100,000 and 1,000,000 replicates.\n",
    "- This does not mean the p-value is zero.\n",
    "- It means, it is so low, we would have to generate an enormous number of replicates to have even one that has a test statistic sufficiently extreme.\n",
    "- We conclude the p-value is exceedingly small and there is essentially no doubt that counties with higher vote count, tended to vote for Obama.\n",
    "  - After all, this is how he won the election."
   ]
  },
  {
   "cell_type": "code",
   "execution_count": null,
   "metadata": {},
   "outputs": [],
   "source": [
    "obama_pearson_observed = swing.corr(numeric_only=True).loc['total_votes', 'dem_share']  # from pandas dataframe function"
   ]
  },
  {
   "cell_type": "code",
   "execution_count": null,
   "metadata": {},
   "outputs": [],
   "source": [
    "g = sns.regplot(x='total_votes', y='dem_share', data=swing)\n",
    "plt.xlim(0, 900000)\n",
    "plt.text(400000, 30, f'ρ = {obama_pearson_observed:0.02f}', fontsize=20)\n",
    "plt.ylabel('Percent of Vote for Obama')\n",
    "plt.xlabel('Total Votes')\n",
    "plt.title('2008 US Swing State Election Results')\n",
    "plt.show()"
   ]
  },
  {
   "cell_type": "code",
   "execution_count": null,
   "metadata": {},
   "outputs": [],
   "source": [
    "# Initialize permutation replicates: perm_replicates\n",
    "obama_perm_replicates = np.empty(10000)\n",
    "\n",
    "# Draw replicates\n",
    "for i in range(len(obama_perm_replicates)):\n",
    "    # Permute dem_share measurments\n",
    "    dem_share_permuted = np.random.permutation(swing.dem_share)\n",
    "\n",
    "    # Compute Pearson correlation\n",
    "    obama_perm_replicates[i] = pearson_r(dem_share_permuted, swing.total_votes)"
   ]
  },
  {
   "cell_type": "code",
   "execution_count": null,
   "metadata": {},
   "outputs": [],
   "source": [
    "sns.histplot(obama_perm_replicates, kde=True)\n",
    "plt.axvline(obama_pearson_observed, 0, 1, label=f'ovserved ρ: {obama_pearson_observed:0.02f}', color='firebrick')\n",
    "plt.legend()\n",
    "plt.xlabel('Pearson correlation')\n",
    "plt.ylabel('probability under null')\n",
    "plt.title('10000 Replicates of Pearson\\nShare of Total Votes for Obama')\n",
    "plt.show()"
   ]
  },
  {
   "cell_type": "markdown",
   "metadata": {},
   "source": [
    "#### Simulating a null hypothesis concerning correlation\n",
    "\n",
    "The observed correlation between `female illiteracy` and `fertility` in the data set of 162 countries may just be by chance; the fertility of a given country may actually be totally independent of its illiteracy. You will test this null hypothesis in the next exercise.\n",
    "\n",
    "To do the test, you need to simulate the data assuming the null hypothesis is true. Of the following choices, which is the best way to do it?\n",
    "\n",
    "**Answer the question**\n",
    "\n",
    "- ~~Choose 162 random numbers to represent the illiteracy rate and 162 random numbers to represent the corresponding fertility rate.~~\n",
    "- ~~Do a pairs bootstrap: Sample pairs of observed data with replacement to generate a new set of (illiteracy, fertility) data.~~\n",
    "  - Pairs bootstrap will get you a confidence interval on the Pearson correlation. You can get a confidence interval for its value. You would find, for example, that it cannot be close to zero. But this is not a simulation of the null hypothesis.\n",
    "- ~~Do a bootstrap sampling in which you sample 162 illiteracy values with replacement and then 162 fertility values with replacement.~~\n",
    "  - This works and is a legitimate way to simulate the data. The pairings are now random. However, it is not preferred because it is not exact like a permutation test is.\n",
    "- **Do a permutation test: Permute the illiteracy values but leave the fertility values fixed to generate a new set of (illiteracy, fertility) data.**\n",
    "  - This exactly simulates the null hypothesis and does so more efficiently than the last option. It is exact because it uses all data and eliminates any correlation because which illiteracy value pairs to which fertility value is shuffled.\n",
    "- ~~Do a permutation test: Permute both the illiteracy and fertility values to generate a new set of (illiteracy, fertility data).~~\n",
    "  - This works perfectly, and is exact because it uses all data and eliminates any correlation because we shuffle which illiteracy value pairs to which fertility value. However, it is not necessary, and computationally inefficient, to permute both illiteracy and fertility."
   ]
  },
  {
   "cell_type": "markdown",
   "metadata": {},
   "source": [
    "#### Hypothesis test on Pearson correlation\n",
    "\n",
    "The observed correlation between female illiteracy and fertility may just be by chance; the fertility of a given country may actually be totally independent of its illiteracy. You will test this hypothesis. To do so, permute the illiteracy values but leave the fertility values fixed. This simulates the hypothesis that they are totally independent of each other. For each permutation, compute the Pearson correlation coefficient and assess how many of your permutation replicates have a Pearson correlation coefficient greater than the observed one.\n",
    "\n",
    "The function `pearson_r()` that you [wrote in the prequel to this course](#def-pearson) for computing the Pearson correlation coefficient is already in your name space.\n",
    "\n",
    "**Instructions**\n",
    "\n",
    "- Compute the observed Pearson correlation between `illiteracy` and `fertility`.\n",
    "- Initialize an array to store your permutation replicates.\n",
    "- Write a `for loop` to draw 10,000 replicates:\n",
    " - Permute the `illiteracy` measurements using `np.random.permutation()`.\n",
    " - Compute the Pearson correlation between the permuted illiteracy array, `illiteracy_permuted`, and `fertility`.\n",
    "- Compute and print the p-value from the replicates."
   ]
  },
  {
   "cell_type": "code",
   "execution_count": null,
   "metadata": {},
   "outputs": [],
   "source": [
    "illiteracy = 100 - fem['female literacy'].to_numpy()\n",
    "fertility = fem.fertility.to_numpy()"
   ]
  },
  {
   "cell_type": "code",
   "execution_count": null,
   "metadata": {},
   "outputs": [],
   "source": [
    "# Compute observed correlation: r_obs\n",
    "r_obs = pearson_r(illiteracy, fertility)\n",
    "\n",
    "# Initialize permutation replicates: perm_replicates\n",
    "perm_replicates = np.empty(10000)\n",
    "\n",
    "# Draw replicates\n",
    "for i in range(len(perm_replicates)):\n",
    "    # Permute illiteracy measurments: illiteracy_permuted\n",
    "    illiteracy_permuted = np.random.permutation(illiteracy)\n",
    "\n",
    "    # Compute Pearson correlation\n",
    "    perm_replicates[i] = pearson_r(illiteracy_permuted, fertility)\n",
    "\n",
    "# Compute p-value: p\n",
    "p = sum(perm_replicates >= r_obs) / len(perm_replicates)\n",
    "print('p-val =', p)"
   ]
  },
  {
   "cell_type": "markdown",
   "metadata": {},
   "source": [
    "**You got a p-value of zero. In hacker statistics, this means that your p-value is very low, since you never got a single replicate in the 10,000 you took that had a Pearson correlation greater than the observed one. You could try increasing the number of replicates you take to continue to move the upper bound on your p-value lower and lower.**"
   ]
  },
  {
   "cell_type": "code",
   "execution_count": null,
   "metadata": {},
   "outputs": [],
   "source": [
    "sns.histplot(perm_replicates, kde=True)\n",
    "plt.axvline(r_obs, 0, 1, label=f'observed ρ: {r_obs:0.02f}', color='firebrick')\n",
    "plt.legend()\n",
    "plt.xlabel('Pearson correlation')\n",
    "plt.ylabel('probability under null')\n",
    "plt.title('10000 Replicates of Pearson\\nIlliteracy as Correlated to Fertility')\n",
    "plt.show()"
   ]
  },
  {
   "cell_type": "markdown",
   "metadata": {},
   "source": [
    "#### Do neonicotinoid insecticides have unintended consequences?\n",
    "\n",
    "As a final exercise in hypothesis testing before we put everything together in our case study in the next chapter, you will investigate the effects of neonicotinoid insecticides on bee reproduction. These insecticides are very widely used in the United States to combat aphids and other pests that damage plants.\n",
    "\n",
    "In a recent study, Straub, et al. ([Proc. Roy. Soc. B, 2016](https://royalsocietypublishing.org/doi/10.1098/rspb.2016.0506) investigated the effects of neonicotinoids on the sperm of pollinating bees. In this and the next exercise, you will study how the pesticide treatment affected the count of live sperm per half milliliter of semen.\n",
    "\n",
    "First, we will do EDA, as usual. Plot ECDFs of the alive sperm count for untreated bees (stored in the Numpy array `control`) and bees treated with pesticide (stored in the Numpy array `treated`).\n",
    "\n",
    "**Instructions**\n",
    "\n",
    "- Use your `ecdf()` function to generate `x,y` values from the `control` and `treated` arrays for plotting the ECDFs.\n",
    "- Plot the ECDFs on the same plot.\n",
    "- The margins have been set for you, along with the legend and axis labels."
   ]
  },
  {
   "cell_type": "code",
   "execution_count": null,
   "metadata": {},
   "outputs": [],
   "source": [
    "# the values used in the DataCamp exercise are multipled by 2. I have not done that here.\n",
    "control = bees['Alive Sperm Millions'][bees.Treatment == 'Control'].to_numpy()\n",
    "treated = bees['Alive Sperm Millions'][bees.Treatment == 'Pesticide'].to_numpy()"
   ]
  },
  {
   "cell_type": "code",
   "execution_count": null,
   "metadata": {},
   "outputs": [],
   "source": [
    "# Compute x,y values for ECDFs\n",
    "x_control, y_control = ecdf(control)\n",
    "x_treated, y_treated = ecdf(treated)\n",
    "\n",
    "# Plot the ECDFs\n",
    "plt.plot(x_control, y_control, marker='.', linestyle='none', color='b', label='control ecdf')\n",
    "plt.plot(x_treated, y_treated, marker='.', linestyle='none', color='g', label='treated ecdf')\n",
    "plt.axvline(np.mean(control), color='b', linestyle='--', label=f'observed control mean: {np.mean(control):0.02f}')\n",
    "plt.axvline(np.mean(treated), color='g', linestyle='--', label=f'observed treated mean: {np.mean(treated):0.02f}')\n",
    "\n",
    "# Set the margins\n",
    "plt.margins(0.02)\n",
    "\n",
    "# Add a legend\n",
    "plt.legend(loc=7)\n",
    "\n",
    "# Label axes and show plot\n",
    "plt.xlabel('millions of alive sperm per mL')\n",
    "plt.ylabel('ECDF')\n",
    "plt.show()"
   ]
  },
  {
   "cell_type": "markdown",
   "metadata": {},
   "source": [
    "**The ECDFs show a pretty clear difference between the treatment and control; treated bees have fewer alive sperm. Let's now do a hypothesis test in the next exercise.**"
   ]
  },
  {
   "cell_type": "markdown",
   "metadata": {},
   "source": [
    "#### Bootstrap hypothesis test on bee sperm counts\n",
    "\n",
    "Now, you will test the following hypothesis: On average, male bees treated with neonicotinoid insecticide have the same number of active sperm per milliliter of semen than do untreated male bees. You will use the difference of means as your test statistic.\n",
    "\n",
    "For your reference, the call signature for the `draw_bs_reps()` function [you wrote in chapter 2](#def-draw_bs_reps) is `draw_bs_reps(data, func, size=1)`.\n",
    "\n",
    "**Instructions**\n",
    "\n",
    "- Compute the mean alive sperm count of `control` minus that of `treated`.\n",
    "- Compute the mean of all alive sperm counts. To do this, first concatenate `control` and `treated` and take the mean of the concatenated array.\n",
    "- Generate shifted data sets for both `control` and `treated` such that the shifted data sets have the same mean.\n",
    "- Generate 10,000 bootstrap replicates of the mean each for the two shifted arrays. Use your `draw_bs_reps()` function.\n",
    "- Compute the bootstrap replicates of the difference of means.\n",
    "- Compute and print the p-value."
   ]
  },
  {
   "cell_type": "code",
   "execution_count": null,
   "metadata": {},
   "outputs": [],
   "source": [
    "# Compute the difference in mean sperm count: diff_means\n",
    "diff_means = diff_of_means(control, treated)\n",
    "\n",
    "# Compute mean of pooled data: mean_count\n",
    "mean_count = np.mean(np.concatenate((control, treated)))\n",
    "\n",
    "# Generate shifted data sets\n",
    "control_shifted = control - np.mean(control) + mean_count\n",
    "treated_shifted = treated - np.mean(treated) + mean_count\n",
    "\n",
    "# Generate bootstrap replicates\n",
    "bs_reps_control = draw_bs_reps(control_shifted, np.mean, size=10000)\n",
    "bs_reps_treated = draw_bs_reps(treated_shifted, np.mean, size=10000)\n",
    "\n",
    "# Get replicates of difference of means: bs_replicates\n",
    "bs_replicates = bs_reps_control - bs_reps_treated\n",
    "\n",
    "# Compute and print p-value: p\n",
    "p = np.sum(bs_replicates >= diff_means) / len(bs_replicates)\n",
    "print('p-value =', p)"
   ]
  },
  {
   "cell_type": "markdown",
   "metadata": {},
   "source": [
    "**The p-value is small, most likely less than 0.0001, since you never saw a bootstrap replicated with a difference of means at least as extreme as what was observed. In fact, when I did the calculation with 10 million replicates, I got a p-value of 2e-05.**"
   ]
  },
  {
   "cell_type": "code",
   "execution_count": null,
   "metadata": {},
   "outputs": [],
   "source": [
    "# Compute x,y values for ECDFs\n",
    "x_control, y_control = ecdf(control_shifted)\n",
    "x_treated, y_treated = ecdf(treated_shifted)\n",
    "\n",
    "# Plot the ECDFs\n",
    "plt.plot(x_control, y_control, marker='.', linestyle='none', color='b', label='shifted control ecdf')\n",
    "plt.plot(x_treated, y_treated, marker='.', linestyle='none', color='g', label='shifted treated ecdf')\n",
    "plt.axvline(np.mean(control_shifted), color='b', linestyle='--', label=f'shifted control mean: {np.mean(control_shifted):0.02f}')\n",
    "plt.axvline(np.mean(treated_shifted), color='g', linestyle='--', label=f'shifted treated mean: {np.mean(treated_shifted):0.02f}')\n",
    "\n",
    "# Set the margins\n",
    "plt.margins(0.02)\n",
    "\n",
    "# Add a legend\n",
    "plt.legend(loc=7)\n",
    "\n",
    "# Label axes and show plot\n",
    "plt.title('ECDF of Shifted Control & Treatment Means')\n",
    "plt.xlabel('millions of alive sperm per mL')\n",
    "plt.ylabel('ECDF')\n",
    "plt.show()"
   ]
  },
  {
   "cell_type": "code",
   "execution_count": null,
   "metadata": {},
   "outputs": [],
   "source": [
    "sns.histplot(bs_replicates, kde=True)\n",
    "plt.axvline(diff_means, linestyle='--', color='firebrick', label=f'Observed diff mean: {diff_means:0.02f}')\n",
    "plt.title('Bootstrap Replicates of Difference of Means\\nControl & Treated Mean Shifted to Mean of Combined Data')\n",
    "plt.xlabel('Difference of Shifted Means')\n",
    "plt.ylabel('Probability Under Null Hypothesis')\n",
    "plt.legend()\n",
    "plt.show()"
   ]
  },
  {
   "cell_type": "markdown",
   "metadata": {},
   "source": [
    "## Case study\n",
    "\n",
    "Every year for the past 40-plus years, Peter and Rosemary Grant have gone to the Galápagos island of Daphne Major and collected data on Darwin's finches. Using your skills in statistical inference, you will spend this chapter with their data, and witness first hand, through data, evolution in action. It's an exhilarating way to end the course!"
   ]
  },
  {
   "cell_type": "markdown",
   "metadata": {},
   "source": [
    "### Finch beaks and the need for statistics\n",
    "\n",
    "**Your well-equipped toolbox**\n",
    "\n",
    "- Graphical and quantitative EDA\n",
    "- Parameter estimation\n",
    "  - You know how to think probabilistically and infer values and confidence intervals for parameters\n",
    "- Confidence interval calculation\n",
    "- Hypothesis testing\n",
    "  - You know how to formulate a hypothesis and use your data, and Python, to test it\n",
    "\n",
    "**Darwin and the Finches**\n",
    "\n",
    "- You may know that many of the important observations that lead Charles Darwin to develop the theory of evolution were made in the Galápagos archipelago, particularly in the study of the small birds, called finches, that inhabit them.\n",
    "- The islandas are ideal for studying evolution because they are isolated so the do not have complicated effects from interactions with other species, including humans.\n",
    "- Furthermore, some of them are small, so entire populations can be monitored on a given island.\n",
    "- Every year sinces 1973, Peter and Rosemary Grant of Princeton University have been spending several months of the year on the tiny volcanic cinder cone island of Daphne Major.\n",
    "- This island has two dominant ground finch species, Geospiza fortis and Geospiza scandens.\n",
    "- The Grants have monitored them every year, tagging them, making physiological measurements, taking samples for genetic sequencing, and more.\n",
    "- In 2014, they published a book, _40 Years of Evolution: Darwin's Finches on Daphne Major Island_.\n",
    "- They generously placed all of their data on the Dryad data repository making it free for anyone to use.\n",
    "  - [Data from: 40 years of evolution. Darwin's finches on Daphne Major Island](https://datadryad.org/stash/dataset/doi:10.5061/dryad.g6g3h)\n",
    "- The data set is impressive and a great set for using data science and statistical inference to learn about evolution.\n",
    "\n",
    "**Investigations**\n",
    "\n",
    "- This section will work with the Grants' measurements of the beak length and beak depth.\n",
    "- You will consider different aspects of the beak geometry, including how it varies over time, from species to species, and from parents to offspring.\n",
    "- For the first analysis, you will investigate how the beak depth of Geospiza scandens has changed over time.\n",
    "  - You will start with some exploratory analysis of the measurements of these species from 1975 and 2012.\n",
    "- You will then perform a parameter estimation, with confidence intervals, of mean beak depth fro those respective years.\n",
    "- Finally, you will do a hypothesis test investigating if the mean beak depth has changed from 1975 to 2012."
   ]
  },
  {
   "cell_type": "markdown",
   "metadata": {},
   "source": [
    "#### EDA of beak depths of Darwin's finches\n",
    "\n",
    "For your first foray into the Darwin finch data, you will study how the beak depth (the distance, top to bottom, of a closed beak) of the finch species _Geospiza scandens_ has changed over time. The Grants have noticed some changes of beak geometry depending on the types of seeds available on the island, and they also noticed that there was some interbreeding with another major species on Daphne Major, _Geospiza fortis_. These effects can lead to changes in the species over time.\n",
    "\n",
    "In the next few problems, you will look at the beak depth of _G. scandens_ on Daphne Major in 1975 and in 2012. To start with, let's plot all of the beak depth measurements in 1975 and 2012 in a bee swarm plot.\n",
    "\n",
    "The data are stored in a pandas DataFrame called `df` with columns `'year'` and `'beak_depth'`. The units of beak depth are millimeters (mm).\n",
    "\n",
    "**Instructions**\n",
    "\n",
    "- Create the beeswarm plot.\n",
    "- Label the axes.\n",
    "- Show the plot."
   ]
  },
  {
   "cell_type": "code",
   "execution_count": null,
   "metadata": {},
   "outputs": [],
   "source": [
    "finch.species.unique()"
   ]
  },
  {
   "cell_type": "code",
   "execution_count": null,
   "metadata": {},
   "outputs": [],
   "source": [
    "sns.swarmplot(data=finch[finch.species == 'scandens'], x='year', y='beak_depth')\n",
    "plt.xlabel('year')\n",
    "plt.ylabel('beak depth (mm)')\n",
    "plt.show()"
   ]
  },
  {
   "cell_type": "markdown",
   "metadata": {},
   "source": [
    "**It is kind of hard to see if there is a clear difference between the 1975 and 2012 data set. Eyeballing it, it appears as though the mean of the 2012 data set might be slightly higher, and it might have a bigger variance.**"
   ]
  },
  {
   "cell_type": "markdown",
   "metadata": {},
   "source": [
    "#### ECDFs of beak depths\n",
    "\n",
    "While bee swarm plots are useful, we found that ECDFs are often even better when doing EDA. Plot the ECDFs for the 1975 and 2012 beak depth measurements on the same plot.\n",
    "\n",
    "For your convenience, the beak depths for the respective years has been stored in the NumPy arrays `bd_1975` and `bd_2012`.\n",
    "\n",
    "**Instructions**\n",
    "\n",
    "- Compute the ECDF for the 1975 and 2012 data.\n",
    "- Plot the two ECDFs.\n",
    "- Set a 2% margin and add axis labels and a legend to the plot."
   ]
  },
  {
   "cell_type": "code",
   "execution_count": null,
   "metadata": {},
   "outputs": [],
   "source": [
    "bd_1975 = finch_1975.beak_depth[finch_1975.species == 'scandens'].values\n",
    "bd_2012 = finch_2012.beak_depth[finch_2012.species == 'scandens'].values"
   ]
  },
  {
   "cell_type": "code",
   "execution_count": null,
   "metadata": {},
   "outputs": [],
   "source": [
    "# Compute ECDFs\n",
    "x_1975, y_1975 = ecdf(bd_1975)\n",
    "x_2012, y_2012 = ecdf(bd_2012)\n",
    "\n",
    "# Plot the ECDFs\n",
    "plt.scatter(x_1975, y_1975, marker='.', s=10)\n",
    "plt.scatter(x_2012, y_2012, marker='.', s=10)\n",
    "\n",
    "# Set the margins\n",
    "plt.margins(0.02)\n",
    "\n",
    "# Add axis labels and legend\n",
    "plt.xlabel('beak depth (mm)')\n",
    "plt.ylabel('ECDF')\n",
    "plt.legend(('1975', '2012'), loc='lower right')\n",
    "\n",
    "# Show the plot\n",
    "plt.show()"
   ]
  },
  {
   "cell_type": "markdown",
   "metadata": {},
   "source": [
    "**The differences are much clearer in the ECDF. The mean is larger in the 2012 data, and the variance does appear larger as well.**"
   ]
  },
  {
   "cell_type": "code",
   "execution_count": null,
   "metadata": {},
   "outputs": [],
   "source": [
    "# seaborn 0.11 can do the same thing from one dataframe and no separate function\n",
    "sns.ecdfplot(data=finch[finch.species == 'scandens'], x='beak_depth', hue='year')"
   ]
  },
  {
   "cell_type": "markdown",
   "metadata": {},
   "source": [
    "### Parameter estimates of beak depths\n",
    "\n",
    "Estimate the _difference_ of the mean beak depth of the _G. scandens_ samples from 1975 and 2012 and report a 95% confidence interval.\n",
    "\n",
    "Since in this exercise you will use the `draw_bs_reps()` function you wrote in chapter 2, it may be helpful to [refer back to it](#def-draw_bs_reps).\n",
    "\n",
    "**Instructions**\n",
    "\n",
    "- Compute the difference of the sample means.\n",
    "- Take 10,000 bootstrap replicates of the mean for the 1975 beak depths using your _draw_bs_reps()_ function. Also get 10,000 bootstrap replicates of the mean for the 2012 beak depths.\n",
    "- Subtract the 1975 replicates from the 2012 replicates to get bootstrap replicates of the difference of means.\n",
    "- Use the replicates to compute the 95% confidence interval."
   ]
  },
  {
   "cell_type": "code",
   "execution_count": null,
   "metadata": {},
   "outputs": [],
   "source": [
    "# Compute the difference of the sample means: mean_diff\n",
    "mean_diff = np.mean(bd_2012) - np.mean(bd_1975)\n",
    "\n",
    "# Get bootstrap replicates of means\n",
    "bs_replicates_1975 = draw_bs_reps(bd_1975, np.mean, size=10000)\n",
    "bs_replicates_2012 = draw_bs_reps(bd_2012, np.mean, size=10000)\n",
    "\n",
    "# Compute samples of difference of means: bs_diff_replicates\n",
    "bs_diff_replicates = bs_replicates_2012 - bs_replicates_1975\n",
    "\n",
    "# Compute 95% confidence interval: conf_int\n",
    "conf_int = np.percentile(bs_diff_replicates, [2.5, 97.5])\n",
    "\n",
    "# Print the results\n",
    "print(f'difference of means: {mean_diff} mm')\n",
    "print(f'95% confidence interval: {conf_int} mm')"
   ]
  },
  {
   "cell_type": "markdown",
   "metadata": {},
   "source": [
    "#### Hypothesis test: Are beaks deeper in 2012?\n",
    "\n",
    "Your plot of the ECDF and determination of the confidence interval make it pretty clear that the beaks of _G. scandens_ on Daphne Major have gotten deeper. But is it possible that this effect is just due to random chance? In other words, what is the probability that we would get the observed difference in mean beak depth if the means were the same?\n",
    "\n",
    "Be careful! The hypothesis we are testing is not that the beak depths come from the same distribution. For that we could use a permutation test. The hypothesis is that the means are equal. To perform this hypothesis test, we need to shift the two data sets so that they have the same mean and then use bootstrap sampling to compute the difference of means.\n",
    "\n",
    "**Instructions**\n",
    "\n",
    "- Make a concatenated array of the 1975 and 2012 beak depths and compute and store its mean.\n",
    "- Shift `bd_1975` and `bd_2012` such that their means are equal to the one you just computed for the combined data set.\n",
    "- Take 10,000 bootstrap replicates of the mean each for the 1975 and 2012 beak depths.\n",
    "- Subtract the 1975 replicates from the 2012 replicates to get bootstrap replicates of the difference.\n",
    "- Compute and print the p-value. The observed difference in means you computed in the last exercise is still in your namespace as `mean_diff`."
   ]
  },
  {
   "cell_type": "code",
   "execution_count": null,
   "metadata": {},
   "outputs": [],
   "source": [
    "# Compute mean of combined data set: combined_mean\n",
    "combined_mean = np.mean(np.concatenate((bd_1975, bd_2012)))\n",
    "\n",
    "# Shift the samples\n",
    "bd_1975_shifted = bd_1975 - np.mean(bd_1975) + combined_mean\n",
    "bd_2012_shifted = bd_2012 - np.mean(bd_2012) + combined_mean\n",
    "\n",
    "# Get bootstrap replicates of shifted data sets\n",
    "bs_replicates_1975 = draw_bs_reps(bd_1975_shifted, np.mean, size=10000)\n",
    "bs_replicates_2012 = draw_bs_reps(bd_2012_shifted, np.mean, size=10000)\n",
    "\n",
    "# Compute replicates of difference of means: bs_diff_replicates\n",
    "bs_diff_replicates = bs_replicates_2012 - bs_replicates_1975\n",
    "\n",
    "# Compute the p-value\n",
    "p = np.sum(bs_diff_replicates >= mean_diff) / len(bs_diff_replicates)\n",
    "\n",
    "# Print p-value\n",
    "print(f'p: {p}')"
   ]
  },
  {
   "cell_type": "markdown",
   "metadata": {},
   "source": [
    "- **We get a p-value of 0.0034, which suggests that there is a statistically significant difference. But remember: it is very important to know how different they are! In the previous exercise, you got a difference of 0.2 mm between the means. You should combine this with the statistical significance. Changing by 0.2 mm in 37 years is substantial by evolutionary standards. If it kept changing at that rate, the beak depth would double in only 400 years.**"
   ]
  },
  {
   "cell_type": "code",
   "execution_count": null,
   "metadata": {},
   "outputs": [],
   "source": [
    "sns.ecdfplot(data=bs_replicates_1975, label='1975')\n",
    "sns.ecdfplot(data=bs_replicates_2012, label='2012')\n",
    "plt.legend(title='year')\n",
    "plt.xlabel('beak depth (mm)')\n",
    "plt.title('ECDF of Replicates with Shifted Mean')\n",
    "plt.show()"
   ]
  },
  {
   "cell_type": "markdown",
   "metadata": {},
   "source": [
    "### Variation in beak shapes\n",
    "\n",
    "- You just determined that the beak depth of _Geospiza scandens_ changed over the course of 37 years.\n",
    "- There are a few hypotheses as to why this is the case.\n",
    "- One reason may be a drought in 1976 and 1977 that resulted in the death of the plants that produce small seeds on the island.\n",
    "- The larger seeds required deeper beaks to crack them, so large-beaked birds survived and then reproduced.\n",
    "- If this is the case, it stands to reason that the length of the beak might also change over time.\n",
    "- Importantly, if the length and depth change at the same rate, the beak has the same shape; it just gets bigger.\n",
    "- But if the beak length and beak depth change differently, the shape of the beak changes.\n",
    "- In the next few exercises, you will investigate how beak length and depth change together.\n",
    "- This means it's time for some linear regression.\n",
    "- As a hint, the `draw_bs_pairs_linreg` function you wrote, will be helpful in computing confidence intervals for you linear regression parameters."
   ]
  },
  {
   "cell_type": "markdown",
   "metadata": {},
   "source": [
    "#### EDA of beak length and depth\n",
    "\n",
    "The beak length data are stored as `bl_1975` and `bl_2012`, again with units of millimeters (mm). You still have the beak depth data stored in `bd_1975` and `bd_2012`. Make scatter plots of beak depth (y-axis) versus beak length (x-axis) for the 1975 and 2012 specimens.\n",
    "\n",
    "**Instructions**\n",
    "\n",
    "- Make a scatter plot of the 1975 data. Use the `color='blue'` keyword argument. Also use an `alpha=0.5` keyword argument to have transparency in case data points overlap.\n",
    "- Do the same for the 2012 data, but use the `color='red'` keyword argument.\n",
    "- Add a legend and label the axes.\n",
    "- Show your plot."
   ]
  },
  {
   "cell_type": "code",
   "execution_count": null,
   "metadata": {},
   "outputs": [],
   "source": [
    "bl_1975 = finch_1975.beak_length[finch_1975.species == 'scandens'].values\n",
    "bl_2012 = finch_2012.beak_length[finch_2012.species == 'scandens'].values"
   ]
  },
  {
   "cell_type": "code",
   "execution_count": null,
   "metadata": {},
   "outputs": [],
   "source": [
    "# Make scatter plot of 1975 data\n",
    "plt.scatter(bl_1975, bd_1975, marker='.', linestyle='None', color='blue', alpha=0.5)\n",
    "\n",
    "# Make scatter plot of 2012 data\n",
    "plt.scatter(bl_2012, bd_2012, marker='.', linestyle='None', color='red', alpha=0.5)\n",
    "\n",
    "# Label axes and make legend\n",
    "plt.xlabel('beak length (mm)')\n",
    "plt.ylabel('beak depth (mm)')\n",
    "plt.legend(('1975', '2012'), loc='upper left')\n",
    "\n",
    "# Show the plot\n",
    "plt.show()"
   ]
  },
  {
   "cell_type": "markdown",
   "metadata": {},
   "source": [
    "**Great work! In looking at the plot, we see that beaks got deeper (the red points are higher up in the y-direction), but not really longer. If anything, they got a bit shorter, since the red dots are to the left of the blue dots. So, it does not look like the beaks kept the same shape; they became shorter and deeper.**"
   ]
  },
  {
   "cell_type": "markdown",
   "metadata": {},
   "source": [
    "#### Linear regressions\n",
    "Perform a linear regression for both the 1975 and 2012 data. Then, perform pairs bootstrap estimates for the regression parameters. Report 95% confidence intervals on the slope and intercept of the regression line.\n",
    "\n",
    "You will use the `draw_bs_pairs_linreg()` function you [wrote back in chapter 2](#def-draw_bs_pairs_linreg).\n",
    "\n",
    "As a reminder, its call signature is `draw_bs_pairs_linreg(x, y, size=1)`, and it returns `bs_slope_reps` and `bs_intercept_reps`. The beak length data are stored as `bl_1975` and `bl_2012`, and the beak depth data is stored in `bd_1975` and `bd_2012`.\n",
    "\n",
    "**Instructions**\n",
    "\n",
    "- Compute the slope and intercept for both the 1975 and 2012 data sets.\n",
    "- Obtain 1000 pairs bootstrap samples for the linear regressions using your `draw_bs_pairs_linreg()` function.\n",
    "- Compute 95% confidence intervals for the slopes and the intercepts."
   ]
  },
  {
   "cell_type": "code",
   "execution_count": null,
   "metadata": {},
   "outputs": [],
   "source": [
    "# Compute the linear regressions\n",
    "slope_1975, intercept_1975 = np.polyfit(bl_1975, bd_1975, deg=1)\n",
    "slope_2012, intercept_2012 = np.polyfit(bl_2012, bd_2012, deg=1)\n",
    "\n",
    "# Perform pairs bootstrap for the linear regressions\n",
    "bs_slope_reps_1975, bs_intercept_reps_1975 = draw_bs_pairs_linreg(bl_1975, bd_1975, size=1000)\n",
    "bs_slope_reps_2012, bs_intercept_reps_2012 = draw_bs_pairs_linreg(bl_2012, bd_2012, size=1000)\n",
    "\n",
    "# Compute confidence intervals of slopes\n",
    "slope_conf_int_1975 = np.percentile(bs_slope_reps_1975, [2.5, 97.5])\n",
    "slope_conf_int_2012 = np.percentile(bs_slope_reps_2012, [2.5, 97.5])\n",
    "intercept_conf_int_1975 = np.percentile(bs_intercept_reps_1975, [2.5, 97.5])\n",
    "intercept_conf_int_2012 = np.percentile(bs_intercept_reps_2012, [2.5, 97.5])\n",
    "\n",
    "# Print the results\n",
    "print(f'1975: slope: {slope_1975:0.2f} conf int: {np.round(slope_conf_int_1975, 2)}')\n",
    "print(f'1975: intercept: {intercept_1975:0.2f} conf int: {np.round(intercept_conf_int_1975, 2)}')\n",
    "print(f'2012: slope: {slope_2012:0.2f} conf int: {np.round(slope_conf_int_2012, 2)}')\n",
    "print(f'2012: intercept: {intercept_2012:0.2f} conf int: {np.round(intercept_conf_int_2012, 2)}')"
   ]
  },
  {
   "cell_type": "markdown",
   "metadata": {},
   "source": [
    "#### Displaying the linear regression results\n",
    "\n",
    "Now, you will display your linear regression results on the scatter plot, the code for which is already pre-written for you from your previous exercise. To do this, take the first 100 bootstrap samples (stored in `bs_slope_reps_1975`, `bs_intercept_reps_1975`, `bs_slope_reps_2012`, and `bs_intercept_reps_2012`) and plot the lines with `alpha=0.2` and `linewidth=0.5` keyword arguments to `plt.plot()`.\n",
    "\n",
    "**Instructions**\n",
    "\n",
    "- Generate the x-values for the bootstrap lines using `np.array()`. They should consist of 10 mm and 17 mm.\n",
    "- Write a `for` loop to plot 100 of the bootstrap lines for the 1975 and 2012 data sets. The lines for the 1975 data set should be `'blue'` and those for the 2012 data set should be `'red'`."
   ]
  },
  {
   "cell_type": "code",
   "execution_count": null,
   "metadata": {},
   "outputs": [],
   "source": [
    "# Make scatter plot of 1975 data\n",
    "plt.plot(bl_1975, bd_1975, marker='.', linestyle='none', color='blue', alpha=0.5)\n",
    "\n",
    "# Make scatter plot of 2012 data\n",
    "plt.plot(bl_2012, bd_2012, marker='.', linestyle='none', color='red', alpha=0.5)\n",
    "\n",
    "# Label axes and make legend\n",
    "plt.xlabel('beak length (mm)')\n",
    "plt.ylabel('beak depth (mm)')\n",
    "plt.legend(('1975', '2012'), loc='upper left')\n",
    "\n",
    "# Generate x-values for bootstrap lines: x\n",
    "x = np.array([10, 17])\n",
    "\n",
    "# Plot the bootstrap lines\n",
    "for i in range(100):\n",
    "    plt.plot(x, bs_slope_reps_1975[i]*x + bs_intercept_reps_1975[i], linewidth=0.5, alpha=0.2, color='blue')\n",
    "    plt.plot(x, bs_slope_reps_2012[i]*x + bs_intercept_reps_2012[i], linewidth=0.5, alpha=0.2, color='red')\n",
    "\n",
    "# Draw the plot again\n",
    "plt.show()"
   ]
  },
  {
   "cell_type": "markdown",
   "metadata": {},
   "source": [
    "#### Beak length to depth ratio\n",
    "The linear regressions showed interesting information about the beak geometry. The slope was the same in 1975 and 2012, suggesting that for every millimeter gained in beak length, the birds gained about half a millimeter in depth in both years. However, if we are interested in the shape of the beak, we want to compare the ratio of beak length to beak depth. Let's make that comparison.\n",
    "\n",
    "Remember, the data are stored in `bd_1975`, `bd_2012`, `bl_1975`, and `bl_2012`.\n",
    "\n",
    "**Instructions**\n",
    "\n",
    "- Make arrays of the beak length to depth ratio of each bird for 1975 and for 2012.\n",
    "- Compute the mean of the length to depth ratio for 1975 and for 2012.\n",
    "- Generate 10,000 bootstrap replicates each for the mean ratio for 1975 and 2012 using your `draw_bs_reps()` function.\n",
    "- Get a 99% bootstrap confidence interval for the length to depth ratio for 1975 and 2012.\n",
    "- Print the results."
   ]
  },
  {
   "cell_type": "code",
   "execution_count": null,
   "metadata": {},
   "outputs": [],
   "source": [
    "# Compute length-to-depth ratios\n",
    "ratio_1975 = bl_1975 / bd_1975\n",
    "ratio_2012 = bl_2012 / bd_2012\n",
    "\n",
    "# Compute means\n",
    "mean_ratio_1975 = np.mean(ratio_1975)\n",
    "mean_ratio_2012 = np.mean(ratio_2012)\n",
    "\n",
    "# Generate bootstrap replicates of the means\n",
    "bs_replicates_1975 = draw_bs_reps(ratio_1975, np.mean, size=10000)\n",
    "bs_replicates_2012 = draw_bs_reps(ratio_2012, np.mean, size=10000)\n",
    "\n",
    "# Compute the 99% confidence intervals\n",
    "conf_int_1975 = np.percentile(bs_replicates_1975, [0.5, 99.5])\n",
    "conf_int_2012 = np.percentile(bs_replicates_2012, [0.5, 99.5])\n",
    "\n",
    "# Print the results\n",
    "print(f'1975: mean ratio: {mean_ratio_1975:0.2f} conf int: {np.round(conf_int_1975, 2)}')\n",
    "print(f'2012: mean ratio: {mean_ratio_2012:0.2f} conf int: {np.round(conf_int_2012, 2)}')"
   ]
  },
  {
   "cell_type": "markdown",
   "metadata": {},
   "source": [
    "#### How different is the ratio?\n",
    "In the previous exercise, you computed the mean beak length to depth ratio with 99% confidence intervals for 1975 and for 2012. The results of that calculation are shown graphically in the plot accompanying this problem. In addition to these results, what would you say about the ratio of beak length to depth?\n",
    "\n",
    "**Instructions**\n",
    "\n",
    "- **The mean beak length-to-depth ratio decreased by about 0.1, or 7%, from 1975 to 2012. The 99% confidence intervals are not even close to overlapping, so this is a real change. The beak shape changed.**\n",
    "- ~~It is impossible to say if this is a real effect or just due to noise without computing a p-value. Let me compute the p-value and get back to you.~~"
   ]
  },
  {
   "cell_type": "code",
   "execution_count": null,
   "metadata": {},
   "outputs": [],
   "source": [
    "plt.figure(figsize=(6, 4))\n",
    "sns.scatterplot(x=[mean_ratio_1975, mean_ratio_2012], y=['1975', '2012'])\n",
    "plt.hlines(y=['1975', '2012'], xmin=[conf_int_1975[0], conf_int_2012[0]], xmax=[conf_int_1975[1], conf_int_2012[1]])\n",
    "plt.xlabel('beak length / beak depth')\n",
    "plt.show()"
   ]
  },
  {
   "cell_type": "markdown",
   "metadata": {},
   "source": [
    "### Calculation of heritability\n",
    "\n",
    "- What's causing the beaks of _Geospiza scandens_ to get bigger over time?\n",
    "- I mentioned the selective pressure brought on by the drought.\n",
    "- But why do some birds have such large beaks to begin with?\n",
    "- A prevailing explanation is that _scandens_ birds are mating with the other major finch species on Daphne Major, _Geospiza fortis_.\n",
    "- These hybrid birds then mate with pure _scandens_, in a process called [introgressive hybridization](https://en.wikipedia.org/wiki/Introgression), which can bring _fortix_ characteristics into the _scandens_ species.\n",
    "- This is very similar to what likely [happened to humans](https://en.wikipedia.org/wiki/Interbreeding_between_archaic_and_modern_humans) when they encountered [neanderthals](https://en.wikipedia.org/wiki/Neanderthal).\n",
    "- In order to assess the viability of the explanation, we need to know how strongly parental traits are passed to offspring.\n",
    "- In this last set of exercises, we will investigate the extent to which parental beak depth is inherited by offspring in both _scandens_ and _fortis_.\n",
    "- You are applying your new statistical skills to a real, fundamental, scientific problem."
   ]
  },
  {
   "cell_type": "code",
   "execution_count": null,
   "metadata": {},
   "outputs": [],
   "source": [
    "fortis_parent_offspr = pd.read_csv(data_paths[5])  # has separate male/female measurements\n",
    "fortis_parent_offspr['mid_parent'] = fortis_parent_offspr.iloc[:, 1:].mean(axis=1)\n",
    "scandens_parent_offspr = pd.read_csv(data_paths[8])  # has mean of male/female measurements\n",
    "\n",
    "bd_parent_fortis = fortis_parent_offspr['mid_parent'].values\n",
    "bd_offspring_fortis = fortis_parent_offspr['Mid-offspr'].values\n",
    "bd_parent_scandens = scandens_parent_offspr['mid_parent'].values\n",
    "bd_offspring_scandens = scandens_parent_offspr['mid_offspring'].values"
   ]
  },
  {
   "cell_type": "markdown",
   "metadata": {},
   "source": [
    "#### EDA of heritability\n",
    "\n",
    "The array `bd_parent_scandens` contains the average beak depth (in mm) of two parents of the species _G. scandens_. The array `bd_offspring_scandens` contains the average beak depth of the offspring of the respective parents. The arrays `bd_parent_fortis` and `bd_offspring_fortis` contain the same information about measurements from _G. fortis_ birds.\n",
    "\n",
    "Make a scatter plot of the average offspring beak depth (y-axis) versus average parental beak depth (x-axis) for both species. Use the `alpha=0.5` keyword argument to help you see overlapping points.\n",
    "\n",
    "**Instructions**\n",
    "\n",
    "- Generate scatter plots for both species. Display the data for _G. fortis_ in blue and _G. scandens_ in red.\n",
    "- Set the axis labels, make a legend, and show the plot."
   ]
  },
  {
   "cell_type": "code",
   "execution_count": null,
   "metadata": {},
   "outputs": [],
   "source": [
    "# Make scatter plots\n",
    "plt.scatter(bd_parent_fortis, bd_offspring_fortis, s=10, color='blue', alpha=0.5)\n",
    "plt.scatter(bd_parent_scandens, bd_offspring_scandens, s=10, color='red', alpha=0.5)\n",
    "\n",
    "# Label axes\n",
    "plt.xlabel('parental beak depth (mm)')\n",
    "plt.ylabel('offspring beak depth (mm)')\n",
    "\n",
    "# Add legend\n",
    "plt.legend(('G. fortis', 'G. scandens'), loc='lower right')\n",
    "\n",
    "# Show plot\n",
    "plt.show()"
   ]
  },
  {
   "cell_type": "markdown",
   "metadata": {},
   "source": [
    "**It appears as though there is a stronger correlation in _G. fortis_ than in _G. scandens_. This suggests that beak depth is more strongly inherited in _G. fortis_. We'll quantify this correlation next.**"
   ]
  },
  {
   "cell_type": "code",
   "execution_count": null,
   "metadata": {},
   "outputs": [],
   "source": [
    "fortis_parent_offspr[['Mid-offspr', 'mid_parent']].corr()"
   ]
  },
  {
   "cell_type": "code",
   "execution_count": null,
   "metadata": {},
   "outputs": [],
   "source": [
    "scandens_parent_offspr.corr()"
   ]
  },
  {
   "cell_type": "markdown",
   "metadata": {},
   "source": [
    "#### Correlation of offspring and parental data\n",
    "\n",
    "In an effort to quantify the correlation between offspring and parent beak depths, we would like to compute statistics, such as the Pearson correlation coefficient, between parents and offspring. To get confidence intervals on this, we need to do a pairs bootstrap.\n",
    "\n",
    "You have [already written](#def-draw_bs_pairs_linreg) a function to do pairs bootstrap to get estimates for parameters derived from linear regression. Your task in this exercise is to make a new function with call signature `draw_bs_pairs(x, y, func, size=1)` that performs pairs bootstrap and computes a single statistic on pairs samples defined. The statistic of interest is computed by calling `func(bs_x, bs_y)`. In the next exercise, you will use `pearson_r` for func.\n",
    "\n",
    "**Instructions**\n",
    "\n",
    "- Set up an array of indices to sample from. (Remember, when doing pairs bootstrap, we randomly choose indices and use those to get the pairs.)\n",
    "- Initialize the array of bootstrap replicates. This should be a one-dimensional array of length `size`.\n",
    "- Write a `for` loop to draw the samples.\n",
    "- Randomly choose indices from the array of indices you previously set up.\n",
    "- Extract `x` values and `y` values from the input array using the indices you just chose to generate a bootstrap sample.\n",
    "- Use `func` to compute the statistic of interest from the bootstrap samples of `x` and `y` and store it in your array of bootstrap replicates.\n",
    "- Return the array of bootstrap replicates."
   ]
  },
  {
   "cell_type": "markdown",
   "metadata": {},
   "source": [
    "#### `def draw_bs_pairs`"
   ]
  },
  {
   "cell_type": "code",
   "execution_count": null,
   "metadata": {},
   "outputs": [],
   "source": [
    "def draw_bs_pairs(x, y, func, size=1):\n",
    "    \"\"\"Perform pairs bootstrap for a single statistic.\"\"\"\n",
    "\n",
    "    # Set up array of indices to sample from: inds\n",
    "    inds = np.arange(len(x))\n",
    "\n",
    "    # Initialize replicates: bs_replicates\n",
    "    bs_replicates = np.empty(size)\n",
    "\n",
    "    # Generate replicates\n",
    "    for i in range(size):\n",
    "        bs_inds = np.random.choice(inds, size=len(inds))\n",
    "        bs_x, bs_y = x[bs_inds], y[bs_inds]\n",
    "        bs_replicates[i] = func(bs_x, bs_y)\n",
    "\n",
    "    return bs_replicates"
   ]
  },
  {
   "cell_type": "markdown",
   "metadata": {},
   "source": [
    "#### Pearson correlation of offspring and parental data\n",
    "\n",
    "The Pearson correlation coefficient seems like a useful measure of how strongly the beak depth of parents are inherited by their offspring. Compute the Pearson correlation coefficient between parental and offspring beak depths for _G. scandens_. Do the same for _G. fortis_. Then, use the function you wrote in the last exercise to compute a 95% confidence interval using pairs bootstrap.\n",
    "\n",
    "Remember, the data are stored in `bd_parent_scandens`, `bd_offspring_scandens`, `bd_parent_fortis`, and `bd_offspring_fortis`.\n",
    "\n",
    "**Instructions**\n",
    "\n",
    "- Use the [`pearson_r()`](#def-pearson) function to compute the Pearson correlation coefficient for _G. scandens_ and _G. fortis_.\n",
    "- Acquire 1000 pairs bootstrap replicates of the Pearson correlation coefficient using the `draw_bs_pairs()` function you wrote in the previous exercise for _G. scandens_ and _G. fortis_.\n",
    "- Compute the 95% confidence interval for both using your bootstrap replicates."
   ]
  },
  {
   "cell_type": "code",
   "execution_count": null,
   "metadata": {},
   "outputs": [],
   "source": [
    "# Compute the Pearson correlation coefficients\n",
    "r_scandens = pearson_r(bd_parent_scandens, bd_offspring_scandens)\n",
    "r_fortis = pearson_r(bd_parent_fortis, bd_offspring_fortis)\n",
    "\n",
    "# Acquire 1000 bootstrap replicates of Pearson r\n",
    "bs_replicates_scandens = draw_bs_pairs(bd_parent_scandens, bd_offspring_scandens, pearson_r, size=1000)\n",
    "bs_replicates_fortis = draw_bs_pairs(bd_parent_fortis, bd_offspring_fortis, pearson_r, size=1000)\n",
    "\n",
    "# Compute 95% confidence intervals\n",
    "conf_int_scandens = np.percentile(bs_replicates_scandens, [2.5, 97.5])\n",
    "conf_int_fortis = np.percentile(bs_replicates_fortis, [2.5, 97.5])\n",
    "\n",
    "# Print results\n",
    "print(f'G. scandens: {r_scandens:0.2f}, {np.round(conf_int_scandens, 2)}')\n",
    "print(f'G. fortis: {r_fortis:0.2f}, {np.round(conf_int_fortis, 2)}')"
   ]
  },
  {
   "cell_type": "markdown",
   "metadata": {},
   "source": [
    "**It is clear from the confidence intervals that beak depth of the offspring of _G. fortis_ parents is more strongly correlated with their offspring than their _G. scandens_ counterparts.**"
   ]
  },
  {
   "cell_type": "markdown",
   "metadata": {},
   "source": [
    "#### Measuring heritability\n",
    "\n",
    "Remember that the Pearson correlation coefficient is the ratio of the covariance to the geometric mean of the variances of the two data sets. This is a measure of the correlation between parents and offspring, but might not be the best estimate of heritability. If we stop and think, it makes more sense to define heritability as the ratio of the covariance between parent and offspring to the _variance of the parents alone_. In this exercise, you will estimate the heritability and perform a pairs bootstrap calculation to get the 95% confidence interval.\n",
    "\n",
    "This exercise highlights a very important point. Statistical inference (and data analysis in general) is not a plug-n-chug enterprise. You need to think carefully about the questions you are seeking to answer with your data and analyze them appropriately. If you are interested in how heritable traits are, the quantity we defined as the heritability is more apt than the off-the-shelf statistic, the Pearson correlation coefficient.\n",
    "\n",
    "Remember, the data are stored in `bd_parent_scandens`, `bd_offspring_scandens`, `bd_parent_fortis`, and `bd_offspring_fortis`.\n",
    "\n",
    "**Instructions**\n",
    "\n",
    "- Write a function `heritability(parents, offspring)` that computes heritability defined as the ratio of the covariance of the trait in parents and offspring divided by the variance of the trait in the parents. Hint: Remind yourself of the `np.cov()` function we covered in the prequel to this course.\n",
    "- Use this function to compute the heritability for _G. scandens_ and _G. fortis_.\n",
    "- Acquire 1000 bootstrap replicates of the heritability using pairs bootstrap for _G. scandens_ and _G. fortis_.\n",
    "- Compute the 95% confidence interval for both using your bootstrap replicates.\n",
    "- Print the results."
   ]
  },
  {
   "cell_type": "code",
   "execution_count": null,
   "metadata": {},
   "outputs": [],
   "source": [
    "def heritability(parents, offspring):\n",
    "    \"\"\"Compute the heritability from parent and offspring samples.\"\"\"\n",
    "    covariance_matrix = np.cov(parents, offspring)\n",
    "    return covariance_matrix[0, 1] / covariance_matrix[0,0]"
   ]
  },
  {
   "cell_type": "code",
   "execution_count": null,
   "metadata": {},
   "outputs": [],
   "source": [
    "# Compute the heritability\n",
    "heritability_scandens = heritability(bd_parent_scandens, bd_offspring_scandens)\n",
    "heritability_fortis = heritability(bd_parent_fortis, bd_offspring_fortis)\n",
    "\n",
    "# Acquire 1000 bootstrap replicates of heritability\n",
    "replicates_scandens = draw_bs_pairs(bd_parent_scandens, bd_offspring_scandens, heritability, size=1000)\n",
    "replicates_fortis = draw_bs_pairs(bd_parent_fortis, bd_offspring_fortis, heritability, size=1000)\n",
    "\n",
    "# Compute 95% confidence intervals\n",
    "conf_int_scandens = np.percentile(replicates_scandens, [2.5, 97.5])\n",
    "conf_int_fortis = np.percentile(replicates_fortis, [2.5, 97.5])\n",
    "\n",
    "# Print results\n",
    "print(f'G. scandens: {heritability_scandens:0.2f}, {np.round(conf_int_scandens, 2)}')\n",
    "print(f'G. fortis: {heritability_fortis:0.2f}, {np.round(conf_int_fortis, 2)}')"
   ]
  },
  {
   "cell_type": "markdown",
   "metadata": {},
   "source": [
    "**Here again, we see that `G. fortis` has stronger heritability than `G. scandens`. This suggests that the traits of `G. fortis` may be strongly incorporated into `G. scandens` by introgressive hybridization.**"
   ]
  },
  {
   "cell_type": "markdown",
   "metadata": {},
   "source": [
    "#### Is beak depth heritable at all in G. scandens?\n",
    "\n",
    "The heritability of beak depth in _G. scandens_ seems low. It could be that this observed heritability was just achieved by chance and beak depth is actually not really heritable in the species. You will test that hypothesis here. To do this, you will do a pairs permutation test.\n",
    "\n",
    "**Instructions**\n",
    "\n",
    "- Initialize your array of replicates of heritability. We will take 10,000 pairs permutation replicates.\n",
    "- Write a `for` loop to generate your replicates.\n",
    " - Permute the `bd_parent_scandens` array using `np.random.permutation()`.\n",
    " - Compute the heritability between the permuted array and the `bd_offspring_scandens` array using the `heritability(`) function you wrote in the last exercise. Store the result in the replicates array.\n",
    "- Compute the p-value as the number of replicates that are greater than the observed `heritability_scandens` you computed in the last exercise."
   ]
  },
  {
   "cell_type": "code",
   "execution_count": null,
   "metadata": {},
   "outputs": [],
   "source": [
    "# Initialize array of replicates: perm_replicates\n",
    "perm_replicates = np.empty(10000)\n",
    "\n",
    "# Draw replicates\n",
    "for i in range(10000):\n",
    "    # Permute parent beak depths\n",
    "    bd_parent_permuted = np.random.permutation(bd_parent_scandens)\n",
    "    perm_replicates[i] = heritability(bd_parent_permuted, bd_offspring_scandens)\n",
    "\n",
    "\n",
    "# Compute p-value: p\n",
    "p = np.sum(perm_replicates >= heritability_scandens) / len(perm_replicates)\n",
    "\n",
    "# Print the p-value\n",
    "print('p-val =', p)"
   ]
  },
  {
   "cell_type": "markdown",
   "metadata": {},
   "source": [
    "**You get a p-value of zero, which means that none of the 10,000 permutation pairs replicates you drew had a heritability high enough to match that which was observed. This strongly suggests that beak depth is heritable in _G. scandens_, just not as much as in _G. fortis_. If you like, you can plot a histogram of the heritability replicates to get a feel for how extreme of a value of heritability you might expect by chance.**"
   ]
  },
  {
   "cell_type": "code",
   "execution_count": null,
   "metadata": {},
   "outputs": [],
   "source": [
    "plt.hist(perm_replicates, bins=100)\n",
    "plt.show()"
   ]
  },
  {
   "cell_type": "markdown",
   "metadata": {},
   "source": [
    "## Certificate\n",
    "\n",
    "![](https://raw.githubusercontent.com/trenton3983/DataCamp/master/Images/2020-06-01_statistical_thinking_2/2020-10-14_DataCamp_statistical_thinking_in_python_II.jpg)"
   ]
  }
 ],
 "metadata": {
  "kernelspec": {
   "display_name": "py312",
   "language": "python",
   "name": "py312"
  },
  "language_info": {
   "codemirror_mode": {
    "name": "ipython",
    "version": 3
   },
   "file_extension": ".py",
   "mimetype": "text/x-python",
   "name": "python",
   "nbconvert_exporter": "python",
   "pygments_lexer": "ipython3",
   "version": "3.12.3"
  },
  "toc-autonumbering": true
 },
 "nbformat": 4,
 "nbformat_minor": 4
}
