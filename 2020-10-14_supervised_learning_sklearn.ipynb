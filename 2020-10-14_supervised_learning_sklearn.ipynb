{
 "cells": [
  {
   "cell_type": "markdown",
   "metadata": {},
   "source": [
    "- Notebook Author: [Trenton McKinney](https://trenton3983.github.io/)\n",
    "- Course: **[DataCamp: Supervised Learning with scikit-learn](https://learn.datacamp.com/courses/supervised-learning-with-scikit-learn)**\n",
    "- This [notebook](https://github.com/trenton3983/DataCamp/blob/master/2020-10-14_supervised_learning_sklearn.ipynb) was created as a reproducible reference.\n",
    "- The material is from the course\n",
    "  - The course website uses `scikit-learn v0.19.2`, `pandas v0.19.2`, and `numpy v1.17.4`\n",
    "- If you find the content beneficial, consider a [DataCamp Subscription](https://www.datacamp.com/pricing?period=yearly).\n",
    "- I added a function (**`create_dir_save_file`**) to automatically download and save the required data (`data/2020-10-14_supervised_learning_sklearn`) and image (`Images/2020-10-14_supervised_learning_sklearn`) files.\n",
    "- Package Versions:\n",
    "  - Pandas version: 2.2.1\n",
    "  - Matplotlib version: 3.8.1\n",
    "  - Seaborn version: 0.13.2\n",
    "  - SciPy version: 1.12.0\n",
    "  - Scikit-Learn version: 1.3.2\n",
    "  - NumPy version: 1.26.4"
   ]
  },
  {
   "cell_type": "markdown",
   "metadata": {},
   "source": [
    "#### Course Description\n",
    "\n",
    "Machine learning is the field that teaches machines and computers to learn from existing data to make predictions on new data: Will a tumor be benign or malignant? Which of your customers will take their business elsewhere? Is a particular email spam? In this course, you'll learn how to use Python to perform supervised learning, an essential component of machine learning. You'll learn how to build predictive models, tune their parameters, and determine how well they will perform with unseen data—all while using real world datasets. You'll be using scikit-learn, one of the most popular and user-friendly machine learning libraries for Python."
   ]
  },
  {
   "cell_type": "markdown",
   "metadata": {},
   "source": [
    "#### Imports"
   ]
  },
  {
   "cell_type": "code",
   "execution_count": null,
   "metadata": {},
   "outputs": [],
   "source": [
    "import pandas as pd\n",
    "import numpy as np\n",
    "from pprint import pprint as pp\n",
    "from itertools import combinations\n",
    "import requests\n",
    "from pathlib import Path\n",
    "\n",
    "import seaborn as sns\n",
    "import matplotlib.pyplot as plt\n",
    "from scipy.stats import randint\n",
    "from matplotlib.colors import ListedColormap\n",
    "\n",
    "from sklearn.datasets import load_iris, load_digits\n",
    "from sklearn.neighbors import KNeighborsClassifier\n",
    "from sklearn.model_selection import train_test_split, cross_val_score, GridSearchCV, RandomizedSearchCV\n",
    "from sklearn.linear_model import LinearRegression, Ridge, Lasso, LogisticRegression, ElasticNet\n",
    "from sklearn.metrics import mean_squared_error, confusion_matrix, classification_report, roc_curve, precision_recall_curve, roc_auc_score, accuracy_score\n",
    "from sklearn.tree import DecisionTreeClassifier\n",
    "from sklearn.pipeline import make_pipeline\n",
    "from sklearn.preprocessing import StandardScaler\n",
    "\n",
    "from sklearn.impute import SimpleImputer\n",
    "from sklearn.pipeline import Pipeline\n",
    "from sklearn.svm import SVC\n",
    "from sklearn.preprocessing import scale, StandardScaler"
   ]
  },
  {
   "cell_type": "code",
   "execution_count": null,
   "metadata": {},
   "outputs": [],
   "source": [
    "import warnings\n",
    "warnings.simplefilter(\"ignore\")"
   ]
  },
  {
   "cell_type": "markdown",
   "metadata": {},
   "source": [
    "#### Configuration Options"
   ]
  },
  {
   "cell_type": "code",
   "execution_count": null,
   "metadata": {},
   "outputs": [],
   "source": [
    "pd.set_option('display.max_columns', 200)\n",
    "pd.set_option('display.max_rows', 300)\n",
    "pd.set_option('display.expand_frame_repr', True)\n",
    "# plt.style.use('ggplot')\n",
    "plt.rcParams[\"patch.force_edgecolor\"] = True"
   ]
  },
  {
   "cell_type": "markdown",
   "metadata": {},
   "source": [
    "#### Functions"
   ]
  },
  {
   "cell_type": "code",
   "execution_count": null,
   "metadata": {},
   "outputs": [],
   "source": [
    "def create_dir_save_file(dir_path: Path, url: str):\n",
    "    \"\"\"\n",
    "    Check if the path exists and create it if it does not.\n",
    "    Check if the file exists and download it if it does not.\n",
    "    \"\"\"\n",
    "    if not dir_path.parents[0].exists():\n",
    "        dir_path.parents[0].mkdir(parents=True)\n",
    "        print(f'Directory Created: {dir_path.parents[0]}')\n",
    "    else:\n",
    "        print('Directory Exists')\n",
    "        \n",
    "    if not dir_path.exists():\n",
    "        r = requests.get(url, allow_redirects=True)\n",
    "        open(dir_path, 'wb').write(r.content)\n",
    "        print(f'File Created: {dir_path.name}')\n",
    "    else:\n",
    "        print('File Exists')"
   ]
  },
  {
   "cell_type": "code",
   "execution_count": null,
   "metadata": {},
   "outputs": [],
   "source": [
    "data_dir = Path('data/2020-10-14_supervised_learning_sklearn')\n",
    "images_dir = Path('Images/2020-10-14_supervised_learning_sklearn')"
   ]
  },
  {
   "cell_type": "markdown",
   "metadata": {},
   "source": [
    "#### Datasets"
   ]
  },
  {
   "cell_type": "code",
   "execution_count": null,
   "metadata": {},
   "outputs": [],
   "source": [
    "file_mpg = 'https://assets.datacamp.com/production/repositories/628/datasets/3781d588cf7b04b1e376c7e9dda489b3e6c7465b/auto.csv'\n",
    "file_housing = 'https://assets.datacamp.com/production/repositories/628/datasets/021d4b9e98d0f9941e7bfc932a5787b362fafe3b/boston.csv'\n",
    "file_diabetes = 'https://assets.datacamp.com/production/repositories/628/datasets/444cdbf175d5fbf564b564bd36ac21740627a834/diabetes.csv'\n",
    "file_gapminder = 'https://assets.datacamp.com/production/repositories/628/datasets/a7e65287ebb197b1267b5042955f27502ec65f31/gm_2008_region.csv'\n",
    "file_voting = 'https://assets.datacamp.com/production/repositories/628/datasets/35a8c54b79d559145bbeb5582de7a6169c703136/house-votes-84.csv'\n",
    "file_wwine = 'https://assets.datacamp.com/production/repositories/628/datasets/2d9076606fb074c66420a36e06d7c7bc605459d4/white-wine.csv'\n",
    "file_rwine = 'https://assets.datacamp.com/production/repositories/628/datasets/013936d2700e2d00207ec42100d448c23692eb6f/winequality-red.csv'"
   ]
  },
  {
   "cell_type": "code",
   "execution_count": null,
   "metadata": {},
   "outputs": [],
   "source": [
    "datasets = [file_mpg, file_housing, file_diabetes, file_gapminder, file_voting, file_wwine, file_rwine]\n",
    "data_paths = list()\n",
    "\n",
    "for data in datasets:\n",
    "    file_name = data.split('/')[-1].replace('?raw=true', '')\n",
    "    data_path = data_dir / file_name\n",
    "    create_dir_save_file(data_path, data)\n",
    "    data_paths.append(data_path)"
   ]
  },
  {
   "cell_type": "markdown",
   "metadata": {},
   "source": [
    "#### DataFrames"
   ]
  },
  {
   "cell_type": "markdown",
   "metadata": {},
   "source": [
    "# Classification\n",
    "\n",
    "In this chapter, you will be introduced to classification problems and learn how to solve them using supervised learning techniques. And you'll apply what you learn to a political dataset, where you classify the party affiliation of United States congressmen based on their voting records."
   ]
  },
  {
   "cell_type": "markdown",
   "metadata": {},
   "source": [
    "## Supervised learning\n",
    "\n",
    "**What is machine learning?**\n",
    "- The art and science of giving computers the ability to learn to make decisions from data without being explicitly programmed.\n",
    "- Examples:\n",
    "  - Your computer can learn to predict whether an email is spam or not spam, given its content and sender.\n",
    "  - Your computer can learn to cluster, say, Wikipedia entries, into different categories based on the words they contain.\n",
    "    - It could then assign any new Wikipedia article to one of the existing clusters.\n",
    "- Note that, in the first example, we are trying to predict a particular class label, the is, spam or not spam.\n",
    "- In the second example, there is not such label.\n",
    "- When there are labels present, we call it supervised learning.\n",
    "- Where there are not labels present, we call it unsupervised learning.\n",
    "\n",
    "**Unsupervised learning**\n",
    "- In essence, is the machine learning task of uncovering hidden patterns and structures from unlabeled data.\n",
    "- Example:\n",
    "  - A business may wish to group its customers into distinct categories (Clustering) based on their purchasing behavior without knowing in advance what these categories might be.\n",
    "    - This is known as clustering, one branch of unsupervised learning.\n",
    "\n",
    "**Reinforcement learning**\n",
    "- Machines or software agents interact with an environment.\n",
    "  - Reinforcement learning agents are able to automatically figure out how to optimize their behavior given a system of rewards and punishments.\n",
    "- Reinforcement learning draws inspiration from behavioral psychology and has applications in many fields, such as, economics, genetics, as well as game playing.\n",
    "- In 2016, reinforcement learning was used to train Google DeepMind's AlphaGo, which was the first computer program to beat the world champion in Go.\n",
    "\n",
    "**Supervised learning**\n",
    "- In supervised learning, we have several data points or samples, described using predictor variables or features and a target variable.\n",
    "- Out data is commonly represented in a tables structure such as the one below, in which there is a row for data point and a column for each feature.\n",
    "```python\n",
    "|    |                        Predictor Variables                      | Target    |\n",
    "|    |   sepal_length |   sepal_width |   petal_length |   petal_width | species   |\n",
    "|---:|---------------:|--------------:|---------------:|--------------:|:----------|\n",
    "|  0 |            5.1 |           3.5 |            1.4 |           0.2 | setosa    |\n",
    "|  1 |            4.9 |           3   |            1.4 |           0.2 | setosa    |\n",
    "|  2 |            4.7 |           3.2 |            1.3 |           0.2 | setosa    |\n",
    "|  3 |            4.6 |           3.1 |            1.5 |           0.2 | setosa    |\n",
    "|  4 |            5   |           3.6 |            1.4 |           0.2 | setosa    |\n",
    "```\n",
    "- Here, we see the iris dataset: each row represents measurements of a different flower and each column is a particular kind of measurement, like the width and length of a certain part of the flower.\n",
    "- The aim of supervised learning is to build a model that is able to predict the target variable, here, the particular species of a flower, given the predictor variables, the physical measurements.\n",
    "- _If the target variable consists of categories_, like `'click'` or `'no click'`, `'spam'` or `'not spam'`, or different species of flowers, we call the learning task, **classification**.\n",
    "- Alternatively, _if the target is a continuously varying variable_, the price of a house, it is a **regression** task.\n",
    "- This chapter will focus on classification, the following, on regression.\n",
    "- The goal of supervised learning is frequently to either automate a time-consuming, or expensive, manual task, such as a doctor's diagnosis, or to make predictions about the future, say whether a customer will click on an add, or not.\n",
    "- For supervised learning, you need labeled data and there are many ways to go get it: you can get historical data, which already has labels that you are interested in; you can perform experiments to get labeled data, such as A/B-testing to see how many clicks you get; or you can also use crowd-sourced labeling data, like reCAPTCHA does for text recognition.\n",
    "- In any case, the goal is to learn from data, for which the right output is known, so that we can make predictions on new data from which we don't know the output.\n",
    "\n",
    "**Supervised learning in python**\n",
    "- There are many ways to perform supervised learning in Python.\n",
    "- In this course, we will use `scikit-learn`, or `sklearn`, one of the most popular and use-friendly machine learning libraries for Python.\n",
    "- It also integrate very well with the `SciPy` stack, including libraries such as `NumPy`.\n",
    "- There are a number of other ML libraries out there, such as `TensorFlow` and `keras`, which are well worth checking out, once you get the basics down.\n",
    "\n",
    "**Naming conventions**\n",
    "- A note on naming conventions: out in the wild, you will find that what we call a feature, others may call a predictor variable, or independent variable, and what we call a target variable, others may call dependent variable, or response variable."
   ]
  },
  {
   "cell_type": "markdown",
   "metadata": {},
   "source": [
    "### Which of these is a classification problem?\n",
    "\n",
    "Once you decide to leverage supervised machine learning to solve a new problem, you need to identify whether your problem is better suited to classification or regression. This exercise will help you develop your intuition for distinguishing between the two.\n",
    "\n",
    "Provided below are 4 example applications of machine learning. Which of them is a supervised classification problem?\n",
    "\n",
    "**Answer the question**\n",
    "\n",
    "- **Using labeled financial data to predict whether the value of a stock will go up or go down next week.**\n",
    "  - Exactly! In this example, there are two discrete, qualitative outcomes: the stock market going up, and the stock market going down. This can be represented using a binary variable, and is an application perfectly suited for classification.\n",
    "- ~~Using labeled housing price data to predict the price of a new house based on various features.~~\n",
    "  - Incorrect. The price of a house is a quantitative variable. This is not a classification problem.\n",
    "- ~~Using unlabeled data to cluster the students of an online education company into different categories based on their learning styles.~~\n",
    "  - Incorrect. When using unlabeled data, we enter the territory of unsupervised learning.\n",
    "- ~~Using labeled financial data to predict what the value of a stock will be next week.~~\n",
    "  - Incorrect. The value of a stock is a quantitative value. This is not a classification problem."
   ]
  },
  {
   "cell_type": "markdown",
   "metadata": {},
   "source": [
    "## Exploratory data analysis\n",
    "\n",
    "- Samples are in rows\n",
    "- Features are in columns"
   ]
  },
  {
   "cell_type": "code",
   "execution_count": null,
   "metadata": {},
   "outputs": [],
   "source": [
    "iris = load_iris()\n",
    "print(f'Type: {type(iris)}')\n",
    "print(f'Keys: {iris.keys()}')\n",
    "print(f'Data Type: {type(iris.data)}\\nTarget Type: {type(iris.target)}')\n",
    "print(f'Data Shape: {iris.data.shape}')\n",
    "print(f'Target Names: {iris.target_names}')\n",
    "\n",
    "X = iris.data\n",
    "y = iris.target\n",
    "df = pd.DataFrame(X, columns=iris.feature_names)\n",
    "df['label'] = y\n",
    "species_map = dict(zip(range(3), iris.target_names))\n",
    "df['species'] = df.label.map(species_map)\n",
    "df = df.reindex(['sepal length (cm)', 'sepal width (cm)', 'petal length (cm)', 'petal width (cm)', 'species', 'label'], axis=1)\n",
    "display(df.head())\n",
    "\n",
    "# pd.plotting.scatter_matrix(df, c=y, figsize=(12, 10))\n",
    "ax = sns.pairplot(df.iloc[:, :5], hue='species', corner=True)"
   ]
  },
  {
   "cell_type": "markdown",
   "metadata": {},
   "source": [
    "### Numerical EDA\n",
    "\n",
    "In this chapter, you'll be working with a dataset obtained from the [UCI Machine Learning Repository](https://archive.ics.uci.edu/ml/datasets/Congressional+Voting+Records) consisting of votes made by US House of Representatives Congressmen. Your goal will be to predict their party affiliation ('Democrat' or 'Republican') based on how they voted on certain key issues. Here, it's worth noting that we have preprocessed this dataset to deal with missing values. This is so that your focus can be directed towards understanding how to train and evaluate supervised learning models. Once you have mastered these fundamentals, you will be introduced to preprocessing techniques in Chapter 4 and have the chance to apply them there yourself - including on this very same dataset!\n",
    "\n",
    "Before thinking about what supervised learning models you can apply to this, however, you need to perform Exploratory data analysis (EDA) in order to understand the structure of the data. For a refresher on the importance of EDA, check out the first two chapters of [Statistical Thinking in Python (Part 1)](https://trenton3983.github.io/posts/statistical-thinking-1/).\n",
    "\n",
    "Get started with your EDA now by exploring this voting records dataset numerically. It has been pre-loaded for you into a DataFrame called `df`. Use pandas' `.head()`, `.info()`, and `.describe()` methods in the IPython Shell to explore the DataFrame, and select the statement below that is **not** true."
   ]
  },
  {
   "cell_type": "code",
   "execution_count": null,
   "metadata": {},
   "outputs": [],
   "source": [
    "cols = ['party', 'infants', 'water', 'budget', 'physician', 'salvador', 'religious', 'satellite', 'aid',\n",
    "        'missile', 'immigration', 'synfuels', 'education', 'superfund', 'crime', 'duty_free_exports', 'eaa_rsa']\n",
    "votes = pd.read_csv(data_paths[4], header=None, names=cols)\n",
    "votes.iloc[:, 1:] = votes.iloc[:, 1:].replace({'?': None, 'n': 0, 'y': 1})\n",
    "votes.head()"
   ]
  },
  {
   "cell_type": "markdown",
   "metadata": {},
   "source": [
    "**Possible Answers**\n",
    "\n",
    "- The DataFrame has a total of `435` rows and `17` columns.\n",
    "- Except for `'party'`, all of the columns are of type `int64`.\n",
    "- The first two rows of the DataFrame consist of votes made by Republicans and the next three rows consist of votes made by Democrats.\n",
    "- ~~There are 17 predictor variables, or features, in this DataFrame.~~\n",
    "  - The number of columns in the DataFrame is not equal to the number of features. One of the columns - `'party'` is the target variable.\n",
    "- The target variable in this DataFrame is `'party'`."
   ]
  },
  {
   "cell_type": "markdown",
   "metadata": {},
   "source": [
    "### Visual EDA\n",
    "\n",
    "The Numerical EDA you did in the previous exercise gave you some very important information, such as the names and data types of the columns, and the dimensions of the DataFrame. Following this with some visual EDA will give you an even better understanding of the data. In the video, Hugo used the `scatter_matrix()` function on the Iris data for this purpose. However, you may have noticed in the previous exercise that all the features in this dataset are binary; that is, they are either 0 or 1. So a different type of plot would be more useful here, such as [seaborn.countplot](https://seaborn.pydata.org/generated/seaborn.countplot.html).\n",
    "\n",
    "Given on the right is a `countplot` of the `'education'` bill, generated from the following code:\n",
    "\n",
    "```python\n",
    "plt.figure()\n",
    "sns.countplot(x='education', hue='party', data=df, palette='RdBu')\n",
    "plt.xticks([0,1], ['No', 'Yes'])\n",
    "plt.show()\n",
    "```\n",
    "\n",
    "In `sns.countplot()`, we specify the x-axis data to be `'education'`, and hue to be `'party'`. Recall that `'party'` is also our target variable. So the resulting plot shows the difference in voting behavior between the two parties for the `'education'` bill, with each party colored differently. We manually specified the color to be `'RdBu'`, as the Republican party has been traditionally associated with red, and the Democratic party with blue.\n",
    "\n",
    "It seems like Democrats voted resoundingly against this bill, compared to Republicans. This is the kind of information that our machine learning model will seek to learn when we try to predict party affiliation solely based on voting behavior. An expert in U.S politics may be able to predict this without machine learning, but probably not instantaneously - and certainly not if we are dealing with hundreds of samples!\n",
    "\n",
    "In the IPython Shell, explore the voting behavior further by generating countplots for the `'satellite'` and `'missile'` bills, and answer the following question: Of these two bills, for which ones do Democrats vote resoundingly in favor of, compared to Republicans? Be sure to begin your plotting statements for each figure with `plt.figure()` so that a new figure will be set up. Otherwise, your plots will be overlayed onto the same figure."
   ]
  },
  {
   "cell_type": "code",
   "execution_count": null,
   "metadata": {},
   "outputs": [],
   "source": [
    "# in order to use catplot, the dataframe needs to be in a tidy format\n",
    "vl = votes.set_index('party').stack().reset_index().rename(columns={'level_1': 'cat', 0: 'vote'})\n",
    "\n",
    "g = sns.catplot(data=vl, x='vote', col='cat', col_wrap=4, hue='party', kind='count', height=3, palette='RdBu')"
   ]
  },
  {
   "cell_type": "markdown",
   "metadata": {},
   "source": [
    "**Possible Answers**\n",
    "\n",
    "- ~~`'satellite'`.~~\n",
    "- ~~`'missile'`.~~\n",
    "- **Both `'satellite'` and `'missile'`.**\n",
    "- ~~Neither `'satellite'` nor `'missile'`.~~"
   ]
  },
  {
   "cell_type": "markdown",
   "metadata": {},
   "source": [
    "## The classification challenge\n",
    "\n",
    "- We have a set of labeled data and we want to build a classifier that takes unlabeled data as input and output a label.\n",
    "- How do we construct this classifier?\n",
    "- We first need to choose a type of classifier, and it needs to learn from the already labeled data.\n",
    "- For this reason, we call the already labeled data, the training data.\n",
    "\n",
    "**k-Nearest Neighbors (KNN)**\n",
    "- We'll choose a simple algorithm call K-nearest neighbors.\n",
    "- the basic idea of KNN, is to predict the label of any data point by looking at the K, for example, 3, closest labeled data points, and getting them to vote on what label the unlabeled point should have.\n",
    "- ![knn][knn]\n",
    "  - In this image, there's an example of KNN in two dimensions: how do you classify the data point in the middle?\n",
    "- ![knn3][knn3]\n",
    "  - If `k=3`, you would classify it as red\n",
    "- ![knn5][knn5]\n",
    "  - If `k=5`, you would classify it as green\n",
    "\n",
    "**KNN: Intuition**\n",
    "- To get a bit of intuition for KNN, let's check out a scatter plot of two dimensions of the iris dataset, petal length and petal width.\n",
    "- ![iris_petal][iris_petal]\n",
    "- The following holds for higher dimensions, however, we'll show thae 2D case for illustrative purposes.\n",
    "- What the KNN algorithm essentially does, is create a set of decision boundaries and we visualized the 2D case here.\n",
    "- ![ip_db][iris_petal_db]\n",
    "- Any new data point will have a species prediction based on the boundary.\n",
    "\n",
    "**`scikit-learn` `fit` and `predict`**\n",
    "- All machine learning models in `scikit-learn` are implemented as python classes\n",
    "- These classes serve two purposes:\n",
    "  - They implement the algorithms for learning a model, and predicting\n",
    "  - Storing all the information that is learned from the data.\n",
    "- Training a model on the data is also called fitting the model to the data.\n",
    "  - In `scikit-learn` we use the `.fit()` method to do this.\n",
    "  - The `.predict()` is used to predict the label of an unlabeled data point.\n",
    "\n",
    "\n",
    "  [knn]: https://raw.githubusercontent.com/trenton3983/DataCamp/master/Images/2020-10-14_supervised_learning_sklearn/knn.JPG\n",
    "  [knn3]: https://raw.githubusercontent.com/trenton3983/DataCamp/master/Images/2020-10-14_supervised_learning_sklearn/knn3.JPG\n",
    "  [knn5]: https://raw.githubusercontent.com/trenton3983/DataCamp/master/Images/2020-10-14_supervised_learning_sklearn/knn5.JPG\n",
    "  [iris_petal]: https://raw.githubusercontent.com/trenton3983/DataCamp/master/Images/2020-10-14_supervised_learning_sklearn/iris_petal.JPG\n",
    "  [iris_petal_db]: https://raw.githubusercontent.com/trenton3983/DataCamp/master/Images/2020-10-14_supervised_learning_sklearn/iris_petal_db.JPG"
   ]
  },
  {
   "cell_type": "markdown",
   "metadata": {},
   "source": [
    "#### Code to create boundary plot in the previous block\n",
    "\n",
    "- See [How to extract only the boundary values from k-nearest neighbors predict](https://stackoverflow.com/questions/64398946) to see a method to extract the boundary values."
   ]
  },
  {
   "cell_type": "code",
   "execution_count": null,
   "metadata": {},
   "outputs": [],
   "source": [
    "# instantiate model\n",
    "knn = KNeighborsClassifier(n_neighbors=6)\n",
    "\n",
    "# predict for 'petal length (cm)' and 'petal width (cm)'\n",
    "knn.fit(df.iloc[:, 2:4], df.label)\n",
    "\n",
    "h = .02  # step size in the mesh\n",
    "\n",
    "# create colormap for the contour plot\n",
    "cmap_light = ListedColormap(list(sns.color_palette('pastel', n_colors=3)))\n",
    "\n",
    "# Plot the decision boundary.\n",
    "# For that, we will assign a color to each point in the mesh [x_min, x_max]x[y_min, y_max].\n",
    "x_min, x_max = df['petal length (cm)'].min() - 1, df['petal length (cm)'].max() + 1\n",
    "y_min, y_max = df['petal width (cm)'].min() - 1, df['petal width (cm)'].max() + 1\n",
    "xx, yy = np.meshgrid(np.arange(x_min, x_max, h), np.arange(y_min, y_max, h))\n",
    "Z = knn.predict(np.c_[xx.ravel(), yy.ravel()]).reshape(xx.shape)\n",
    "\n",
    "# create plot\n",
    "fig, ax = plt.subplots()\n",
    "\n",
    "# add decision boundary countour map\n",
    "ax.contourf(xx, yy, Z, cmap=cmap_light, alpha=0.4)\n",
    "\n",
    "# add data points\n",
    "sns.scatterplot(data=df, x='petal length (cm)', y='petal width (cm)', hue='species', ax=ax, edgecolor='k')\n",
    "\n",
    "# use diff to create a mask\n",
    "mask = np.diff(Z, axis=1) != 0\n",
    "mask2 = np.diff(Z, axis=0) != 0\n",
    "\n",
    "# apply mask against xx and yy\n",
    "xd = np.concatenate((xx[:, 1:][mask], xx[1:, :][mask2]))\n",
    "yd = np.concatenate((yy[:, 1:][mask], yy[1:, :][mask2]))\n",
    "\n",
    "# plot the decision boundary\n",
    "sns.scatterplot(x=xd, y=yd, color='k', edgecolor='k', s=5, ax=ax, label='decision boundary')\n",
    "\n",
    "# legend\n",
    "_ = ax.legend(title='Species', bbox_to_anchor=(1, 0.5), loc='center left', frameon=False)"
   ]
  },
  {
   "cell_type": "markdown",
   "metadata": {},
   "source": [
    "#### Using `scikit-learn` to fit a classifier\n",
    "\n",
    "- `from sklearn.neighbors import KNeighborsClassifier`\n",
    "- The API requires data as a `pandas.DataFrame` or as a `numpy.array`\n",
    "- The API features must take on continuous values, such as the price of a house, as opposed to categories, such as `'male'` or `'female'`.\n",
    "- There should be no missing values in the data.\n",
    "- All dataset we'll work with, satisfy these properties.\n",
    "- Dealing with categorical features and missing data will be discussed later in the course.\n",
    "- The API requires that the features are in an array, where each column is a feature, and each row, a different observation or data point.\n",
    "- There must be a label for each observation.\n",
    "- Check out what's returned when the classifier is fit\n",
    "  - It returns the classifier itself, and modifies it, to fit it to the data.\n",
    "- Now that the classifier is fit, use it to predict on some unlabeled data."
   ]
  },
  {
   "cell_type": "code",
   "execution_count": null,
   "metadata": {},
   "outputs": [],
   "source": [
    "# new data\n",
    "X_new = np.array([[5.6, 2.8, 3.9, 1.1], [5.7, 2.6, 3.8, 1.3], [4.7, 3.2, 1.3, 0.2]])\n",
    "\n",
    "fig, ax = plt.subplots()\n",
    "sns.scatterplot(data=df, x='petal length (cm)', y='petal width (cm)', hue='species', ax=ax, edgecolor='k')\n",
    "_ = sns.scatterplot(x=X_new[:, 2], y=X_new[:, 3], ax=ax, color='magenta', label='uncategorized', s=70)"
   ]
  },
  {
   "cell_type": "code",
   "execution_count": null,
   "metadata": {},
   "outputs": [],
   "source": [
    "# instantiate the model, and set the number of neighbors\n",
    "knn = KNeighborsClassifier(n_neighbors=6)\n",
    "\n",
    "# fit the model to the training set, the labeled data\n",
    "knn.fit(df.iloc[:, :4], df.label)\n",
    "\n",
    "# predit the label of the new data\n",
    "pred = knn.predict(X_new)\n",
    "spcies_pred = list(map(species_map.get, pred))\n",
    "print(f'Predicted Label: {pred}\\nSpecies: {spcies_pred}')"
   ]
  },
  {
   "cell_type": "markdown",
   "metadata": {},
   "source": [
    "### k-Nearest Neighbors: Fit\n",
    "\n",
    "Having explored the Congressional voting records dataset, it is time now to build your first classifier. In this exercise, you will fit a k-Nearest Neighbors classifier to the voting dataset, which has once again been pre-loaded for you into a DataFrame `df`.\n",
    "\n",
    "In the video, Hugo discussed the importance of ensuring your data adheres to the format required by the scikit-learn API. The features need to be in an array where each column is a feature and each row a different observation or data point - in this case, a Congressman's voting record. The target needs to be a single column with the same number of observations as the feature data. We have done this for you in this exercise. Notice we named the feature array `X` and response variable `y`: This is in accordance with the common scikit-learn practice.\n",
    "\n",
    "Your job is to create an instance of a k-NN classifier with 6 neighbors (by specifying the `n_neighbors` parameter) and then fit it to the data. The data has been pre-loaded into a DataFrame called `df`.\n",
    "\n",
    "**Instructions**\n",
    "\n",
    "- Import `KNeighborsClassifier` from `sklearn.neighbors`.\n",
    "- Create arrays `X` and `y` for the features and the target variable. Here this has been done for you. Note the use of `.drop()` to drop the target variable `'party'` from the feature array `X` as well as the use of the `.values` attribute to ensure `X` and `y` are NumPy arrays. Without using `.values`, `X` and `y` are a DataFrame and Series respectively; the scikit-learn API will accept them in this form also as long as they are of the right shape.\n",
    "- Instantiate a `KNeighborsClassifier` called `knn` with `6` neighbors by specifying the `n_neighbors` parameter.\n",
    "- Fit the classifier to the data using the `.fit()` method."
   ]
  },
  {
   "cell_type": "code",
   "execution_count": null,
   "metadata": {},
   "outputs": [],
   "source": [
    "v_na = votes.dropna().reset_index(drop=True)\n",
    "v_na.head()"
   ]
  },
  {
   "cell_type": "code",
   "execution_count": null,
   "metadata": {},
   "outputs": [],
   "source": [
    "# Create a k-NN classifier with 6 neighbors\n",
    "knn = KNeighborsClassifier(n_neighbors=6)\n",
    "\n",
    "# Fit the classifier to the data\n",
    "knn.fit(v_na.iloc[:, 1:], v_na.party)"
   ]
  },
  {
   "cell_type": "markdown",
   "metadata": {},
   "source": [
    "**Now that your k-NN classifier with 6 neighbors has been fit to the data, it can be used to predict the labels of new data points.**"
   ]
  },
  {
   "cell_type": "markdown",
   "metadata": {},
   "source": [
    "### k-Nearest Neighbors: Predict\n",
    "\n",
    "Having fit a k-NN classifier, you can now use it to predict the label of a new data point. However, there is no unlabeled data available since all of it was used to fit the model! You can still use the `.predict()` method on the `X` that was used to fit the model, but it is not a good indicator of the model's ability to generalize to new, unseen data.\n",
    "\n",
    "In the next video, Hugo will discuss a solution to this problem. For now, a random unlabeled data point has been generated and is available to you as `X_new`. You will use your classifier to predict the label for this new data point, as well as on the training data `X` that the model has already seen. Using `.predict()` on `X_new` will generate 1 prediction, while using it on `X` will generate 435 predictions: 1 for each sample.\n",
    "\n",
    "The DataFrame has been pre-loaded as `df`. This time, you will create the feature array `X` and target variable array `y` yourself.\n",
    "\n",
    "**Instructions**\n",
    "\n",
    "- Create arrays for the features and the target variable from `df`. As a reminder, the target variable is `'party'`.\n",
    "- Instantiate a `KNeighborsClassifier` with `6` neighbors.\n",
    "- Fit the classifier to the data.\n",
    "- Predict the labels of the training data, `X`.\n",
    "- Predict the label of the new data point `X_new`."
   ]
  },
  {
   "cell_type": "code",
   "execution_count": null,
   "metadata": {},
   "outputs": [],
   "source": [
    "X_new = np.array([[0.69646919, 0.28613933, 0.22685145, 0.55131477, 0.71946897, 0.42310646, 0.9807642 , 0.68482974,\n",
    "                   0.4809319 , 0.39211752, 0.34317802, 0.72904971, 0.43857224, 0.0596779 , 0.39804426, 0.73799541]])"
   ]
  },
  {
   "cell_type": "code",
   "execution_count": null,
   "metadata": {},
   "outputs": [],
   "source": [
    "# Create arrays for the features and the response variable\n",
    "y = v_na.party\n",
    "X = v_na.iloc[:, 1:]\n",
    "\n",
    "# Create a k-NN classifier with 6 neighbors: knn\n",
    "knn = KNeighborsClassifier(n_neighbors=6)\n",
    "\n",
    "# Fit the classifier to the data\n",
    "knn.fit(X, y)\n",
    "\n",
    "# Predict the labels for the training data X\n",
    "y_pred = knn.predict(X)\n",
    "\n",
    "# Predict and print the label for the new data point X_new\n",
    "new_prediction = knn.predict(X_new)\n",
    "print(f'Prediction: {new_prediction}')"
   ]
  },
  {
   "cell_type": "markdown",
   "metadata": {},
   "source": [
    "**Did your model predict 'democrat' or 'republican'? How sure can you be of its predictions? In other words, how can you measure its performance? This is what you will learn in the next video.**"
   ]
  },
  {
   "cell_type": "markdown",
   "metadata": {},
   "source": [
    "## Measuring model performance\n",
    "\n",
    "- Now that we know how to fit a classifier and use it to predict the labels of previously unseen data, we need to figure out how to measure its performance. We need a metric.\n",
    "- In classification problems, accuracy is a commonly-used metric.\n",
    "- The accuracy of a classifier is defined as the number of correct predictions divided by the total number of data points.\n",
    "- This begs the question though: which data do we use to compute accuracy?\n",
    "- What we're really interested in is how well out model will perform on new data; samples that the algorithm has never seen before.\n",
    "- You could compute the accuracy on the data you used to fit the classifier.\n",
    "- However, as this data was used to train it, the classifier's performance will not be indicative of how well it can generalize to unseen data.\n",
    "- For this reason, it is common practice to split the data into two sets, a training and test set.\n",
    "- The classifier is trained or fit on the training set.\n",
    "- Then predictions are made on the labeled test set, and compared with the known labels.\n",
    "- The accuracy of the predictions is then computed.\n",
    "\n",
    "**Train Test Split**\n",
    "- [`sklearn.model_selection.train_test_split`](https://scikit-learn.org/stable/modules/generated/sklearn.model_selection.train_test_split.html)\n",
    "  - `random_state` sets a seed for the random number generator that splits the data into train and test, which allows for reproducing the exact split of the data.\n",
    "  - returns four arrays: train data, test data, training labels and test labels.\n",
    "  - the default split is %75/%25, which is a good rule of thumb, and is specified by `test_size`.\n",
    "  - it is also best practice to perform the split so that the split reflects the labels on the data.\n",
    "    - That is, you want the labels to be distributed in train and test sets as they are in the original dataset, as is achieved by setting `stratify=y`, where `y` is the array or dataframe of labels.\n",
    "  - See below that the accuracy of the model is approximately %96, which is pretty good for an out-of-the-box model.\n",
    "  \n",
    "**Model complexity and over / underfitting**\n",
    "- Recall that we recently discussed the concept of a decision boundary.\n",
    "  - ![neighbors](https://raw.githubusercontent.com/trenton3983/DataCamp/master/Images/2020-10-14_supervised_learning_sklearn/neighbors.JPG)\n",
    "  - We visualized a decision boundary for several, increasing values of `K` in a KNN model.\n",
    "  - As `K` increases, the decision boundary get smoother and less curvy.\n",
    "  - Therefore, we consider it to be a less complex model than those with a lower `K`.\n",
    "  - Generally, complex models run the risk of being sensitive to noise in the specific data that you have, rather than reflecting general trends in the data.\n",
    "    - This is known as overfitting.\n",
    "  - If you increase `K` even more, and make the model even simpler, then the model will perform less well on both test and training sets, as indicated in the following schematic figure, known as a model complexity curve.\n",
    "  - ![neighbors](https://raw.githubusercontent.com/trenton3983/DataCamp/master/Images/2020-10-14_supervised_learning_sklearn/neighbors2.JPG)\n",
    "    - We can see there is a sweet spot in the middle that gives us the best performance on the test set"
   ]
  },
  {
   "cell_type": "code",
   "execution_count": null,
   "metadata": {},
   "outputs": [],
   "source": [
    "df.head()"
   ]
  },
  {
   "cell_type": "code",
   "execution_count": null,
   "metadata": {},
   "outputs": [],
   "source": [
    "# from sklearn.model_selection import train_test_split\n",
    "\n",
    "# split the data\n",
    "X_train, X_test, y_train, y_test = train_test_split(df.iloc[:, :4], df.species, test_size=0.3, random_state=21, stratify=df.species)\n",
    "\n",
    "# instantiate the classifier\n",
    "knn = KNeighborsClassifier(n_neighbors=8)\n",
    "\n",
    "# fit it to the training data\n",
    "knn.fit(X_train, y_train)\n",
    "\n",
    "# make predictions on the test data\n",
    "y_pred = knn.predict(X_test)\n",
    "\n",
    "# check the accuracy using the score method of the model\n",
    "score = knn.score(X_test, y_test)\n",
    "\n",
    "# print the predictions and score\n",
    "print(f'Test set score: {score:0.3f}\\nTest set predictions:\\n{y_pred}')"
   ]
  },
  {
   "cell_type": "markdown",
   "metadata": {},
   "source": [
    "### The digits recognition dataset\n",
    "Up until now, you have been performing binary classification, since the target variable had two possible outcomes. Hugo, however, got to perform multi-class classification in the videos, where the target variable could take on three possible outcomes. Why does he get to have all the fun?! In the following exercises, you'll be working with the MNIST digits recognition dataset, which has 10 classes, the digits 0 through 9! A reduced version of the [MNIST](https://yann.lecun.com/exdb/mnist/) dataset is one of scikit-learn's included datasets, and that is the one we will use in this exercise.\n",
    "\n",
    "Each sample in this scikit-learn dataset is an 8x8 image representing a handwritten digit. Each pixel is represented by an integer in the range 0 to 16, indicating varying levels of black. Recall that scikit-learn's built-in datasets are of type `Bunch`, which are dictionary-like objects. Helpfully for the MNIST dataset, scikit-learn provides an `'images'` key in addition to the `'data'` and `'target'` keys that you have seen with the Iris data. Because it is a 2D array of the images corresponding to each sample, this `'images'` key is useful for visualizing the images, as you'll see in this exercise (for more on plotting 2D arrays, see [Chapter 2 of DataCamp's course on Data Visualization with Python)](https://trenton3983.github.io/files/projects/2020-03-05_intro_to_data_visualization_in_python/2020-03-05_intro_to_data_visualization_in_python.html). On the other hand, the `'data'` key contains the feature array - that is, the images as a flattened array of 64 pixels.\n",
    "\n",
    "Notice that you can access the keys of these `Bunch` objects in two different ways: By using the `.` notation, as in `digits.images`, or the `[]` notation, as in `digits['images']`.\n",
    "\n",
    "For more on the MNIST data, check out this [exercise](https://campus.datacamp.com/courses/introduction-to-importing-data-in-python/introduction-and-flat-files-1?ex=10) in Part 1 of DataCamp's Importing Data in Python course. There, the full version of the MNIST dataset is used, in which the images are 28x28. It is a famous dataset in machine learning and computer vision, and frequently used as a benchmark to evaluate the performance of a new model.\n",
    "\n",
    "**Instructions**\n",
    "\n",
    "- Import `datasets` from `sklearn` and `matplotlib.pyplot` as `plt`.\n",
    "- Load the digits dataset using the `.load_digits()` method on `datasets`.\n",
    "- Print the keys and `DESCR` of digits.\n",
    "- Print the shape of `images` and `data` keys using the `.` notation.\n",
    "- Display the 1011th image using `plt.imshow()`. This has been done for you, so hit 'Submit Answer' to see which handwritten digit this happens to be!"
   ]
  },
  {
   "cell_type": "code",
   "execution_count": null,
   "metadata": {},
   "outputs": [],
   "source": [
    "# Load the digits dataset: digits\n",
    "digits = load_digits()\n",
    "\n",
    "# Print the keys and DESCR of the dataset\n",
    "print(digits.keys())\n",
    "print(digits.DESCR)\n",
    "\n",
    "# Print the shape of the images and data keys\n",
    "print(digits.images.shape)\n",
    "print(digits.data.shape)\n",
    "\n",
    "# Display digit 1010\n",
    "plt.imshow(digits.images[1010], cmap=plt.cm.gray_r, interpolation='nearest')\n",
    "plt.show()"
   ]
  },
  {
   "cell_type": "markdown",
   "metadata": {},
   "source": [
    "**It looks like the image in question corresponds to the digit '5'. Now, can you build a classifier that can make this prediction not only for this image, but for all the other ones in the dataset? You'll do so in the next exercise!**"
   ]
  },
  {
   "cell_type": "markdown",
   "metadata": {},
   "source": [
    "### Train/Test Split + Fit/Predict/Accuracy\n",
    "\n",
    "Now that you have learned about the importance of splitting your data into training and test sets, it's time to practice doing this on the digits dataset! After creating arrays for the features and target variable, you will split them into training and test sets, fit a k-NN classifier to the training data, and then compute its accuracy using the `.score()` method.\n",
    "\n",
    "**Instructions**\n",
    "\n",
    "- Import `KNeighborsClassifier` from `sklearn.neighbors` and `train_test_split` from `sklearn.model_selection`.\n",
    "- Create an array for the features using `digits.data` and an array for the target using `digits.target`.\n",
    "- Create stratified training and test sets using `0.2` for the size of the test set. Use a random state of `42`. Stratify the split according to the labels so that they are distributed in the training and test sets as they are in the original dataset.\n",
    "- Create a k-NN classifier with `7` neighbors and fit it to the training data.\n",
    "- Compute and print the accuracy of the classifier's predictions using the `.score()` method."
   ]
  },
  {
   "cell_type": "code",
   "execution_count": null,
   "metadata": {},
   "outputs": [],
   "source": [
    "# Create feature and target arrays\n",
    "X = digits.data\n",
    "y = digits.target\n",
    "\n",
    "# Split into training and test set\n",
    "X_train, X_test, y_train, y_test = train_test_split(X, y, test_size=0.2, random_state=42, stratify=y)\n",
    "\n",
    "# Create a k-NN classifier with 7 neighbors: knn\n",
    "knn = KNeighborsClassifier(n_neighbors=7)\n",
    "\n",
    "# Fit the classifier to the training data\n",
    "knn.fit(X_train, y_train)\n",
    "\n",
    "# predict\n",
    "pred = knn.predict(X_test)\n",
    "\n",
    "result = list(zip(pred, y_test))\n",
    "not_correct = [v for v in result if v[0] != v[1]]\n",
    "num_correct = len(result) - len(not_correct)\n",
    "\n",
    "# Print the accuracy\n",
    "score = knn.score(X_test, y_test)\n",
    "\n",
    "print(f'Incorrect Result: {not_correct}\\nNumber Correct: {num_correct}\\nScore: {score:0.2f}')"
   ]
  },
  {
   "cell_type": "markdown",
   "metadata": {},
   "source": [
    "**Incredibly, this out of the box k-NN classifier with 7 neighbors has learned from the training data and predicted the labels of the images in the test set with 98% accuracy, and it did so in less than a second! This is one illustration of how incredibly useful machine learning techniques can be.**"
   ]
  },
  {
   "cell_type": "markdown",
   "metadata": {},
   "source": [
    "### Overfitting and underfitting\n",
    "\n",
    "Remember the model complexity curve that Hugo showed in the video? You will now construct such a curve for the digits dataset! In this exercise, you will compute and plot the training and testing accuracy scores for a variety of different neighbor values. By observing how the accuracy scores differ for the training and testing sets with different values of k, you will develop your intuition for overfitting and underfitting.\n",
    "\n",
    "The training and testing sets are available to you in the workspace as `X_train`, `X_test`, `y_train`, `y_test`. In addition, `KNeighborsClassifier` has been imported from `sklearn.neighbors`.\n",
    "\n",
    "**Instructions**\n",
    "\n",
    "- Inside the for loop:\n",
    "  - Setup a k-NN classifier with the number of neighbors equal to `k`.\n",
    "  - Fit the classifier with `k` neighbors to the training data.\n",
    "  - Compute accuracy scores the training set and test set separately using the `.score()` method and assign the results to the `train_accuracy` and `test_accuracy` arrays respectively."
   ]
  },
  {
   "cell_type": "code",
   "execution_count": null,
   "metadata": {},
   "outputs": [],
   "source": [
    "# Setup arrays to store train and test accuracies\n",
    "neighbors = np.arange(1, 9)\n",
    "train_accuracy = np.empty(len(neighbors))\n",
    "test_accuracy = np.empty(len(neighbors))\n",
    "\n",
    "# Loop over different values of k\n",
    "for i, k in enumerate(neighbors):\n",
    "    # Setup a k-NN Classifier with k neighbors: knn\n",
    "    knn = knn = KNeighborsClassifier(n_neighbors=k)\n",
    "\n",
    "    # Fit the classifier to the training data\n",
    "    knn.fit(X_train, y_train)\n",
    "    \n",
    "    #Compute accuracy on the training set\n",
    "    train_accuracy[i] = knn.score(X_train, y_train)\n",
    "\n",
    "    #Compute accuracy on the testing set\n",
    "    test_accuracy[i] = knn.score(X_test, y_test)\n",
    "\n",
    "# Generate plot\n",
    "plt.plot(neighbors, test_accuracy, label = 'Testing Accuracy')\n",
    "plt.plot(neighbors, train_accuracy, label = 'Training Accuracy')\n",
    "plt.legend()\n",
    "plt.title('KNN: Varying Number of Neighbors')\n",
    "plt.xlabel('Number of Neighbors')\n",
    "_ = plt.ylabel('Accuracy')"
   ]
  },
  {
   "cell_type": "markdown",
   "metadata": {},
   "source": [
    "**It looks like the test accuracy is highest when using 3 and 5 neighbors. Using 8 neighbors or more seems to result in a simple model that underfits the data. Now that you've grasped the fundamentals of classification, you will learn about regression in the next chapter!**"
   ]
  },
  {
   "cell_type": "markdown",
   "metadata": {},
   "source": [
    "# Regression\n",
    "\n",
    "In the previous chapter, you used image and political datasets to predict binary and multiclass outcomes. But what if your problem requires a continuous outcome? Regression is best suited to solving such problems. You will learn about fundamental concepts in regression and apply them to predict the life expectancy in a given country using Gapminder data."
   ]
  },
  {
   "cell_type": "markdown",
   "metadata": {},
   "source": [
    "## Introduction to regression\n",
    "\n",
    "- In regression tasks, the target value is a continuously varying variable, such as a country's GDP or the price of a house.\n",
    "- The first regression task will be using the Boston housing dataset.\n",
    "- The data can be loaded from a CSV or scikit-learn's built-in datasets.\n",
    "- `'CRIM'` is per capita crime rate\n",
    "- `'NX'` is nitric oxides concentration\n",
    "- `'RM'` is average number of rooms per dwelling\n",
    "- The target variable, `'MEDV'`, is the median value of owner occupied homes in thousands of dollars\n",
    "\n",
    "**Creating feature and target arrays**\n",
    "- Recall that scikit-learn wants `features` and `target` values in distinct arrays, `X` and `y`.\n",
    "- Using the [`.values`][values] attribute returns the `NumPy` arrays.\n",
    "  - `pandas` documentation recommends using [`.to_numpy`][tonumpy]\n",
    "\n",
    "**Predicting house value from a single feature**\n",
    "- As a first task, let's try to predict the price from a single feature: the average number of rooms\n",
    "- The 5th column is the average number of rooms, `'RM'`\n",
    "- To reshape the arrays, use the `.reshape` method to keep the first dimension, but add another dimension of size one to `X`.\n",
    "\n",
    "**Fitting a regression model**\n",
    "- Instantiate [`sklearn.linear_model.LinearRegression`][linreg]\n",
    "- Fit the model by passing in the data and target\n",
    "- Check out the regressors predictions over the range of the data with [`np.linspace`][linsp] between the `max` and `min` value of `X_rooms`.\n",
    "\n",
    "\n",
    "  [values]: https://pandas.pydata.org/pandas-docs/stable/reference/api/pandas.DataFrame.values.html\n",
    "  [tonumpy]: https://pandas.pydata.org/pandas-docs/stable/reference/api/pandas.DataFrame.to_numpy.html#pandas.DataFrame.to_numpy\n",
    "  [linreg]: https://scikit-learn.org/stable/modules/generated/sklearn.linear_model.LinearRegression.html\n",
    "  [linsp]: https://numpy.org/doc/stable/reference/generated/numpy.linspace.html"
   ]
  },
  {
   "cell_type": "code",
   "execution_count": null,
   "metadata": {},
   "outputs": [],
   "source": [
    "boston = pd.read_csv(data_paths[1])\n",
    "display(boston.head())\n",
    "\n",
    "# creating features and target arrays\n",
    "X = boston.drop('MEDV', axis=1).to_numpy()\n",
    "y = boston.MEDV.to_numpy()\n",
    "\n",
    "# predict from a single feature\n",
    "X_rooms = X[:, 5]\n",
    "\n",
    "# check variable type\n",
    "print(f'X_rooms type: {type(X_rooms)}, shape: {X_rooms.shape}\\ny type: {type(y)}, shape: {y.shape}')\n",
    "\n",
    "# reshape\n",
    "X_rooms = X_rooms.reshape(-1, 1)\n",
    "y = y.reshape(-1, 1)\n",
    "print(f'X_rooms shape: {X_rooms.shape}\\ny shape: {y.shape}')\n",
    "\n",
    "# instantiate model\n",
    "reg = LinearRegression()\n",
    "\n",
    "# fit a linear model\n",
    "reg.fit(X_rooms, y)\n",
    "\n",
    "# data range variable\n",
    "pred_space = np.linspace(min(X_rooms), max(X_rooms)).reshape(-1, 1)\n",
    "\n",
    "# plot house value as a function of rooms\n",
    "sns.scatterplot(data=boston, x='RM', y='MEDV', label='Data')\n",
    "plt.plot(pred_space, reg.predict(pred_space), color='k', lw=3, label='Regression')\n",
    "plt.legend(loc='lower right')\n",
    "plt.xlabel('Number of Rooms')\n",
    "plt.ylabel('Value of house /1000 ($)')\n",
    "plt.show()"
   ]
  },
  {
   "cell_type": "markdown",
   "metadata": {},
   "source": [
    "### Which of the following is a regression problem?\n",
    "\n",
    "Andy introduced regression to you using the Boston housing dataset. But regression models can be used in a variety of contexts to solve a variety of different problems.\n",
    "\n",
    "Given below are four example applications of machine learning. Your job is to pick the one that is best framed as a regression problem.\n",
    "\n",
    "**Answer the question**\n",
    "\n",
    "- ~~An e-commerce company using labeled customer data to predict whether or not a customer will purchase a particular item.~~\n",
    "- ~~A healthcare company using data about cancer tumors (such as their geometric measurements) to predict whether a new tumor is benign or malignant.~~\n",
    "- ~~A restaurant using review data to ascribe positive or negative sentiment to a given review.~~\n",
    "- **A bike share company using time and weather data to predict the number of bikes being rented at any given hour.**\n",
    "  - The target variable here - the number of bike rentals at any given hour - is quantitative, so this is best framed as a regression problem."
   ]
  },
  {
   "cell_type": "markdown",
   "metadata": {},
   "source": [
    "### Importing data for supervised learning\n",
    "\n",
    "In this chapter, you will work with [Gapminder][gm] data that we have consolidated into one CSV file available in the workspace as `'gapminder.csv'`. Specifically, your goal will be to use this data to predict the life expectancy in a given country based on features such as the country's GDP, fertility rate, and population. As in Chapter 1, the dataset has been preprocessed.\n",
    "\n",
    "Since the target variable here is quantitative, this is a regression problem. To begin, you will fit a linear regression with just one feature: `'fertility'`, which is the average number of children a woman in a given country gives birth to. In later exercises, you will use all the features to build regression models.\n",
    "\n",
    "Before that, however, you need to import the data and get it into the form needed by scikit-learn. This involves creating feature and target variable arrays. Furthermore, since you are going to use only one feature to begin with, you need to do some reshaping using NumPy's `.reshape()` method. Don't worry too much about this reshaping right now, but it is something you will have to do occasionally when working with scikit-learn so it is useful to practice.\n",
    "\n",
    "**Instructions**\n",
    "\n",
    "- Import `numpy` and `pandas` as their standard aliases.\n",
    "- Read the file `'gapminder.csv'` into a DataFrame `df` using the `read_csv()` function.\n",
    "- Create array `X` for the `'fertility'` feature and array `y` for the `'life'` target variable.\n",
    "- Reshape the arrays by using the `.reshape()` method and passing in `-1` and `1`.\n",
    "\n",
    "\n",
    "  [gm]: https://www.gapminder.org/data/"
   ]
  },
  {
   "cell_type": "code",
   "execution_count": null,
   "metadata": {},
   "outputs": [],
   "source": [
    "# Read the CSV file into a DataFrame: df\n",
    "df = pd.read_csv(data_paths[3])\n",
    "\n",
    "# Create arrays for features and target variable\n",
    "y = df.life.values\n",
    "X = df.fertility.values\n",
    "\n",
    "# Print the dimensions of X and y before reshaping\n",
    "print(\"Dimensions of y before reshaping: {}\".format(y.shape))\n",
    "print(\"Dimensions of X before reshaping: {}\".format(X.shape))\n",
    "\n",
    "# Reshape X and y\n",
    "y = y.reshape(-1, 1)\n",
    "X = X.reshape(-1, 1)\n",
    "\n",
    "# Print the dimensions of X and y after reshaping\n",
    "print(\"Dimensions of y after reshaping: {}\".format(y.shape))\n",
    "print(\"Dimensions of X after reshaping: {}\".format(X.shape))"
   ]
  },
  {
   "cell_type": "markdown",
   "metadata": {},
   "source": [
    "### Exploring the Gapminder data\n",
    "\n",
    "As always, it is important to explore your data before building models. On the right, we have constructed a heatmap showing the correlation between the different features of the Gapminder dataset, which has been pre-loaded into a DataFrame as `df` and is available for exploration in the IPython Shell. Cells that are in green show positive correlation, while cells that are in red show negative correlation. Take a moment to explore this: Which features are positively correlated with `life`, and which ones are negatively correlated? Does this match your intuition?\n",
    "\n",
    "Then, in the IPython Shell, explore the DataFrame using pandas methods such as `.info()`, `.describe()`, `.head()`.\n",
    "\n",
    "In case you are curious, the heatmap was generated using [Seaborn's heatmap function](https://seaborn.pydata.org/generated/seaborn.heatmap.html) and the following line of code, where `df.corr()` computes the pairwise correlation between columns:\n",
    "\n",
    "`sns.heatmap(df.corr(), square=True, cmap='RdYlGn')`\n",
    "\n",
    "Once you have a feel for the data, consider the statements below and select the one that is not true. After this, Hugo will explain the mechanics of linear regression in the next video and you will be on your way building regression models!\n",
    "\n",
    "**Instructions**\n",
    "\n",
    "- The DataFrame has `139` samples (or rows) and `9` columns.\n",
    "- `life` and `fertility` are negatively correlated.\n",
    "- The mean of `life` is `69.602878`.\n",
    "- ~~`fertility` is of type `int64`.~~\n",
    "- `GDP` and `life` are positively correlated."
   ]
  },
  {
   "cell_type": "code",
   "execution_count": null,
   "metadata": {},
   "outputs": [],
   "source": [
    "ax = sns.heatmap(df.select_dtypes(include=['number']).corr(), square=True, cmap='RdYlGn')"
   ]
  },
  {
   "cell_type": "markdown",
   "metadata": {},
   "source": [
    "## The basics of linear regression\n",
    "\n",
    "- How does linear regression work?\n",
    "\n",
    "**Regression mechanics**\n",
    "- We want to ft a line to the data and a line in two dimensions is always of the form $y=a*x+b$, where $y$ is the _target_, $x$ is the single feature, and $a$ and $b$ are the parameters of the model that we want to learn.\n",
    "- The question of fitting is reduced to: how do we choose $a$ and $b$?\n",
    "- A common method is to define an error function for any given line, and then choose the line that minimizes the error function.\n",
    "  - Such an error function is also called a loss or a cost function.\n",
    "  \n",
    "**The loss function**\n",
    "- What will our loss function be?\n",
    "- We want the line to be as close to the actual data points as possible.\n",
    "  - For this reason, we wish to minimize the vertical distance between the fit, and the data.\n",
    "- For each data point, calculate the vertical distance between it and the line.\n",
    "  - This distance is called a residual.\n",
    "- We could try to minimize the sum of the residuals, but then a large positive residual would cancel out a large negative residual.\n",
    "  - For this reason, **we minimize the sum of the squares of the residuals**.\n",
    "  - This will be the loss function, and using this loss function is commonly called _ordinary least squares (OLS)_.\n",
    "  - ![][loss]\n",
    "  - Note this is the same as minimizing the mean squared error of the predictions on the training set.\n",
    "    - See the statistic curriculum for more detail.\n",
    "- When `.fit` is called on a linear regression model in scikit-learn, it performs this OLS, under the hood.\n",
    "\n",
    "**Linear regression in higher dimensions**\n",
    "- When we have two features and one target, a line is in the form $y=a_{1}x_{1}+a_{2}x_{2}+b$, so to fit a linear regression model, is to specify three variables, $a_{1}$, $a_{2}$, and $b$.\n",
    "- In higher dimensions, with more than one or two features, a line is of this form, $y=a_{1}x_{1}+a_{2}x_{2}+a_{3}x_{3}+...+a_{n}x_{n}+b$, so fitting a linear regression model is to specify a coefficient, $a_{i}$, for each features, as well as the variable $b$.\n",
    "- The scikit-learn API works exactly the same in this case: pass two arrays to the `.fit` method, one containing the _features_, the other is the _target_ variable.\n",
    "\n",
    "**Linear regression on all _Boston Housing_ features**\n",
    "- The default scoring method for linear regression is called $R^2$.\n",
    "  - This metric quantifies the amount of variance in the target variable that is predicted from the feature variables.\n",
    "    - See the scikit-learn documentation, and the DataCamp statistics curriculum for more details.\n",
    "  - To compute $R^2$, apply the [.score][score] method to the model, and pass it two arguments, the features and target data.\n",
    "- Generally, linear regression will never be used out of the box, like this; you will mostly likely wish to use _regularization_, which we'll see soon, and which places further constraints on the model coefficients.\n",
    "- Learning about linear regression and how to use it in scikit-learn, is an essential first step toward using regularized linear models.\n",
    "\n",
    "  \n",
    "  [loss]: https://raw.githubusercontent.com/trenton3983/DataCamp/master/Images/2020-10-14_supervised_learning_sklearn/loss.JPG\n",
    "  [score]: https://scikit-learn.org/stable/modules/generated/sklearn.linear_model.LinearRegression.html#sklearn.linear_model.LinearRegression.score"
   ]
  },
  {
   "cell_type": "code",
   "execution_count": null,
   "metadata": {},
   "outputs": [],
   "source": [
    "boston.head()"
   ]
  },
  {
   "cell_type": "code",
   "execution_count": null,
   "metadata": {},
   "outputs": [],
   "source": [
    "# split the data\n",
    "X_train, X_test, y_train, y_test = train_test_split(boston.drop('MEDV', axis=1), boston.MEDV, test_size=0.3, random_state=42)\n",
    "\n",
    "# instantiate the regressor\n",
    "reg_all = LinearRegression()\n",
    "\n",
    "# fit on the training set\n",
    "reg_all.fit(X_train, y_train)\n",
    "\n",
    "# predict on the test set\n",
    "y_pred = reg_all.predict(X_test)\n",
    "\n",
    "# score the model\n",
    "score = reg_all.score(X_test, y_test)\n",
    "\n",
    "print(f'Model Score: {score:0.3f}')"
   ]
  },
  {
   "cell_type": "markdown",
   "metadata": {},
   "source": [
    "### Fit & predict for regression\n",
    "\n",
    "Now, you will fit a linear regression and predict life expectancy using just one feature. You saw Andy do this earlier using the `'RM'` feature of the Boston housing dataset. In this exercise, you will use the `'fertility'` feature of the Gapminder dataset. Since the goal is to predict life expectancy, the target variable here is `'life'`. The array for the target variable has been pre-loaded as `y` and the array for `'fertility'` has been pre-loaded as `X_fertility`.\n",
    "\n",
    "A scatter plot with `'fertility'` on the x-axis and `'life'` on the y-axis has been generated. As you can see, there is a strongly negative correlation, so a linear regression should be able to capture this trend. Your job is to fit a linear regression and then predict the life expectancy, overlaying these predicted values on the plot to generate a regression line. You will also compute and print the $R^2$ score using sckit-learn's `.score()` method.\n",
    "\n",
    "**Instructions**\n",
    "\n",
    "- Import `LinearRegression` from `sklearn.linear_model`.\n",
    "- Create a `LinearRegression` regressor called `reg`.\n",
    "- Set up the prediction space to range from the minimum to the maximum of `X_fertility`. This has been done for you.\n",
    "- Fit the regressor to the data (`X_fertility` and `y`) and compute its predictions using the `.predict()` method and the `prediction_space` array.\n",
    "- Compute and print the $R^2$ score using the `.score()` method.\n",
    "- Overlay the plot with your linear regression line. This has been done for you, so hit 'Submit Answer' to see the result!"
   ]
  },
  {
   "cell_type": "code",
   "execution_count": null,
   "metadata": {},
   "outputs": [],
   "source": [
    "df.head()"
   ]
  },
  {
   "cell_type": "code",
   "execution_count": null,
   "metadata": {},
   "outputs": [],
   "source": [
    "X_fertility = df.fertility.to_numpy().reshape(-1, 1)\n",
    "y = df.life.to_numpy().reshape(-1, 1)\n",
    "\n",
    "# Create the regressor: reg\n",
    "reg = LinearRegression()\n",
    "\n",
    "# Create the prediction space\n",
    "prediction_space = np.linspace(df.fertility.max(), df.fertility.min()).reshape(-1,1)\n",
    "\n",
    "# Fit the model to the data\n",
    "reg.fit(X_fertility, y)\n",
    "\n",
    "# Compute predictions over the prediction space: y_pred\n",
    "y_pred = reg.predict(prediction_space)\n",
    "\n",
    "# Print R^2 \n",
    "score = reg.score(X_fertility, y)\n",
    "print(f'Score: {score}')\n",
    "\n",
    "# Plot regression line\n",
    "sns.scatterplot(data=df, x='fertility', y='life')\n",
    "plt.xlabel('Fertility')\n",
    "plt.ylabel('Life Expectancy')\n",
    "plt.plot(prediction_space, y_pred, color='black', linewidth=3)\n",
    "plt.show()"
   ]
  },
  {
   "cell_type": "markdown",
   "metadata": {},
   "source": [
    "**Notice how the line captures the underlying trend in the data. And the performance is quite decent for this basic regression model with only one feature.**"
   ]
  },
  {
   "cell_type": "markdown",
   "metadata": {},
   "source": [
    "### Train/test split for regression\n",
    "\n",
    "As you learned in Chapter 1, train and test sets are vital to ensure that your supervised learning model is able to generalize well to new data. This was true for classification models, and is equally true for linear regression models.\n",
    "\n",
    "In this exercise, you will split the Gapminder dataset into training and testing sets, and then fit and predict a linear regression over **all** features. In addition to computing the $R^2$ score, you will also compute the Root Mean Squared Error (RMSE), which is another commonly used metric to evaluate regression models. The feature array `X` and target variable array `y` have been pre-loaded for you from the DataFrame `df`.\n",
    "\n",
    "**Instructions**\n",
    "\n",
    "- Import `LinearRegression` from `sklearn.linear_model`, [`mean_squared_error`][mse] from `sklearn.metrics`, and `train_test_split` from `sklearn.model_selection`.\n",
    "- Using `X` and `y`, create training and test sets such that 30% is used for testing and 70% for training. Use a random state of `42`.\n",
    "- Create a linear regression regressor called `reg_all`, fit it to the training set, and evaluate it on the test set.\n",
    "- Compute and print the $R^2$ score using the `.score()` method on the test set.\n",
    "- Compute and print the RMSE. To do this, first compute the Mean Squared Error using the `mean_squared_error()` function with the arguments `y_test` and `y_pred`, and then take its square root using `np.sqrt()`.\n",
    "\n",
    "  [mse]: https://scikit-learn.org/stable/modules/generated/sklearn.metrics.mean_squared_error.html"
   ]
  },
  {
   "cell_type": "code",
   "execution_count": null,
   "metadata": {},
   "outputs": [],
   "source": [
    "X = df.drop(['life', 'Region'], axis=1).to_numpy()\n",
    "y = df.life.to_numpy()\n",
    "\n",
    "# Create training and test sets\n",
    "X_train, X_test, y_train, y_test = train_test_split(X, y, test_size = 0.3, random_state=42)\n",
    "\n",
    "# Create the regressor: reg_all\n",
    "reg_all = LinearRegression()\n",
    "\n",
    "# Fit the regressor to the training data\n",
    "reg_all.fit(X_train, y_train)\n",
    "\n",
    "# Predict on the test data: y_pred\n",
    "y_pred = reg_all.predict(X_test)\n",
    "\n",
    "# Compute and print R^2 and RMSE\n",
    "print(f\"R^2: {reg_all.score(X_test, y_test):0.3f}\")\n",
    "rmse = np.sqrt(mean_squared_error(y_test, y_pred))\n",
    "print(f\"Root Mean Squared Error: {rmse:0.3f}\")"
   ]
  },
  {
   "cell_type": "markdown",
   "metadata": {},
   "source": [
    "**Using all features has improved the model score. This makes sense, as the model has more information to learn from. However, there is one potential pitfall to this process. Can you spot it? You'll learn about this, as well how to better validate your models, in the next section.**"
   ]
  },
  {
   "cell_type": "markdown",
   "metadata": {},
   "source": [
    "## Cross-validation\n",
    "\n",
    "- You're now also becoming more acquainted with train test split, and computing model performance metrics on the test set.\n",
    "- Can you spot a potential pitfall of this process?\n",
    "  - If you're computing $R^2$ on your test set, the $R^2$ returned, is dependent on the way the data is split.\n",
    "  - The data points in the test set may have some peculiarities that mean the $R^2$ computed on it, is not representative of the model's ability to generalize to unseen data.\n",
    "- To combat this dependence on what is essentially an arbitrary split, we use a technique call _cross-validation_.\n",
    "- ![][cv]\n",
    "  - Begin by splitting the dataset into five groups, or folds.\n",
    "  - Hold out the first fold as a test set, fit the model on the remaining 4 folds, predict on the test test set, and compute the metric of interest.\n",
    "  - Next, hold out the second fold as the test set, fit on the remaining data, predict on the test set, and compute the metric of interest.\n",
    "  - Then, similarly, with the third, fourth and fifth fold.\n",
    "  - As a result, there are five values of $R^2$ from which statistics of interest can be computed, such as mean, median, and 95% confidence interval.\n",
    "- As the dataset is split into 5 folds, this process is called _5-fold cross validation_.\n",
    "  - 10 folds would be _10-fold cross validation_.\n",
    "- Generally, if _k_ folds are used, it is called _k-fold cross validation_ or _k-fold CV_.\n",
    "- The trade-off is, more folds are computationally more expensive, because there is more fitting and predicting.\n",
    "- This method avoids the problem of the metric of choice being dependent on the train test split.\n",
    "\n",
    "\n",
    "**Cross-validation in scikit-learn**\n",
    "- [`sklearn.model_selection.cross_val_score`][cvs]\n",
    "- This returns an array of _cross-validation_ scores, which are assigned to `cv_results`\n",
    "- The length of the array is the number of folds specified by the `cv` parameter.\n",
    "- The reported score is $R^2$, the default score for linear regression\n",
    "- We can also compute the `mean`\n",
    "\n",
    "\n",
    "\n",
    "  [cv]: https://raw.githubusercontent.com/trenton3983/DataCamp/master/Images/2020-10-14_supervised_learning_sklearn/crossvalidation.JPG\n",
    "  [cvs]: https://scikit-learn.org/stable/modules/generated/sklearn.model_selection.cross_val_score.html"
   ]
  },
  {
   "cell_type": "code",
   "execution_count": null,
   "metadata": {},
   "outputs": [],
   "source": [
    "# instantiate the model\n",
    "reg = LinearRegression()\n",
    "\n",
    "# call cross_val_score\n",
    "cv_results = cross_val_score(reg, boston.drop('MEDV', axis=1), boston.MEDV, cv=5)\n",
    "\n",
    "print(f'Scores: {np.round(cv_results, 3)}')\n",
    "print(f'Scores mean: {np.round(np.mean(cv_results), 3)}')"
   ]
  },
  {
   "cell_type": "markdown",
   "metadata": {},
   "source": [
    "### 5-fold cross-validation\n",
    "\n",
    "Cross-validation is a vital step in evaluating a model. It maximizes the amount of data that is used to train the model, as during the course of training, the model is not only trained, but also tested on all of the available data.\n",
    "\n",
    "In this exercise, you will practice 5-fold cross validation on the Gapminder data. By default, scikit-learn's `cross_val_score()` function uses $R^2$ as the metric of choice for regression. Since you are performing 5-fold cross-validation, the function will return 5 scores. Your job is to compute these 5 scores and then take their average.\n",
    "\n",
    "The DataFrame has been loaded as `df` and split into the feature/target variable arrays `X` and `y`. The modules `pandas` and `numpy` have been imported as `pd` and `np`, respectively.\n",
    "\n",
    "**Instructions**\n",
    "\n",
    "- Import `LinearRegression` from `sklearn.linear_model` and `cross_val_score` from `sklearn.model_selection`.\n",
    "- Create a linear regression regressor called `reg`.\n",
    "- Use the `cross_val_score()` function to perform 5-fold cross-validation on `X` and `y`.\n",
    "- Compute and print the average cross-validation score. You can use NumPy's `mean()` function to compute the average."
   ]
  },
  {
   "cell_type": "code",
   "execution_count": null,
   "metadata": {},
   "outputs": [],
   "source": [
    "# Create a linear regression object: reg\n",
    "reg = LinearRegression()\n",
    "\n",
    "# Compute 5-fold cross-validation scores: cv_scores\n",
    "cv_scores = cross_val_score(reg, X, y, cv=5)\n",
    "\n",
    "# Print the 5-fold cross-validation scores\n",
    "print(f'Scores: {np.round(cv_scores, 3)}')\n",
    "\n",
    "print(f'Scores mean: {np.round(np.mean(cv_scores), 3)}')"
   ]
  },
  {
   "cell_type": "markdown",
   "metadata": {},
   "source": [
    "**Now that you have cross-validated your model, you can more confidently evaluate its predictions.**"
   ]
  },
  {
   "cell_type": "markdown",
   "metadata": {},
   "source": [
    "### K-Fold CV comparison\n",
    "\n",
    "Cross validation is essential but do not forget that the more folds you use, the more computationally expensive cross-validation becomes. In this exercise, you will explore this for yourself. Your job is to perform 3-fold cross-validation and then 10-fold cross-validation on the Gapminder dataset.\n",
    "\n",
    "In the IPython Shell, you can use `%timeit` to see how long each 3-fold CV takes compared to 10-fold CV by executing the following `cv=3` and `cv=10`:\n",
    "\n",
    "`%timeit cross_val_score(reg, X, y, cv = ____)`\n",
    "\n",
    "`pandas` and `numpy` are available in the workspace as `pd` and `np`. The DataFrame has been loaded as `df` and the feature/target variable arrays `X` and `y` have been created.\n",
    "\n",
    "**Instructions**\n",
    "\n",
    "- Import `LinearRegression` from `sklearn.linear_model` and `cross_val_score` from `sklearn.model_selection`.\n",
    "- Create a linear regression regressor called `reg`.\n",
    "- Perform 3-fold CV and then 10-fold CV. Compare the resulting mean scores."
   ]
  },
  {
   "cell_type": "code",
   "execution_count": null,
   "metadata": {},
   "outputs": [],
   "source": [
    "# Create a linear regression object: reg\n",
    "reg = LinearRegression()\n",
    "\n",
    "# Perform 3-fold CV\n",
    "cvscores_3 = cross_val_score(reg, X, y, cv=3)\n",
    "print(f'cv=3 scores mean: {np.round(np.mean(cvscores_3), 3)}')\n",
    "\n",
    "# Perform 10-fold CV\n",
    "cvscores_10 = cross_val_score(reg, X, y, cv=10)\n",
    "print(f'cv=10 scores mean: {np.round(np.mean(cvscores_10), 3)}')"
   ]
  },
  {
   "cell_type": "code",
   "execution_count": null,
   "metadata": {},
   "outputs": [],
   "source": [
    "cv3 = %timeit -n10 -r3 -q -o cross_val_score(reg, X, y, cv=3)\n",
    "cv10 = %timeit -n10 -r3 -q -o cross_val_score(reg, X, y, cv=10)\n",
    "\n",
    "print(f'cv=3 time: {cv3}\\ncv=10 time: {cv10}')"
   ]
  },
  {
   "cell_type": "markdown",
   "metadata": {},
   "source": [
    "## Regularized regression\n",
    "\n",
    "**Why regularize?**\n",
    "- Recall that what a linear regression does, is minimize a loss function, to choose a coefficient, $a_{i}$, for each feature variable.\n",
    "- If we allow these coefficients, or parameters, to be super large, we can get _overfitting_.\n",
    "- It isn't easy to see in two dimensions, but when there are many features, this is, if the data sit in a high-dimensional space with large coefficients, it gets easy to predict nearly anything.\n",
    "- For this reason, it's common practice to alter the loss function, so it penalizes for large coefficients.\n",
    "  - This is called _**Regularization**_.\n",
    "\n",
    "**Ridge regression**\n",
    "- The first type of regularized regression that we'll look at, is called _ridge regression_, in which out loss function is the standard _OLS_ loss function, plus the squared value of each coefficient, multiplied by some constant, $\\alpha$\n",
    "  - $\\text{Loss function}=\\text{OLS loss function}+\\alpha*\\sum_{i=1}^n a_{i}^2$\n",
    "  - Thus, when minimizing the loss function to fit to our data, models are penalized for coefficients with a large magnitude: large positive and large negative coefficients.\n",
    "  - Note, $\\alpha$ is a parameter we need to choose in order to fit and predict.\n",
    "  - Essentially, we can select the $\\alpha$ for which our model performs best.\n",
    "  - Picking $\\alpha$ for ridge regression is similar to picking `k` in `KNN`.\n",
    "- This is called _hyperparameter tuning_, and we'll see much more of this in section 3.\n",
    "- This $\\alpha$, which you may also see called $\\lambda$ in the wild, can be thought of as a parameter that controls the model complexity.\n",
    "- Notice when $\\alpha = 0$, we get back $\\text{OLS}$, which can lead to _overfitting_.\n",
    "  - Large coefficients, in this case, are not penalized, and the _overfitting_ problem is not accounted for.\n",
    "- A very high $\\alpha$ means large coefficients are significantly penalized, which can lead to a model that's too simple, and end up _underfitting_ the data.\n",
    "- The method of performing _ridge regression_ with scikit-learn, mirrors the other models we have seen.\n",
    "\n",
    "**Ridge regression in scikit-learn**\n",
    "- [`sklearn.linear_model.Ridge`][ridge]\n",
    "- Set $\\alpha$ with the `alpha` parameter.\n",
    "- Setting the `normalize` parameter to `True`, ensures all the variables are on the same scale, which will be covered later in more depth.\n",
    "\n",
    "**Lasso regression**\n",
    "- There is another type of _regularized regression_ called _lasso regression_, in which our loss function is the standard _OLS_ loss function, plus the absolute value of each coefficient, multiplied by some constant, $\\alpha$.\n",
    "  - $\\text{Loss function}=\\text{OLS loss function}+\\alpha*\\sum_{i=1}^n |a_{i}|$\n",
    "\n",
    "**Lasso regression in scikit-learn**\n",
    "- [`sklearn.linear_model.Lasso`][lasso]\n",
    "- Lasso regression in scikit-learn, mirrors ridge regression.\n",
    "\n",
    "**Lasso regression for feature selection**\n",
    "- One of the useful aspects of _lasso regression_ is it can be used to select important features of a dataset.\n",
    "  - This is because it tends to reduce the coefficients of less important features to be exactly zero.\n",
    "  - The features whose coefficients are not shrunk to zero, are 'selected' by the `LASSO` algorithm.\n",
    "- Plotting the coefficients as a function of feature name, yields graph below, and you can see directly, the most important predictor for our target variable, `housing price`, is number of rooms, `'RM'`.\n",
    "- This is not surprising, and is a great sanity check.\n",
    "- This type of feature selection is very important for machine learning in an industry or business setting, because it allows you, as the Data Scientist, to communicate important results to non-technical colleagues.\n",
    "- The power of reporting important features from a linear model, cannot be overestimated.\n",
    "- It is also valuable in research science, in order to identify which factors are important predictors for various physical phenomena.\n",
    "\n",
    "**2024-04-22 Update Notes**\n",
    "\n",
    "In earlier versions of `scikit-learn`, the `Ridge` regression model included a `normalize` parameter that allowed users to specify whether to normalize the input features before fitting the model. Normalization here refers to scaling individual features to have zero mean and unit variance.\n",
    "\n",
    "However, in more recent versions of `scikit-learn`, this `normalize` parameter has been deprecated. The recommendation now is to use a `StandardScaler` for feature scaling before applying the model, or to use a `Pipeline` to streamline this process. This change promotes a more explicit handling of preprocessing steps, improving code clarity and flexibility.\n",
    "\n",
    "Here's an example of how you might handle this with a `Pipeline`:\n",
    "\n",
    "```python\n",
    "from sklearn.linear_model import Ridge\n",
    "from sklearn.preprocessing import StandardScaler\n",
    "from sklearn.pipeline import make_pipeline\n",
    "\n",
    "# Create a pipeline that first scales the data then applies Ridge regression\n",
    "model = make_pipeline(StandardScaler(), Ridge(alpha=1.0))\n",
    "```\n",
    "\n",
    "Using a pipeline ensures that the same scaling applied to the training data is also applied to any new data before making predictions, which is essential for consistent model performance.\n",
    "\n",
    "\n",
    "  [ridge]: https://scikit-learn.org/stable/modules/generated/sklearn.linear_model.Ridge.html\n",
    "  [lasso]: https://scikit-learn.org/stable/modules/generated/sklearn.linear_model.Lasso.html"
   ]
  },
  {
   "cell_type": "markdown",
   "metadata": {},
   "source": [
    "#### Ridge Regression"
   ]
  },
  {
   "cell_type": "code",
   "execution_count": null,
   "metadata": {},
   "outputs": [],
   "source": [
    "# split the data\n",
    "X_train, X_test, y_train, y_test = train_test_split(boston.drop('MEDV', axis=1), boston.MEDV, test_size=0.3, random_state=42)\n",
    "\n",
    "# instantiate the model\n",
    "ridge = make_pipeline(StandardScaler(), Ridge(alpha=1.0))\n",
    "\n",
    "# fit the model\n",
    "ridge.fit(X_train, y_train)\n",
    "\n",
    "# predict on the test data\n",
    "ridge_pred = ridge.predict(X_test)\n",
    "\n",
    "# get the score\n",
    "rs = ridge.score(X_test, y_test)\n",
    "\n",
    "print(f'Ridge Score: {round(rs, 4)}')"
   ]
  },
  {
   "cell_type": "markdown",
   "metadata": {},
   "source": [
    "#### Lasso Regression"
   ]
  },
  {
   "cell_type": "code",
   "execution_count": null,
   "metadata": {},
   "outputs": [],
   "source": [
    "# split the data\n",
    "X_train, X_test, y_train, y_test = train_test_split(boston.drop('MEDV', axis=1), boston.MEDV, test_size=0.3, random_state=42)\n",
    "\n",
    "# instantiate the regressor\n",
    "lasso = make_pipeline(StandardScaler(), Lasso(alpha=1.0))\n",
    "\n",
    "# fit the model\n",
    "lasso.fit(X_train, y_train)\n",
    "\n",
    "# predict on the test data\n",
    "lasso_pred = lasso.predict(X_test)\n",
    "\n",
    "# get the score\n",
    "ls = lasso.score(X_test, y_test)\n",
    "\n",
    "print(f'Ridge Score: {round(ls, 4)}')"
   ]
  },
  {
   "cell_type": "markdown",
   "metadata": {},
   "source": [
    "#### Lasso Regression for Feature Selection"
   ]
  },
  {
   "cell_type": "code",
   "execution_count": null,
   "metadata": {},
   "outputs": [],
   "source": [
    "# store the feature names\n",
    "names = boston.drop('MEDV', axis=1).columns\n",
    "\n",
    "# instantiate the regressor\n",
    "lasso = Lasso(alpha=0.1)\n",
    "\n",
    "# extract and store the coef attribute\n",
    "lasso_coef = lasso.fit(boston.drop('MEDV', axis=1), boston.MEDV).coef_\n",
    "\n",
    "plt.plot(range(len(names)), lasso_coef)\n",
    "plt.xticks(range(len(names)), names, rotation=60)\n",
    "plt.ylabel('Coefficients')\n",
    "plt.grid()\n",
    "plt.show()"
   ]
  },
  {
   "cell_type": "markdown",
   "metadata": {},
   "source": [
    "### Regularization I: Lasso\n",
    "\n",
    "In the video, you saw how Lasso selected out the `'RM'` feature as being the most important for predicting Boston house prices, while shrinking the coefficients of certain other features to 0. Its ability to perform feature selection in this way becomes even more useful when you are dealing with data involving thousands of features.\n",
    "\n",
    "In this exercise, you will fit a lasso regression to the Gapminder data you have been working with and plot the coefficients. Just as with the Boston data, you will find that the coefficients of some features are shrunk to 0, with only the most important ones remaining.\n",
    "\n",
    "The feature and target variable arrays have been pre-loaded as `X` and `y`.\n",
    "\n",
    "**Instructions**\n",
    "\n",
    "- Import `Lasso` from `sklearn.linear_model`.\n",
    "- Instantiate a Lasso regressor with an alpha of `0.4` and specify `normalize=True`.\n",
    "- Fit the regressor to the data and compute the coefficients using the `coef_` attribute.\n",
    "- Plot the coefficients on the y-axis and column names on the x-axis. This has been done for you, so hit 'Submit Answer' to view the plot!"
   ]
  },
  {
   "cell_type": "code",
   "execution_count": null,
   "metadata": {},
   "outputs": [],
   "source": [
    "# Instantiate a lasso regressor: lasso\n",
    "lasso = make_pipeline(StandardScaler(), Lasso(alpha=0.4))\n",
    "\n",
    "# Fit the regressor to the data\n",
    "lasso.fit(X, y)\n",
    "\n",
    "# Compute and print the coefficients\n",
    "# Access the 'Lasso' object and its 'coef_' attribute\n",
    "lasso_coef = lasso.named_steps['lasso'].coef_\n",
    "print(f'Lasso Coef: {lasso_coef}\\n')\n",
    "\n",
    "# Plot the coefficients\n",
    "df_columns = df.drop(['life', 'Region'], axis=1).columns\n",
    "\n",
    "plt.plot(range(len(df_columns)), lasso_coef)\n",
    "plt.xticks(range(len(df_columns)), df_columns.values, rotation=60)\n",
    "plt.margins(0.02)\n",
    "plt.show()"
   ]
  },
  {
   "cell_type": "markdown",
   "metadata": {},
   "source": [
    "**According to the lasso algorithm, it seems like `'child_mortality'` is the most important feature when predicting life expectancy.**"
   ]
  },
  {
   "cell_type": "markdown",
   "metadata": {},
   "source": [
    "### Regularization II: Ridge\n",
    "\n",
    "Lasso is great for feature selection, but when building regression models, Ridge regression should be your first choice.\n",
    "\n",
    "Recall that lasso performs regularization by adding to the loss function a penalty term of the absolute value of each coefficient multiplied by some alpha. This is also known as $L1$ regularization because the regularization term is the $L1$ norm of the coefficients. This is not the only way to regularize, however.\n",
    "\n",
    "If instead you took the sum of the squared values of the coefficients multiplied by some alpha - like in Ridge regression - you would be computing the $L2$ norm. In this exercise, you will practice fitting ridge regression models over a range of different alphas, and plot cross-validated $R^2$ scores for each, using this function that we have defined for you, which plots the $R^2$ score as well as standard error for each alpha:\n",
    "\n",
    "Don't worry about the specifics of the above function works. The motivation behind this exercise is for you to see how the $R^2$ score varies with different alphas, and to understand the importance of selecting the right value for alpha. You'll learn how to tune alpha in the next chapter.\n",
    "\n",
    "**Instructions**\n",
    "\n",
    "- Instantiate a Ridge regressor and specify `normalize=True`.\n",
    "- Inside the `for` loop:\n",
    "  - Specify the alpha value for the regressor to use.\n",
    "  - Perform 10-fold cross-validation on the regressor with the specified alpha. The data is available in the arrays `X` and `y`.\n",
    "  - Append the average and the standard deviation of the computed cross-validated scores. NumPy has been pre-imported for you as `np`.\n",
    "- Use the `display_plot()` function to visualize the scores and standard deviations."
   ]
  },
  {
   "cell_type": "code",
   "execution_count": null,
   "metadata": {},
   "outputs": [],
   "source": [
    "def display_plot(cv_scores, cv_scores_std, alpha_space):\n",
    "    fig = plt.figure(figsize=(9, 6))\n",
    "    ax = fig.add_subplot(1,1,1)\n",
    "    ax.plot(alpha_space, cv_scores, label='CV Scores')\n",
    "\n",
    "    std_error = cv_scores_std / np.sqrt(10)\n",
    "\n",
    "    ax.fill_between(alpha_space, cv_scores + std_error, cv_scores - std_error, color='violet', alpha=0.2, label='CV Score ± std error')\n",
    "    ax.set_ylabel('CV Score +/- Std Error')\n",
    "    ax.set_xlabel('Alpha')\n",
    "    ax.axhline(np.max(cv_scores), linestyle='--', color='.5', label='Max CV Score')\n",
    "    ax.set_xlim([alpha_space[0], alpha_space[-1]])\n",
    "    ax.set_xscale('log')\n",
    "    ax.legend(bbox_to_anchor=(1, 0.5), loc='center left', frameon=False)\n",
    "    plt.show()"
   ]
  },
  {
   "cell_type": "code",
   "execution_count": null,
   "metadata": {},
   "outputs": [],
   "source": [
    "# Setup the array of alphas and lists to store scores\n",
    "alpha_space = np.logspace(-4, 2, 50)\n",
    "ridge_scores = []\n",
    "ridge_scores_std = []\n",
    "\n",
    "# Create a ridge regressor: ridge\n",
    "ridge = make_pipeline(StandardScaler(), Ridge())\n",
    "\n",
    "# Compute scores over range of alphas\n",
    "for alpha in alpha_space:\n",
    "\n",
    "    # Specify the alpha value to use on the Ridge object within the pipeline\n",
    "    ridge.named_steps['ridge'].set_params(alpha=alpha)\n",
    "    \n",
    "    # Perform 10-fold CV: ridge_cv_scores\n",
    "    ridge_cv_scores = cross_val_score(ridge, X, y, cv=10)\n",
    "    \n",
    "    # Append the mean of ridge_cv_scores to ridge_scores\n",
    "    ridge_scores.append(np.mean(ridge_cv_scores))\n",
    "    \n",
    "    # Append the std of ridge_cv_scores to ridge_scores_std\n",
    "    ridge_scores_std.append(np.std(ridge_cv_scores))\n",
    "\n",
    "# Display the plot\n",
    "display_plot(ridge_scores, ridge_scores_std, alpha_space)"
   ]
  },
  {
   "cell_type": "markdown",
   "metadata": {},
   "source": [
    "**Notice how the cross-validation scores change with different alphas. Which alpha should you pick? How can you fine-tune your model? You'll learn all about this in the next chapter!**"
   ]
  },
  {
   "cell_type": "markdown",
   "metadata": {},
   "source": [
    "# Fine-tuning your model\n",
    "\n",
    "Having trained your model, your next task is to evaluate its performance. In this chapter, you will learn about some of the other metrics available in scikit-learn that will allow you to assess your model's performance in a more nuanced manner. Next, learn to optimize your classification and regression models using hyperparameter tuning."
   ]
  },
  {
   "cell_type": "markdown",
   "metadata": {},
   "source": [
    "## How good is your model\n",
    "\n",
    "- In classification, we've seen that you can use accuracy, the fraction of correctly classified samples, to measure model performance.\n",
    "- Accuracy is not always a useful metric.\n",
    "\n",
    "**Class imbalance example: Emails**\n",
    "- Consider a SPAM classification problem in which 99% of emails are real and only 1% are SPAM.\n",
    "- A model can be built to classify all emails as real; this model would be correct 99% of the time, and thus, have an accuracy of 99%, which sounds great.\n",
    "- However, this naive classifier does a horrible job of predicting SPAM: it never predicts SPAM, so it completely fails at its original purpose.\n",
    "- The situation when one class is more frequent, is called _class imbalance_, because the class of real emails contains way more instances than the class of SPAM.\n",
    "- This is a very common situation in practice, and requires a more nuanced metric to assess the performance of our model.\n",
    "\n",
    "**Diagnosing classification predictions**\n",
    "- Given a binary classifier, such as our SPAM email example, we can draw up a 2-by-2 matrix that summarized predictive performance, call a _confusion matrix_\n",
    "  - [Wikipedia: Confusion Matrix](https://en.wikipedia.org/wiki/Confusion_matrix)\n",
    "  - [`sklearn.metrics.confusion_matrix`](https://scikit-learn.org/stable/modules/generated/sklearn.metrics.confusion_matrix.html)\n",
    "  - ![](https://raw.githubusercontent.com/trenton3983/DataCamp/master/Images/2020-10-14_supervised_learning_sklearn/conf_matrix.JPG)\n",
    "  - Across the top, are the predicted labels\n",
    "  - Down the side, are the actual labels\n",
    "- Given any model, we can fill the confusion matrix according to its predictions.\n",
    "  - In the top left square, are the number of correctly labeled SPAM emails - **True Positive**\n",
    "  - In the bottom right square, are the number correctly labeled real emails - **True Negative**\n",
    "  - In the top right square, are the number of incorrectly labeled SPAM emails - **False Negative**\n",
    "  - In the bottom left square, are the number of incorrectly labeled real emails - **False Positive**\n",
    "- Usually, the _class of interest_, **SPAM**, is called the _positive class_.\n",
    "- Why do we care about the confusion matrix?\n",
    "  - Notice we can retrieve **accuracy** from the confusion matrix: it's the sum of the diagonal, divided by the total sum of the matrix\n",
    "    - $\\frac{t_{p}+t_{n}}{t_{p}+t_{n}+f_{p}+f_{n}}$\n",
    "\n",
    "**Metrics from the confusion matrix**\n",
    "- There are several other important metrics you can easily calculate from the confusion matrix.\n",
    "- **Precision**, which is the number of true positives, divided by the total number to true positives and false positives.\n",
    "  - $\\frac{t_{p}}{t_{p}+f_{p}}$\n",
    "  - It is also call the _positive predictive value_ or _PPV_\n",
    "  - This is the number of correctly labeled SPAM emails, divided by the total number of emails classified as SPAM.\n",
    "- **Recall**, which is the number of true positives, divided by the total number of true positives and false negatives.\n",
    "  - $\\frac{t_{p}}{t_{p}+f_{n}}$\n",
    "  - This is also called _sensitivity_, _hit rate_, or _true positive rate_.\n",
    "- The **F1-Score** is defined as two times the product of the precision and recall, divided by the sum of the precision and recall\n",
    "  - It's the harmonic mean of precision and recall\n",
    "  - $2-\\frac{precision*recall}{precision+recall}$\n",
    "- **High precision** means our classifier had a low false positive rate, that is, not many real emails were predicted as being SPAM.\n",
    "- **High recall** means that our classifier predicted most positive, or SPAM emails correctly."
   ]
  },
  {
   "cell_type": "code",
   "execution_count": null,
   "metadata": {},
   "outputs": [],
   "source": [
    "# using the voting dataset from 1.3.1\n",
    "v_na.head()"
   ]
  },
  {
   "cell_type": "code",
   "execution_count": null,
   "metadata": {},
   "outputs": [],
   "source": [
    "# instantiate the model\n",
    "knn = KNeighborsClassifier(n_neighbors=8)\n",
    "\n",
    "# split the voting data\n",
    "X_train, X_test, y_train, y_test = train_test_split(v_na.drop(['party'], axis=1), v_na.party, test_size=0.4, random_state=42)\n",
    "\n",
    "# fit the training data\n",
    "knn.fit(X_train, y_train)\n",
    "\n",
    "# predict the labels fo the test set\n",
    "y_pred = knn.predict(X_test)\n",
    "\n",
    "# confusion_matrix\n",
    "print(f'Confusion Matrix:\\n{confusion_matrix(y_test, y_pred)}\\n')\n",
    "\n",
    "# classification report\n",
    "print(f'Classification Report: \\n{classification_report(y_test, y_pred)}')"
   ]
  },
  {
   "cell_type": "markdown",
   "metadata": {},
   "source": [
    "### Metrics for classification\n",
    "\n",
    "In Chapter 1, you evaluated the performance of your k-NN classifier based on its accuracy. However, as Andy discussed, accuracy is not always an informative metric. In this exercise, you will dive more deeply into evaluating the performance of binary classifiers by computing a confusion matrix and generating a classification report.\n",
    "\n",
    "You may have noticed in the video that the classification report consisted of three rows, and an additional support column. The support gives the number of samples of the true response that lie in that class - so in the video example, the support was the number of Republicans or Democrats in the test set on which the classification report was computed. The precision, recall, and f1-score columns, then, gave the respective metrics for that particular class.\n",
    "\n",
    "Here, you'll work with the [PIMA Indians diabetes](https://www.kaggle.com/uciml/pima-indians-diabetes-database) dataset obtained from the UCI Machine Learning Repository. The goal is to predict whether or not a given female patient will contract diabetes based on features such as BMI, age, and number of pregnancies. Therefore, it is a binary classification problem. A target value of `0` indicates that the patient does not have diabetes, while a value of `1` indicates that the patient does have diabetes. As in Chapters 1 and 2, the dataset has been preprocessed to deal with missing values.\n",
    "\n",
    "The dataset has been loaded into a DataFrame `df` and the feature and target variable arrays `X` and `y` have been created for you. In addition, `sklearn.model_selection.train_test_split` and `sklearn.neighbors.KNeighborsClassifier` have already been imported.\n",
    "\n",
    "Your job is to train a k-NN classifier to the data and evaluate its performance by generating a confusion matrix and classification report.\n",
    "\n",
    "**Instructions**\n",
    "\n",
    "- Import `classification_report` and `confusion_matrix` from `sklearn.metrics`.\n",
    "- Create training and testing sets with 40% of the data used for testing. Use a random state of `42`.\n",
    "- Instantiate a k-NN classifier with `6` neighbors, fit it to the training data, and predict the labels of the test set.\n",
    "- Compute and print the confusion matrix and classification report using the `confusion_matrix()` and `classification_report()` functions."
   ]
  },
  {
   "cell_type": "code",
   "execution_count": null,
   "metadata": {},
   "outputs": [],
   "source": [
    "df = pd.read_csv(data_paths[2])\n",
    "X = df.drop('diabetes', axis=1)\n",
    "y = df.diabetes\n",
    "df.head()"
   ]
  },
  {
   "cell_type": "code",
   "execution_count": null,
   "metadata": {},
   "outputs": [],
   "source": [
    "# Create training and test set\n",
    "X_train, X_test, y_train, y_test = train_test_split(X, y, test_size=0.4, random_state=42)\n",
    "\n",
    "# Instantiate a k-NN classifier: knn\n",
    "knn = knn = KNeighborsClassifier(n_neighbors=6)\n",
    "\n",
    "# Fit the classifier to the training data\n",
    "knn.fit(X_train, y_train)\n",
    "\n",
    "# Predict the labels of the test data: y_pred\n",
    "y_pred = knn.predict(X_test)\n",
    "\n",
    "# Generate the confusion matrix and classification report\n",
    "print(f'Confusion Matrix:\\n{confusion_matrix(y_test, y_pred)}\\n')\n",
    "print(f'Classification Report: \\n{classification_report(y_test, y_pred)}')"
   ]
  },
  {
   "cell_type": "markdown",
   "metadata": {},
   "source": [
    "**By analyzing the confusion matrix and classification report, you can get a much better understanding of your classifier's performance.**"
   ]
  },
  {
   "cell_type": "markdown",
   "metadata": {},
   "source": [
    "## Logistic regression and the ROC curve\n",
    "\n",
    "- Despite its name, [_logistic regression_](https://en.wikipedia.org/wiki/Logistic_regression) is used in classification problems, not regression problems.\n",
    "  - [`sklearn.linear_model.LogisticRegression`](https://scikit-learn.org/stable/modules/generated/sklearn.linear_model.LogisticRegression.html)\n",
    "- See the stats course for mathematical details.\n",
    "- This section will provide an intuition towards how logistic regression (log reg) works for binary classification, that is, when we have two possible labels for the target variable.\n",
    "\n",
    "**Logistic regression for binary classification**\n",
    "- Given one feature, log reg will output a probability, $p$, with respect to the target variable.\n",
    "- If $p$ is greater than 0.5, we label the data as `'1'`, for less than 0.5, we label it `'0'`.\n",
    "- Log reg produces a linear decision boundary.\n",
    "  - ![](https://raw.githubusercontent.com/trenton3983/DataCamp/master/Images/2020-10-14_supervised_learning_sklearn/log_reg_linear_decision_boundary.JPG)\n",
    "- Using logistic regression in scikit-learn follows exactly the same formula that you now\n",
    "\n",
    "**Logistic regression in scikit-learn**\n",
    "- Below, we've used the voting dataset from earlier.\n",
    "- Notice that in defining logistic regression, we have specified a threshold of 0.5 for the probability, a threshold that defines our model.\n",
    "- Note that this is not particular for log reg, but also could be used for KNN.\n",
    "- What happens as the threshold is varied?\n",
    "  - In particular, what happens to the true positive and false positive rates as we vary the threshold?\n",
    "  - When the threshold equals 0, $p=0$, the model predicts `'1'` for all the data, which means the true positive rate is equal to the false positive rate, is equal to one.\n",
    "  - When the threshold equals 1, $p=1$, the model predicts `'0'` for all the data, which means that both true and false positive rates are 0.\n",
    "  - ![](https://raw.githubusercontent.com/trenton3983/DataCamp/master/Images/2020-10-14_supervised_learning_sklearn/roc1.JPG)\n",
    "  - If we vary the threshold between these two extremes, we get a series of different false positive and true positive rates.\n",
    "  - ![](https://raw.githubusercontent.com/trenton3983/DataCamp/master/Images/2020-10-14_supervised_learning_sklearn/roc2.JPG)\n",
    "- The set of points we get when trying all positive thresholds, is called the _receiver operating characteristic curve_, or _ROC curve_.\n",
    "  - ![](https://raw.githubusercontent.com/trenton3983/DataCamp/master/Images/2020-10-14_supervised_learning_sklearn/roc3.JPG)\n",
    "- We used the predicted probabilities of the model, assigning a value of `'1'` to the observation in question.\n",
    "  - This is because, to compute the ROC, we do not merely want the predictions on the test set, be we want the probability that our log reg model outputs before using a threshold to predict the label.\n",
    "  - To do this, we apply the method, `.predict_proba` to the model and pass it the test data.\n",
    "    - This returns an array with two columns: each column contains the probabilities for the respective target values.\n",
    "    - We choose the second column, the one with index 1, that is, the probabilities of the predicted labels being `'1'`.\n",
    "- [`sklearn.metrics.roc_curve`](https://scikit-learn.org/stable/modules/generated/sklearn.metrics.roc_curve.html)\n",
    "- ROC - [Receiver Operating Characteristic](https://en.wikipedia.org/wiki/Receiver_operating_characteristic): a graphical plot that illustrates the diagnostic ability of a binary classifier system as its discrimination threshold is varied. The method was originally developed for operators of military radar receivers, which is why it is so named.\n",
    "  - The ROC curve is created by plotting the true positive rate (TPR) against the false positive rate (FPR) at various threshold settings. The true-positive rate is also known as sensitivity, recall or probability of detection[8] in machine learning. The false-positive rate is also known as probability of false alarm[8] and can be calculated as (1 − specificity). It can also be thought of as a plot of the power as a function of the Type I Error of the decision rule (when the performance is calculated from just a sample of the population, it can be thought of as estimators of these quantities). The ROC curve is thus the sensitivity or recall as a function of fall-out.\n",
    "- **ROC Curves summarize the trade-off between the true positive rate and false positive rate for a predictive model using different probability thresholds.**<sup>[1][c1]</sup>\n",
    "- **Precision-Recall curves summarize the trade-off between the true positive rate and the positive predictive value for a predictive model using different probability thresholds.**<sup>[1][c1]</sup>\n",
    "- **ROC curves are appropriate when the observations are balanced between each class, whereas precision-recall curves are appropriate for imbalanced datasets.**<sup>[1][c1]</sup>\n",
    "    \n",
    "  [c1]: https://machinelearningmastery.com/roc-curves-and-precision-recall-curves-for-classification-in-python/"
   ]
  },
  {
   "cell_type": "code",
   "execution_count": null,
   "metadata": {},
   "outputs": [],
   "source": [
    "# instantiate the model\n",
    "logreg = LogisticRegression()\n",
    "\n",
    "# split the voting data\n",
    "X_train, X_test, y_train, y_test = train_test_split(v_na.drop(['party'], axis=1), v_na.party, test_size=0.4, random_state=42)\n",
    "\n",
    "logreg.fit(X_train, y_train)\n",
    "\n",
    "y_pred = logreg.predict(X_test)"
   ]
  },
  {
   "cell_type": "markdown",
   "metadata": {},
   "source": [
    "#### Plotting the ROC curve"
   ]
  },
  {
   "cell_type": "code",
   "execution_count": null,
   "metadata": {},
   "outputs": [],
   "source": [
    "y_pred_prob = logreg.predict_proba(X_test)[:, 1]\n",
    "\n",
    "fpr, tpr, thresholds = roc_curve(y_test, y_pred_prob, pos_label='republican')\n",
    "\n",
    "plt.figure(figsize=(6, 6))\n",
    "plt.plot([0, 1], [0, 1], 'k--')\n",
    "plt.plot(fpr, tpr, label='Logistic Regression')\n",
    "plt.legend()\n",
    "plt.xlabel('False Positive Rate')\n",
    "plt.ylabel('True Positive Rate')\n",
    "plt.title('Logistic Regression ROC Curve')\n",
    "plt.show()"
   ]
  },
  {
   "cell_type": "markdown",
   "metadata": {},
   "source": [
    "### Building a logistic regression model\n",
    "\n",
    "Time to build your first logistic regression model! As Hugo showed in the video, scikit-learn makes it very easy to try different models, since the Train-Test-Split/Instantiate/Fit/Predict paradigm applies to all classifiers and regressors - which are known in scikit-learn as 'estimators'. You'll see this now for yourself as you train a logistic regression model on exactly the same data as in the previous exercise. Will it outperform k-NN? There's only one way to find out!\n",
    "\n",
    "The feature and target variable arrays `X` and `y` have been pre-loaded, and `train_test_split` has been imported for you from `sklearn.model_selection`.\n",
    "\n",
    "**Instructions**\n",
    "\n",
    "- Import:\n",
    "  - `LogisticRegression` from `sklearn.linear_model`.\n",
    "  - `confusion_matrix` and `classification_report` from `sklearn.metrics`.\n",
    "- Create training and test sets with 40% (or `0.4`) of the data used for testing. Use a random state of `42`. This has been done for you.\n",
    "- Instantiate a `LogisticRegression` classifier called `logreg`.\n",
    "- Fit the classifier to the training data and predict the labels of the test set.\n",
    "- Compute and print the confusion matrix and classification report. This has been done for you, so hit 'Submit Answer' to see how logistic regression compares to k-NN!"
   ]
  },
  {
   "cell_type": "code",
   "execution_count": null,
   "metadata": {},
   "outputs": [],
   "source": [
    "# Create training and test sets\n",
    "X_train, X_test, y_train, y_test = train_test_split(X, y, test_size = 0.4, random_state=42)\n",
    "\n",
    "# Create the classifier: logreg\n",
    "logreg = LogisticRegression(max_iter=150)\n",
    "\n",
    "# Fit the classifier to the training data\n",
    "logreg.fit(X_train, y_train)\n",
    "\n",
    "# Predict the labels of the test set: y_pred\n",
    "y_pred = logreg.predict(X_test)\n",
    "\n",
    "# Compute and print the confusion matrix and classification report\n",
    "print(confusion_matrix(y_test, y_pred))\n",
    "print(classification_report(y_test, y_pred))"
   ]
  },
  {
   "cell_type": "markdown",
   "metadata": {},
   "source": [
    "**You now know how to use logistic regression for binary classification - great work! Logistic regression is used in a variety of machine learning applications and will become a vital part of your data science toolbox.**"
   ]
  },
  {
   "cell_type": "markdown",
   "metadata": {},
   "source": [
    "### Plotting an ROC curve\n",
    "\n",
    "Classification reports and confusion matrices are great methods to quantitatively evaluate model performance, while ROC curves provide a way to visually evaluate models. As Hugo demonstrated in the video, most classifiers in scikit-learn have a `.predict_proba()` method which returns the probability of a given sample being in a particular class. Having built a logistic regression model, you'll now evaluate its performance by plotting an ROC curve. In doing so, you'll make use of the `.predict_proba()` method and become familiar with its functionality.\n",
    "\n",
    "Here, you'll continue working with the PIMA Indians diabetes dataset. The classifier has already been fit to the training data and is available as `logreg`.\n",
    "\n",
    "**Instructions**\n",
    "\n",
    "- `from sklearn.metrics import roc_curve`.\n",
    "- Using the `logreg` classifier, which has been fit to the training data, compute the predicted probabilities of the labels of the test set `X_test`. Save the result as `y_pred_prob`.\n",
    "- Use the `roc_curve()` function with `y_test` and `y_pred_prob` and unpack the result into the variables `fpr`, `tpr`, and `thresholds`.\n",
    "- Plot the ROC curve with `fpr` on the x-axis and `tpr` on the y-axis."
   ]
  },
  {
   "cell_type": "code",
   "execution_count": null,
   "metadata": {},
   "outputs": [],
   "source": [
    "# Create the classifier: logreg\n",
    "logreg = LogisticRegression(multi_class='ovr', n_jobs=1, solver='liblinear')\n",
    "\n",
    "# Fit the classifier to the training data\n",
    "logreg.fit(X_train, y_train)\n",
    "\n",
    "# Compute predicted probabilities: y_pred_prob\n",
    "y_pred_prob = logreg.predict_proba(X_test)[:,1]\n",
    "\n",
    "# Generate ROC curve values: fpr, tpr, thresholds\n",
    "fpr, tpr, thresholds = roc_curve(y_test, y_pred_prob)\n",
    "\n",
    "# Plot ROC curve\n",
    "plt.subplots(figsize=(4.5, 4.5))\n",
    "plt.plot([0, 1], [0, 1], 'k--')\n",
    "plt.plot(fpr, tpr)\n",
    "plt.xlabel('False Positive Rate')\n",
    "plt.ylabel('True Positive Rate')\n",
    "plt.title('ROC Curve')\n",
    "plt.show()"
   ]
  },
  {
   "cell_type": "markdown",
   "metadata": {},
   "source": [
    "**This ROC curve provides a nice visual way to assess your classifier's performance.**"
   ]
  },
  {
   "cell_type": "markdown",
   "metadata": {},
   "source": [
    "### Precision-recall Curve\n",
    "\n",
    "When looking at your ROC curve, you may have noticed that the y-axis (True positive rate) is also known as recall. Indeed, in addition to the ROC curve, there are other ways to visually evaluate model performance. One such way is the precision-recall curve, which is generated by plotting the precision and recall for different thresholds. As a reminder, precision and recall are defined as:\n",
    "\n",
    " $Precision=\\frac{t_{p}}{t_{p}+f_{p}}$\n",
    " \n",
    " $Recall=\\frac{t_{p}}{t_{p}+f_{n}}$\n",
    "\n",
    "On the right, a precision-recall curve has been generated for the diabetes dataset. The classification report and confusion matrix are displayed in the IPython Shell.\n",
    "\n",
    "Study the precision-recall curve and then consider the statements given below. Choose the one statement that is not true. Note that here, the class is positive (1) if the individual has diabetes."
   ]
  },
  {
   "cell_type": "code",
   "execution_count": null,
   "metadata": {},
   "outputs": [],
   "source": [
    "lr_precision, lr_recall, _ = precision_recall_curve(y_test, y_pred_prob)\n",
    "no_skill = len(y_test[y_test==1]) / len(y_test)\n",
    "\n",
    "plt.subplots(figsize=(5, 5))\n",
    "plt.plot([0, 1], [no_skill, no_skill], linestyle='--', label='No Skill')\n",
    "plt.plot(lr_recall, lr_precision, marker='.', label='Logistic')\n",
    "plt.xlabel('Recall')\n",
    "plt.ylabel('Precision')\n",
    "plt.legend()\n",
    "plt.show()"
   ]
  },
  {
   "cell_type": "markdown",
   "metadata": {},
   "source": [
    "**Instructions**\n",
    "\n",
    "- A recall of 1 corresponds to a classifier with a low threshold in which all females who contract diabetes were correctly classified as such, at the expense of many misclassifications of those who did not have diabetes.\n",
    "  - _This is a true statement! Observe how when the recall is high, the precision drops._\n",
    "- Precision is undefined for a classifier which makes no positive predictions, that is, classifies everyone as not having diabetes.\n",
    "  - _In the case when there are no true positives or true negatives, precision is 0/0, which is undefined._\n",
    "- When the threshold is very close to 1, precision is also 1, because the classifier is absolutely certain about its predictions.\n",
    "  - _This is a correct statement. Notice how a high precision corresponds to a low recall: The classifier has a high threshold to ensure the positive predictions it makes are correct, which means it may miss some positive labels that have lower probabilities._\n",
    "- ~~Precision and recall take true negatives into consideration.~~\n",
    "  - _True negatives do not appear at all in the definitions of precision and recall._"
   ]
  },
  {
   "cell_type": "markdown",
   "metadata": {},
   "source": [
    "## Area under the ROC curve\n",
    "\n",
    "- Given the ROC curve, can we extract a metric of interest?\n",
    "- Consider the following: the larger the area under the ROC curve, the better out model is.\n",
    "- The way to think about this is the following: if we had a model which produced an ROC curve that had a single point at (1, 0), the upper left corner, representing a true positive rate of one and a false positive rate of zero, this would be a great model.\n",
    "- For this reason, **the area under the ROC, commonly denoted as AUC, is another popular metric for _classification models_**.\n",
    "- ![][roc_auc]\n",
    "- AUC in `scikit-learn`\n",
    "  - `from sklearn.metrics import roc_auc_score`\n",
    "\n",
    "  [roc_auc]: https://raw.githubusercontent.com/trenton3983/DataCamp/master/Images/2020-10-14_supervised_learning_sklearn/3_3_roc_auc.JPG"
   ]
  },
  {
   "cell_type": "code",
   "execution_count": null,
   "metadata": {},
   "outputs": [],
   "source": [
    "v_na.head(3)"
   ]
  },
  {
   "cell_type": "code",
   "execution_count": null,
   "metadata": {},
   "outputs": [],
   "source": [
    "# instantiate the classifier\n",
    "logreg = LogisticRegression()\n",
    "\n",
    "# split the data into train and test sets\n",
    "X_train, X_test, y_train, y_test = train_test_split(v_na.iloc[:, 1:], v_na.iloc[:, 0], test_size=0.4, random_state=42)\n",
    "\n",
    "# fit the model to the train data\n",
    "logreg.fit(X_train, y_train)\n",
    "\n",
    "# compute the predicted probabilites\n",
    "y_pred_prob = logreg.predict_proba(X_test)[:,1]\n",
    "\n",
    "# pass the True labels and the predicted probabilites to roc_auc_score\n",
    "roc_auc_score(y_test, y_pred_prob)"
   ]
  },
  {
   "cell_type": "markdown",
   "metadata": {},
   "source": [
    "- The AUC can also be computed using cross-validation.\n",
    "  - [scikit-learn: Computing cross-validated metrics][cvs]\n",
    "  - [`sklearn.model_selection.cross_val_score`][cvs_func]\n",
    "  - Imported as: `from sklearn.model_selection import cross_val_score`\n",
    "  \n",
    "  [cvs]: https://scikit-learn.org/stable/modules/cross_validation.html#computing-cross-validated-metrics\n",
    "  [cvs_func]: https://scikit-learn.org/stable/modules/generated/sklearn.model_selection.cross_val_score.html"
   ]
  },
  {
   "cell_type": "code",
   "execution_count": null,
   "metadata": {},
   "outputs": [],
   "source": [
    "# pass the estimator, features, and target, to cross_val_score, and use scoring='roc_auc'\n",
    "cv_scores = cross_val_score(logreg, v_na.iloc[:, 1:], v_na.iloc[:, 0], cv=5, scoring='roc_auc')\n",
    "cv_scores"
   ]
  },
  {
   "cell_type": "markdown",
   "metadata": {},
   "source": [
    "### AUC computation\n",
    "\n",
    "Say you have a binary classifier that in fact is just randomly making guesses. It would be correct approximately 50% of the time, and the resulting ROC curve would be a diagonal line in which the True Positive Rate and False Positive Rate are always equal. The Area under this ROC curve would be 0.5. This is one way in which the AUC, which Hugo discussed in the video, is an informative metric to evaluate a model. If the AUC is greater than 0.5, the model is better than random guessing. Always a good sign!\n",
    "\n",
    "In this exercise, you'll calculate AUC scores using the `roc_auc_score()` function from `sklearn.metrics` as well as by performing cross-validation on the diabetes dataset.\n",
    "\n",
    "X and y, along with training and test sets `X_train`, `X_test`, `y_train`, `y_test`, have been pre-loaded for you, and a logistic regression classifier `logreg` has been fit to the training data.\n",
    "\n",
    "**Instructions**\n",
    "\n",
    "- Import `roc_auc_score` from `sklearn.metrics` and `cross_val_score` from `sklearn.model_selection`.\n",
    "- Using the `logreg` classifier, which has been fit to the training data, compute the predicted probabilities of the labels of the test set `X_test`. Save the result as `y_pred_prob`.\n",
    "- Compute the AUC score using the `roc_auc_score()` function, the test set labels `y_test`, and the predicted probabilities `y_pred_prob`.\n",
    "- Compute the AUC scores by performing 5-fold cross-validation. Use the `cross_val_score()` function and specify the `scoring` parameter to be `'roc_auc'`."
   ]
  },
  {
   "cell_type": "code",
   "execution_count": null,
   "metadata": {},
   "outputs": [],
   "source": [
    "# instantiate the classifier\n",
    "logreg = LogisticRegression(multi_class='ovr', n_jobs=1, solver='liblinear')\n",
    "\n",
    "# split the data into train and test sets\n",
    "X_train, X_test, y_train, y_test = train_test_split(X, y, test_size=0.4, random_state=42)\n",
    "\n",
    "# fit the model to the train data\n",
    "logreg.fit(X_train, y_train)\n",
    "\n",
    "# Compute predicted probabilities: y_pred_prob\n",
    "y_pred_prob = logreg.predict_proba(X_test)[:,1]\n",
    "\n",
    "# Compute and print AUC score\n",
    "print(f\"AUC: {roc_auc_score(y_test, y_pred_prob)}\")\n",
    "\n",
    "# Compute cross-validated AUC scores: cv_auc\n",
    "cv_auc = cross_val_score(logreg, X, y, cv=5, scoring='roc_auc')\n",
    "\n",
    "# Print list of AUC scores\n",
    "print(f\"AUC scores computed using 5-fold cross-validation: {cv_auc}\")\n",
    "\n",
    "# Generate ROC curve values: fpr, tpr, thresholds\n",
    "fpr, tpr, thresholds = roc_curve(y_test, y_pred_prob)\n",
    "\n",
    "# Plot ROC curve\n",
    "plt.subplots(figsize=(4.5, 4.5))\n",
    "plt.plot([0, 1], [0, 1], 'k--')\n",
    "plt.plot(fpr, tpr)\n",
    "plt.xlabel('False Positive Rate')\n",
    "plt.ylabel('True Positive Rate')\n",
    "plt.title('ROC Curve')\n",
    "plt.show()"
   ]
  },
  {
   "cell_type": "markdown",
   "metadata": {},
   "source": [
    "**You now have a number of different methods you can use to evaluate your model's performance.**"
   ]
  },
  {
   "cell_type": "markdown",
   "metadata": {},
   "source": [
    "## Hyperparameter tuning\n",
    "\n",
    "- We've seen that when fitting a linear regression, what we're really doing is choosing parameters for the model that fit the data the best.\n",
    "  - Linear regression: Choosing parameters\n",
    "- We also saw that we have to choose a value for the `alpha` in ridge and lasso regression before fitting it. \n",
    "- Before fitting and predicting K-nearest neighbors, `n_neighbors` must be chosen.\n",
    "- Such parameters, ones that need to be specified before fitting a model, are called hyperparameters.\n",
    "  - Hyperparameters cannot be learned by by fitting the model\n",
    "- **Choosing the correct hyperparameters is a fundamental key for building a successful model.**\n",
    "  - Try a bunch of different hyperparameter values\n",
    "  - Fit all of them separately\n",
    "  - See how well each performs\n",
    "  - Choose the best performing one\n",
    "  - This is called hyperparameter tuning and doing so in this fashion is the current standard\n",
    "  - When fitting different values of a hypterparameter, it is essential to use cross-validation, as using `train-test-split` alone, would risk overfitting the hyperparameter to the test set.\n",
    "  - Even after tuning out hyperparameters using cross-validation, we'll want to have already split off a test set in order to report how well our model can be expected to perform on a dataset that it has never seen before.\n",
    "- **Grid search cross-validation**\n",
    "  - We choose a grid of possible values we want to try for the hyperparameter(s).\n",
    "    - For example, if there are two hyperparameters, `C` and `alpha`, the grid values to test could look like the following:\n",
    "      - ![](https://raw.githubusercontent.com/trenton3983/DataCamp/master/Images/2020-10-14_supervised_learning_sklearn/cv_grid_empty.JPG)\n",
    "    - We then perform k-fold cross-validation for each point in the grid, that is, for each choice of hyperparameter or combination of parameters.\n",
    "    - We then choose for our model the choice of hyperparameters that performed the best.\n",
    "      - ![](https://raw.githubusercontent.com/trenton3983/DataCamp/master/Images/2020-10-14_supervised_learning_sklearn/cv_grid.JPG)\n",
    "    - This is called a grid search, and in `scikit-learn` we implement it using the class `GridSearchCV`\n",
    "      - `from sklearn.model_selection import GridSearchCV`\n",
    "  - Specify the hyperparameter as a `dictionary` in which the `keys` are the hyperparameter names, such as `n_neighbors` in KNN or `alpha` in lasso regression.\n",
    "    - See the documentation of each model for the name of its hyperparameters\n",
    "  - The `values` in the grid `dictionary` are `lists` containing the values we wish to tune the relevant hyperparameter(s) over.\n",
    "  - If multiple parameters are specified, all possible combinations will be tried.\n",
    "  - `GridSearchCV` returns a `GridSearchCV` object, which is fit to the data, and this fit performs the grid search inplace.\n",
    "  - Use `.best_params_` to retrieve the parameters that perform the best\n",
    "  - `.best_score_` returns the mean cross-validation score over that fold."
   ]
  },
  {
   "cell_type": "code",
   "execution_count": null,
   "metadata": {},
   "outputs": [],
   "source": [
    "# specify the hyperparameter(s) as a dictionary\n",
    "param_grid = {'n_neighbors': np.arange(1, 50)}\n",
    "\n",
    "# instantiate the classifier\n",
    "knn = KNeighborsClassifier()\n",
    "\n",
    "# use GridSeachCV and pass in the model, the grid to turn over, and the number of folds\n",
    "knn_cv = GridSearchCV(knn, param_grid, cv=5)\n",
    "\n",
    "# fit and permord the grid search\n",
    "knn_cv.fit(v_na.iloc[:, 1:], v_na.iloc[:, 0])\n",
    "\n",
    "bp = knn_cv.best_params_\n",
    "bs = round(knn_cv.best_score_, 2)\n",
    "\n",
    "print(f'Best Parameters: {bp}\\nBest Score: {bs}')"
   ]
  },
  {
   "cell_type": "markdown",
   "metadata": {},
   "source": [
    "### Hyperparameter tuning with GridSearchCV\n",
    "\n",
    "Hugo demonstrated how to tune the `n_neighbors` parameter of the `KNeighborsClassifier()` using `GridSearchCV` on the voting dataset. You will now practice this yourself, but by using logistic regression on the diabetes dataset instead!\n",
    "\n",
    "Like the `alpha` parameter of lasso and ridge regularization that you saw earlier, logistic regression also has a regularization parameter:`C`. `C` controls the inverse of the regularization strength, and this is what you will tune in this exercise. A large `C` can lead to an _overfit_ model, while a small `C` can lead to an _underfit_ model.\n",
    "\n",
    "The hyperparameter space for  has been setup for you. Your job is to use GridSearchCV and logistic regression to find the optimal  in this hyperparameter space. The feature array is available as `X` and target variable array is available as `y`.\n",
    "\n",
    "You may be wondering why you aren't asked to split the data into training and test sets. Good observation! Here, we want you to focus on the process of setting up the hyperparameter grid and performing grid-search cross-validation. In practice, you will indeed want to hold out a portion of your data for evaluation purposes, and you will learn all about this in the next video!\n",
    "\n",
    "**Instructions**\n",
    "\n",
    "- Import `LogisticRegression` from `sklearn.linear_model` and `GridSearchCV` from `sklearn.model_selection`.\n",
    "- Setup the hyperparameter grid by using `c_space` as the grid of values to tune `C` over.\n",
    "- Instantiate a logistic regression classifier called `logreg`.\n",
    "- Use `GridSearchCV` with 5-fold cross-validation to tune `C`:\n",
    "  - Inside `GridSearchCV()`, specify the classifier, parameter grid, and number of folds to use.\n",
    "  - Use the `.fit()` method on the `GridSearchCV` object to fit it to the data `X` and `y`.\n",
    "- Print the best parameter and best score obtained from `GridSearchCV` by accessing the `best_params_` and `best_score_` attributes of `logreg_cv`."
   ]
  },
  {
   "cell_type": "code",
   "execution_count": null,
   "metadata": {},
   "outputs": [],
   "source": [
    "# Setup the hyperparameter grid\n",
    "c_space = np.logspace(-5, 8, 15)\n",
    "param_grid = {'C': c_space, 'max_iter': range(200, 1000, 200)}\n",
    "\n",
    "# Instantiate a logistic regression classifier: logreg\n",
    "logreg = LogisticRegression()\n",
    "\n",
    "# Instantiate the GridSearchCV object: logreg_cv\n",
    "logreg_cv = GridSearchCV(logreg, param_grid, cv=5)\n",
    "\n",
    "# Fit it to the data\n",
    "logreg_cv.fit(X,y)\n",
    "\n",
    "bp = logreg_cv.best_params_\n",
    "bs = round(logreg_cv.best_score_, 2)\n",
    "\n",
    "# Print the tuned parameters and score\n",
    "print(f\"Tuned Logistic Regression Parameters: {bp}\") \n",
    "print(f\"Best score is {bs}\")"
   ]
  },
  {
   "cell_type": "markdown",
   "metadata": {},
   "source": [
    "**It looks like a `C` of `0` results in the best performance.**"
   ]
  },
  {
   "cell_type": "markdown",
   "metadata": {},
   "source": [
    "### Hyperparameter tuning with RandomizedSearchCV\n",
    "\n",
    "`GridSearchCV` can be computationally expensive, especially if you are searching over a large hyperparameter space and dealing with multiple hyperparameters. A solution to this is to use `RandomizedSearchCV`, in which not all hyperparameter values are tried out. Instead, a fixed number of hyperparameter settings is sampled from specified probability distributions. You'll practice using `RandomizedSearchCV` in this exercise and see how this works.\n",
    "\n",
    "Here, you'll also be introduced to a new model: the Decision Tree. Don't worry about the specifics of how this model works. Just like k-NN, linear regression, and logistic regression, decision trees in scikit-learn have `.fit()` and `.predict()` methods that you can use in exactly the same way as before. Decision trees have many parameters that can be tuned, such as `max_features`, `max_depth`, and `min_samples_leaf`: This makes it an ideal use case for `RandomizedSearchCV`.\n",
    "\n",
    "As before, the feature array `X` and target variable array `y` of the diabetes dataset have been pre-loaded. The hyperparameter settings have been specified for you. Your goal is to use `RandomizedSearchCV` to find the optimal hyperparameters. Go for it!\n",
    "\n",
    "**Instructions**\n",
    "\n",
    "- Import `DecisionTreeClassifier` from `sklearn.tree` and `RandomizedSearchCV` from `sklearn.model_selection`.\n",
    "- Specify the parameters and distributions to sample from. This has been done for you.\n",
    "- Instantiate a `DecisionTreeClassifier`.\n",
    "- Use `RandomizedSearchCV` with 5-fold cross-validation to tune the hyperparameters:\n",
    "  - Inside `RandomizedSearchCV()`, specify the classifier, parameter distribution, and number of folds to use.\n",
    "  - Use the `.fit()` method on the `RandomizedSearchCV` object to fit it to the data X and y.\n",
    "- Print the best parameter and best score obtained from RandomizedSearchCV by accessing the `best_params_` and `best_score_` attributes of `tree_cv`."
   ]
  },
  {
   "cell_type": "code",
   "execution_count": null,
   "metadata": {},
   "outputs": [],
   "source": [
    "# Setup the parameters and distributions to sample from: param_dist\n",
    "param_dist = {\"max_depth\": [3, None],\n",
    "              \"max_features\": randint(1, 9),\n",
    "              \"min_samples_leaf\": randint(1, 9),\n",
    "              \"criterion\": [\"gini\", \"entropy\"]}\n",
    "\n",
    "# Instantiate a Decision Tree classifier: tree\n",
    "tree = DecisionTreeClassifier()\n",
    "\n",
    "# Instantiate the RandomizedSearchCV object: tree_cv\n",
    "tree_cv = RandomizedSearchCV(estimator=tree, param_distributions=param_dist, cv=5)\n",
    "\n",
    "# Fit it to the data\n",
    "tree_cv.fit(X, y)\n",
    "\n",
    "# Print the tuned parameters and score\n",
    "bp = tree_cv.best_params_\n",
    "bs = round(tree_cv.best_score_, 2)\n",
    "\n",
    "print(f\"Tuned Decision Tree Parameters: {bp}\") \n",
    "print(f\"Best score is {bs}\")"
   ]
  },
  {
   "cell_type": "markdown",
   "metadata": {},
   "source": [
    "**You'll see a lot more of decision trees and `RandomizedSearchCV` as you continue your machine learning journey. Note that `RandomizedSearchCV` will never outperform `GridSearchCV`. Instead, it is valuable because it saves on computation time.**"
   ]
  },
  {
   "cell_type": "markdown",
   "metadata": {},
   "source": [
    "## Hold-out set for final evaluation\n",
    "\n",
    "- After using K-fold cross-validation to tune the model's hyperparameters, I may want to report how well my model can be expected to perform on a dataset that it has never seen before, given my scoring function of choice.\n",
    "  - How well can the model perform on never before seen data?\n",
    "- I want to use my model to predict on some labeled data, compare my predictions to the actual labels, and compute the scoring function.\n",
    "- If I've used all the data from cross-validation, estimating the model performance on any of it may not provide an accurate picture of how it will perform on unseen data.\n",
    "  - Using ALL data for cross-validation is not ideal.\n",
    "- For this reason, it's important to split all of the data at the very beginning into a training set and hold-out set, then perform cross-validation on the training set to tune my model's hyperparameters.\n",
    "  - Split data into training and hold-out set at the beginning\n",
    "  - Perform grid search cross-validation on the training set\n",
    "- After this, select the best hyperparameters and use the hold-out set, which has not been used, to test how well the model can be expected to perform on a dataset that it has never seen before\n",
    "  - Choose best hyperparameters and evaluate on the hold-out set\n",
    "- All the tools to perform this technique have already been provided.\n",
    "  - `train-test-split` and `GridSearchCV` will be useful."
   ]
  },
  {
   "cell_type": "markdown",
   "metadata": {},
   "source": [
    "### Hold-out set reasoning\n",
    "\n",
    "For which of the following reasons would you want to use a hold-out set for the very end?\n",
    "\n",
    "Possible Answers\n",
    "\n",
    "- ~~You want to maximize the amount of training data used.~~\n",
    "- **You want to be absolutely certain about your model's ability to generalize to unseen data.**\n",
    "  - _The idea is to tune the model's hyperparameters on the training set, and then evaluate its performance on the hold-out set which it has never seen before._\n",
    "- ~~You want to tune the hyperparameters of your model.~~"
   ]
  },
  {
   "cell_type": "markdown",
   "metadata": {},
   "source": [
    "### Hold-out set in practice I: Classification\n",
    "\n",
    "You will now practice evaluating a model with tuned hyperparameters on a hold-out set. The feature array and target variable array from the diabetes dataset have been pre-loaded as `X` and `y`.\n",
    "\n",
    "In addition to `C`, logistic regression has a `'penalty'` hyperparameter which specifies whether to use `'l1'` or `'l2'` regularization. Your job in this exercise is to create a hold-out set, tune the `'C'` and `'penalty'` hyperparameters of a logistic regression classifier using `GridSearchCV` on the training set.\n",
    "\n",
    "**Instructions**\n",
    "\n",
    "- Create the hyperparameter grid:\n",
    "  - Use the array `c_space` as the grid of values for `'C'`.\n",
    "  - For `'penalty'`, specify a list consisting of `'l1'` and `'l2'`.\n",
    "- Instantiate a logistic regression classifier.\n",
    "- Create training and test sets. Use a `test_size` of `0.4` and `random_state` of `42`. In practice, the test set here will function as the hold-out set.\n",
    "- Tune the hyperparameters on the training set using `GridSearchCV` with 5-folds. This involves first instantiating the `GridSearchCV` object with the correct parameters and then fitting it to the training data.\n",
    "- Print the best parameter and best score obtained from `GridSearchCV` by accessing the `best_params_` and `best_score_` attributes of `logreg_cv`."
   ]
  },
  {
   "cell_type": "code",
   "execution_count": null,
   "metadata": {},
   "outputs": [],
   "source": [
    "# Create the hyperparameter grid\n",
    "c_space = np.logspace(-5, 8, 15)\n",
    "param_grid = {'C': c_space, 'penalty': ['l1', 'l2']}\n",
    "\n",
    "# Instantiate the logistic regression classifier: logreg\n",
    "logreg = LogisticRegression(solver='liblinear', multi_class='ovr', n_jobs=1)\n",
    "\n",
    "# Create train and test sets\n",
    "X_train, X_test, y_train, y_test = train_test_split(X, y, test_size=0.4, random_state=42)\n",
    "\n",
    "# Instantiate the GridSearchCV object: logreg_cv\n",
    "logreg_cv = GridSearchCV(estimator=logreg, param_grid=param_grid, cv=5)\n",
    "\n",
    "# Fit it to the training data\n",
    "logreg_cv.fit(X_train, y_train)\n",
    "\n",
    "# Print the tuned parameters and score\n",
    "bp = logreg_cv.best_params_\n",
    "bs = round(logreg_cv.best_score_, 2)\n",
    "\n",
    "# Print the optimal parameters and best score\n",
    "print(f\"Tuned Logistic Regression Parameter: {bp}\")\n",
    "print(f\"Tuned Logistic Regression Accuracy: {bs}\")"
   ]
  },
  {
   "cell_type": "markdown",
   "metadata": {},
   "source": [
    "### Hold-out set in practice II: Regression\n",
    "Remember lasso and ridge regression from the previous chapter? Lasso used the $L1$ penalty to regularize, while ridge used the $L2$ penalty. There is another type of regularized regression known as the elastic net. In elastic net regularization, the penalty term is a linear combination of the $L1$ and $L2$ penalties:\n",
    "\n",
    "- $a*L1 + b*L2$\n",
    "\n",
    "In scikit-learn, this term is represented by the `'l1_ratio'` parameter: An `'l1_ratio'` of `1` corresponds to an $L1$ penalty, and anything lower is a combination of $L1$ and $L2$.\n",
    "\n",
    "In this exercise, you will `GridSearchCV` to tune the `'l1_ratio'` of an elastic net model trained on the Gapminder data. As in the previous exercise, use a hold-out set to evaluate your model's performance.\n",
    "\n",
    "**Instructions**\n",
    "\n",
    "- Import the following modules:\n",
    "  - `ElasticNet` from `sklearn.linear_model`.\n",
    "  - `mean_squared_error` from `sklearn.metrics`.\n",
    "  - `GridSearchCV` and `train_test_split` from `sklearn.model_selection`.\n",
    "- Create training and test sets, with 40% of the data used for the test set. Use a random state of `42`.\n",
    "- Specify the hyperparameter grid for `'l1_ratio'` using `l1_space` as the grid of values to search over.\n",
    "- Instantiate the `ElasticNet` regressor.\n",
    "- Use `GridSearchCV` with 5-fold cross-validation to tune `'l1_ratio'` on the training data `X_train` and `y_train`. This involves first instantiating the `GridSearchCV` object with the correct parameters and then fitting it to the training data.\n",
    "- Predict on the test set and compute the $R^2$ and mean squared error."
   ]
  },
  {
   "cell_type": "code",
   "execution_count": null,
   "metadata": {},
   "outputs": [],
   "source": [
    "fertility = pd.read_csv(data_paths[3])\n",
    "\n",
    "y_life = fertility.pop('life')\n",
    "X_fer = fertility.iloc[:, :-1]"
   ]
  },
  {
   "cell_type": "code",
   "execution_count": null,
   "metadata": {},
   "outputs": [],
   "source": [
    "# Create train and test sets\n",
    "X_train, X_test, y_train, y_test = train_test_split(X_fer, y_life, test_size=0.4, random_state=42)\n",
    "\n",
    "# Create the hyperparameter grid\n",
    "l1_space = np.linspace(0, 1, 30)\n",
    "param_grid = {'l1_ratio': l1_space}\n",
    "\n",
    "# Instantiate the ElasticNet regressor: elastic_net\n",
    "elastic_net = ElasticNet()\n",
    "\n",
    "# Setup the GridSearchCV object: gm_cv\n",
    "gm_cv = GridSearchCV(estimator=elastic_net, param_grid=param_grid, cv=5)\n",
    "\n",
    "# Fit it to the training data\n",
    "gm_cv.fit(X_train, y_train)\n",
    "\n",
    "# Predict on the test set and compute metrics\n",
    "y_pred = gm_cv.predict(X_test)\n",
    "r2 = gm_cv.score(X_test, y_test)\n",
    "mse = mean_squared_error(y_test, y_pred)\n",
    "\n",
    "print(f\"Tuned ElasticNet l1 ratio: {gm_cv.best_params_}\")\n",
    "print(f\"Tuned ElasticNet R squared: {r2}\")\n",
    "print(f\"Tuned ElasticNet MSE: {mse}\")"
   ]
  },
  {
   "cell_type": "markdown",
   "metadata": {},
   "source": [
    "**Now that you understand how to fine-tune your models, it's time to learn about preprocessing techniques and how to piece together all the different stages of the machine learning process into a pipeline!**"
   ]
  },
  {
   "cell_type": "markdown",
   "metadata": {},
   "source": [
    "# Preprocessing and pipelines\n",
    "\n",
    "This chapter introduces pipelines, and how scikit-learn allows for transformers and estimators to be chained together and used as a single unit. Preprocessing techniques will be introduced as a way to enhance model performance, and pipelines will tie together concepts from previous chapters."
   ]
  },
  {
   "cell_type": "markdown",
   "metadata": {},
   "source": [
    "## Preprocessing data\n",
    "\n",
    "- You have learned how to implement both classification and regression models, how to measure model performance, and how to tun hyperparameters in order to improve performance.\n",
    "- However, all the data the you have used so far has been relatively nice and in a format that allows you to plug and play into scikit-learn.\n",
    "- With real-world data, this will rarely be the case, and instead you will have to process the data before you can build models.\n",
    "- In this chapter, you will learn all about this vital processing step.\n",
    "\n",
    "**Dealing with Categorical Features**\n",
    "\n",
    "- If you are dealing with a dataset that has categorical feature, such as **'red'** or **'blue'**, or **'male'** or **'female'**.\n",
    "- As these are not numerical values, the scikit-learn API will not accept them and you will have to process these feature into the correct format.\n",
    "- Out goal is to convert these features so they are numerical.\n",
    "- This is achieved by splitting the feature into a number of binary features called **'dummy variable'**, one fore each category: `0` means the observation was not that category, while `1` means it was.\n",
    "\n",
    "**Dummy Variables**\n",
    "\n",
    "- For example, say we are dealing with a car dataset that has a `'origin'` feature with three different possible values: `'US'`, `'Asia'`, and `'Europe'`.\n",
    "- We create binary features for each of the origins, as each car is made in exactly one country, each row in the dataset will have a `1` in exactly one of the three columns and `0` in the other two.\n",
    "- In this case, if a car is not from `'US'` and not from `'Asia'`, then implicitly, it is from `'Europe'`.\n",
    "- That means we do not need three separate features, but only two, so we can delete the `'Europe'` column.\n",
    "- If we don't do this, we are duplicating information, which might be an issue for some models.\n",
    "- There are several ways to create dummy variable in Python\n",
    "  - scikit-learn: `OneHotEncoder()`\n",
    "  - pandas: `get_dummies()`\n",
    "\n",
    "**Automobile Dataset**\n",
    "\n",
    "- The target variable here is miles per gallon or mpg.\n",
    "- `'origin'` is our one categorical feature\n",
    "  - Encode this feature using dummy variables.\n",
    "  - `pd.get_dummies` creates three new binary features.\n",
    "  - If two of the dummies are 0, then by default, we know the origin, therefore, use the parameter `drop_first=True`, or `milage.drop('origin_Asia, axis=1)` to remove the first dummy column\n",
    "- Once dummy variable are created, models can be fit as before."
   ]
  },
  {
   "cell_type": "code",
   "execution_count": null,
   "metadata": {},
   "outputs": [],
   "source": [
    "milage = pd.read_csv(datasets[0])\n",
    "milage.head(3)"
   ]
  },
  {
   "cell_type": "code",
   "execution_count": null,
   "metadata": {},
   "outputs": [],
   "source": [
    "origin = sorted(milage.origin.unique().tolist())\n",
    "origin"
   ]
  },
  {
   "cell_type": "code",
   "execution_count": null,
   "metadata": {},
   "outputs": [],
   "source": [
    "sns.boxplot(data=milage, y='mpg', x='origin', order=origin)\n",
    "plt.show()"
   ]
  },
  {
   "cell_type": "code",
   "execution_count": null,
   "metadata": {},
   "outputs": [],
   "source": [
    "milage = pd.get_dummies(milage, drop_first=True)\n",
    "milage.head()"
   ]
  },
  {
   "cell_type": "code",
   "execution_count": null,
   "metadata": {},
   "outputs": [],
   "source": [
    "# fit a ridge regression mode and compute its R^2\n",
    "X_train, X_test, y_train, y_test = train_test_split(milage.iloc[:, 1:], milage.mpg, test_size=0.3, random_state=42)\n",
    "ridge = make_pipeline(StandardScaler(), Ridge(alpha=0.5)).fit(X_train, y_train)\n",
    "ridge.score(X_test, y_test)"
   ]
  },
  {
   "cell_type": "code",
   "execution_count": null,
   "metadata": {},
   "outputs": [],
   "source": [
    "ridge.named_steps['ridge'].coef_"
   ]
  },
  {
   "cell_type": "markdown",
   "metadata": {},
   "source": [
    "### Exploring categorical features\n",
    "\n",
    "The Gapminder dataset that you worked with in previous chapters also contained a categorical `'Region'` feature, which we dropped in previous exercises since you did not have the tools to deal with it. Now however, you do, so we have added it back in!\n",
    "\n",
    "Your job in this exercise is to explore this feature. Boxplots are particularly useful for visualizing categorical features such as this.\n",
    "\n",
    "**Instructions**\n",
    "\n",
    "- Import `pandas` as `pd`.\n",
    "- Read the CSV file `'gapminder.csv'` into a DataFrame called `df`.\n",
    "- Use pandas to create a boxplot showing the variation of life expectancy (`'life'`) by region (`'Region'`). To do so, pass the column names in to `df.boxplot()` (in that order)."
   ]
  },
  {
   "cell_type": "code",
   "execution_count": null,
   "metadata": {},
   "outputs": [],
   "source": [
    "fertility = pd.read_csv(datasets[3])\n",
    "fertility.head(2)"
   ]
  },
  {
   "cell_type": "code",
   "execution_count": null,
   "metadata": {},
   "outputs": [],
   "source": [
    "plt.style.use('ggplot')\n",
    "fertility.boxplot(column='life', by='Region', figsize=(9, 5), rot=60)"
   ]
  },
  {
   "cell_type": "markdown",
   "metadata": {},
   "source": [
    "**Exploratory data analysis should always be the precursor to model building.**"
   ]
  },
  {
   "cell_type": "markdown",
   "metadata": {},
   "source": [
    "### Creating dummy variables\n",
    "\n",
    "As Andy discussed in the video, scikit-learn does not accept non-numerical features. You saw in the previous exercise that the `'Region'` feature contains very useful information that can predict life expectancy. For example, Sub-Saharan Africa has a lower life expectancy compared to Europe and Central Asia. Therefore, if you are trying to predict life expectancy, it would be preferable to retain the `'Region'` feature. To do this, you need to binarize it by creating dummy variables, which is what you will do in this exercise.\n",
    "\n",
    "**Instructions**\n",
    "\n",
    "- Use the pandas `get_dummies()` function to create dummy variables from the df DataFrame. Store the result as `df_region`.\n",
    "- Print the columns of `df_region`. This has been done for you.\n",
    "- Use the `get_dummies()` function again, this time specifying `drop_first=True` to drop the unneeded dummy variable (in this case, `'Region_America'`).\n",
    "- Hit 'Submit Answer to print the new columns of `df_region` and take note of how one column was dropped!"
   ]
  },
  {
   "cell_type": "code",
   "execution_count": null,
   "metadata": {},
   "outputs": [],
   "source": [
    "# Create dummy variables: df_region\n",
    "df_region = pd.get_dummies(fertility)\n",
    "\n",
    "# Print the columns of df_region\n",
    "display(df_region.head(2))\n",
    "\n",
    "# Create dummy variables with drop_first=True: df_region\n",
    "df_region = pd.get_dummies(fertility, drop_first=True)\n",
    "\n",
    "# Print the new columns of df_region\n",
    "display(df_region.head(2))"
   ]
  },
  {
   "cell_type": "markdown",
   "metadata": {},
   "source": [
    "**Now that you have created the dummy variables, you can use the `'Region'` feature to predict life expectancy!**"
   ]
  },
  {
   "cell_type": "markdown",
   "metadata": {},
   "source": [
    "### Regression with categorical features\n",
    "Having created the dummy variables from the `'Region'` feature, you can build regression models as you did before. Here, you'll use ridge regression to perform 5-fold cross-validation.\n",
    "\n",
    "The feature array `X` and target variable array `y` have been pre-loaded.\n",
    "\n",
    "**Instructions**\n",
    "\n",
    "- Import `Ridge` from `sklearn.linear_model` and `cross_val_score` from `sklearn.model_selection`.\n",
    "- Instantiate a ridge regressor called `ridge` with `alpha=0.5` and `normalize=True`.\n",
    "- Perform 5-fold cross-validation on `X` and `y` using the `cross_val_score()` function.\n",
    "- Print the cross-validated scores."
   ]
  },
  {
   "cell_type": "code",
   "execution_count": null,
   "metadata": {},
   "outputs": [],
   "source": [
    "life = df_region.pop('life')"
   ]
  },
  {
   "cell_type": "code",
   "execution_count": null,
   "metadata": {},
   "outputs": [],
   "source": [
    "# Instantiate a ridge regressor: ridge\n",
    "ridge = make_pipeline(StandardScaler(), Ridge(alpha=0.5))\n",
    "\n",
    "# Perform 5-fold cross-validation: ridge_cv\n",
    "ridge_cv = cross_val_score(estimator=ridge, X=df_region, y=life, cv=5)\n",
    "\n",
    "# Print the cross-validated scores\n",
    "ridge_cv"
   ]
  },
  {
   "cell_type": "markdown",
   "metadata": {},
   "source": [
    "**You now know how to build models using data that includes categorical features.**"
   ]
  },
  {
   "cell_type": "markdown",
   "metadata": {},
   "source": [
    "## Handling missing data\n",
    "\n",
    "- We say that data is missing when there is no value for a given feature in a particular row.\n",
    "- This can occur in the real-world for many reason:\n",
    "  - There may have been no observation\n",
    "  - There may have been a transcription error\n",
    "  - The data may have been corrupted\n",
    "- As data scientists, we needs to deal with this issue.\n",
    "\n",
    "**PIMA Indians Diabetes Dataset**\n",
    "\n",
    "- Let's review the PIMA Indians dataset.\n",
    "- It doesn't look like it has any missing values as, according to `df.info()`, all features have 768 non-null entries\n",
    "\n",
    "```\n",
    "<class 'pandas.core.frame.DataFrame'>\n",
    "RangeIndex: 768 entries, 0 to 767\n",
    "Data columns (total 9 columns):\n",
    " #   Column       Non-Null Count  Dtype  \n",
    "---  ------       --------------  -----  \n",
    " 0   pregnancies  768 non-null    int64  \n",
    " 1   glucose      768 non-null    int64  \n",
    " 2   diastolic    768 non-null    int64  \n",
    " 3   triceps      768 non-null    int64  \n",
    " 4   insulin      768 non-null    int64  \n",
    " 5   bmi          768 non-null    float64\n",
    " 6   dpf          768 non-null    float64\n",
    " 7   age          768 non-null    int64  \n",
    " 8   diabetes     768 non-null    int64  \n",
    "dtypes: float64(2), int64(7)\n",
    "memory usage: 54.1 KB\n",
    "```\n",
    "\n",
    "- However, missing values can be encoded in a number of different ways, such as by `0`, `'?'`, or `-1`.\n",
    "- Checking out `df.head()` it looks as though there are observations where insulin is `0`.\n",
    "- `'triceps'`, which is the thickness of the skin on the back of the arm, is `0`.\n",
    "- These are not possible and, as there is no indication of the real value, the data is, for all intents and purposes, missing.\n",
    "\n",
    "**Dropping Missing Data**\n",
    "\n",
    "- Before we go any further, let's make all these entries `NaN` using the replace method on the relevant columns.\n",
    "- So how do we deal with missing data?\n",
    "- One way is to drop all rows containing missing data\n",
    "  - `df.dropna()`\n",
    "    - This has the issue that it can cause a significant amount of data to be dropped from the dataset. With the `pima` dataset, using `pima.dropna()` results in losing nearly half of the data. The shape changes from `(768, 9)` to `(393, 9)`.\n",
    "    - If there are only a few rows containing missing values, then it's not so bad, but generally a more robust method is required.\n",
    "    - It's generally an equally bad idea to remove columns that contain `NaN` values.\n",
    "\n",
    "**Imputing Missing Data**\n",
    "\n",
    "- Imputing mean to make an educated guess as to what the missing values could be.\n",
    "- A common strategy is, in any given column with missing values, to compute the mean of all the non-missing entries and to replace all missing values with the mean.\n",
    "  - This [post](https://trenton3983.github.io/posts/titanic-missing-data-imputation-comparison/) demonstrates using a `RandomForestRegressor` and `pandas.DataFrame.groupby` to impute missing data in the `'age'` column of the Titanic dataset.\n",
    "- `from sklearn.impute import SimpleImputer` not `from sklearn.preprocessing import Imputer`\n",
    "  - [`sklearn.impute.SimpleImputer`](https://scikit-learn.org/stable/modules/generated/sklearn.impute.SimpleImputer.html)\n",
    "- We can fit this imputer to our data using the fit method and then transform our data using the transform method.\n",
    "- Due to their ability to transform our data, imputers are know as transformers, and any model that can transform data this way, using the transform method, is called a transformer (it's more than meets the eye! 😉)\n",
    "- After transforming the data, we could the fit our supervised learning model to it, but is there a way to do both at once?"
   ]
  },
  {
   "cell_type": "code",
   "execution_count": null,
   "metadata": {},
   "outputs": [],
   "source": [
    "pima = pd.read_csv(datasets[2])\n",
    "pima.head()"
   ]
  },
  {
   "cell_type": "code",
   "execution_count": null,
   "metadata": {},
   "outputs": [],
   "source": [
    "# distribution with missing data encoded as 0; not triceps and insulin\n",
    "pima_stacked = pima.iloc[:, :-1].stack().reset_index().drop('level_0', axis=1).rename({'level_1': 'Category', 0: 'Value'}, axis=1)\n",
    "sns.catplot(data=pima_stacked, kind='box', col='Category', col_wrap=4, y='Value', sharey=False, height=3, color='lightblue')"
   ]
  },
  {
   "cell_type": "code",
   "execution_count": null,
   "metadata": {},
   "outputs": [],
   "source": [
    "# replace erroneously encoded data with NaN\n",
    "pima.insulin.replace(0, np.nan, inplace=True)\n",
    "pima.triceps.replace(0, np.nan, inplace=True)\n",
    "pima.bmi.replace(0, np.nan, inplace=True)\n",
    "\n",
    "pima.info()"
   ]
  },
  {
   "cell_type": "code",
   "execution_count": null,
   "metadata": {},
   "outputs": [],
   "source": [
    "# distribution with missing data encoded as NaN\n",
    "pima_stacked = pima.iloc[:, :-1].stack().reset_index().drop('level_0', axis=1).rename({'level_1': 'Category', 0: 'Value'}, axis=1)\n",
    "sns.catplot(data=pima_stacked, kind='box', col='Category', col_wrap=4, y='Value', sharey=False, height=3, color='lightblue')"
   ]
  },
  {
   "cell_type": "code",
   "execution_count": null,
   "metadata": {},
   "outputs": [],
   "source": [
    "# instantiate the imputer; mean is the default and imputation is along the column\n",
    "imp_mean = SimpleImputer(missing_values=np.nan, strategy='mean')\n",
    "\n",
    "# fit the imputer\n",
    "imp_mean.fit(pima.iloc[:, :-1])\n",
    "\n",
    "# update the pima values\n",
    "pima.iloc[:, :-1] = imp_mean.transform(pima.iloc[:, :-1])"
   ]
  },
  {
   "cell_type": "code",
   "execution_count": null,
   "metadata": {},
   "outputs": [],
   "source": [
    "pima.describe()"
   ]
  },
  {
   "cell_type": "code",
   "execution_count": null,
   "metadata": {},
   "outputs": [],
   "source": [
    "# distribution with missing data imputed as mean\n",
    "pima_stacked = pima.iloc[:, :-1].stack().reset_index().drop('level_0', axis=1).rename({'level_1': 'Category', 0: 'Value'}, axis=1)\n",
    "sns.catplot(data=pima_stacked, kind='box', col='Category', col_wrap=4, y='Value', sharey=False, height=3, color='lightblue')"
   ]
  },
  {
   "cell_type": "markdown",
   "metadata": {},
   "source": [
    "**Imputing Within a Pipeline**\n",
    "\n",
    "- We can use the scikit-learn pipeline object to transform the data, and fit it to a model.\n",
    "- `from sklearn.pipeline import Pipeline`\n",
    "  - [`sklearn.pipeline.Pipeline`](https://scikit-learn.org/stable/modules/generated/sklearn.pipeline.Pipeline.html):\n",
    "  - [Pipelines and composite estimators](https://scikit-learn.org/stable/modules/compose.html)\n",
    "- We build a pipeline by object.\n",
    "- Construct a list of steps in the pipeline, where each step is a 2-tuple containing the name you wish to give the relevant step and the estimator.\n",
    "- Pass the list to the Pipeline constructor.\n",
    "- Split the data into test and training sets.\n",
    "- Fit the pipeline to the training set and then predict on the test set, as with any other model.\n",
    "- Note that, in a pipeline, each step but the last must be a transformer and the last must be an estimator, such as a classifier, regressor, or transformer."
   ]
  },
  {
   "cell_type": "code",
   "execution_count": null,
   "metadata": {},
   "outputs": [],
   "source": [
    "pima = pd.read_csv(datasets[2])\n",
    "\n",
    "pima.insulin.replace(0, np.nan, inplace=True)\n",
    "pima.triceps.replace(0, np.nan, inplace=True)\n",
    "pima.bmi.replace(0, np.nan, inplace=True)\n",
    "\n",
    "\n",
    "imp_mean = SimpleImputer(missing_values=np.nan, strategy='mean')\n",
    "\n",
    "# instantiate the model\n",
    "logreg = LogisticRegression()\n",
    "\n",
    "# build the pipeline object by creating a list of steps in the pipeline\n",
    "steps = [('imputation', imp_mean), ('logistic_regression', logreg)]\n",
    "\n",
    "# and then pass the list to the Pipeline constructor\n",
    "pipeline = Pipeline(steps)\n",
    "\n",
    "# split the data\n",
    "X_train, X_test, y_train, y_test = train_test_split(pima.iloc[:, :-1], pima.iloc[:, -1], test_size=0.3, random_state=42)\n",
    "\n",
    "# fit the pipeline to the training set\n",
    "pipeline.fit(X_train, y_train)\n",
    "\n",
    "y_pred = pipeline.predict(X_test)\n",
    "\n",
    "r2 = round(pipeline.score(X_test, y_test), 2)\n",
    "mse = round(mean_squared_error(y_test, y_pred), 2)\n",
    "\n",
    "print(f\"R^2: {r2}\")\n",
    "print(f\"Mean Square Error: {mse}\")"
   ]
  },
  {
   "cell_type": "markdown",
   "metadata": {},
   "source": [
    "### Dropping missing data\n",
    "\n",
    "The voting dataset from Chapter 1 contained a bunch of missing values that we dealt with for you behind the scenes. Now, it's time for you to take care of these yourself!\n",
    "\n",
    "The unprocessed dataset has been loaded into a DataFrame `df`. Explore it in the IPython Shell with the `.head()` method. You will see that there are certain data points labeled with a `'?'`. These denote missing values. As you saw in the video, different datasets encode missing values in different ways. Sometimes it may be a `'9999'`, other times a `0` - real-world data can be very messy! If you're lucky, the missing values will already be encoded as `NaN`. We use `NaN` because it is an efficient and simplified way of internally representing missing data, and it lets us take advantage of pandas methods such as `.dropna()` and `.fillna()`, as well as scikit-learn's Imputation transformer `Imputer()`.\n",
    "\n",
    "In this exercise, your job is to convert the `'?'`s to NaNs, and then drop the rows that contain them from the DataFrame.\n",
    "\n",
    "**Instructions**\n",
    "\n",
    "- Explore the DataFrame `df` in the IPython Shell. Notice how the missing value is represented.\n",
    "- Convert all `'?'` data points to `np.nan`.\n",
    "- Count the total number of NaNs using the `.isnull()` and `.sum()` methods. This has been done for you.\n",
    "- Drop the rows with missing values from `df` using `.dropna()`.\n",
    "- Hit 'Submit Answer' to see how many rows were lost by dropping the missing values."
   ]
  },
  {
   "cell_type": "code",
   "execution_count": null,
   "metadata": {},
   "outputs": [],
   "source": [
    "cols = ['party', 'infants', 'water', 'budget', 'physician', 'salvador', 'religious', 'satellite', 'aid',\n",
    "        'missile', 'immigration', 'synfuels', 'education', 'superfund', 'crime', 'duty_free_exports', 'eaa_rsa']\n",
    "df = pd.read_csv(datasets[4], header=None, names=cols)\n",
    "df.iloc[:, 1:] = df.iloc[:, 1:].replace({'n': 0, 'y': 1})\n",
    "df.head(2)"
   ]
  },
  {
   "cell_type": "code",
   "execution_count": null,
   "metadata": {},
   "outputs": [],
   "source": [
    "# Convert '?' to NaN\n",
    "df[df == '?'] = np.nan\n",
    "\n",
    "# Print the number of NaNs\n",
    "display(df.isnull().sum().to_frame().rename({0: 'NaN_Count'}, axis=1))\n",
    "\n",
    "# Print shape of original DataFrame\n",
    "print(f\"Shape of Original DataFrame: {df.shape}\")\n",
    "\n",
    "# Drop missing values and print shape of new DataFrame\n",
    "df = df.dropna()\n",
    "\n",
    "# Print shape of new DataFrame\n",
    "print(f\"Shape of DataFrame After Dropping All Rows with Missing Values: {df.shape}\")"
   ]
  },
  {
   "cell_type": "markdown",
   "metadata": {},
   "source": [
    "**When many values in your dataset are missing, if you drop them, you may end up throwing away valuable information along with the missing data. It's better instead to develop an imputation strategy. This is where domain knowledge is useful, but in the absence of it, you can impute missing values with the mean or the median of the row or column that the missing value is in.**"
   ]
  },
  {
   "cell_type": "markdown",
   "metadata": {},
   "source": [
    "### Imputing missing data in a ML Pipeline I\n",
    "\n",
    "As you've come to appreciate, there are many steps to building a model, from creating training and test sets, to fitting a classifier or regressor, to tuning its parameters, to evaluating its performance on new data. Imputation can be seen as the first step of this machine learning process, the entirety of which can be viewed within the context of a pipeline. Scikit-learn provides a pipeline constructor that allows you to piece together these steps into one process and thereby simplify your workflow.\n",
    "\n",
    "You'll now practice setting up a pipeline with two steps: the imputation step, followed by the instantiation of a classifier. You've seen three classifiers in this course so far: k-NN, logistic regression, and the decision tree. You will now be introduced to a fourth one - the Support Vector Machine, or [SVM](https://scikit-learn.org/stable/modules/svm.html). For now, do not worry about how it works under the hood. It works exactly as you would expect of the scikit-learn estimators that you have worked with previously, in that it has the same `.fit()` and `.predict()` methods as before.\n",
    "\n",
    "**Instructions**\n",
    "\n",
    "- Import `Imputer` from `sklearn.preprocessing` and `SVC` from `sklearn.svm`. SVC stands for Support Vector Classification, which is a type of SVM.\n",
    "  - Note: `Imputer` has been replaced by `SimpleImputer` and there is no `axis` parameter.\n",
    "- Setup the Imputation transformer to impute missing data (represented as `'NaN'`) with the `'most_frequent'` value in the column (`axis=0`).\n",
    "- Instantiate a `SVC` classifier. Store the result in `clf`.\n",
    "- Create the steps of the pipeline by creating a list of tuples:\n",
    "  - The first tuple should consist of the imputation step, using `imp`.\n",
    "  - The second should consist of the classifier."
   ]
  },
  {
   "cell_type": "code",
   "execution_count": null,
   "metadata": {},
   "outputs": [],
   "source": [
    "# Setup the Imputation transformer: imp\n",
    "imp = SimpleImputer(missing_values=np.nan, strategy='most_frequent')\n",
    "\n",
    "# Instantiate the SVC classifier: clf\n",
    "clf = SVC()\n",
    "\n",
    "# Setup the pipeline with the required steps: steps\n",
    "steps = [('imputation', imp),\n",
    "        ('SVM', clf)]"
   ]
  },
  {
   "cell_type": "markdown",
   "metadata": {},
   "source": [
    "### Imputing missing data in a ML Pipeline II\n",
    "\n",
    "Having setup the steps of the pipeline in the previous exercise, you will now use it on the voting dataset to classify a Congressman's party affiliation. What makes pipelines so incredibly useful is the simple interface that they provide. You can use the `.fit()` and `.predict()` methods on pipelines just as you did with your classifiers and regressors!\n",
    "\n",
    "Practice this for yourself now and generate a classification report of your predictions. The steps of the pipeline have been set up for you, and the feature array `X` and target variable array `y` have been pre-loaded. Additionally, `train_test_split` and `classification_report` have been imported from `sklearn.model_selection` and `sklearn.metrics` respectively.\n",
    "\n",
    "**Instructions**\n",
    "\n",
    "- Import the following modules:\n",
    "  - `Imputer` from `sklearn.preprocessing` and `Pipeline` from `sklearn.pipeline`.\n",
    "  - `SVC` from `sklearn.svm`.\n",
    "- Create the pipeline using `Pipeline()` and `steps`.\n",
    "- Create training and test sets. Use 30% of the data for testing and a random state of `42`.\n",
    "- Fit the pipeline to the training set and predict the labels of the test set.\n",
    "- Compute the classification report."
   ]
  },
  {
   "cell_type": "code",
   "execution_count": null,
   "metadata": {},
   "outputs": [],
   "source": [
    "cols = ['party', 'infants', 'water', 'budget', 'physician', 'salvador', 'religious', 'satellite', 'aid',\n",
    "        'missile', 'immigration', 'synfuels', 'education', 'superfund', 'crime', 'duty_free_exports', 'eaa_rsa']\n",
    "df = pd.read_csv(datasets[4], header=None, names=cols)\n",
    "df.iloc[:, 1:] = df.iloc[:, 1:].replace({'n': 0, 'y': 1})\n",
    "df.head(2)"
   ]
  },
  {
   "cell_type": "code",
   "execution_count": null,
   "metadata": {},
   "outputs": [],
   "source": [
    "df.eaa_rsa.value_counts()"
   ]
  },
  {
   "cell_type": "code",
   "execution_count": null,
   "metadata": {},
   "outputs": [],
   "source": [
    "# Setup the pipeline steps: steps\n",
    "steps = [('imputation', SimpleImputer(missing_values='?', strategy='most_frequent')), ('SVM', SVC())]\n",
    "\n",
    "# Create the pipeline: pipeline\n",
    "pipeline = Pipeline(steps)\n",
    "\n",
    "# Create training and test sets\n",
    "X_train, X_test, y_train, y_test = train_test_split(df.iloc[:, 1:], df.party, test_size=0.3, random_state=42)\n",
    "\n",
    "# Fit the pipeline to the train set\n",
    "pipeline.fit(X_train, y_train)\n",
    "\n",
    "# Predict the labels of the test set\n",
    "y_pred = pipeline.predict(X_test)\n",
    "\n",
    "# Compute metrics\n",
    "print(classification_report(y_test, y_pred))"
   ]
  },
  {
   "cell_type": "markdown",
   "metadata": {},
   "source": [
    "## Centering and scaling\n",
    "\n",
    "1. Centering and scaling\n",
    "   - Great work on imputing data and building machine learning pipelines using scikit-learn!\n",
    "   - Data imputation is one of several important preprocessing steps for machine learning.\n",
    "   - In this video, will cover another: centering and scaling your data.\n",
    "\n",
    "2. Why scale your data?\n",
    "   - To motivate this, let's use `df.describe()` to check out the ranges of the feature variables in the red wine quality dataset.\n",
    "   - The features are chemical properties such as `'acidity'`, `'pH'`, and `'alcohol'` content.\n",
    "   - The target value is good or bad, encoded as '1' and '0', respectively.\n",
    "   - We see that the ranges vary widely: `'density'` varies from (point) 99 to to 1 and `'total sulfur dioxide'` from 6 to 289!\n",
    "\n",
    "3. Why scale your data?\n",
    "   - Many machine learning models use some form of distance to inform them so if you have features on far larger scales, they can unduly influence your model.\n",
    "   - For example, **K-nearest neighbors uses distance explicitly when making predictions**.\n",
    "   - For this reason, **we actually want features to be on a similar scale**.\n",
    "   - To achieve this, we do what is called normalizing or scaling and centering.\n",
    "\n",
    "4. Ways to normalize your data\n",
    "   - There are several ways to normalize your data:\n",
    "     - given any column, you can subtract the mean and divide by the variance so that all features are centered around zero and have variance one.\n",
    "       - This is called standardization.\n",
    "     - You can also subtract the minimum and divide by the range of the data so the normalized dataset has minimum zero and maximum one.\n",
    "     - You can also normalize so that data ranges from -1 to 1 instead.\n",
    "   - In this video, I'll show you to to perform **standardization**. \n",
    "   - See the scikit-learn docs for how to implement the other approaches."
   ]
  },
  {
   "cell_type": "code",
   "execution_count": null,
   "metadata": {},
   "outputs": [],
   "source": [
    "# create the red wine dataset\n",
    "rw = pd.read_csv(datasets[6], sep=';')"
   ]
  },
  {
   "cell_type": "code",
   "execution_count": null,
   "metadata": {},
   "outputs": [],
   "source": [
    "rw.head()"
   ]
  },
  {
   "cell_type": "code",
   "execution_count": null,
   "metadata": {},
   "outputs": [],
   "source": [
    "# set the quality column as a binary target, with values < 5 = 0, otherwise 1\n",
    "rw.quality = np.where(rw.quality < 5, 1, 0)"
   ]
  },
  {
   "cell_type": "code",
   "execution_count": null,
   "metadata": {},
   "outputs": [],
   "source": [
    "rw.head(2)"
   ]
  },
  {
   "cell_type": "code",
   "execution_count": null,
   "metadata": {},
   "outputs": [],
   "source": [
    "rw.describe()"
   ]
  },
  {
   "cell_type": "code",
   "execution_count": null,
   "metadata": {},
   "outputs": [],
   "source": [
    "# stack feature columns\n",
    "rws = rw.iloc[:, :-1].stack().reset_index(name='Values').drop(['level_0'], axis=1).rename({'level_1': 'Category'}, axis=1)"
   ]
  },
  {
   "cell_type": "code",
   "execution_count": null,
   "metadata": {},
   "outputs": [],
   "source": [
    "sns.catplot(data=rws, col='Category', col_wrap=4, y='Values', kind='box', sharey=False, height=3, aspect=1.25, color='lightgreen')"
   ]
  },
  {
   "cell_type": "code",
   "execution_count": null,
   "metadata": {},
   "outputs": [],
   "source": [
    "# select X and y - drop rows based on columns used in the video\n",
    "cols = ['fixed acidity', 'free sulfur dioxide', 'total sulfur dioxide', 'density', 'pH', 'sulphates', 'alcohol']\n",
    "\n",
    "X = rw[cols].to_numpy()\n",
    "y = rw.quality.astype(bool)"
   ]
  },
  {
   "cell_type": "markdown",
   "metadata": {},
   "source": [
    "5. Scaling in scikit-learn\n",
    "   - To scale our features, we import scale from sklearn dot preprocessing.\n",
    "   - We then pass the feature data to scale and this returns our scaled data. \n",
    "   - Looking at the mean and standard deviation of the columns of both the original and scaled data verifies this."
   ]
  },
  {
   "cell_type": "code",
   "execution_count": null,
   "metadata": {},
   "outputs": [],
   "source": [
    "# scale the features\n",
    "X_scaled = scale(X)"
   ]
  },
  {
   "cell_type": "code",
   "execution_count": null,
   "metadata": {},
   "outputs": [],
   "source": [
    "# Print the mean and standard deviation of the unscaled features\n",
    "print(f\"Mean of Unscaled Features: {np.mean(X)}\") \n",
    "print(f\"Standard Deviation of Unscaled Features: {np.std(X)}\")\n",
    "\n",
    "# Print the mean and standard deviation of the scaled features\n",
    "print(f\"\\nMean of Scaled Features: {np.mean(X_scaled)}\") \n",
    "print(f\"Standard Deviation of Scaled Features: {np.mean(X_scaled)}\")"
   ]
  },
  {
   "cell_type": "markdown",
   "metadata": {},
   "source": [
    "6. Scaling in a pipeline\n",
    "   - We can also put a scalar in a pipeline object!\n",
    "   - To do so, we `import StandardScaler from sklearn.reprocessing` and build a pipeline object as we did earlier; here we'll use a K-nearest neighbors algorithm.\n",
    "   - We then split our wine quality dataset in training and test sets, fit the pipeline to our training set, and predict on our test set.\n",
    "   - Computing the accuracy yields 0.956, whereas performing KNN without scaling resulted in an accuracy of 0.928. <sup>1</sup>\n",
    "     - Scaling did not improve our model performance!\n",
    "   \n",
    "\n",
    "<sub>1: This notebook was created on 2021-03-13 with `scikit-learn v0.24.1`, which does not show a difference between the scaled and unscaled data.</sub>"
   ]
  },
  {
   "cell_type": "code",
   "execution_count": null,
   "metadata": {},
   "outputs": [],
   "source": [
    "# scaling in a pipeline\n",
    "steps = [('scaler', StandardScaler()), ('knn', KNeighborsClassifier())]\n",
    "\n",
    "pipeline = Pipeline(steps)\n",
    "X_train, X_test, y_train, y_test = train_test_split(X, y, test_size=0.2, random_state=21)\n",
    "knn_scaled = pipeline.fit(X_train, y_train)\n",
    "y_pred = pipeline.predict(X_test)\n",
    "\n",
    "accuracy_score(y_test, y_pred)"
   ]
  },
  {
   "cell_type": "code",
   "execution_count": null,
   "metadata": {},
   "outputs": [],
   "source": [
    "# unscale model fitting\n",
    "knn_unscaled = KNeighborsClassifier().fit(X_train, y_train)\n",
    "\n",
    "knn_unscaled.score(X_test, y_test)"
   ]
  },
  {
   "cell_type": "markdown",
   "metadata": {},
   "source": [
    "7. CV and scaling in a pipeline\n",
    "   - Let's also take a look at how we can use cross-validation with a supervised learning pipeline.\n",
    "   - We first build our pipeline. We then specify our hyperparameter space by creating a dictionary:\n",
    "     - the keys are the pipeline step name followed by a double underscore, followed by the hyperparameter name\n",
    "     - the corresponding value is a list or an array of the values to try for that particular hyperparameter.\n",
    "   - In this case, we are tuning only the n neighbors in the KNN model.\n",
    "   - As always, we split our data into cross-validation and hold-out sets.\n",
    "   - We then perform a GridSearch over the parameters in the pipeline by instantiating the GridSearchCV object and fitting it to our training data.\n",
    "   - The predict method will call predict on the estimator with the best found parameters and we do this on the hold-out set.\n",
    "\n",
    "8. Scaling and CV in a pipeline\n",
    "   - We also print the best parameters chosen by our gridsearch, along with the accuracy and classification report of the predictions on the hold-out set."
   ]
  },
  {
   "cell_type": "code",
   "execution_count": null,
   "metadata": {},
   "outputs": [],
   "source": [
    "steps = [('scaler', StandardScaler()), ('knn', KNeighborsClassifier())]\n",
    "pipeline = Pipeline(steps)\n",
    "parameters = {'knn__n_neighbors': np.arange(1, 50)}\n",
    "X_train, X_test, y_train, y_test = train_test_split(X, y, test_size=0.2, random_state=56)\n",
    "cv = GridSearchCV(pipeline, param_grid=parameters)\n",
    "cv.fit(X_train, y_train)\n",
    "y_pred = cv.predict(X_test)\n",
    "\n",
    "print(cv.best_params_)\n",
    "print(cv.score(X_test, y_test))\n",
    "print(classification_report(y_test, y_pred))"
   ]
  },
  {
   "cell_type": "code",
   "execution_count": null,
   "metadata": {},
   "outputs": [],
   "source": [
    "y_train.value_counts()"
   ]
  },
  {
   "cell_type": "code",
   "execution_count": null,
   "metadata": {},
   "outputs": [],
   "source": [
    "y_test.value_counts()"
   ]
  },
  {
   "cell_type": "markdown",
   "metadata": {},
   "source": [
    "### Centering and scaling your data\n",
    "\n",
    "In the video, Hugo demonstrated how significantly the performance of a model can improve if the features are scaled. Note that this is not always the case: In the Congressional voting records dataset, for example, all of the features are binary. In such a situation, scaling will have minimal impact.\n",
    "\n",
    "You will now explore scaling for yourself on a new dataset - [White Wine Quality][0]! Hugo used the Red Wine Quality dataset in the video. We have used the `'quality'` feature of the wine to create a binary target variable: If `'quality'` is less than `5`, the target variable is `1`, and otherwise, it is `0`.\n",
    "\n",
    "The DataFrame has been pre-loaded as `df`, along with the feature and target variable arrays `X` and `y`. Explore it in the IPython Shell. Notice how some features seem to have different units of measurement. `'density'`, for instance, takes values between 0.98 and 1.04, while `'total sulfur dioxide'` ranges from 9 to 440. As a result, it may be worth scaling the features here. Your job in this exercise is to scale the features and compute the mean and standard deviation of the unscaled features compared to the scaled features.\n",
    "\n",
    "**Instructions**\n",
    "\n",
    "- Import `scale` from `sklearn.preprocessing`.\n",
    "- Scale the features `X` using `scale()`.\n",
    "- Print the mean and standard deviation of the unscaled features `X`, and then the scaled features `X_scaled`. Use the numpy functions `np.mean()` and `np.std()` to compute the mean and standard deviations.\n",
    "\n",
    "\n",
    "  [0]: https://archive.ics.uci.edu/ml/datasets/Wine+Quality"
   ]
  },
  {
   "cell_type": "code",
   "execution_count": null,
   "metadata": {},
   "outputs": [],
   "source": [
    "ww = pd.read_csv(datasets[5])\n",
    "ww.quality = np.where(ww.quality < 5, 1, 0)\n",
    "ww.head()"
   ]
  },
  {
   "cell_type": "code",
   "execution_count": null,
   "metadata": {},
   "outputs": [],
   "source": [
    "wws = rw.iloc[:, :-1].stack().reset_index(name='Values').drop(['level_0'], axis=1).rename({'level_1': 'Category'}, axis=1)\n",
    "sns.catplot(data=wws, col='Category', col_wrap=4, y='Values', kind='box', sharey=False, height=3, aspect=1.25, color='orchid')"
   ]
  },
  {
   "cell_type": "code",
   "execution_count": null,
   "metadata": {},
   "outputs": [],
   "source": [
    "X = ww.iloc[:, :-1].to_numpy()\n",
    "y = ww.quality.astype(bool).to_numpy()"
   ]
  },
  {
   "cell_type": "code",
   "execution_count": null,
   "metadata": {},
   "outputs": [],
   "source": [
    "# Scale the features: X_scaled\n",
    "X_scaled = scale(X)\n",
    "\n",
    "# Print the mean and standard deviation of the unscaled features\n",
    "print(f\"Mean of Unscaled Features: {np.mean(X)}\") \n",
    "print(f\"Standard Deviation of Unscaled Features: {np.std(X)}\")\n",
    "\n",
    "# Print the mean and standard deviation of the scaled features\n",
    "print(f\"\\nMean of Scaled Features: {np.mean(X_scaled)}\") \n",
    "print(f\"Standard Deviation of Scaled Features: {np.std(X_scaled)}\")"
   ]
  },
  {
   "cell_type": "markdown",
   "metadata": {},
   "source": [
    "**Notice the difference in the mean and standard deviation of the scaled features compared to the unscaled features.**"
   ]
  },
  {
   "cell_type": "markdown",
   "metadata": {},
   "source": [
    "### Centering and scaling in a pipeline\n",
    "With regard to whether or not scaling is effective, the proof is in the pudding! See for yourself whether or not scaling the features of the White Wine Quality dataset has any impact on its performance. You will use a k-NN classifier as part of a pipeline that includes scaling, and for the purposes of comparison, a k-NN classifier trained on the unscaled data has been provided.\n",
    "\n",
    "The feature array and target variable array have been pre-loaded as `X` and `y`. Additionally, `KNeighborsClassifier` and `train_test_split` have been imported from `sklearn.neighbors` and `sklearn.model_selection`, respectively.\n",
    "\n",
    "**Instructions**\n",
    "\n",
    "- Import the following modules:\n",
    "  - `StandardScaler` from `sklearn.preprocessing`.\n",
    "  - `Pipeline` from `sklearn.pipeline`.\n",
    "- Complete the steps of the pipeline with `StandardScaler()` for `'scaler'` and `KNeighborsClassifier()` for `'knn'`.\n",
    "- Create the pipeline using `Pipeline()` and `steps`.\n",
    "- Create training and test sets, with `30%` used for testing. Use a random state of `42`.\n",
    "- Fit the pipeline to the training set.\n",
    "- Compute the accuracy scores of the scaled and unscaled models by using the `.score()` method inside the provided `print()` functions."
   ]
  },
  {
   "cell_type": "code",
   "execution_count": null,
   "metadata": {},
   "outputs": [],
   "source": [
    "# Setup the pipeline steps: steps\n",
    "steps = [('scaler', StandardScaler()), ('knn', KNeighborsClassifier())]\n",
    "        \n",
    "# Create the pipeline: pipeline\n",
    "pipeline = Pipeline(steps)\n",
    "\n",
    "# Create train and test sets\n",
    "X_train, X_test, y_train, y_test = train_test_split(X, y, test_size=0.3, random_state=42)\n",
    "\n",
    "# Fit the pipeline to the training set: knn_scaled\n",
    "knn_scaled = pipeline.fit(X_train, y_train)\n",
    "\n",
    "# Instantiate and fit a k-NN classifier to the unscaled data\n",
    "knn_unscaled = KNeighborsClassifier().fit(X_train, y_train)\n",
    "\n",
    "# Compute and print metrics\n",
    "print(f'Accuracy with Scaling: {knn_scaled.score(X_test, y_test)}')\n",
    "print(f'Accuracy without Scaling: {knn_unscaled.score(X_test, y_test)}')"
   ]
  },
  {
   "cell_type": "markdown",
   "metadata": {},
   "source": [
    "### Bringing it all together I: Pipeline for classification\n",
    "\n",
    "It is time now to piece together everything you have learned so far into a pipeline for classification! Your job in this exercise is to build a pipeline that includes scaling and hyperparameter tuning to classify wine quality.\n",
    "\n",
    "You'll return to using the SVM classifier you were briefly introduced to earlier in this chapter. The hyperparameters you will tune are $C$ and $gamma$. $C$ controls the regularization strength. It is analogous to the $C$ you tuned for logistic regression in Chapter 3, while $gamma$ controls the kernel coefficient: Do not worry about this now as it is beyond the scope of this course.\n",
    "\n",
    "The following modules and functions have been pre-loaded: `Pipeline`, `SVC`, `train_test_split`, `GridSearchCV`, `classification_report`, `accuracy_score`. The feature and target variable arrays `X` and `y` have also been pre-loaded.\n",
    "\n",
    "**Instructions**\n",
    "\n",
    "- Setup the pipeline with the following steps:\n",
    "  - Scaling, called `'scaler'` with `StandardScaler()`.\n",
    "  - Classification, called `'SVM'` with `SVC()`.\n",
    "- Specify the hyperparameter space using the following notation: `'step_name__parameter_name'`. Here, the `step_name` is `SVM`, and the `parameter_name`s are `C` and `gamma`.\n",
    "- Create training and test sets, with 20% of the data used for the test set. Use a random state of `21`.\n",
    "- Instantiate `GridSearchCV` with the pipeline and hyperparameter space and fit it to the training set. Use 3-fold cross-validation (This is the default, so you don't have to specify it).\n",
    "- Predict the labels of the test set and compute the metrics. The metrics have been computed for you."
   ]
  },
  {
   "cell_type": "code",
   "execution_count": null,
   "metadata": {},
   "outputs": [],
   "source": [
    "# Setup the pipeline\n",
    "steps = [('scaler', StandardScaler()), ('SVM', SVC())]\n",
    "\n",
    "pipeline = Pipeline(steps)\n",
    "\n",
    "# Specify the hyperparameter space\n",
    "parameters = {'SVM__C':[1, 10, 100], 'SVM__gamma':[0.1, 0.01]}\n",
    "\n",
    "# Create train and test sets\n",
    "X_train, X_test, y_train, y_test = train_test_split(X, y, test_size=0.2, random_state=21)\n",
    "\n",
    "# Instantiate the GridSearchCV object: cv\n",
    "cv = GridSearchCV(pipeline, param_grid=parameters)\n",
    "\n",
    "# Fit to the training set\n",
    "cv.fit(X_train, y_train)\n",
    "\n",
    "# Predict the labels of the test set: y_pred\n",
    "y_pred = cv.predict(X_test)\n",
    "\n",
    "# Compute and print metrics\n",
    "print(f\"Accuracy: {cv.score(X_test, y_test)}\")\n",
    "print(classification_report(y_test, y_pred))\n",
    "print(f\"Tuned Model Parameters: {cv.best_params_}\")"
   ]
  },
  {
   "cell_type": "markdown",
   "metadata": {},
   "source": [
    "### Bringing it all together II: Pipeline for regression\n",
    "\n",
    "For this final exercise, you will return to the Gapminder dataset. Guess what? Even this dataset has missing values that we dealt with for you in earlier chapters! Now, you have all the tools to take care of them yourself!\n",
    "\n",
    "Your job is to build a pipeline that imputes the missing data, scales the features, and fits an ElasticNet to the Gapminder data. You will then tune the `l1_ratio` of your ElasticNet using GridSearchCV.\n",
    "\n",
    "All the necessary modules have been imported, and the feature and target variable arrays have been pre-loaded as `X` and `y`.\n",
    "\n",
    "**Instructions**\n",
    "\n",
    "- Set up a pipeline with the following steps:\n",
    "  - `'imputation'`, which uses the `Imputer()` transformer and the `'mean'` strategy to impute missing data (`'NaN'`) using the mean of the column.\n",
    "  - `'scaler'`, which scales the features using `StandardScaler()`.\n",
    "  - `'elasticnet'`, which instantiates an `ElasticNet()` regressor.\n",
    "- Specify the hyperparameter space for the $l1$ ratio using the following notation: `'step_name__parameter_name'`. Here, the `step_name` is `elasticnet`, and the `parameter_name` is `l1_ratio`.\n",
    "- Create training and test sets, with 40% of the data used for the test set. Use a random state of `42`.\n",
    "- Instantiate `GridSearchCV` with the pipeline and hyperparameter space. Use 3-fold cross-validation (This is the default, so you don't have to specify it).\n",
    "- Fit the `GridSearchCV` object to the training set.\n",
    "- Compute $R^2$ and the best parameters. This has been done for you, so hit 'Submit Answer' to see the results!"
   ]
  },
  {
   "cell_type": "code",
   "execution_count": null,
   "metadata": {},
   "outputs": [],
   "source": [
    "gm = pd.read_csv(datasets[3])\n",
    "y = gm.pop('life').to_numpy()\n",
    "X = gm.iloc[:, :-1].to_numpy()"
   ]
  },
  {
   "cell_type": "code",
   "execution_count": null,
   "metadata": {},
   "outputs": [],
   "source": [
    "# Setup the pipeline steps: steps\n",
    "steps = [('imputation', SimpleImputer(missing_values=np.nan, strategy='mean')),\n",
    "         ('scaler', StandardScaler()),\n",
    "         ('elasticnet', ElasticNet())]\n",
    "\n",
    "# Create the pipeline: pipeline \n",
    "pipeline = Pipeline(steps)\n",
    "\n",
    "# Specify the hyperparameter space\n",
    "parameters = {'elasticnet__l1_ratio':np.linspace(0,1,30)}\n",
    "\n",
    "# Create train and test sets\n",
    "X_train, X_test, y_train, y_test = train_test_split(X, y, test_size=0.4, random_state=42)\n",
    "\n",
    "# Create the GridSearchCV object: gm_cv\n",
    "gm_cv = GridSearchCV(pipeline, param_grid=parameters)\n",
    "\n",
    "# Fit to the training set\n",
    "gm_cv.fit(X_train, y_train)\n",
    "\n",
    "# Compute and print the metrics\n",
    "r2 = gm_cv.score(X_test, y_test)\n",
    "print(f\"Tuned ElasticNet Alpha: {gm_cv.best_params_}\")\n",
    "print(f\"Tuned ElasticNet R squared: {r2}\")"
   ]
  },
  {
   "cell_type": "markdown",
   "metadata": {},
   "source": [
    "# Final Thoughts\n",
    "\n",
    "1. What you’ve learned\n",
    "   - To recap, you have learned the fundamentals of using machine learning techniques to build predictive models for both regression and classification problems.\n",
    "   - You have used these skills to build models using real-world datasets.\n",
    "   - You have learned the concepts of underfitting, overfitting.\n",
    "    - And have learned the techniques of test-train split, cross-validation, and grid search in order to fine tune your models and report how good they are.\n",
    "\n",
    "1. What you’ve learned\n",
    "   - You've also gained first-hand experience at using regularization in your models, seen the utility of lasso and ridge regression, and learned many types of data pre-processing steps that are essential for any well-rounded data scientist.\n",
    "   - For more information and examples, check out the scikit-learn documentation and my book, Introduction to Machine Learning with Python."
   ]
  },
  {
   "cell_type": "markdown",
   "metadata": {},
   "source": [
    "# Certificate\n",
    "\n",
    "![](https://raw.githubusercontent.com/trenton3983/DataCamp/master/Images/2020-10-14_supervised_learning_sklearn/2021-03-14_DataCamp_supervised_learning_with_scikit_learn.JPG)"
   ]
  }
 ],
 "metadata": {
  "kernelspec": {
   "display_name": "py312",
   "language": "python",
   "name": "py312"
  },
  "language_info": {
   "codemirror_mode": {
    "name": "ipython",
    "version": 3
   },
   "file_extension": ".py",
   "mimetype": "text/x-python",
   "name": "python",
   "nbconvert_exporter": "python",
   "pygments_lexer": "ipython3",
   "version": "3.12.0"
  },
  "toc-autonumbering": true
 },
 "nbformat": 4,
 "nbformat_minor": 4
}
