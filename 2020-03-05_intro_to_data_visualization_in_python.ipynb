{
 "cells": [
  {
   "cell_type": "markdown",
   "metadata": {},
   "source": [
    "## Introduction"
   ]
  },
  {
   "cell_type": "markdown",
   "metadata": {},
   "source": [
    "- Notebook Author: [Trenton McKinney](https://trenton3983.github.io/)\n",
    "- Course: **[DataCamp: Introduction to Data Visualization in Python](https://learn.datacamp.com/courses/introduction-to-data-visualization-in-python)**\n",
    "- [Notebook Repository](https://github.com/trenton3983/DataCamp/blob/master/2020-03-05_intro_to_data_visualization_in_python.ipynb) was created as a reproducible reference.\n",
    "- Most of the material is from the course, but additional content, and updates, have been added.\n",
    "- If you find the content beneficial, consider a [DataCamp Subscription](https://www.datacamp.com/pricing?period=yearly).\n",
    "- `def create_dir_save_file` will download and save the required data (`data/intro_to_data_visualization_in_python`) and image (`Images/intro_to_data_visualization_in_python`) files."
   ]
  },
  {
   "cell_type": "markdown",
   "metadata": {},
   "source": [
    "### Course Description\n",
    "\n",
    "This course extends Intermediate Python for Data Science to provide a stronger foundation in data visualization in Python. You'll get a broader coverage of the Matplotlib library and an overview of seaborn, a package for statistical graphics. Topics covered include customizing graphics, plotting two-dimensional arrays (like pseudocolor plots, contour plots, and images), statistical graphics (like visualizing distributions and regressions), and working with time series and image data.\n",
    "\n",
    "### Synopsis\n",
    "\n",
    "- **Customizing Plots**\n",
    "  - **Overview**: This chapter explores advanced customization options available in Matplotlib to enhance the visual presentation of plots.\n",
    "  - **Key Techniques**:\n",
    "    - Overlaying multiple plots and creating subplots for comparative analysis.\n",
    "    - Controlling axes properties, adding legends and annotations to improve plot clarity and information delivery.\n",
    "    - Use of different plot styles and working with color maps to cater to aesthetic and functional needs.\n",
    "    - Specific plot types discussed include line plots, scatter plots, and histograms.\n",
    "\n",
    "- **Plotting 2D Arrays**\n",
    "  - **Overview**: This chapter focuses on various techniques for visualizing two-dimensional arrays, which are essential for representing two-variable functions.\n",
    "  - **Key Techniques**:\n",
    "    - Discussion on the use, presentation, and orientation of grids.\n",
    "    - Introduction to pseudocolor plots, contour plots, and color maps.\n",
    "    - Explanation of two-dimensional histograms and how to visualize images as arrays.\n",
    "\n",
    "- **Statistical Plots with Seaborn**\n",
    "  - **Overview**: Offers a high-level introduction to Seaborn, a Python library that facilitates the creation of statistical graphics.\n",
    "  - **Key Techniques**:\n",
    "    - Tools for computing and visualizing linear regressions, essential for understanding relationships in data.\n",
    "    - Visualization of univariate distributions using strip, swarm, and violin plots which highlight data distribution characteristics.\n",
    "    - Exploration of multivariate distributions through joint plots, pair plots, and heatmaps, useful for observing interactions between multiple variables.\n",
    "    - Techniques for grouping categories in plots to delineate and compare subsets of data effectively.\n",
    "\n",
    "- **Analyzing Time Series and Images**\n",
    "  - **Overview**: This chapter integrates previously learned skills to examine time series data and images, enhancing understanding through practical applications.\n",
    "  - **Key Applications**:\n",
    "    - Customization of plots for stock data visualization.\n",
    "    - Techniques for generating histograms of image pixel intensities.\n",
    "    - Methods to enhance image contrast using histogram equalization."
   ]
  },
  {
   "cell_type": "markdown",
   "metadata": {},
   "source": [
    "### Datasets"
   ]
  },
  {
   "cell_type": "code",
   "execution_count": null,
   "metadata": {},
   "outputs": [],
   "source": [
    "mpg_url = 'https://assets.datacamp.com/production/repositories/558/datasets/1a03987ad77b38d61fc4c692bf64454ddf345fbe/auto-mpg.csv'\n",
    "women_bach_url = 'https://assets.datacamp.com/production/repositories/558/datasets/5f4f1a9bab95fba4d7fea1ad3c30dcab8f5b9c96/percent-bachelors-degrees-women-usa.csv'\n",
    "stocks_url = 'https://assets.datacamp.com/production/repositories/558/datasets/8dd58ff003e399765cdf348305783b842ff1d7eb/stocks.csv'"
   ]
  },
  {
   "cell_type": "markdown",
   "metadata": {},
   "source": [
    "### Imports"
   ]
  },
  {
   "cell_type": "code",
   "execution_count": null,
   "metadata": {},
   "outputs": [],
   "source": [
    "import pandas as pd\n",
    "from itertools import combinations\n",
    "import matplotlib.pyplot as plt\n",
    "from matplotlib.colors import LinearSegmentedColormap\n",
    "import seaborn as sns\n",
    "import requests\n",
    "import zipfile\n",
    "from pathlib import Path\n",
    "import numpy as np\n",
    "from sklearn.datasets import load_iris"
   ]
  },
  {
   "cell_type": "code",
   "execution_count": null,
   "metadata": {},
   "outputs": [],
   "source": [
    "print(\"Pandas version:\", pd.__version__)\n",
    "print(\"Matplotlib version:\", plt.matplotlib.__version__)\n",
    "print(\"Seaborn version:\", sns.__version__)\n",
    "print(\"NumPy version:\", np.__version__)"
   ]
  },
  {
   "cell_type": "markdown",
   "metadata": {},
   "source": [
    "### Pandas Configuration Options"
   ]
  },
  {
   "cell_type": "code",
   "execution_count": null,
   "metadata": {},
   "outputs": [],
   "source": [
    "pd.set_option('display.max_columns', 200)\n",
    "pd.set_option('display.max_rows', 300)\n",
    "pd.set_option('display.expand_frame_repr', True)"
   ]
  },
  {
   "cell_type": "markdown",
   "metadata": {},
   "source": [
    "### Functions"
   ]
  },
  {
   "cell_type": "code",
   "execution_count": null,
   "metadata": {},
   "outputs": [],
   "source": [
    "def create_dir_save_file(dir_path: Path, url: str):\n",
    "    \"\"\"\n",
    "    Check if the path exists and create it if it does not.\n",
    "    Check if the file exists and download it if it does not.\n",
    "    \"\"\"\n",
    "    if not dir_path.parents[0].exists():\n",
    "        dir_path.parents[0].mkdir(parents=True)\n",
    "        print(f'Directory Created: {dir_path.parents[0]}')\n",
    "    else:\n",
    "        print('Directory Exists')\n",
    "        \n",
    "    if not dir_path.exists():\n",
    "        r = requests.get(url, allow_redirects=True)\n",
    "        open(dir_path, 'wb').write(r.content)\n",
    "        print(f'File Created: {dir_path.name}')\n",
    "    else:\n",
    "        print('File Exists')"
   ]
  },
  {
   "cell_type": "markdown",
   "metadata": {},
   "source": [
    "### DataFrames"
   ]
  },
  {
   "cell_type": "code",
   "execution_count": null,
   "metadata": {},
   "outputs": [],
   "source": [
    "mpg_path = Path('data/intro_to_data_visualization_in_python/auto-mpg.csv')\n",
    "# percentage of bachelors degrees awarded to women in the USA\n",
    "women_path = Path('data/intro_to_data_visualization_in_python/percent-bachelors-degrees-women-usa.csv')\n",
    "stocks_path = Path('data/intro_to_data_visualization_in_python/stocks.csv')\n",
    "create_dir_save_file(mpg_path, mpg_url)\n",
    "create_dir_save_file(women_path, women_bach_url)\n",
    "create_dir_save_file(stocks_path, stocks_url)"
   ]
  },
  {
   "cell_type": "code",
   "execution_count": null,
   "metadata": {},
   "outputs": [],
   "source": [
    "df_mpg = pd.read_csv(mpg_path)\n",
    "df_women = pd.read_csv(women_path)\n",
    "df_stocks = pd.read_csv(stocks_path)"
   ]
  },
  {
   "cell_type": "code",
   "execution_count": null,
   "metadata": {},
   "outputs": [],
   "source": [
    "df_mpg.head()"
   ]
  },
  {
   "cell_type": "code",
   "execution_count": null,
   "metadata": {},
   "outputs": [],
   "source": [
    "df_mpg.info()"
   ]
  },
  {
   "cell_type": "code",
   "execution_count": null,
   "metadata": {},
   "outputs": [],
   "source": [
    "df_women.head()"
   ]
  },
  {
   "cell_type": "code",
   "execution_count": null,
   "metadata": {},
   "outputs": [],
   "source": [
    "df_women.info()"
   ]
  },
  {
   "cell_type": "code",
   "execution_count": null,
   "metadata": {},
   "outputs": [],
   "source": [
    "df_stocks.head()"
   ]
  },
  {
   "cell_type": "code",
   "execution_count": null,
   "metadata": {},
   "outputs": [],
   "source": [
    "df_stocks.Date = pd.to_datetime(df_stocks.Date)\n",
    "df_stocks.set_index('Date', inplace=True, drop=True)\n",
    "df_stocks.info()"
   ]
  },
  {
   "cell_type": "markdown",
   "metadata": {},
   "source": [
    "## Customizing plots\n",
    "\n",
    "Following a review of basic plotting with Matplotlib, this chapter delves into customizing plots using Matplotlib. This includes overlaying plots, making subplots, controlling axes, adding legends and annotations, and using different plot styles."
   ]
  },
  {
   "cell_type": "markdown",
   "metadata": {},
   "source": [
    "**Reminder: Line Plots**"
   ]
  },
  {
   "cell_type": "code",
   "execution_count": null,
   "metadata": {},
   "outputs": [],
   "source": [
    "x = np.linspace(0, 1, 201)\n",
    "y = np.sin((2*np.pi*x)**2)\n",
    "plt.plot(x, y, 'purple')\n",
    "plt.show()"
   ]
  },
  {
   "cell_type": "markdown",
   "metadata": {},
   "source": [
    "**Reminder: Scatter Plots**"
   ]
  },
  {
   "cell_type": "code",
   "execution_count": null,
   "metadata": {},
   "outputs": [],
   "source": [
    "np.random.seed(256)\n",
    "x = 10*np.random.rand(200,1)\n",
    "y = (0.2 + 0.8*x) * np.sin(2*np.pi*x) + np.random.randn(200,1)\n",
    "plt.scatter(x, y, color='purple')\n",
    "plt.show()"
   ]
  },
  {
   "cell_type": "markdown",
   "metadata": {},
   "source": [
    "**Reminder: Histograms**"
   ]
  },
  {
   "cell_type": "code",
   "execution_count": null,
   "metadata": {},
   "outputs": [],
   "source": [
    "np.random.seed(256)\n",
    "x = 10*np.random.rand(200,1)\n",
    "y = (0.2 + 0.8*x) * np.sin(2*np.pi*x) + np.random.randn(200,1)\n",
    "plt.hist(y, bins=20, color='purple')\n",
    "plt.show()"
   ]
  },
  {
   "cell_type": "markdown",
   "metadata": {},
   "source": [
    "**What you will learn**\n",
    "\n",
    "* Customizing of plots: axes, annotations, legends\n",
    "* Overlaying multiple plots and subplots\n",
    "* Visualizing 2D arrays, 2D data sets\n",
    "* Working with color maps\n",
    "* Producing statistical graphics\n",
    "* Plotting time series\n",
    "* Working with images"
   ]
  },
  {
   "cell_type": "markdown",
   "metadata": {},
   "source": [
    "### Plotting Multiple Graphs\n",
    "\n",
    "**Strategies**\n",
    "\n",
    "* Plotting many graphs on common axes\n",
    "* Creating axes within a figure\n",
    "* Creating subplots within a figure"
   ]
  },
  {
   "cell_type": "code",
   "execution_count": null,
   "metadata": {},
   "outputs": [],
   "source": [
    "austin_weather_url = 'https://assets.datacamp.com/production/repositories/497/datasets/4d7b2bc6b10b527dc297707fb92fa46b10ac1be5/weather_data_austin_2010.csv'\n",
    "austin_weather_path = Path('data/intro_to_data_visualization_in_python/weather_data_austin_2010.csv')\n",
    "create_dir_save_file(austin_weather_path, austin_weather_url)\n",
    "df_weather = pd.read_csv(austin_weather_path)\n",
    "df_weather.Date = pd.to_datetime(df_weather.Date)\n",
    "df_weather.set_index('Date', drop=True, inplace=True)"
   ]
  },
  {
   "cell_type": "markdown",
   "metadata": {},
   "source": [
    "**Graphs On Common Axes**"
   ]
  },
  {
   "cell_type": "code",
   "execution_count": null,
   "metadata": {},
   "outputs": [],
   "source": [
    "temperature = df_weather['Temperature']['2010-01-01':'2010-01-15']\n",
    "dewpoint = df_weather['DewPoint']['2010-01-01':'2010-01-15']\n",
    "t = temperature.index\n",
    "\n",
    "plt.plot(t, temperature, 'red')\n",
    "plt.plot(t, dewpoint, 'blue') # Appears on same axes\n",
    "plt.xlabel('Date')\n",
    "plt.title('Temperature & Dew Point')\n",
    "plt.xticks(rotation=60)\n",
    "plt.show() # Renders plot objects to screen"
   ]
  },
  {
   "cell_type": "markdown",
   "metadata": {},
   "source": [
    "**Using `axes()`**\n",
    "\n",
    "* Syntax: `axes([x_lo, y_lo, width, height])`\n",
    "* Units between 0 and 1 (figure dimensions)\n",
    "\n",
    "![axes](https://raw.githubusercontent.com/trenton3983/DataCamp/master/Images/intro_to_data_visualization_in_python/1_1_axes.JPG)"
   ]
  },
  {
   "cell_type": "code",
   "execution_count": null,
   "metadata": {},
   "outputs": [],
   "source": [
    "plt.figure(figsize=(8, 6))\n",
    "\n",
    "plt.axes([0.05,0.05,0.425,0.9])\n",
    "plt.plot(t, temperature, 'red')\n",
    "plt.xlabel('Date')\n",
    "plt.title('Temperature')\n",
    "plt.xticks(rotation=60)\n",
    "plt.axes([0.525,0.05,0.425,0.9])\n",
    "plt.plot(t, dewpoint, 'blue')\n",
    "plt.xlabel('Date')\n",
    "plt.title('Dew Point')\n",
    "plt.xticks(rotation=60)\n",
    "plt.show()"
   ]
  },
  {
   "cell_type": "markdown",
   "metadata": {},
   "source": [
    "**Using `subplot()`**\n",
    "\n",
    "* Syntax: `subplot(nrows, ncols, nsubplot)`\n",
    "* Subplot ordering:\n",
    " * Row-wise from top left\n",
    " * Indexed from 1"
   ]
  },
  {
   "cell_type": "code",
   "execution_count": null,
   "metadata": {},
   "outputs": [],
   "source": [
    "plt.figure(figsize=(8, 8))\n",
    "\n",
    "plt.subplot(2, 1, 1)\n",
    "plt.plot(t, temperature, 'red')\n",
    "plt.xlabel('Date')\n",
    "plt.title('Temperature')\n",
    "plt.xticks(rotation=60)\n",
    "plt.subplot(2, 1, 2)\n",
    "plt.plot(t, dewpoint, 'blue')\n",
    "plt.xlabel('Date')\n",
    "plt.title('Dew Point')\n",
    "plt.xticks(rotation=60)\n",
    "plt.tight_layout()\n",
    "plt.show()"
   ]
  },
  {
   "cell_type": "markdown",
   "metadata": {},
   "source": [
    "#### Multiple plots on single axis\n",
    "\n",
    "It is time now to put together some of what you have learned and combine line plots on a common set of axes. The data set here comes from records of undergraduate degrees awarded to women in a variety of fields from 1970 to 2011. You can compare trends in degrees most easily by viewing two curves on the same set of axes.\n",
    "\n",
    "Here, three NumPy arrays have been pre-loaded for you: `year` (enumerating years from 1970 to 2011 inclusive), `physical_sciences` (representing the percentage of Physical Sciences degrees awarded to women each in corresponding year), and `computer_science` (representing the percentage of Computer Science degrees awarded to women in each corresponding year).\n",
    "\n",
    "You will issue two `plt.plot()` commands to draw line plots of different colors on the same set of axes. Here, `year` represents the x-axis, while `physical_science`s and `computer_science` are the y-axes.\n",
    "\n",
    "**Instructions**\n",
    "\n",
    "* Import `matplotlib.pyplot` as its usual alias.\n",
    "* Add a `'blue'` line plot of the % of degrees awarded to women in the Physical Sciences (`physical_sciences`) from 1970 to 2011 (`year`). Note that the x-axis should be specified first.\n",
    "* Add a `'red'` line plot of the % of degrees awarded to women in Computer Science (`computer_science`) from 1970 to 2011 (`year`).\n",
    "* Use `plt.show()` to display the figure with the curves on the same axes."
   ]
  },
  {
   "cell_type": "code",
   "execution_count": null,
   "metadata": {},
   "outputs": [],
   "source": [
    "# Plot in blue the % of degrees awarded to women in the Physical Sciences\n",
    "plt.plot(df_women.Year, df_women['Physical Sciences'], c='blue')\n",
    "\n",
    "# Plot in red the % of degrees awarded to women in Computer Science\n",
    "plt.plot(df_women.Year, df_women['Computer Science'], c='red')\n",
    "\n",
    "# Display the plot\n",
    "plt.show()"
   ]
  },
  {
   "cell_type": "markdown",
   "metadata": {},
   "source": [
    "**It looks like, for the last 25 years or so, more women have been awarded undergraduate degrees in the Physical Sciences than in Computer Science.**"
   ]
  },
  {
   "cell_type": "markdown",
   "metadata": {},
   "source": [
    "#### Using axes()\n",
    "\n",
    "Rather than overlaying line plots on common axes, you may prefer to plot different line plots on distinct axes. The command `plt.axes()` is one way to do this (but it requires specifying coordinates relative to the size of the figure).\n",
    "\n",
    "Here, you have the same three arrays `year`, `physical_sciences`, and `computer_science` representing percentages of degrees awarded to women over a range of years. You will use `plt.axes()` to create separate sets of axes in which you will draw each line plot.\n",
    "\n",
    "In calling `plt.axes([xlo, ylo, width, height])`, a set of axes is created and made active with lower corner at coordinates `(xlo, ylo)` of the specified `width` and `height`. Note that these coordinates can be passed to `plt.axes()` in the form of a list or a tuple.\n",
    "\n",
    "The coordinates and lengths are values between 0 and 1 representing lengths relative to the dimensions of the figure. After issuing a `plt.axes()` command, plots generated are put in that set of axes.\n",
    "\n",
    "**Instructions**\n",
    "\n",
    "* Create a set of plot axes with lower corner xlo and ylo of `0.05` and `0.05`, width of `0.425`, and height of `0.9` (in units relative to the figure dimension).\n",
    " * Note: Remember to pass these coordinates to `plt.axes()` in the form of a list: `[xlo, ylo, width, height]`.\n",
    "* Plot the percentage of degrees awarded to women in Physical Sciences in blue in the active axes just created.\n",
    "* Create a set of plot axes with lower corner xlo and ylo of `0.525` and `0.05`, width of `0.425`, and height of `0.9` (in units relative to the figure dimension).\n",
    "* Plot the percentage of degrees awarded to women in Computer Science in red in the active axes just created."
   ]
  },
  {
   "cell_type": "code",
   "execution_count": null,
   "metadata": {},
   "outputs": [],
   "source": [
    "# Create plot axes for the first line plot\n",
    "plt.axes([0.05, 0.05, 0.425, 0.9])\n",
    "\n",
    "# Plot in blue the % of degrees awarded to women in the Physical Sciences\n",
    "plt.plot(df_women.Year, df_women['Physical Sciences'], c='blue')\n",
    "\n",
    "# Create plot axes for the second line plot\n",
    "plt.axes([0.525, 0.05, 0.425, 0.9])\n",
    "\n",
    "# Plot in red the % of degrees awarded to women in Computer Science\n",
    "plt.plot(df_women.Year, df_women['Computer Science'], c='red')\n",
    "\n",
    "# Display the plot\n",
    "plt.show()"
   ]
  },
  {
   "cell_type": "markdown",
   "metadata": {},
   "source": [
    "**As you can see, not only are there now two separate plots with their own axes, but the axes for each plot are slightly different.**"
   ]
  },
  {
   "cell_type": "markdown",
   "metadata": {},
   "source": [
    "#### Using subplot() (1)\n",
    "\n",
    "The command `plt.axes()` requires a lot of effort to use well because the coordinates of the axes need to be set manually. A better alternative is to use `plt.subplot()` to determine the layout automatically.\n",
    "\n",
    "In this exercise, you will continue working with the same arrays from the previous exercises: `year`, `physical_sciences`, and `computer_science`. Rather than using `plt.axes()` to explicitly lay out the axes, you will use `plt.subplot(m, n, k)` to make the subplot grid of dimensions `m` by `n` and to make the `k`th subplot active (subplots are numbered starting from 1 row-wise from the top left corner of the subplot grid).\n",
    "\n",
    "**Instructions**\n",
    "\n",
    "* Use `plt.subplot()` to create a figure with 1x2 subplot layout & make the first subplot active.\n",
    "* Plot the percentage of degrees awarded to women in Physical Sciences in blue in the active subplot.\n",
    "* Use `plt.subplot()` again to make the second subplot active in the current 1x2 subplot grid.\n",
    "* Plot the percentage of degrees awarded to women in Computer Science in red in the active subplot."
   ]
  },
  {
   "cell_type": "code",
   "execution_count": null,
   "metadata": {},
   "outputs": [],
   "source": [
    "# Create a figure with 1x2 subplot and make the left subplot active\n",
    "plt.subplot(1, 2, 1)\n",
    "\n",
    "# Plot in blue the % of degrees awarded to women in the Physical Sciences\n",
    "plt.plot(df_women.Year, df_women['Physical Sciences'], c='blue')\n",
    "plt.title('Physical Sciences')\n",
    "\n",
    "# Make the right subplot active in the current 1x2 subplot grid\n",
    "plt.subplot(1, 2, 2)\n",
    "\n",
    "# Plot in red the % of degrees awarded to women in Computer Science\n",
    "plt.plot(df_women.Year, df_women['Computer Science'], c='red')\n",
    "plt.title('Computer Science')\n",
    "\n",
    "# Use plt.tight_layout() to improve the spacing between subplots\n",
    "plt.tight_layout()\n",
    "plt.show()"
   ]
  },
  {
   "cell_type": "markdown",
   "metadata": {},
   "source": [
    "**Using subplots like this is a better alternative to using plt.axes().**"
   ]
  },
  {
   "cell_type": "markdown",
   "metadata": {},
   "source": [
    "#### Using subplot() (2)\n",
    "\n",
    "Now you have some familiarity with `plt.subplot()`, you can use it to plot more plots in larger grids of subplots of the same figure.\n",
    "\n",
    "Here, you will make a 2×2 grid of subplots and plot the percentage of degrees awarded to women in Physical Sciences (using `physical_sciences`), in Computer Science (using `computer_science`), in Health Professions (using `health`), and in Education (using `education`).\n",
    "\n",
    "**Instructions**\n",
    "\n",
    "* Create a figure with 2×2 subplot layout, make the top, left subplot active, and plot the % of degrees awarded to women in Physical Sciences in blue in the active subplot.\n",
    "* Make the top, right subplot active in the current 2×2 subplot grid and plot the % of degrees awarded to women in Computer Science in red in the active subplot.\n",
    "* Make the bottom, left subplot active in the current 2×2 subplot grid and plot the % of degrees awarded to women in Health Professions in green in the active subplot.\n",
    "* Make the bottom, right subplot active in the current 2×2 subplot grid and plot the % of degrees awarded to women in Education in yellow in the active subplot.\n",
    "* _When making your plots, be sure to use the variable names specified in the exercise text above (`computer_science`, `health`, and `education`)!_"
   ]
  },
  {
   "cell_type": "code",
   "execution_count": null,
   "metadata": {},
   "outputs": [],
   "source": [
    "# Create a figure with 2x2 subplot layout and make the top left subplot active\n",
    "plt.subplot(2, 2, 1)\n",
    "\n",
    "# Plot in blue the % of degrees awarded to women in the Physical Sciences\n",
    "plt.plot(df_women.Year, df_women['Physical Sciences'], color='blue')\n",
    "plt.title('Physical Sciences')\n",
    "\n",
    "# Make the top right subplot active in the current 2x2 subplot grid \n",
    "plt.subplot(2, 2, 2)\n",
    "\n",
    "# Plot in red the % of degrees awarded to women in Computer Science\n",
    "plt.plot(df_women.Year, df_women['Computer Science'], color='red')\n",
    "plt.title('Computer Science')\n",
    "\n",
    "# Make the bottom left subplot active in the current 2x2 subplot grid\n",
    "plt.subplot(2, 2, 3)\n",
    "\n",
    "# Plot in green the % of degrees awarded to women in Health Professions\n",
    "plt.plot(df_women.Year, df_women['Health Professions'], color='green')\n",
    "plt.title('Health Professions')\n",
    "\n",
    "# Make the bottom right subplot active in the current 2x2 subplot grid\n",
    "plt.subplot(2, 2, 4)\n",
    "\n",
    "# Plot in yellow the % of degrees awarded to women in Education\n",
    "plt.plot(df_women.Year, df_women['Education'], color='yellow')\n",
    "plt.title('Education')\n",
    "\n",
    "# Improve the spacing between subplots and display them\n",
    "plt.tight_layout()\n",
    "plt.show()"
   ]
  },
  {
   "cell_type": "markdown",
   "metadata": {},
   "source": [
    "**You can use this approach to create subplots in any layout of your choice.**"
   ]
  },
  {
   "cell_type": "markdown",
   "metadata": {},
   "source": [
    "### Customizing Axes\n",
    "\n",
    "**Controlling axis extents**\n",
    "\n",
    "* `axis([xmin, xmax, ymin, ymax])` sets axis extents\n",
    "* Control over individual axis extents\n",
    " * `xlim([xmin, xmax])`\n",
    " * `ylim([ymin, ymax])`\n",
    "* Can use tuples, lists for extents\n",
    " * e.g., `xlim((-2, 3))` works\n",
    " * e.g., `xlim([-2, 3])` works also\n",
    " \n",
    "**GDP over time**"
   ]
  },
  {
   "cell_type": "code",
   "execution_count": null,
   "metadata": {},
   "outputs": [],
   "source": [
    "gdp_url = 'https://assets.datacamp.com/production/repositories/516/datasets/a0858a700501f88721ca9e4bdfca99b9e10b937f/GDP.zip'\n",
    "save_to = Path('data/intro_to_data_visualization_in_python/gdp.zip')"
   ]
  },
  {
   "cell_type": "code",
   "execution_count": null,
   "metadata": {},
   "outputs": [],
   "source": [
    "create_dir_save_file(save_to, gdp_url)"
   ]
  },
  {
   "cell_type": "code",
   "execution_count": null,
   "metadata": {},
   "outputs": [],
   "source": [
    "zf = zipfile.ZipFile(save_to)\n",
    "df_gdp = pd.read_csv(zf.open('GDP/gdp_usa.csv'))\n",
    "df_gdp.DATE = pd.to_datetime(df_gdp.DATE)\n",
    "df_gdp['YEAR'] = pd.DatetimeIndex(df_gdp.DATE).year"
   ]
  },
  {
   "cell_type": "code",
   "execution_count": null,
   "metadata": {},
   "outputs": [],
   "source": [
    "plt.plot(df_gdp.YEAR, df_gdp.VALUE)\n",
    "plt.xlabel('Year')\n",
    "plt.ylabel('Billions of Dollars')\n",
    "plt.title('US Gross Domestic Product')\n",
    "plt.show()"
   ]
  },
  {
   "cell_type": "markdown",
   "metadata": {},
   "source": [
    "**Using `xlim()`**"
   ]
  },
  {
   "cell_type": "code",
   "execution_count": null,
   "metadata": {},
   "outputs": [],
   "source": [
    "plt.plot(df_gdp.YEAR, df_gdp.VALUE)\n",
    "plt.xlabel('Year')\n",
    "plt.ylabel('Billions of Dollars')\n",
    "plt.title('US Gross Domestic Product')\n",
    "plt.xlim((1947, 1957))\n",
    "plt.show()"
   ]
  },
  {
   "cell_type": "markdown",
   "metadata": {},
   "source": [
    "**Using `xlim()` & `ylim()`**"
   ]
  },
  {
   "cell_type": "code",
   "execution_count": null,
   "metadata": {},
   "outputs": [],
   "source": [
    "plt.plot(df_gdp.YEAR, df_gdp.VALUE)\n",
    "plt.xlabel('Year')\n",
    "plt.ylabel('Billions of Dollars')\n",
    "plt.title('US Gross Domestic Product')\n",
    "plt.xlim((1947, 1957))\n",
    "plt.ylim((0, 1000))\n",
    "plt.show()"
   ]
  },
  {
   "cell_type": "markdown",
   "metadata": {},
   "source": [
    "**Using `axis()`**"
   ]
  },
  {
   "cell_type": "code",
   "execution_count": null,
   "metadata": {},
   "outputs": [],
   "source": [
    "plt.plot(df_gdp.YEAR, df_gdp.VALUE)\n",
    "plt.xlabel('Year')\n",
    "plt.ylabel('Billions of Dollars')\n",
    "plt.title('US Gross Domestic Product')\n",
    "plt.axis((1947, 1957, 0, 600))\n",
    "plt.show()"
   ]
  },
  {
   "cell_type": "markdown",
   "metadata": {},
   "source": [
    "**Other `axis()` options**\n",
    "\n",
    "```python\n",
    "| Invocation     | Result                               |\n",
    "|----------------|--------------------------------------|\n",
    "| axis('off')    | turns off axis lines, labels         |\n",
    "| axis('equal')  | equal scaling on x, y axes           |\n",
    "| axis('square') | forces square plot                   |\n",
    "| axis('tight')  | sets xlim(), ylim() to show all data |\n",
    "```"
   ]
  },
  {
   "cell_type": "markdown",
   "metadata": {},
   "source": [
    "**Using `axis('equal')`**"
   ]
  },
  {
   "cell_type": "code",
   "execution_count": null,
   "metadata": {},
   "outputs": [],
   "source": [
    "np.random.seed(555)\n",
    "t = np.linspace(0,2*np.pi,100)\n",
    "xc = 0.0\n",
    "yc = 0.0\n",
    "r = 1\n",
    "x = r*np.cos(t) + xc\n",
    "y = r*np.sin(t) + yc\n",
    "\n",
    "plt.subplot(2, 1, 1)\n",
    "plt.plot(x, y, 'red')\n",
    "plt.grid(True)\n",
    "plt.title('default axis')\n",
    "plt.subplot(2, 1, 2)\n",
    "plt.plot(x, y, 'red')\n",
    "plt.grid(True)\n",
    "plt.axis('equal')\n",
    "plt.title('axis equal')\n",
    "plt.tight_layout()\n",
    "plt.show()"
   ]
  },
  {
   "cell_type": "markdown",
   "metadata": {},
   "source": [
    "#### Using xlim(), ylim()\n",
    "\n",
    "In this exercise, you will work with the `matplotlib.pyplot` interface to quickly set the x- and y-limits of your plots.\n",
    "\n",
    "You will now create the same figure as in the previous exercise using `plt.plot()`, this time setting the axis extents using `plt.xlim()` and `plt.ylim()`. These commands allow you to either zoom or expand the plot or to set the axis ranges to include important values (such as the origin).\n",
    "\n",
    "In this exercise, as before, the percentage of women graduates in Computer Science and in the Physical Sciences are held in the variables `computer_science` and `physical_sciences` respectively over `year`.\n",
    "\n",
    "After creating the plot, you will use `plt.savefig()` to export the image produced to a file.\n",
    "\n",
    "**Instructions**\n",
    "\n",
    "* Use `plt.xlim()` to set the x-axis range to the period between the years 1990 and 2010.\n",
    "* Use `plt.ylim()` to set the y-axis range to the interval between 0% and 50% of degrees awarded.\n",
    "* Display the final figure with `plt.show()` and save the output to `'xlim_and_ylim.png'`."
   ]
  },
  {
   "cell_type": "code",
   "execution_count": null,
   "metadata": {},
   "outputs": [],
   "source": [
    "# Plot the % of degrees awarded to women in Computer Science and the Physical Sciences\n",
    "plt.plot(df_women['Year'], df_women['Computer Science'], color='red') \n",
    "plt.plot(df_women['Year'], df_women['Physical Sciences'], color='blue')\n",
    "\n",
    "# Add the axis labels\n",
    "plt.xlabel('Year')\n",
    "plt.ylabel('Degrees awarded to women (%)')\n",
    "\n",
    "# Set the x-axis range\n",
    "plt.xlim(1990, 2010)\n",
    "\n",
    "# Set the y-axis range\n",
    "plt.ylim(0, 50)\n",
    "\n",
    "# Add a title\n",
    "plt.title('Degrees awarded to women (1990-2010)\\nComputer Science (red)\\nPhysical Sciences (blue)')\n",
    "\n",
    "# Save the image as 'xlim_and_ylim.png'\n",
    "plt.savefig('Images/intro_to_data_visualization_in_python/xlim_and_ylim.png')\n",
    "\n",
    "# display the plot\n",
    "plt.show()"
   ]
  },
  {
   "cell_type": "markdown",
   "metadata": {},
   "source": [
    "**This plot effectively captures the difference in trends between 1990 and 2010.**"
   ]
  },
  {
   "cell_type": "markdown",
   "metadata": {},
   "source": [
    "#### Using axis()\n",
    "\n",
    "Using `plt.xlim()` and `plt.ylim()` are useful for setting the axis limits individually. In this exercise, you will see how you can pass a 4-tuple to `plt.axis()` to set limits for both axes at once. For example, `plt.axis((1980, 1990, 0, 75))` would set the extent of the x-axis to the period between 1980 and 1990, and would set the y-axis extent from 0 to 75% degrees award.\n",
    "\n",
    "Once again, the percentage of women graduates in Computer Science and in the Physical Sciences are held in the variables computer_science and physical_sciences where each value was measured at the corresponding year held in the year variable.\n",
    "\n",
    "**Instructions**\n",
    "\n",
    "* Use `plt.axis()` to select the time period between 1990 and 2010 on the x-axis as well as the interval between 0 and 50% awarded on the y-axis.\n",
    "* Save the resulting plot as `'axis_limits.png'`."
   ]
  },
  {
   "cell_type": "code",
   "execution_count": null,
   "metadata": {},
   "outputs": [],
   "source": [
    "# Plot in blue the % of degrees awarded to women in Computer Science\n",
    "plt.plot(df_women['Year'], df_women['Computer Science'], color='red') \n",
    "\n",
    "# Plot in red the % of degrees awarded to women in the Physical Sciences\n",
    "plt.plot(df_women['Year'], df_women['Physical Sciences'], color='blue')\n",
    "\n",
    "# Set the x-axis and y-axis limits\n",
    "plt.axis((1990, 2010, 0, 50))\n",
    "\n",
    "# Save the figure as 'axis_limits.png'\n",
    "plt.savefig('Images/intro_to_data_visualization_in_python/axis_limits.png')\n",
    "\n",
    "# Show the figure\n",
    "plt.show()"
   ]
  },
  {
   "cell_type": "markdown",
   "metadata": {},
   "source": [
    "**Using `plt.axis()` allows you to set limits for both axes at once, as opposed to setting them individually with `plt.xlim()` and `plt.ylim()`.**"
   ]
  },
  {
   "cell_type": "markdown",
   "metadata": {},
   "source": [
    "### Legends, Annotations, and Styles"
   ]
  },
  {
   "cell_type": "code",
   "execution_count": null,
   "metadata": {},
   "outputs": [],
   "source": [
    "data = load_iris()\n",
    "iris = pd.DataFrame(data= np.c_[data['data'], data['target']], columns= data['feature_names'] + ['target'])\n",
    "iris['species'] = pd.Categorical.from_codes(data.target, data.target_names)\n",
    "iris.head()"
   ]
  },
  {
   "cell_type": "markdown",
   "metadata": {},
   "source": [
    "**Using `legend()`**\n",
    "\n",
    "* provide labels for overlaid points and curves\n",
    "\n",
    "**Legend Locations**\n",
    "\n",
    "![legend locations](https://raw.githubusercontent.com/trenton3983/DataCamp/master/Images/intro_to_data_visualization_in_python/1_3_legend_locations.JPG)"
   ]
  },
  {
   "cell_type": "code",
   "execution_count": null,
   "metadata": {},
   "outputs": [],
   "source": [
    "plt.figure(figsize=(8, 8))\n",
    "plt.scatter('sepal length (cm)', 'sepal width (cm)', data=iris[iris.species == 'setosa'], marker='o', color='red', label='setosa')\n",
    "plt.scatter('sepal length (cm)', 'sepal width (cm)', data=iris[iris.species == 'versicolor'], marker='o', color='green', label='versicolor')\n",
    "plt.scatter('sepal length (cm)', 'sepal width (cm)', data=iris[iris.species == 'virginica'], marker='o', color='blue', label='virginica')\n",
    "plt.legend(loc='upper right')\n",
    "plt.title('Iris data')\n",
    "plt.xlabel('sepal length (cm)')\n",
    "plt.ylabel('sepal width (cm)')\n",
    "plt.show()"
   ]
  },
  {
   "cell_type": "markdown",
   "metadata": {},
   "source": [
    "**Plot Annotations**\n",
    "\n",
    "* Text labels and arrows using annotate() method\n",
    "* Flexible specification of coordinates\n",
    "* Keyword arrowprops: dict of arrow properties\n",
    " * width\n",
    " * color\n",
    " * etc.\n",
    " \n",
    "**Options for `annotate()`**\n",
    " \n",
    "![annotate options](https://raw.githubusercontent.com/trenton3983/DataCamp/master/Images/intro_to_data_visualization_in_python/1_3_annotate_options.JPG)"
   ]
  },
  {
   "cell_type": "markdown",
   "metadata": {},
   "source": [
    "**Using `annotate()` for text**"
   ]
  },
  {
   "cell_type": "code",
   "execution_count": null,
   "metadata": {},
   "outputs": [],
   "source": [
    "plt.figure(figsize=(8, 8))\n",
    "plt.scatter('sepal length (cm)', 'sepal width (cm)', data=iris[iris.species == 'setosa'], marker='o', color='red', label='setosa')\n",
    "plt.scatter('sepal length (cm)', 'sepal width (cm)', data=iris[iris.species == 'versicolor'], marker='o', color='green', label='versicolor')\n",
    "plt.scatter('sepal length (cm)', 'sepal width (cm)', data=iris[iris.species == 'virginica'], marker='o', color='blue', label='virginica')\n",
    "plt.legend(loc='upper right')\n",
    "plt.title('Iris data')\n",
    "plt.xlabel('sepal length (cm)')\n",
    "plt.ylabel('sepal width (cm)')\n",
    "plt.annotate('setosa', xy=(5.1, 3.6))\n",
    "plt.annotate('virginica', xy=(7.25, 3.5))\n",
    "plt.annotate('versicolor', xy=(5.0, 2.1))\n",
    "plt.show()"
   ]
  },
  {
   "cell_type": "markdown",
   "metadata": {},
   "source": [
    "**Using `annotate()` for arrows**"
   ]
  },
  {
   "cell_type": "code",
   "execution_count": null,
   "metadata": {},
   "outputs": [],
   "source": [
    "plt.figure(figsize=(8, 8))\n",
    "plt.scatter('sepal length (cm)', 'sepal width (cm)', data=iris[iris.species == 'setosa'], marker='o', color='red', label='setosa')\n",
    "plt.scatter('sepal length (cm)', 'sepal width (cm)', data=iris[iris.species == 'versicolor'], marker='o', color='green', label='versicolor')\n",
    "plt.scatter('sepal length (cm)', 'sepal width (cm)', data=iris[iris.species == 'virginica'], marker='o', color='blue', label='virginica')\n",
    "plt.legend(loc='upper right')\n",
    "plt.title('Iris data')\n",
    "plt.xlabel('sepal length (cm)')\n",
    "plt.ylabel('sepal width (cm)')\n",
    "plt.annotate('setosa', xy=(5.0, 3.5), xytext=(4.25, 4.0), arrowprops={'color':'red'})\n",
    "plt.annotate('virginica', xy=(7.2, 3.6), xytext=(6.5, 4.0), arrowprops={'color':'blue'})\n",
    "plt.annotate('versicolor', xy=(5.05, 2.0), xytext=(5.5, 1.97), arrowprops={'color':'green'})\n",
    "plt.show()"
   ]
  },
  {
   "cell_type": "markdown",
   "metadata": {},
   "source": [
    "**Working With Plot Styles**\n",
    "\n",
    "* Style sheets in Matplotlib\n",
    "* Defaults for lines, points, backgrounds, etc.\n",
    "* Switch styles globally with `plt.style.use()`\n",
    "* `plt.style.available`: list of styles\n",
    "* [Matplotlib Style sheets reference](https://matplotlib.org/3.1.1/gallery/style_sheets/style_sheets_reference.html)"
   ]
  },
  {
   "cell_type": "markdown",
   "metadata": {},
   "source": [
    "**`fivethirtyeight` style**"
   ]
  },
  {
   "cell_type": "code",
   "execution_count": null,
   "metadata": {},
   "outputs": [],
   "source": [
    "plt.figure(figsize=(8, 8))\n",
    "plt.style.use('fivethirtyeight')\n",
    "plt.scatter('sepal length (cm)', 'sepal width (cm)', data=iris[iris.species == 'setosa'], marker='o', color='red', label='setosa')\n",
    "plt.scatter('sepal length (cm)', 'sepal width (cm)', data=iris[iris.species == 'versicolor'], marker='o', color='green', label='versicolor')\n",
    "plt.scatter('sepal length (cm)', 'sepal width (cm)', data=iris[iris.species == 'virginica'], marker='o', color='blue', label='virginica')\n",
    "plt.legend(loc='upper right')\n",
    "plt.title('Iris data')\n",
    "plt.xlabel('sepal length (cm)')\n",
    "plt.ylabel('sepal width (cm)')\n",
    "plt.annotate('setosa', xy=(5.0, 3.5), xytext=(4.25, 4.0), arrowprops={'color':'red'})\n",
    "plt.annotate('virginica', xy=(7.2, 3.6), xytext=(6.5, 4.0), arrowprops={'color':'blue'})\n",
    "plt.annotate('versicolor', xy=(5.05, 2.0), xytext=(5.5, 1.97), arrowprops={'color':'green'})\n",
    "plt.show()"
   ]
  },
  {
   "cell_type": "markdown",
   "metadata": {},
   "source": [
    "**`ggplot` style**"
   ]
  },
  {
   "cell_type": "code",
   "execution_count": null,
   "metadata": {},
   "outputs": [],
   "source": [
    "plt.style.use('ggplot')\n",
    "plt.figure(figsize=(8, 8))\n",
    "plt.scatter('sepal length (cm)', 'sepal width (cm)', data=iris[iris.species == 'setosa'], marker='o', color='red', label='setosa')\n",
    "plt.scatter('sepal length (cm)', 'sepal width (cm)', data=iris[iris.species == 'versicolor'], marker='o', color='green', label='versicolor')\n",
    "plt.scatter('sepal length (cm)', 'sepal width (cm)', data=iris[iris.species == 'virginica'], marker='o', color='blue', label='virginica')\n",
    "plt.legend(loc='upper right')\n",
    "plt.title('Iris data')\n",
    "plt.xlabel('sepal length (cm)')\n",
    "plt.ylabel('sepal width (cm)')\n",
    "plt.annotate('setosa', xy=(5.0, 3.5), xytext=(4.25, 4.0), arrowprops={'color':'red'})\n",
    "plt.annotate('virginica', xy=(7.2, 3.6), xytext=(6.5, 4.0), arrowprops={'color':'blue'})\n",
    "plt.annotate('versicolor', xy=(5.05, 2.0), xytext=(5.5, 1.97), arrowprops={'color':'green'})\n",
    "plt.show()"
   ]
  },
  {
   "cell_type": "markdown",
   "metadata": {},
   "source": [
    "#### Using legend()\n",
    "\n",
    "Legends are useful for distinguishing between multiple datasets displayed on common axes. The relevant data are created using specific line colors or markers in various plot commands. Using the keyword argument `label` in the plotting function associates a string to use in a legend.\n",
    "\n",
    "For example, here, you will plot enrollment of women in the Physical Sciences and in Computer Science over time. You can label each curve by passing a `label` argument to the plotting call, and request a legend using `plt.legend()`. Specifying the keyword argument `loc` determines where the legend will be placed.\n",
    "\n",
    "**Instructions**\n",
    "\n",
    "* Modify the plot command provided that draws the enrollment of women in Computer Science over time so that the curve is labeled `'Computer Science'` in the legend.\n",
    "* Modify the plot command provided that draws the enrollment of women in the Physical Sciences over time so that the curve is labeled `'Physical Sciences'` in the legend.\n",
    "* Add a legend at the lower center (i.e., `loc='lower center'`)."
   ]
  },
  {
   "cell_type": "code",
   "execution_count": null,
   "metadata": {},
   "outputs": [],
   "source": [
    "# Plot in blue the % of degrees awarded to women in Computer Science\n",
    "plt.plot(df_women['Year'], df_women['Computer Science'], color='red', label='Computer Science') \n",
    "\n",
    "# Plot in red the % of degrees awarded to women in the Physical Sciences\n",
    "plt.plot(df_women['Year'], df_women['Physical Sciences'], color='blue', label='Physical Sciences')\n",
    "\n",
    "# Add a legend at the lower center\n",
    "plt.legend(loc='lower center')\n",
    "\n",
    "# Add axis labels and title\n",
    "plt.xlabel('Year')\n",
    "plt.ylabel('Enrollment (%)')\n",
    "plt.title('Undergraduate enrollment of women')\n",
    "plt.show()"
   ]
  },
  {
   "cell_type": "markdown",
   "metadata": {},
   "source": [
    "**You should always use axes labels and legends to help make your plots more readable.**"
   ]
  },
  {
   "cell_type": "markdown",
   "metadata": {},
   "source": [
    "#### Using annotate()\n",
    "\n",
    "It is often useful to annotate a simple plot to provide context. This makes the plot more readable and can highlight specific aspects of the data. Annotations like text and arrows can be used to emphasize specific observations.\n",
    "\n",
    "Here, you will once again plot enrollment of women in the Physical Sciences and Computer Science over time. The legend is set up as before. Additionally, you will mark the inflection point when enrollment of women in Computer Science reached a peak and started declining using `plt.annotate()`.\n",
    "\n",
    "To enable an arrow, set `arrowprops=dict(facecolor='black')`. The arrow will point to the location given by `xy` and the text will appear at the location given by `xytext`.\n",
    "\n",
    "Computer Science enrollment and the years of enrollment have been preloaded for you as the arrays `computer_science` and `year`, respectively.\n",
    "\n",
    "**Instructions 1/2**\n",
    "\n",
    "* First, calculate the position for your annotation by finding the peak of women enrolling in Computer Science.\n",
    "* Compute the **maximum** enrollment of women in Computer Science (using the `computer_science` array).\n",
    "* Calculate the year in which there was the maximum enrollment of women in Computer Science.\n",
    " * To do so, you will need to retrieve the index of the highest value in the `computer_science` array using `.argmax()`, and then use this value to index the `year` array."
   ]
  },
  {
   "cell_type": "code",
   "execution_count": null,
   "metadata": {},
   "outputs": [],
   "source": [
    "cs_max = df_women['Computer Science'].max()\n",
    "yr_max = df_women['Year'][df_women['Computer Science'].argmax()]\n",
    "\n",
    "print(f'CS Max: {cs_max}\\nYR Max: {yr_max}')"
   ]
  },
  {
   "cell_type": "markdown",
   "metadata": {},
   "source": [
    "**Instructions 2/2**\n",
    "\n",
    "* Annotate the plot with a black arrow at the point of peak women enrolling in Computer Science.\n",
    "* Label the arrow `'Maximum'`. The parameter for this is `s`, but you don't have to specify it.\n",
    "* Pass in the arguments to `xy` and `xytext` as tuples.\n",
    " * For `xy`, use the `yr_max` and `cs_max` that you computed.\n",
    " * For `xytext`, use `(yr_max+5, cs_max+5)` to specify the displacement of the label from the tip of the arrow.\n",
    "* Draw the arrow by specifying the keyword argument `arrowprops=dict(facecolor='black')`. The single letter shortcut for `'black'` is `'k'`."
   ]
  },
  {
   "cell_type": "code",
   "execution_count": null,
   "metadata": {},
   "outputs": [],
   "source": [
    "# Plot with legend as before\n",
    "plt.plot(df_women['Year'], df_women['Computer Science'], color='red', label='Computer Science') \n",
    "plt.plot(df_women['Year'], df_women['Physical Sciences'], color='blue', label='Physical Sciences')\n",
    "plt.legend(loc='lower right')\n",
    "\n",
    "# Add a black arrow annotation\n",
    "plt.annotate('Maximum', xy=(yr_max, cs_max), xytext=(yr_max+5, cs_max+5), arrowprops=dict(facecolor='black'))\n",
    "\n",
    "# Add axis labels and title\n",
    "plt.xlabel('Year')\n",
    "plt.ylabel('Enrollment (%)')\n",
    "plt.title('Undergraduate enrollment of women')\n",
    "plt.show()"
   ]
  },
  {
   "cell_type": "markdown",
   "metadata": {},
   "source": [
    "**Annotations are extremely useful to help make more complicated plots easier to understand.**"
   ]
  },
  {
   "cell_type": "markdown",
   "metadata": {},
   "source": [
    "Here's a link to a question I answered regarding annotations: **[bold annotated text in matplotlib](https://stackoverflow.com/a/57350258/7758804)**."
   ]
  },
  {
   "cell_type": "markdown",
   "metadata": {},
   "source": [
    "#### Modifying styles\n",
    "\n",
    "Matplotlib comes with a number of different stylesheets to customize the overall look of different plots. To activate a particular stylesheet you can simply call `plt.style.use()` with the name of the style sheet you want. To list all the available style sheets you can execute: `print(plt.style.available)`.\n",
    "\n",
    "**Instructions**\n",
    "\n",
    "* Import `matplotlib.pyplot` as its usual alias.\n",
    "* Activate the `'ggplot'` style sheet with `plt.style.use()`."
   ]
  },
  {
   "cell_type": "code",
   "execution_count": null,
   "metadata": {},
   "outputs": [],
   "source": [
    "# Set the style to 'ggplot'\n",
    "plt.style.use('ggplot')\n",
    "\n",
    "# Create a figure with 2x2 subplot layout\n",
    "plt.subplot(2, 2, 1) \n",
    "\n",
    "# Plot the enrollment % of women in the Physical Sciences\n",
    "plt.plot(df_women['Year'], df_women['Physical Sciences'], color='blue', label='Physical Sciences')\n",
    "plt.title('Physical Sciences')\n",
    "\n",
    "# Plot the enrollment % of women in Computer Science\n",
    "plt.subplot(2, 2, 2)\n",
    "plt.plot(df_women['Year'], df_women['Computer Science'], color='red', label='Computer Science') \n",
    "plt.title('Computer Science')\n",
    "\n",
    "# Add annotation\n",
    "# cs_max = computer_science.max()\n",
    "# yr_max = year[computer_science.argmax()]\n",
    "plt.annotate('Maximum', xy=(yr_max, cs_max), xytext=(yr_max-1, cs_max-10), arrowprops=dict(facecolor='black'))\n",
    "\n",
    "# Plot the enrollmment % of women in Health professions\n",
    "plt.subplot(2, 2, 3)\n",
    "plt.plot(df_women['Year'], df_women['Health Professions'], color='green', label='Healt Professions') \n",
    "plt.title('Health Professions')\n",
    "\n",
    "# Plot the enrollment % of women in Education\n",
    "plt.subplot(2, 2, 4)\n",
    "plt.plot(df_women['Year'], df_women['Education'], color='yellow', label='Education') \n",
    "plt.title('Education')\n",
    "\n",
    "# Improve spacing between subplots and display them\n",
    "plt.tight_layout()\n",
    "plt.show()"
   ]
  },
  {
   "cell_type": "markdown",
   "metadata": {},
   "source": [
    "## Plotting 2D arrays\n",
    "\n",
    "This chapter showcases various techniques for visualizing two-dimensional arrays. This includes the use, presentation, and orientation of grids for representing two-variable functions followed by discussions of pseudocolor plots, contour plots, color maps, two-dimensional histograms, and images."
   ]
  },
  {
   "cell_type": "markdown",
   "metadata": {},
   "source": [
    "### Working With 2D Arrays\n",
    "\n",
    "**Reminder: NumPy Arrays**\n",
    "\n",
    "* Homogeneous in type\n",
    "* Calculations all at once\n",
    "* Indexing with brackets:\n",
    " * `A[index]` for 1D array\n",
    " * `A[index0, index1]` for 2D array\n",
    " \n",
    "**Reminder: Slicing Arrays**\n",
    "\n",
    "* Slicing: 1D arrays: `A[slice]`, 2D arrays: `A[slice0, slice1]`\n",
    "* Slicing: _slice = start:stop:stride_\n",
    " * Indexes from start to stop-1 in steps of stride\n",
    " * Missing start: implicitly at beginning of array\n",
    " * Missing stop: implicitly at end of array\n",
    " * Missing stride: implicitly stride 1\n",
    "* Negative indexes/slices: count from end of array\n",
    "\n",
    "**2D Arrays & Images**\n",
    "\n",
    "![2d array image](https://raw.githubusercontent.com/trenton3983/DataCamp/master/Images/intro_to_data_visualization_in_python/2_1_array_image.JPG)\n",
    "\n",
    "**2D Arrays & Functions**\n",
    "\n",
    "![2d array function](https://raw.githubusercontent.com/trenton3983/DataCamp/master/Images/intro_to_data_visualization_in_python/2_1_array_function.JPG)\n",
    "\n",
    "**Using `meshgrid()`**"
   ]
  },
  {
   "cell_type": "code",
   "execution_count": null,
   "metadata": {},
   "outputs": [],
   "source": [
    "u = np.linspace(-2, 2, 3)\n",
    "v = np.linspace(-1, 1, 5)\n",
    "X, Y = np.meshgrid(u, v)\n",
    "Z = X**2/25 + Y**2/4\n",
    "print(f'X:\\n{X}\\n\\nY:\\n{Y}')"
   ]
  },
  {
   "cell_type": "markdown",
   "metadata": {},
   "source": [
    "**Meshgrid**\n",
    "\n",
    "![meshgrid](https://raw.githubusercontent.com/trenton3983/DataCamp/master/Images/intro_to_data_visualization_in_python/2_1_meshgrid.jpg)"
   ]
  },
  {
   "cell_type": "markdown",
   "metadata": {},
   "source": [
    "**Sampling On A Grid**"
   ]
  },
  {
   "cell_type": "code",
   "execution_count": null,
   "metadata": {},
   "outputs": [],
   "source": [
    "print(f'Z:\\n{Z}')\n",
    "plt.set_cmap('gray')\n",
    "plt.pcolor(Z)\n",
    "plt.show()"
   ]
  },
  {
   "cell_type": "markdown",
   "metadata": {},
   "source": [
    "**Orientations of 2D Arrays & Images**"
   ]
  },
  {
   "cell_type": "code",
   "execution_count": null,
   "metadata": {},
   "outputs": [],
   "source": [
    "Z = np.array([[1, 2, 3], [4, 5, 6]])\n",
    "print(f'Z:\\n{Z}')\n",
    "plt.pcolor(Z)\n",
    "plt.show()"
   ]
  },
  {
   "cell_type": "markdown",
   "metadata": {},
   "source": [
    "![array orientation](https://raw.githubusercontent.com/trenton3983/DataCamp/master/Images/intro_to_data_visualization_in_python/2_1_array_orientation.JPG)"
   ]
  },
  {
   "cell_type": "markdown",
   "metadata": {},
   "source": [
    "#### Generating meshes\n",
    "\n",
    "In order to visualize two-dimensional arrays of data, it is necessary to understand how to generate and manipulate 2-D arrays. Many Matplotlib plots support arrays as input and in particular, they support NumPy arrays. The NumPy library is the most widely-supported means for supporting numeric arrays in Python.\n",
    "\n",
    "In this exercise, you will use the meshgrid function in NumPy to generate 2-D arrays which you will then visualize using `plt.imshow()`. The simplest way to generate a meshgrid is as follows:\n",
    "\n",
    "```python\n",
    "import numpy as np\n",
    "Y, X = np.meshgrid(range(10),range(20))\n",
    "```\n",
    "\n",
    "This will create two arrays with a shape of `(20,10)`, which corresponds to 20 rows along the Y-axis and 10 columns along the X-axis. In this exercise, you will use `np.meshgrid()` to generate a regular 2-D sampling of a mathematical function.\n",
    "\n",
    "**Instructions**\n",
    "\n",
    "* Import the `numpy` and `matplotlib.pyplot` modules using the respective aliases `np` and `plt`.\n",
    "* Generate two one-dimensional arrays `u` and `v` using `np.linspace()`. The array `u` should contain 41 values uniformly spaced between -2 and +2. The array `v` should contain 21 values uniformly spaced between -1 and +1.\n",
    "* Construct two two-dimensional arrays `X` and `Y` from `u` and `v` using `np.meshgrid()`.\n",
    "* After the array Z is computed using `X` and `Y`, visualize the array `Z` using `plt.pcolor()` and `plt.show()`.\n",
    "* Save the resulting figure as `'sine_mesh.png'`."
   ]
  },
  {
   "cell_type": "code",
   "execution_count": null,
   "metadata": {},
   "outputs": [],
   "source": [
    "plt.style.use('default')\n",
    "\n",
    "# Generate two 1-D arrays: u, v\n",
    "u = np.linspace(-2, 2, 41)\n",
    "v = np.linspace(-1, 1, 21)\n",
    "\n",
    "# Generate 2-D arrays from u and v: X, Y\n",
    "X,Y = np.meshgrid(u, v)\n",
    "\n",
    "# Compute Z based on X and Y\n",
    "Z = np.sin(3*np.sqrt(X**2 + Y**2)) \n",
    "\n",
    "# Display the resulting image with pcolor()\n",
    "plt.pcolor(Z)\n",
    "\n",
    "# Save the figure to 'sine_mesh.png'\n",
    "plt.savefig('Images/intro_to_data_visualization_in_python/sine_mesh.png')\n",
    "\n",
    "plt.show()"
   ]
  },
  {
   "cell_type": "markdown",
   "metadata": {},
   "source": [
    "#### Array orientation\n",
    "\n",
    "![matrix picture](https://raw.githubusercontent.com/trenton3983/DataCamp/master/Images/intro_to_data_visualization_in_python/2_1_2_array_orientation.JPG)\n",
    "\n",
    "The commands\n",
    "\n",
    "```python\n",
    "plt.pcolor(A, cmap='Blues')\n",
    "plt.colorbar()\n",
    "plt.show()\n",
    "```\n",
    "\n",
    "produce the pseudocolor plot above using a Numpy array `A`. Which of the commands below could have generated `A`?\n",
    "\n",
    "`numpy` and `matplotlib.pyplot` have been imported as `np` and `plt` respectively. Play around in the IPython shell with different arrays and generate pseudocolor plots from them to identify which of the below commands could have generated `A`.\n",
    "\n",
    "**Instructions**\n",
    "\n",
    "* ~~`A = np.array([[1, 2, 1], [0, 0, 1], [-1, 1, 1]])`~~\n",
    "* `A = np.array([[1, 0, -1], [2, 0, 1], [1, 1, 1]])`\n",
    "* ~~`A = np.array([[-1, 0, 1], [1, 0, 2], [1, 1, 1]])`~~\n",
    "* ~~`A = np.array([[1, 1, 1], [2, 0, 1], [1, 0, -1]])`~~"
   ]
  },
  {
   "cell_type": "code",
   "execution_count": null,
   "metadata": {},
   "outputs": [],
   "source": [
    "A = np.array([[1, 0, -1], [2, 0, 1], [1, 1, 1]])\n",
    "plt.pcolor(A, cmap='Blues')\n",
    "plt.colorbar()\n",
    "plt.show()"
   ]
  },
  {
   "cell_type": "markdown",
   "metadata": {},
   "source": [
    "### Visualizing Bivariate Functions\n",
    "\n",
    "![bivariate function](https://raw.githubusercontent.com/trenton3983/DataCamp/master/Images/intro_to_data_visualization_in_python/2_1_array_function.JPG)\n",
    "\n",
    "**Pseudocolo Plot**"
   ]
  },
  {
   "cell_type": "code",
   "execution_count": null,
   "metadata": {},
   "outputs": [],
   "source": [
    "u = np.linspace(-2, 2, 65)\n",
    "v = np.linspace(-1, 1, 33)\n",
    "X,Y = np.meshgrid(u, v)\n",
    "Z = X**2/25 + Y**2/4\n",
    "plt.pcolor(Z)  # if not in color, may depend on plt.style.use('default')\n",
    "plt.show()"
   ]
  },
  {
   "cell_type": "markdown",
   "metadata": {},
   "source": [
    "**Color Bar**"
   ]
  },
  {
   "cell_type": "code",
   "execution_count": null,
   "metadata": {},
   "outputs": [],
   "source": [
    "plt.pcolor(Z)\n",
    "plt.colorbar()\n",
    "plt.show()"
   ]
  },
  {
   "cell_type": "markdown",
   "metadata": {},
   "source": [
    "**Color Map**"
   ]
  },
  {
   "cell_type": "code",
   "execution_count": null,
   "metadata": {},
   "outputs": [],
   "source": [
    "plt.pcolor(Z, cmap='gray')\n",
    "plt.colorbar()\n",
    "plt.show()"
   ]
  },
  {
   "cell_type": "code",
   "execution_count": null,
   "metadata": {},
   "outputs": [],
   "source": [
    "plt.pcolor(Z, cmap='autumn')\n",
    "plt.colorbar()\n",
    "plt.show()"
   ]
  },
  {
   "cell_type": "markdown",
   "metadata": {},
   "source": [
    "**Axis Tight**"
   ]
  },
  {
   "cell_type": "code",
   "execution_count": null,
   "metadata": {},
   "outputs": [],
   "source": [
    "plt.pcolor(Z)\n",
    "plt.colorbar()\n",
    "plt.axis('tight')\n",
    "plt.show()"
   ]
  },
  {
   "cell_type": "markdown",
   "metadata": {},
   "source": [
    "**Plot Using Mesh Grid**\n",
    "\n",
    "* Axes determined by mesh grid arrays X, Y"
   ]
  },
  {
   "cell_type": "code",
   "execution_count": null,
   "metadata": {},
   "outputs": [],
   "source": [
    "plt.pcolor(X, Y, Z) # X, Y are 2D meshgrid\n",
    "plt.colorbar()\n",
    "plt.show()"
   ]
  },
  {
   "cell_type": "markdown",
   "metadata": {},
   "source": [
    "**Contour Plots**"
   ]
  },
  {
   "cell_type": "code",
   "execution_count": null,
   "metadata": {},
   "outputs": [],
   "source": [
    "plt.contour(Z)\n",
    "plt.show()"
   ]
  },
  {
   "cell_type": "markdown",
   "metadata": {},
   "source": [
    "**More Contours**"
   ]
  },
  {
   "cell_type": "code",
   "execution_count": null,
   "metadata": {},
   "outputs": [],
   "source": [
    "plt.contour(Z, 30)\n",
    "plt.show()"
   ]
  },
  {
   "cell_type": "markdown",
   "metadata": {},
   "source": [
    "**Contour Plot Using Meshgird**"
   ]
  },
  {
   "cell_type": "code",
   "execution_count": null,
   "metadata": {},
   "outputs": [],
   "source": [
    "plt.contour(X, Y, Z, 30)\n",
    "plt.show()"
   ]
  },
  {
   "cell_type": "markdown",
   "metadata": {},
   "source": [
    "**Filled contour plots**"
   ]
  },
  {
   "cell_type": "code",
   "execution_count": null,
   "metadata": {},
   "outputs": [],
   "source": [
    "plt.contourf(X, Y, Z, 30)\n",
    "plt.colorbar()\n",
    "plt.show()"
   ]
  },
  {
   "cell_type": "markdown",
   "metadata": {},
   "source": [
    "**More Information**\n",
    "\n",
    "* API has many (optional) keyword arguments\n",
    "* More in matplotlib.pyplot documentation\n",
    "* More [examples](https://matplotlib.org/stable/gallery/index.html)"
   ]
  },
  {
   "cell_type": "markdown",
   "metadata": {},
   "source": [
    "#### Contour & filled contour plots\n",
    "\n",
    "Although `plt.imshow()` or `plt.pcolor()` are often used to visualize a 2-D array in entirety, there are other ways of visualizing such data without displaying all of the available sample values. One option is to use the array to compute contours that are visualized instead.\n",
    "\n",
    "Two types of contour plot supported by Matplotlib are `plt.contour()` and `plt.contourf()` where the former displays the contours as lines and the latter displayed filled areas between contours. Both these plotting commands accept a two dimensional array from which the appropriate contours are computed.\n",
    "\n",
    "In this exercise, you will visualize a 2-D array repeatedly using both `plt.contour()` and `plt.contourf()`. You will use `plt.subplot()` to display several contour plots in a common figure, using the meshgrid `X`, `Y` as the axes. For example, `plt.contour(X, Y, Z)` generates a default contour map of the array `Z`.\n",
    "\n",
    "_Don't forget to include the meshgrid in each plot for this exercise!_\n",
    "\n",
    "**Instructions**\n",
    "\n",
    "* Using the meshgrid `X`, `Y` as axes for **each** plot:\n",
    "* Generate a default contour plot of the array `Z` in the upper left subplot.\n",
    "* Generate a contour plot of the array `Z` in the upper right subplot with `20` contours.\n",
    "* Generate a default _filled_ contour plot of the array `Z` in the lower left subplot.\n",
    "* Generate a default _filled_ contour plot of the array `Z` in the lower right subplot with `20` contours.\n",
    "* Improve the spacing between the subplots with `plt.tight_layout()` and display the figure."
   ]
  },
  {
   "cell_type": "code",
   "execution_count": null,
   "metadata": {},
   "outputs": [],
   "source": [
    "# Generate a default contour map of the array Z\n",
    "plt.subplot(2,2,1)\n",
    "plt.contour(X, Y, Z)\n",
    "\n",
    "# Generate a contour map with 20 contours\n",
    "plt.subplot(2,2,2)\n",
    "plt.contour(X, Y, Z, 20)\n",
    "\n",
    "# Generate a default filled contour map of the array Z\n",
    "plt.subplot(2,2,3)\n",
    "plt.contourf(X, Y, Z)\n",
    "\n",
    "# Generate a default filled contour map with 20 contours\n",
    "plt.subplot(2,2,4)\n",
    "plt.contourf(X, Y, Z, 20)\n",
    "\n",
    "# Improve the spacing between subplots\n",
    "plt.tight_layout()\n",
    "\n",
    "# Display the figure\n",
    "plt.show()"
   ]
  },
  {
   "cell_type": "markdown",
   "metadata": {},
   "source": [
    "#### Modifying colormaps\n",
    "\n",
    "When displaying a 2-D array with `plt.imshow()` or `plt.pcolor()`, the values of the array are mapped to a corresponding color. The set of colors used is determined by a colormap which smoothly maps values to colors, making it easy to understand the structure of the data at a glance.\n",
    "\n",
    "It is often useful to change the colormap from the default `'jet'` colormap used by matplotlib. A good colormap is visually pleasing and conveys the structure of the data faithfully and in a way that makes sense for the application.\n",
    "\n",
    " * Some matplotlib colormaps have unique names such as `'jet'`, `'coolwarm'`, `'magma'` and `'viridis'`.\n",
    " * Others have a naming scheme based on overall color such as `'Greens'`, `'Blues'`, `'Reds'`, and `'Purples'`.\n",
    " * Another four colormaps are based on the seasons, namely `'summer'`, `'autumn'`, `'winter'` and `'spring'`.\n",
    " * You can insert the option `cmap=<name>` into most matplotlib functions to change the color map of the resulting plot.\n",
    "\n",
    "In this exercise, you will explore four different colormaps together using `plt.subplot()`. You will use a pregenerated array `Z` and a meshgrid `X`, `Y` to generate the same filled contour plot with four different color maps. Be sure to also add a color bar to each filled contour plot with `plt.colorbar()`.\n",
    "\n",
    "**Instructions**\n",
    "\n",
    "* Modify the call to `plt.contourf()` so the filled contours in the top left subplot use the `'viridis'` colormap.\n",
    "* Modify the call to `plt.contourf()` so the filled contours in the top right subplot use the `'gray'` colormap.\n",
    "* Modify the call to `plt.contourf()` so the filled contours in the bottom left subplot use the `'autumn'` colormap.\n",
    "* Modify the call to `plt.contourf()` so the filled contours in the bottom right subplot use the `'winter'` colormap."
   ]
  },
  {
   "cell_type": "code",
   "execution_count": null,
   "metadata": {},
   "outputs": [],
   "source": [
    "# Create a filled contour plot with a color map of 'viridis'\n",
    "plt.subplot(2,2,1)\n",
    "plt.contourf(X,Y,Z,20, cmap='viridis')\n",
    "plt.colorbar()\n",
    "plt.title('Viridis')\n",
    "\n",
    "# Create a filled contour plot with a color map of 'gray'\n",
    "plt.subplot(2,2,2)\n",
    "plt.contourf(X,Y,Z,20, cmap='gray')\n",
    "plt.colorbar()\n",
    "plt.title('Gray')\n",
    "\n",
    "# Create a filled contour plot with a color map of 'autumn'\n",
    "plt.subplot(2,2,3)\n",
    "plt.contourf(X,Y,Z,20, cmap='autumn')\n",
    "plt.colorbar()\n",
    "plt.title('Autumn')\n",
    "\n",
    "# Create a filled contour plot with a color map of 'winter'\n",
    "plt.subplot(2,2,4)\n",
    "plt.contourf(X,Y,Z,20, cmap='winter')\n",
    "plt.colorbar()\n",
    "plt.title('Winter')\n",
    "\n",
    "# Improve the spacing between subplots and display them\n",
    "plt.tight_layout()\n",
    "plt.show()"
   ]
  },
  {
   "cell_type": "markdown",
   "metadata": {},
   "source": [
    "### Visualizing Bivariate Distributions\n",
    "\n",
    "**Distributions of 2D Points**\n",
    "\n",
    "* 2D points given as two 1D arrays x & y\n",
    "* Goal: generate a 2D histogram from x & y"
   ]
  },
  {
   "cell_type": "code",
   "execution_count": null,
   "metadata": {},
   "outputs": [],
   "source": [
    "plt.scatter(x='weight', y='accel', data=df_mpg)\n",
    "plt.xlabel(r'weight ($\\mathrm{kg}$)')\n",
    "plt.ylabel(r'acceleration ($\\mathrm{ms}^{-2}$)')\n",
    "plt.show()"
   ]
  },
  {
   "cell_type": "markdown",
   "metadata": {},
   "source": [
    "**Histograms in 1D**\n",
    "\n",
    "* Choose bins (intervals)\n",
    "* Count realizations within bins & plots"
   ]
  },
  {
   "cell_type": "code",
   "execution_count": null,
   "metadata": {},
   "outputs": [],
   "source": [
    "counts, bins, patches = plt.hist(x='accel', bins=25, data=df_mpg, ec='black', density=True)\n",
    "plt.ylabel('frequency (density)')\n",
    "plt.xlabel(r'acceleration ($\\mathrm{ms}^{-2}$)')\n",
    "plt.show()"
   ]
  },
  {
   "cell_type": "code",
   "execution_count": null,
   "metadata": {},
   "outputs": [],
   "source": [
    "sns.stripplot(x='accel', data=df_mpg, jitter=False)\n",
    "plt.xlabel(r'acceleration ($\\mathrm{ms}^{-2}$)')\n",
    "plt.show()"
   ]
  },
  {
   "cell_type": "markdown",
   "metadata": {},
   "source": [
    "**Bins In 2D**\n",
    "\n",
    "* Different shapes available for binning points\n",
    "* Common choices: rectangles & hexagons\n",
    "\n",
    "![bin shapes](https://raw.githubusercontent.com/trenton3983/DataCamp/master/Images/intro_to_data_visualization_in_python/2_3_bin_shapes.JPG)"
   ]
  },
  {
   "cell_type": "markdown",
   "metadata": {},
   "source": [
    "**`hist2d()`: Rectangular Binning**"
   ]
  },
  {
   "cell_type": "code",
   "execution_count": null,
   "metadata": {},
   "outputs": [],
   "source": [
    "plt.hist2d(x='weight', y='accel', data=df_mpg, bins=(10, 20)) # x & y are 1D arrays of same length\n",
    "plt.colorbar()\n",
    "plt.xlabel(r'weight ($\\mathrm{kg}$)')\n",
    "plt.ylabel(r'acceleration ($\\mathrm{ms}^{-2}$)')\n",
    "plt.show()"
   ]
  },
  {
   "cell_type": "markdown",
   "metadata": {},
   "source": [
    "**`hexbin()`: Hexagonal Binning**"
   ]
  },
  {
   "cell_type": "code",
   "execution_count": null,
   "metadata": {},
   "outputs": [],
   "source": [
    "plt.hexbin(x='weight', y='accel', data=df_mpg, gridsize=(15, 10))\n",
    "plt.colorbar()\n",
    "plt.xlabel(r'weight ($\\mathrm{kg}$)')\n",
    "plt.ylabel(r'acceleration ($\\mathrm{ms}^{-2}$)')\n",
    "plt.show()"
   ]
  },
  {
   "cell_type": "markdown",
   "metadata": {},
   "source": [
    "#### Using hist2d()\n",
    "\n",
    "Given a set of ordered pairs describing data points, you can count the number of points with similar values to construct a two-dimensional histogram. This is similar to a one-dimensional histogram, but it describes the joint variation of two random variables rather than just one.\n",
    "\n",
    "In matplotlib, one function to visualize 2-D histograms is `plt.hist2d()`.\n",
    "\n",
    " * You specify the coordinates of the points using `plt.hist2d(x,y)` assuming `x` and `y` are two vectors of the same length.\n",
    " * You can specify the number of bins with the argument `bins=(nx, ny)` where `nx` is the number of bins to use in the horizontal direction and `ny` is the number of bins to use in the vertical direction.\n",
    " * You can specify the rectangular region in which the samples are counted in constructing the 2D histogram. The optional parameter required is `range=((xmin, xmax), (ymin, ymax))` where\n",
    " * `xmin` and `xmax` are the respective lower and upper limits for the variables on the x-axis and\n",
    " * `ymin` and `ymax` are the respective lower and upper limits for the variables on the y-axis. Notice that the optional `range` argument can use nested tuples or lists.\n",
    "\n",
    "In this exercise, you'll use some data from the `auto-mpg` data set. There are two arrays `mpg` and `hp` that respectively contain miles per gallon and horse power ratings from over three hundred automobiles built.\n",
    "\n",
    "**Instructions**\n",
    "\n",
    "* Generate a two-dimensional histogram to view the joint variation of the `mpg` and `hp` arrays.\n",
    " * Put `hp` along the horizontal axis and `mpg` along the vertical axis.\n",
    " * Specify 20 by 20 rectangular bins with the `bins` argument.\n",
    " * Specify the region covered by using the optional `range` argument so that the plot samples `hp` between 40 and 235 on the x-axis and `mpg` between 8 and 48 on the y-axis. Your argument should take the form: `range=((xmin, xmax), (ymin, ymax))`.\n",
    "* Add a color bar to the histogram."
   ]
  },
  {
   "cell_type": "code",
   "execution_count": null,
   "metadata": {},
   "outputs": [],
   "source": [
    "# Generate a 2-D histogram\n",
    "plt.hist2d(df_mpg.hp, df_mpg.mpg, bins=(20, 20), range=((40, 235), (8, 48)))\n",
    "\n",
    "# Add a color bar to the histogram\n",
    "plt.colorbar()\n",
    "\n",
    "# Add labels, title, and display the plot\n",
    "plt.xlabel('Horse power [hp]')\n",
    "plt.ylabel('Miles per gallon [mpg]')\n",
    "plt.title('hist2d() plot')\n",
    "plt.show()"
   ]
  },
  {
   "cell_type": "markdown",
   "metadata": {},
   "source": [
    "#### Using hexbin()\n",
    "\n",
    "The function `plt.hist2d()` uses rectangular bins to construct a two dimensional histogram. As an alternative, the function `plt.hexbin()` uses hexagonal bins. The underlying algorithm (based on [Scatterplot Matrix Techniques for Large N](https://amstat.tandfonline.com/doi/abs/10.1080/01621459.1987.10478445)) constructs a hexagonal tesselation of a planar region and aggregates points inside hexagonal bins.\n",
    "\n",
    " * The optional `gridsize` argument (default 100) gives the number of hexagons across the x-direction used in the hexagonal tiling. If specified as a list or a tuple of length two, `gridsize` fixes the number of hexagon in the x- and y-directions respectively in the tiling.\n",
    " * The optional parameter ``extent=(xmin, xmax, ymin, ymax)`` specifies rectangular region covered by the hexagonal tiling. In that case, ``xmin`` and ``xmax`` are the respective lower and upper limits for the variables on the x-axis and ``ymin`` and ``ymax`` are the respective lower and upper limits for the variables on the y-axis.\n",
    "\n",
    "In this exercise, you'll use the same `auto-mpg` data as in the last exercise (again using arrays `mpg` and `hp`). This time, you'll use `plt.hexbin()` to visualize the two-dimensional histogram.\n",
    "\n",
    "**Instructions**\n",
    "\n",
    "* Generate a two-dimensional histogram with `plt.hexbin()` to view the joint variation of the `mpg` and `hp` vectors.\n",
    " * Put `hp` along the horizontal axis and `mpg` along the vertical axis.\n",
    " * Specify a hexagonal tesselation with 15 hexagons across the x-direction and 12 hexagons across the y-direction using `gridsize`.\n",
    " * Specify the rectangular region covered with the optional `extent` argument: use `hp` from 40 to 235 and `mpg` from 8 to 48. _Note: Unlike the range argument in the previous exercise, `extent` takes **one** tuple of four values._\n",
    "* Add a color bar to the histogram."
   ]
  },
  {
   "cell_type": "code",
   "execution_count": null,
   "metadata": {},
   "outputs": [],
   "source": [
    "# Generate a 2d histogram with hexagonal bins\n",
    "plt.hexbin(df_mpg.hp, df_mpg.mpg, gridsize=(15, 12), extent=(40, 235, 8, 48))\n",
    "\n",
    "# Add a color bar to the histogram\n",
    "plt.colorbar()\n",
    "\n",
    "# Add labels, title, and display the plot\n",
    "plt.xlabel('Horse power [hp]')\n",
    "plt.ylabel('Miles per gallon [mpg]')\n",
    "plt.title('hexbin() plot')\n",
    "plt.show()"
   ]
  },
  {
   "cell_type": "markdown",
   "metadata": {},
   "source": [
    "### Working With Images\n",
    "\n",
    "* Grayscale images: rectangular 2D arrays\n",
    "* Color images: typically three 2D arrays (channels)\n",
    " * RGB (Red-Green-Blue)\n",
    "* Channel values:\n",
    " * 0 to 1 (floating-point numbers)\n",
    " * 0 to 255 (8 bit integers)"
   ]
  },
  {
   "cell_type": "markdown",
   "metadata": {},
   "source": [
    "**Loading Images**"
   ]
  },
  {
   "cell_type": "code",
   "execution_count": null,
   "metadata": {},
   "outputs": [],
   "source": [
    "sunflower_url = 'https://raw.githubusercontent.com/trenton3983/DataCamp/master/Images/intro_to_data_visualization_in_python/2_4_sunflower.jpg'\n",
    "sunflower_path = Path('Images/intro_to_data_visualization_in_python/2_4_sunflower.jpg')\n",
    "create_dir_save_file(sunflower_path, sunflower_url)"
   ]
  },
  {
   "cell_type": "code",
   "execution_count": null,
   "metadata": {},
   "outputs": [],
   "source": [
    "img = plt.imread(sunflower_path)\n",
    "print(img.shape)\n",
    "plt.imshow(img)\n",
    "plt.axis('off')\n",
    "plt.show()"
   ]
  },
  {
   "cell_type": "markdown",
   "metadata": {},
   "source": [
    "**Reduction to gray-scale image**"
   ]
  },
  {
   "cell_type": "code",
   "execution_count": null,
   "metadata": {},
   "outputs": [],
   "source": [
    "collapsed = img.mean(axis=2)\n",
    "print(collapsed.shape)\n",
    "plt.set_cmap('gray')\n",
    "plt.imshow(collapsed, cmap='gray')\n",
    "plt.axis('off')\n",
    "plt.show()"
   ]
  },
  {
   "cell_type": "markdown",
   "metadata": {},
   "source": [
    "**Uneven Samples**"
   ]
  },
  {
   "cell_type": "code",
   "execution_count": null,
   "metadata": {},
   "outputs": [],
   "source": [
    "uneven = collapsed[::4,::2] # nonuniform subsampling\n",
    "print(uneven.shape)\n",
    "plt.imshow(uneven)\n",
    "plt.axis('off')\n",
    "plt.show()"
   ]
  },
  {
   "cell_type": "markdown",
   "metadata": {},
   "source": [
    "**Adjusting Aspect Ratio**"
   ]
  },
  {
   "cell_type": "code",
   "execution_count": null,
   "metadata": {},
   "outputs": [],
   "source": [
    "plt.imshow(uneven, aspect=2.0)\n",
    "plt.axis('off')\n",
    "plt.show()"
   ]
  },
  {
   "cell_type": "markdown",
   "metadata": {},
   "source": [
    "**Adjusting Extent**\n",
    "\n",
    "[**origin** and **extent** in `imshow`](https://matplotlib.org/stable/users/explain/artists/imshow_extent.html#imshow-extent)"
   ]
  },
  {
   "cell_type": "code",
   "execution_count": null,
   "metadata": {},
   "outputs": [],
   "source": [
    "plt.imshow(uneven, cmap='gray', extent=(0, 640, 0, 480))\n",
    "plt.axis('off')\n",
    "plt.show()"
   ]
  },
  {
   "cell_type": "markdown",
   "metadata": {},
   "source": [
    "#### Loading, examining images\n",
    "\n",
    "Color images such as photographs contain the intensity of the red, green and blue color channels.\n",
    "\n",
    " * To read an image from file, use `plt.imread()` by passing the path to a file, such as a PNG or JPG file.\n",
    " * The color image can be plotted as usual using `plt.imshow()`.\n",
    " * The resulting image loaded is a NumPy array of three dimensions. The array typically has dimensions **M × N × 3**, where **M × N** is the dimensions of the image. The third dimensions are referred to as color channels (typically red, green, and blue).\n",
    " * The color channels can be extracted by Numpy array slicing.\n",
    "\n",
    "In this exercise, you will load & display [an image of an astronaut](https://en.wikipedia.org/wiki/File:Bruce_McCandless_II_during_EVA_in_1984.jpg) (by NASA (Public domain), via [Wikimedia Commons](https://commons.wikimedia.org/). You will also examine its attributes to understand how color images are represented.\n",
    "\n",
    "**Instructions**\n",
    "\n",
    "* Load the file `'480px-Astronaut-EVA.jpg'` into an array.\n",
    "* Print the shape of the `img` array. How wide and tall do you expect the image to be?\n",
    "* Prepare `img` for display using `plt.imshow()`.\n",
    "* Turn off the axes using `plt.axis('off')`."
   ]
  },
  {
   "cell_type": "code",
   "execution_count": null,
   "metadata": {},
   "outputs": [],
   "source": [
    "dir_path_astro = Path('Images/intro_to_data_visualization_in_python/480px-Astronaut-EVA.jpg')\n",
    "url_astro = 'https://upload.wikimedia.org/wikipedia/commons/thumb/9/91/Bruce_McCandless_II_during_EVA_in_1984.jpg/480px-Bruce_McCandless_II_during_EVA_in_1984.jpg'\n",
    "create_dir_save_file(dir_path_astro, url_astro)"
   ]
  },
  {
   "cell_type": "code",
   "execution_count": null,
   "metadata": {},
   "outputs": [],
   "source": [
    "# Load the image into an array: img\n",
    "img = plt.imread(dir_path_astro)\n",
    "\n",
    "# Print the shape of the image\n",
    "print(img.shape)\n",
    "\n",
    "# Display the image\n",
    "plt.imshow(img)\n",
    "\n",
    "# Hide the axes\n",
    "plt.axis('off')\n",
    "plt.show()"
   ]
  },
  {
   "cell_type": "markdown",
   "metadata": {},
   "source": [
    "#### Pseudocolor plot from image data\n",
    "\n",
    "Image data comes in many forms and it is not always appropriate to display the available channels in RGB space. In many situations, an image may be processed and analysed in some way before it is visualized in pseudocolor, also known as 'false' color.\n",
    "\n",
    "In this exercise, you will perform a simple analysis using the image showing an astronaut as viewed from space. Instead of simply displaying the image, you will compute the total intensity across the red, green and blue channels. The result is a single two dimensional array which you will display using `plt.imshow()` with the `'gray'` colormap.\n",
    "\n",
    "**Instructions**\n",
    "\n",
    "* Print the shape of the existing image array.\n",
    "* Compute the sum of the red, green, and blue channels of `img` by using the `.sum()` method with `axis=2`.\n",
    "* Print the shape of the `intensity` array to verify this is the shape you expect.\n",
    "* Plot `intensity` with `plt.imshow()` using a `'gray'` colormap.\n",
    "* Add a colorbar to the figure."
   ]
  },
  {
   "cell_type": "code",
   "execution_count": null,
   "metadata": {},
   "outputs": [],
   "source": [
    "# Load the image into an array: img\n",
    "img = plt.imread(dir_path_astro)\n",
    "\n",
    "# Print the shape of the image\n",
    "print(img.shape)\n",
    "\n",
    "# Compute the sum of the red, green and blue channels: intensity\n",
    "intensity = img.sum(axis=2)\n",
    "\n",
    "# Print the shape of the intensity\n",
    "print(intensity.shape)\n",
    "\n",
    "# Display the intensity with a colormap of 'gray'\n",
    "plt.imshow(intensity, cmap='gray')\n",
    "\n",
    "# Add a colorbar\n",
    "plt.colorbar()\n",
    "\n",
    "# Hide the axes and show the figure\n",
    "plt.axis('off')\n",
    "plt.show()"
   ]
  },
  {
   "cell_type": "markdown",
   "metadata": {},
   "source": [
    "#### Extent and aspect\n",
    "\n",
    "When using `plt.imshow()` to display an array, the default behavior is to keep pixels square so that the height to width ratio of the output matches the ratio determined by the shape of the array. In addition, by default, the x- and y-axes are labeled by the number of samples in each direction.\n",
    "\n",
    "The ratio of the displayed width to height is known as the image `aspect` and the range used to label the x- and y-axes is known as the image `extent`. The default `aspect` value of `'auto'` keeps the pixels square and the extents are automatically computed from the shape of the array if not specified otherwise.\n",
    "\n",
    "In this exercise, you will investigate how to set these options explicitly by plotting the same image in a 2 by 2 grid of subplots with distinct `aspect` and `extent` options.\n",
    "\n",
    "**Instructions**\n",
    "\n",
    "* Display `img` in the top left subplot with horizontal extent from -1 to 1, vertical extent from -1 to 1, and aspect ratio 0.5.\n",
    "* Display `img` in the top right subplot with horizontal extent from -1 to 1, vertical extent from -1 to 1, and aspect ratio 1.\n",
    "* Display `img` in the bottom left subplot with horizontal extent from -1 to 1, vertical extent from -1 to 1, and aspect ratio 2.\n",
    "* Display `img` in the bottom right subplot with horizontal extent from -2 to 2, vertical extent from -1 to 1, and aspect ratio 2."
   ]
  },
  {
   "cell_type": "code",
   "execution_count": null,
   "metadata": {},
   "outputs": [],
   "source": [
    "# Load the image into an array: img\n",
    "img = plt.imread(dir_path_astro)\n",
    "\n",
    "# Specify the extent and aspect ratio of the top left subplot\n",
    "plt.subplot(2,2,1)\n",
    "plt.title('extent=(-1,1,-1,1),\\naspect=0.5') \n",
    "plt.xticks([-1,0,1])\n",
    "plt.yticks([-1,0,1])\n",
    "plt.imshow(img, extent=(-1,1,-1,1), aspect=0.5)\n",
    "\n",
    "# Specify the extent and aspect ratio of the top right subplot\n",
    "plt.subplot(2,2,2)\n",
    "plt.title('extent=(-1,1,-1,1),\\naspect=1')\n",
    "plt.xticks([-1,0,1])\n",
    "plt.yticks([-1,0,1])\n",
    "plt.imshow(img, extent=(-1,1,-1,1), aspect=1)\n",
    "\n",
    "# Specify the extent and aspect ratio of the bottom left subplot\n",
    "plt.subplot(2,2,3)\n",
    "plt.title('extent=(-1,1,-1,1),\\naspect=2')\n",
    "plt.xticks([-1,0,1])\n",
    "plt.yticks([-1,0,1])\n",
    "plt.imshow(img, extent=(-1,1,-1,1), aspect=2)\n",
    "\n",
    "# Specify the extent and aspect ratio of the bottom right subplot\n",
    "plt.subplot(2,2,4)\n",
    "plt.title('extent=(-2,2,-1,1),\\naspect=2')\n",
    "plt.xticks([-2,-1,0,1,2])\n",
    "plt.yticks([-1,0,1])\n",
    "plt.imshow(img, extent=(-2,2,-1,1), aspect=2)\n",
    "\n",
    "# Improve spacing and display the figure\n",
    "plt.tight_layout()\n",
    "plt.show()"
   ]
  },
  {
   "cell_type": "markdown",
   "metadata": {},
   "source": [
    "#### Rescaling pixel intensities\n",
    "Sometimes, low contrast images can be improved by rescaling their intensities. For instance, this image of Hawkes Bay, New Zealand has no pixel values near 0 or near 255 (the limits of valid intensities). (originally by Phillip Capper, modified by User:Konstable, via Wikimedia Commons, [CC BY 2.0](https://creativecommons.org/licenses/by/2.0/))\n",
    "\n",
    "![Hawkes Bay, New Zealand](https://raw.githubusercontent.com/trenton3983/DataCamp/master/Images/intro_to_data_visualization_in_python/2_4_4_rescaling_pixel_intensities.JPG)\n",
    "\n",
    "For this exercise, you will do a simple rescaling (remember, an image is NumPy array) to translate and stretch the pixel intensities so that the intensities of the new image fill the range from 0 to 255.\n",
    "\n",
    "**Instructions**\n",
    "\n",
    "* Use the methods `.min()` and `.max()` to save the minimum and maximum values from the array `image` as `pmin` and `pmax` respectively.\n",
    "* Create a new 2-D array `rescaled_image` using `256*(image-pmin)/(pmax-pmin)`\n",
    "* Plot the new array `rescaled_image`."
   ]
  },
  {
   "cell_type": "code",
   "execution_count": null,
   "metadata": {},
   "outputs": [],
   "source": [
    "dir_path_hawk = Path('Images/intro_to_data_visualization_in_python/640px-Unequalized_Hawkes_Bay_NZ.jpg')\n",
    "url_hawk = 'https://upload.wikimedia.org/wikipedia/commons/thumb/0/08/Unequalized_Hawkes_Bay_NZ.jpg/640px-Unequalized_Hawkes_Bay_NZ.jpg'\n",
    "create_dir_save_file(dir_path_hawk, url_hawk)"
   ]
  },
  {
   "cell_type": "code",
   "execution_count": null,
   "metadata": {},
   "outputs": [],
   "source": [
    "# Load the image into an array: image\n",
    "image = plt.imread(dir_path_hawk)\n",
    "\n",
    "# Extract minimum and maximum values from the image: pmin, pmax\n",
    "pmin, pmax = image.min(), image.max()\n",
    "print(f\"The smallest & largest pixel intensities are {pmin} & {pmax}.\")\n",
    "\n",
    "# Rescale the pixels: rescaled_image\n",
    "rescaled_image = 256*(image - pmin) / (pmax - pmin)\n",
    "print(f\"The rescaled smallest & largest pixel intensities are {rescaled_image.min()} & {rescaled_image.max()}.\")\n",
    "\n",
    "# Display the rescaled image\n",
    "plt.title('rescaled image')\n",
    "plt.axis('off')\n",
    "plt.imshow(rescaled_image, cmap='gray')\n",
    "\n",
    "plt.show()"
   ]
  },
  {
   "cell_type": "markdown",
   "metadata": {},
   "source": [
    "## Statistical plots with Seaborn\n",
    "\n",
    "This is a high-level tour of the seaborn plotting library for producing statistical graphics in Python. We'll cover seaborn tools for computing and visualizing linear regressions, as well as tools for visualizing univariate distributions (like strip, swarm, and violin plots) and multivariate distributions (like joint plots, pair plots, and heatmaps). We'll also discuss grouping categories in plots."
   ]
  },
  {
   "cell_type": "markdown",
   "metadata": {},
   "source": [
    "### Visualizing Regressions\n",
    "\n",
    "* [seaborn](https://seaborn.pydata.org/)\n",
    "* [The Python Graph Gallery](https://python-graph-gallery.com/)\n",
    "\n",
    "**Recap: Pandas DataFrames**\n",
    "\n",
    "* Labelled tabular data structure\n",
    "* Labels on rows: index\n",
    "* Labels on columns: columns\n",
    "* Columns are Pandas Series"
   ]
  },
  {
   "cell_type": "code",
   "execution_count": null,
   "metadata": {},
   "outputs": [],
   "source": [
    "tips = sns.load_dataset('tips')\n",
    "tips.head()"
   ]
  },
  {
   "cell_type": "markdown",
   "metadata": {},
   "source": [
    "**Linear Regression Plots**"
   ]
  },
  {
   "cell_type": "code",
   "execution_count": null,
   "metadata": {},
   "outputs": [],
   "source": [
    "g = sns.lmplot(x='total_bill', y='tip', data=tips)"
   ]
  },
  {
   "cell_type": "markdown",
   "metadata": {},
   "source": [
    "**Factors & Grouping Factors (same plot)**"
   ]
  },
  {
   "cell_type": "code",
   "execution_count": null,
   "metadata": {},
   "outputs": [],
   "source": [
    "g = sns.lmplot(x='total_bill', y='tip', data=tips, hue='sex', palette='Set1')"
   ]
  },
  {
   "cell_type": "markdown",
   "metadata": {},
   "source": [
    "**Grouping Factors (subplots)**"
   ]
  },
  {
   "cell_type": "code",
   "execution_count": null,
   "metadata": {},
   "outputs": [],
   "source": [
    "g = sns.lmplot(x= 'total_bill', y='tip', data=tips, col='sex', height=3)"
   ]
  },
  {
   "cell_type": "markdown",
   "metadata": {},
   "source": [
    "**Resibual Plots**\n",
    "\n",
    "* Similar arguments as lmplot() but more flexible\n",
    " * x, y can be arrays or strings\n",
    " * data is DataFrame (optional)\n",
    "* Optional arguments (e.g., color) as in Matplotlib"
   ]
  },
  {
   "cell_type": "code",
   "execution_count": null,
   "metadata": {},
   "outputs": [],
   "source": [
    "sns.residplot(x= 'total_bill', y='tip', data=tips, color='green')\n",
    "plt.show()"
   ]
  },
  {
   "cell_type": "markdown",
   "metadata": {},
   "source": [
    "#### Simple linear regressions\n",
    "\n",
    "As you have seen, seaborn provides a convenient interface to generate complex and great-looking statistical plots. One of the simplest things you can do using seaborn is to fit and visualize a simple linear regression between two variables using `sns.lmplot()`.\n",
    "\n",
    "One difference between seaborn and regular matplotlib plotting is that you can pass pandas DataFrames directly to the plot and refer to each column by name. For example, if you were to plot the column `'price'` vs the column `'area'` from a DataFrame `df`, you could call `sns.lmplot(x='area', y='price', data=df)`.\n",
    "\n",
    "In this exercise, you will once again use the DataFrame `auto` containing the auto-mpg dataset. You will plot a linear regression illustrating the relationship between automobile weight and horse power.\n",
    "\n",
    "**Instructions**\n",
    "\n",
    "* Import `matplotlib.pyplot` and `seaborn` using the standard names `plt` and `sns` respectively.\n",
    "* Plot a linear regression between the `'weight'` column (on the x-axis) and the `'hp'` column (on the y-axis) from the DataFrame `auto`.\n",
    "* Display the plot as usual with `plt.show()`. This has been done for you, so hit 'Submit Answer' to view the plot."
   ]
  },
  {
   "cell_type": "code",
   "execution_count": null,
   "metadata": {},
   "outputs": [],
   "source": [
    "# Plot a linear regression between 'weight' and 'hp'\n",
    "g = sns.lmplot(x='weight', y='hp', data=df_mpg, height=5)"
   ]
  },
  {
   "cell_type": "markdown",
   "metadata": {},
   "source": [
    "**Unsurprisingly, there is a strong correlation between `'hp'` and `'weight'`, and a linear regression is easily able to capture this trend.**"
   ]
  },
  {
   "cell_type": "markdown",
   "metadata": {},
   "source": [
    "#### Plotting residuals of a regression\n",
    "\n",
    "Often, you don't just want to see the regression itself but also see the residuals to get a better idea how well the regression captured the data. Seaborn provides `sns.residplot()` for that purpose, visualizing how far datapoints diverge from the regression line.\n",
    "\n",
    "In this exercise, you will visualize the residuals of a regression between the `'hp'` column (horse power) and the `'mpg'` column (miles per gallon) of the `auto` DataFrame used previously.\n",
    "\n",
    "**Instructions**\n",
    "\n",
    "* Import `matplotlib.pyplot` and `seaborn` using the standard names `plt` and `sns` respectively.\n",
    "* Generate a green residual plot of the regression between `'hp'` (on the x-axis) and `'mpg'` (on the y-axis). You will need to specify the additional `data` and `color` parameters.\n",
    "* Display the plot as usual using `plt.show()`. This has been done for you, so hit 'Submit Answer' to view the plot."
   ]
  },
  {
   "cell_type": "code",
   "execution_count": null,
   "metadata": {},
   "outputs": [],
   "source": [
    "plt.figure(figsize=(6, 6))\n",
    "\n",
    "# Generate a green residual plot of the regression between 'hp' and 'mpg'\n",
    "ax = sns.residplot(x='hp', y='mpg', data=df_mpg, color='purple')"
   ]
  },
  {
   "cell_type": "markdown",
   "metadata": {},
   "source": [
    "#### Higher-order regressions\n",
    "\n",
    "When there are more complex relationships between two variables, a simple first order regression is often not sufficient to accurately capture the relationship between the variables. Seaborn makes it simple to compute and visualize regressions of varying orders.\n",
    "\n",
    "Here, you will plot a second order regression between the horse power (`'hp'`) and miles per gallon (`'mpg'`) using `sns.regplot()` (the function `sns.lmplot()` is a higher-level interface to `sns.regplot()`). However, before plotting this relationship, compare how the residual changes depending on the order of the regression. Does a second order regression perform significantly better than a simple linear regression?\n",
    "\n",
    " * A principal difference between `sns.lmplot()` and `sns.regplot()` is the way in which matplotlib options are passed (`sns.regplot()` is more permissive).\n",
    " * For both `sns.lmplot()` and `sns.regplot()`, the keyword `order` is used to control the order of polynomial regression.\n",
    " * The function `sns.regplot()` uses the argument `scatter=None` to prevent plotting the scatter plot points again.\n",
    "\n",
    "**Instructions**\n",
    "\n",
    "* Create a scatter plot with `auto['weight']` on the x-axis and `auto['mpg']` on the y-axis, with `label='data'`. This has been done for you.\n",
    "* Plot a first order linear regression line between `'weight'` and `'mpg'` in `'blue'` without the scatter points.\n",
    " * You need to specify the `label` (`'First Order'`, case-sensitive) and `color` parameters, in addition to `scatter=None`.\n",
    "* Plot a second order linear regression line between `'weight'` and `'mpg'` in `'green'` without the scatter points.\n",
    " * To force a higher order regression, you need to specify the `order` parameter (here, it should be `2`). Don't forget to again add a label (`'Second Order'`).\n",
    "* Add a legend to the `'upper right'`."
   ]
  },
  {
   "cell_type": "code",
   "execution_count": null,
   "metadata": {},
   "outputs": [],
   "source": [
    "plt.figure(figsize=(6, 6))\n",
    "\n",
    "# Generate a scatter plot of 'weight' and 'mpg' using red circles\n",
    "plt.scatter(df_mpg.weight, df_mpg.mpg, label='data', color='red', marker='o')\n",
    "\n",
    "# Plot in blue a linear regression of order 1 between 'weight' and 'mpg'\n",
    "sns.regplot(x='weight', y='mpg', data=df_mpg, color='blue', scatter=None, label='First Order')\n",
    "\n",
    "# Plot in green a linear regression of order 2 between 'weight' and 'mpg'\n",
    "sns.regplot(x='weight', y='mpg', data=df_mpg, order=2, color='green', scatter=None, label='Second Order')\n",
    "\n",
    "# Add a legend and display the plot\n",
    "plt.legend(loc='upper right')\n",
    "plt.show()"
   ]
  },
  {
   "cell_type": "markdown",
   "metadata": {},
   "source": [
    "**It seems like a regression of order 2 is necessary to properly capture the relationship between `'weight'` and `'mpg'`.**"
   ]
  },
  {
   "cell_type": "markdown",
   "metadata": {},
   "source": [
    "#### Grouping linear regressions by hue\n",
    "\n",
    "Often it is useful to compare and contrast trends between different groups. Seaborn makes it possible to apply linear regressions separately for subsets of the data by applying a groupby operation. Using the `hue` argument, you can specify a categorical variable by which to group data observations. The distinct groups of points are used to produce distinct regressions with different hues in the plot.\n",
    "\n",
    "In the automobile dataset - which has been pre-loaded here as `auto` - you can view the relationship between weight (`'weight'`) and horsepower (`'hp'`) of the cars and group them by their origin (`'origin'`), giving you a quick visual indication how the relationship differs by continent.\n",
    "\n",
    "**Instructions**\n",
    "\n",
    "* Plot a linear regression between `'weight'` and `'hp'` grouped by `'origin'`.\n",
    " * Use the keyword argument `hue` to group rows with the categorical column `'origin'`.\n",
    " * Use the keyword argument `palette` to specify the `'Set1'` palette for coloring the distinct groups."
   ]
  },
  {
   "cell_type": "code",
   "execution_count": null,
   "metadata": {},
   "outputs": [],
   "source": [
    "# Plot a linear regression between 'weight' and 'hp', with a hue of 'origin' and palette of 'Set1'\n",
    "g = sns.lmplot(x='weight', y='hp', data=df_mpg, hue='origin', palette='Set1', height=5)"
   ]
  },
  {
   "cell_type": "markdown",
   "metadata": {},
   "source": [
    "### Grouping linear regressions by row or column\n",
    "\n",
    "Rather than overlaying linear regressions of grouped data in the same plot, we may want to use a grid of subplots. The `sns.lmplot()` accepts the arguments `row` and/or `col` to arrangements of subplots for regressions.\n",
    "\n",
    "You'll use the automobile dataset again and, this time, you'll use the keyword argument `row` to display the subplots organized in rows. That is, you'll produce horsepower vs. weight regressions grouped by continent of origin in separate subplots stacked vertically.\n",
    "\n",
    "**Instructions**\n",
    "\n",
    "* Plot linear regressions of `'hp'` (on the y-axis) versus `'weight'` (on the x-axis) grouped row-wise by `'origin'` from DataFrame `auto`.\n",
    "* Use the keyword argument `row` to group observations with the categorical column `'origin'` in subplots organized in rows."
   ]
  },
  {
   "cell_type": "code",
   "execution_count": null,
   "metadata": {},
   "outputs": [],
   "source": [
    "# Plot linear regressions between 'weight' and 'hp' grouped row-wise by 'origin'\n",
    "g = sns.lmplot(x='weight', y='hp', data=df_mpg, row='origin', height=3)"
   ]
  },
  {
   "cell_type": "markdown",
   "metadata": {},
   "source": [
    "### Visualizing Univariate Distributions\n",
    "\n",
    "* Univariate → “one variable”\n",
    "* Visualization techniques for sampled univariate data\n",
    " * Strip plots\n",
    " * Swarm plots\n",
    " * Violin plots"
   ]
  },
  {
   "cell_type": "markdown",
   "metadata": {},
   "source": [
    "**Using `stripplot()`**"
   ]
  },
  {
   "cell_type": "code",
   "execution_count": null,
   "metadata": {},
   "outputs": [],
   "source": [
    "sns.stripplot(y= 'tip', data=tips, jitter=False)\n",
    "plt.ylabel('tip ($)')\n",
    "plt.show()"
   ]
  },
  {
   "cell_type": "markdown",
   "metadata": {},
   "source": [
    "**Grouping With `stripplot()`**"
   ]
  },
  {
   "cell_type": "code",
   "execution_count": null,
   "metadata": {},
   "outputs": [],
   "source": [
    "sns.stripplot(x='day', y='tip', data=tips, jitter=False)\n",
    "plt.ylabel('tip ($)')\n",
    "plt.show()"
   ]
  },
  {
   "cell_type": "markdown",
   "metadata": {},
   "source": [
    "**Spreading Out Strip Plots**"
   ]
  },
  {
   "cell_type": "code",
   "execution_count": null,
   "metadata": {},
   "outputs": [],
   "source": [
    "sns.stripplot(x='day', y='tip', data=tips, jitter=True, size=4)\n",
    "plt.ylabel('tip ($)')\n",
    "plt.show()"
   ]
  },
  {
   "cell_type": "markdown",
   "metadata": {},
   "source": [
    "**Using `swarmplot()`**"
   ]
  },
  {
   "cell_type": "code",
   "execution_count": null,
   "metadata": {},
   "outputs": [],
   "source": [
    "sns.swarmplot(x='day', y='tip', data=tips, size=4)\n",
    "plt.ylabel('tip ($)')\n",
    "plt.show()"
   ]
  },
  {
   "cell_type": "markdown",
   "metadata": {},
   "source": [
    "**More Grouping With `swarmplot()`**"
   ]
  },
  {
   "cell_type": "code",
   "execution_count": null,
   "metadata": {},
   "outputs": [],
   "source": [
    "sns.swarmplot(x='day', y='tip', data=tips, size=4, hue='sex')\n",
    "plt.ylabel('tip ($)')\n",
    "plt.show()"
   ]
  },
  {
   "cell_type": "markdown",
   "metadata": {},
   "source": [
    "**Changing Orientation**"
   ]
  },
  {
   "cell_type": "code",
   "execution_count": null,
   "metadata": {},
   "outputs": [],
   "source": [
    "sns.swarmplot(x='tip', y='day', data=tips, size=4, hue='sex', orient='h')\n",
    "plt.ylabel('tip ($)')\n",
    "plt.show()"
   ]
  },
  {
   "cell_type": "markdown",
   "metadata": {},
   "source": [
    "**Using `violinplot()`**"
   ]
  },
  {
   "cell_type": "code",
   "execution_count": null,
   "metadata": {},
   "outputs": [],
   "source": [
    "fig, (ax1, ax2) = plt.subplots(ncols=2, figsize=(8, 5), tight_layout=True)\n",
    "\n",
    "sns.boxplot(x='day', y='tip', data=tips, ax=ax1)\n",
    "ax1.set_ylabel('tip ($)')\n",
    "\n",
    "sns.violinplot(x='day', y='tip', data=tips, ax=ax2)\n",
    "ax2.set_ylabel('tip ($)')\n",
    "plt.show()"
   ]
  },
  {
   "cell_type": "markdown",
   "metadata": {},
   "source": [
    "**Combining Plots**"
   ]
  },
  {
   "cell_type": "code",
   "execution_count": null,
   "metadata": {},
   "outputs": [],
   "source": [
    "ax = sns.violinplot(x='day', y='tip', data=tips, inner=None, color='lightgray')\n",
    "sns.stripplot(x='day', y='tip', data=tips, size=4, jitter=True, ax=ax)\n",
    "ax.set_ylabel('tip ($)')\n",
    "plt.show()"
   ]
  },
  {
   "cell_type": "markdown",
   "metadata": {},
   "source": [
    "#### Constructing strip plots\n",
    "\n",
    "Regressions are useful to understand relationships between two continuous variables. Often we want to explore how the distribution of a single continuous variable is affected by a second categorical variable. Seaborn provides a variety of plot types to perform these types of comparisons between univariate distributions.\n",
    "\n",
    "The strip plot is one way of visualizing this kind of data. It plots the distribution of variables for each category as individual datapoints. For vertical strip plots (the default), distributions of continuous values are laid out parallel to the y-axis and the distinct categories are spaced out along the x-axis.\n",
    "\n",
    " * For example, `sns.stripplot(x='type', y='length', data=df)` produces a sequence of vertical strip plots of `length` distributions grouped by `type` (assuming `length` is a continuous column and `type` is a categorical column of the DataFrame `df`).\n",
    " * Overlapping points can be difficult to distinguish in strip plots. The argument `jitter=True` helps spread out overlapping points.\n",
    " * Other matplotlib arguments can be passed to `sns.stripplot()`, e.g., `marker`, `color`, `size`, etc.\n",
    "\n",
    "**Instructions**\n",
    "\n",
    "* In the first row of subplots, make a strip plot showing distribution of `'hp'` values grouped horizontally by `'cyl'`.\n",
    "* In the second row of subplots, make a second strip plot with improved readability. In particular, you'll call `sns.stripplot()` again, this time adding `jitter=True` and decreasing the point size to 3 using the `size` parameter."
   ]
  },
  {
   "cell_type": "code",
   "execution_count": null,
   "metadata": {},
   "outputs": [],
   "source": [
    "fig, (ax1, ax2) = plt.subplots(nrows=2, figsize=(8, 9))\n",
    "\n",
    "# Make a strip plot of 'hp' grouped by 'cyl'\n",
    "sns.stripplot(x='cyl', y='hp', data=df_mpg, ax=ax1)\n",
    "\n",
    "# Make the strip plot again using jitter and a smaller point size\n",
    "sns.stripplot(x='cyl', y='hp', data=df_mpg, jitter=True, size=3, ax=ax2)\n",
    "\n",
    "# Display the plot\n",
    "plt.show()"
   ]
  },
  {
   "cell_type": "markdown",
   "metadata": {},
   "source": [
    "**Here, `'hp'` is the continuous variable, and `'cyl'` is the categorical variable. The strip plot shows that automobiles with more cylinders tend to have higher horsepower.**"
   ]
  },
  {
   "cell_type": "markdown",
   "metadata": {},
   "source": [
    "#### Constructing swarm plots\n",
    "\n",
    "As you have seen, a strip plot can be visually crowded even with jitter applied and smaller point sizes. An alternative is provided by the swarm plot (`sns.swarmplot()`), which is very similar but spreads out the points to avoid overlap and provides a better visual overview of the data.\n",
    "\n",
    "* The syntax for `sns.swarmplot()` is similar to that of` sns.stripplot()`, e.g., `sns.swarmplot(x='type', y='length', data=df)`.\n",
    "* The orientation for the continuous variable in the strip/swarm plot can be inferred from the choice of the columns `x` and `y` from the DataFrame `data`. The orientation can be set explicitly using `orient='h'` (horizontal) or `orient='v'` (vertical).\n",
    "* Another grouping can be added in using the `hue` keyword. For instance, using `sns.swarmplot(x='type', y='length', data=df, hue='build year')` makes a swarm plot from the DataFrame `df` with the `'length'` column values spread out vertically, horizontally grouped by the column `'type'` and each point colored by the categorical column `'build year'`.\n",
    "\n",
    "In this exercise, you'll use the `auto` DataFrame again to illustrate the use of `sns.swarmplot()` with grouping by `hue` and with explicit specification of the orientation using the keyword `orient`.\n",
    "\n",
    "**Instructions**\n",
    "\n",
    "* In the first row of subplots, make a swarm plot showing distribution of `'hp'` values grouped horizontally by `'cyl'`.\n",
    "* In the second row of subplots, make a second swarm plot with horizontal orientation (i.e. grouped vertically by `'cyl'` with `'hp'` value spread out horizontally).\n",
    " * In addition to _reversing_ the columns for the `x` and `y` parameters, you will need to specify the `orient` parameter to explicitly set the horizontal orientation.\n",
    " * Color the points by `'origin'` (refer to the text above if you don't know how to do this)."
   ]
  },
  {
   "cell_type": "code",
   "execution_count": null,
   "metadata": {},
   "outputs": [],
   "source": [
    "fig, (ax1, ax2) = plt.subplots(nrows=2, figsize=(8, 9))\n",
    "\n",
    "# Generate a swarm plot of 'hp' grouped horizontally by 'cyl'  \n",
    "sns.swarmplot(x='cyl', y='hp', data=df_mpg, size=2.5, ax=ax1)\n",
    "\n",
    "# Generate a swarm plot of 'hp' grouped vertically by 'cyl' with a hue of 'origin'\n",
    "sns.swarmplot(x='hp', y='cyl', data=df_mpg, size=2, orient='h', hue='origin', ax=ax2)\n",
    "\n",
    "# Display the plot\n",
    "plt.show()"
   ]
  },
  {
   "cell_type": "markdown",
   "metadata": {},
   "source": [
    "**Swarm plots are generally easier to understand than strip plots because they spread out the points to avoid overlap.**"
   ]
  },
  {
   "cell_type": "markdown",
   "metadata": {},
   "source": [
    "#### Constructing violin plots\n",
    "\n",
    "Both strip and swarm plots visualize all the datapoints. For large datasets, this can result in significant overplotting. Therefore, it is often useful to use plot types which reduce a dataset to more descriptive statistics and provide a good summary of the data. Box and whisker plots are a classic way of summarizing univariate distributions but seaborn provides a more sophisticated extension of the standard box plot, called a violin plot.\n",
    "\n",
    "Here, you will produce violin plots of the distribution of horse power (`'hp'`) by the number of cylinders (`'cyl'`). Additionally, you will combine two different plot types by overlaying a strip plot on the violin plot.\n",
    "\n",
    "As before, the DataFrame has been pre-loaded for you as `auto`.\n",
    "\n",
    "**Instructions**\n",
    "\n",
    "* In the first row of subplots, make a violin plot showing the distribution of `'hp'` grouped by `'cyl'`.\n",
    "* In the second row of subplots, make a second violin plot without the inner annotations (by specifying `inner=None`) and with the color `'lightgray'`.\n",
    "* In the second row of subplots, overlay a strip plot with jitter and a point size of `1.5`."
   ]
  },
  {
   "cell_type": "code",
   "execution_count": null,
   "metadata": {},
   "outputs": [],
   "source": [
    "fig, (ax1, ax2) = plt.subplots(nrows=2, figsize=(8, 9))\n",
    "\n",
    "# Generate a violin plot of 'hp' grouped horizontally by 'cyl'\n",
    "sns.violinplot(x='cyl', y='hp', data=df_mpg, ax=ax1)\n",
    "\n",
    "# Generate the same violin plot again with a color of 'lightgray' and without inner annotations\n",
    "sns.violinplot(x='cyl', y='hp', data=df_mpg, inner=None, color='lightgray', ax=ax2)\n",
    "\n",
    "# Overlay a strip plot on the violin plot\n",
    "sns.stripplot(x='cyl', y='hp', data=df_mpg, size=1.5, jitter=True, ax=ax2)\n",
    "\n",
    "# Display the plot\n",
    "plt.show()"
   ]
  },
  {
   "cell_type": "markdown",
   "metadata": {},
   "source": [
    "**Violin plots are a nice way of visualizing the relationship between a continuous variable and a categorical variable.**"
   ]
  },
  {
   "cell_type": "markdown",
   "metadata": {},
   "source": [
    "### Visualizing Multivariate Distributions\n",
    "\n",
    "* Bivariate → “two variables”\n",
    "* Multivariate → “multiple variables”\n",
    "* Visualizing relationships in multivariate data\n",
    " * Joint plots\n",
    " * Pair plots\n",
    " * Heat maps\n",
    " \n",
    "**Using `jointplot()`**"
   ]
  },
  {
   "cell_type": "code",
   "execution_count": null,
   "metadata": {},
   "outputs": [],
   "source": [
    "g = sns.jointplot(x= 'total_bill', y= 'tip', data=tips)"
   ]
  },
  {
   "cell_type": "markdown",
   "metadata": {},
   "source": [
    "**Joint Plot Using `kde=True`**"
   ]
  },
  {
   "cell_type": "code",
   "execution_count": null,
   "metadata": {},
   "outputs": [],
   "source": [
    "g = sns.jointplot(x='total_bill', y= 'tip', data=tips, kind='kde')"
   ]
  },
  {
   "cell_type": "markdown",
   "metadata": {},
   "source": [
    "**Using `pairplot()`**"
   ]
  },
  {
   "cell_type": "code",
   "execution_count": null,
   "metadata": {},
   "outputs": [],
   "source": [
    "g = sns.pairplot(tips)"
   ]
  },
  {
   "cell_type": "markdown",
   "metadata": {},
   "source": [
    "**Using `pairplot()` with `hue`**"
   ]
  },
  {
   "cell_type": "code",
   "execution_count": null,
   "metadata": {},
   "outputs": [],
   "source": [
    "g = sns.pairplot(tips, hue='sex')"
   ]
  },
  {
   "cell_type": "markdown",
   "metadata": {},
   "source": [
    "**Correlation heat map using `heatmap()`**"
   ]
  },
  {
   "cell_type": "code",
   "execution_count": null,
   "metadata": {},
   "outputs": [],
   "source": [
    "tips_corr_matrix = tips.select_dtypes(include=[np.number]).corr()\n",
    "tips_corr_matrix"
   ]
  },
  {
   "cell_type": "code",
   "execution_count": null,
   "metadata": {},
   "outputs": [],
   "source": [
    "ax = sns.heatmap(tips_corr_matrix)\n",
    "ax.set_title('Tips Correlation plot')\n",
    "plt.show()"
   ]
  },
  {
   "cell_type": "markdown",
   "metadata": {},
   "source": [
    "#### Plotting joint distributions (1)\n",
    "\n",
    "There are numerous strategies to visualize how pairs of continuous random variables vary jointly. Regression and residual plots are one strategy. Another is to visualize a bivariate distribution.\n",
    "\n",
    "Seaborn's `sns.jointplot()` provides means of visualizing bivariate distributions. The basic calling syntax is similar to that of `sns.lmplot()`. By default, calling `sns.jointplot(x, y, data)` renders a few things:\n",
    "\n",
    "* A scatter plot using the specified columns `x` and `y` from the DataFrame `data`.\n",
    "* A (univariate) histogram along the top of the scatter plot showing distribution of the column `x`.\n",
    "* A (univariate) histogram along the right of the scatter plot showing distribution of the column `y`.\n",
    "\n",
    "**Instructions**\n",
    "\n",
    "* Use `sns.jointplot()` to visualize the joint variation of the columns `'hp'` (on the x-axis) and `'mpg'` (on the y-axis) from the DataFrame `auto`."
   ]
  },
  {
   "cell_type": "code",
   "execution_count": null,
   "metadata": {},
   "outputs": [],
   "source": [
    "# Generate a joint plot of 'hp' and 'mpg'\n",
    "g = sns.jointplot(x='hp', y='mpg', data=df_mpg)"
   ]
  },
  {
   "cell_type": "markdown",
   "metadata": {},
   "source": [
    "### Plotting joint distributions (2)\n",
    "\n",
    "The seaborn function `sns.jointplot()` has a parameter `kind` to specify how to visualize the joint variation of two continuous random variables (i.e., two columns of a DataFrame)\n",
    "\n",
    " * `kind='scatter'` uses a scatter plot of the data points\n",
    " * `kind='reg'` uses a regression plot (default order 1)\n",
    " * `kind='resid'` uses a residual plot\n",
    " * `kind='kde'` uses a kernel density estimate of the joint distribution\n",
    " * `kind='hex'` uses a hexbin plot of the joint distribution\n",
    "\n",
    "For this exercise, you will again use `sns.jointplot()` to display the joint distribution of the `hp` and `mpg` columns of the `auto` DataFrame. This time, you will use `kind='hex'` to generate a hexbin plot of the joint distribution.\n",
    "\n",
    "**Instructions**\n",
    "\n",
    "* Create a hexbin plot of the joint distribution between `'hp'` and `'mpg'`."
   ]
  },
  {
   "cell_type": "code",
   "execution_count": null,
   "metadata": {},
   "outputs": [],
   "source": [
    "# Generate a joint plot of 'hp' and 'mpg' using a hexbin plot\n",
    "g = sns.jointplot(x='hp', y='mpg', data=df_mpg, kind='hex')"
   ]
  },
  {
   "cell_type": "markdown",
   "metadata": {},
   "source": [
    "#### Plotting distributions pairwise (1)\n",
    "\n",
    "Data sets often contain more than two continuous variables. The function `sns.jointplot()` is restricted to representing joint variation between only two quantities (i.e., two columns of a DataFrame). Visualizing multivariate relationships is trickier.\n",
    "\n",
    "The function `sns.pairplot()` constructs a grid of all joint plots pairwise from all pairs of (non-categorical) columns in a DataFrame. The syntax is very simple: `sns.pairplot(df)`, where `df` is a DataFrame. The non-categorical columns are identified and the corresponding joint plots are plotted in a square grid of subplots. The diagonal of the subplot grid shows the univariate histograms of the individual columns.\n",
    "\n",
    "In this exercise, you will use a DataFrame `auto` comprising only three columns from the original auto-mpg data set.\n",
    "\n",
    "**Instructions**\n",
    "\n",
    "* Print the first five rows of the DataFrame `auto`. This is done for you.\n",
    "* Plot the joint distributions between columns from the entire DataFrame `auto`."
   ]
  },
  {
   "cell_type": "code",
   "execution_count": null,
   "metadata": {},
   "outputs": [],
   "source": [
    "# Print the first 5 rows of the DataFrame\n",
    "df_mpg.head()"
   ]
  },
  {
   "cell_type": "code",
   "execution_count": null,
   "metadata": {},
   "outputs": [],
   "source": [
    "# Plot the pairwise joint distributions from the DataFrame \n",
    "g = sns.pairplot(df_mpg)"
   ]
  },
  {
   "cell_type": "markdown",
   "metadata": {},
   "source": [
    "**Seaborn's pairplots are an excellent way of visualizing the relationship between all continuous variables in a dataset.**"
   ]
  },
  {
   "cell_type": "markdown",
   "metadata": {},
   "source": [
    "#### Plotting distributions pairwise (2)\n",
    "\n",
    "In this exercise, you will generate pairwise joint distributions again. This time, you will make two particular additions:\n",
    "\n",
    "You will display regressions as well as scatter plots in the off-diagonal subplots. You will do this with the argument `kind='reg'` (where `'reg'` means 'regression'). Another option for `kind` is `'scatter'` (the default) that plots scatter plots in the off-diagonal subplots.\n",
    "You will also visualize the joint distributions separated by continent of origin. You will do this with the keyword argument `hue` specifying the `'origin'`.\n",
    "\n",
    "**Instructions**\n",
    "\n",
    "* Plot the pairwise joint distributions separated by continent of origin and display the regressions."
   ]
  },
  {
   "cell_type": "code",
   "execution_count": null,
   "metadata": {},
   "outputs": [],
   "source": [
    "# Plot the pairwise joint distributions grouped by 'origin' along with regression lines\n",
    "g = sns.pairplot(df_mpg[['mpg', 'hp', 'origin']], hue='origin', kind='reg', height=4, aspect=1)"
   ]
  },
  {
   "cell_type": "markdown",
   "metadata": {},
   "source": [
    "**Plots like this are why Seaborn is such a useful library: Using just one command, you're able to quickly extract a lot of valuable insight from a dataset.**"
   ]
  },
  {
   "cell_type": "markdown",
   "metadata": {},
   "source": [
    "### Visualizing correlations with a heatmap\n",
    "\n",
    "Plotting relationships between many variables using a pair plot can quickly get visually overwhelming. It is therefore often useful to compute covariances between the variables instead. The covariance matrix can then easily be visualized as a heatmap. A heatmap is effectively a pseudocolor plot with labelled rows and columns (i.e., a pseudocolor plot based on a pandas DataFrame rather than a matrix). The DataFrame does not have to be square or symmetric (but, in the context of a covariance matrix, it is both).\n",
    "\n",
    "In this exercise, you will view the covariance matrix between the continuous variables in the auto-mpg dataset. You do not have to know here how the covariance matrix is computed; the important point is that its diagonal entries are all 1s, and the off-diagonal entries are between -1 and +1 (quantifying the degree to which variable pairs vary jointly). It is also, then, a symmetric matrix.\n",
    "\n",
    "**Instructions**\n",
    "\n",
    "* Print the correlation matrix `corr_matrix` to examine its contents and labels. This has been done for you.\n",
    "* Plot the correlation matrix `corr_matrix` using `sns.heatmap()`."
   ]
  },
  {
   "cell_type": "code",
   "execution_count": null,
   "metadata": {},
   "outputs": [],
   "source": [
    "corr_matrix = df_mpg.select_dtypes(include='number').corr()\n",
    "corr_matrix"
   ]
  },
  {
   "cell_type": "code",
   "execution_count": null,
   "metadata": {},
   "outputs": [],
   "source": [
    "# Visualize the correlation matrix using a heatmap\n",
    "ax = sns.heatmap(corr_matrix)"
   ]
  },
  {
   "cell_type": "markdown",
   "metadata": {},
   "source": [
    "**If your pair plot starts to become visually overwhelming, heat maps are a great alternative.**"
   ]
  },
  {
   "cell_type": "markdown",
   "metadata": {},
   "source": [
    "## Analyzing time series and images\n",
    "\n",
    "This chapter ties together the skills gained so far through examining time series data and images. You'll customize plots of stock data, generate histograms of image pixel intensities, and enhance image contrast through histogram equalization."
   ]
  },
  {
   "cell_type": "markdown",
   "metadata": {},
   "source": [
    "### Visualizing Time Series"
   ]
  },
  {
   "cell_type": "markdown",
   "metadata": {},
   "source": [
    "**Datetimes & Time Series**"
   ]
  },
  {
   "cell_type": "code",
   "execution_count": null,
   "metadata": {},
   "outputs": [],
   "source": [
    "print(type(df_weather))\n",
    "print(type(df_weather.index))\n",
    "df_weather.head()"
   ]
  },
  {
   "cell_type": "markdown",
   "metadata": {},
   "source": [
    "**Plotting DataFrames**"
   ]
  },
  {
   "cell_type": "code",
   "execution_count": null,
   "metadata": {},
   "outputs": [],
   "source": [
    "plt.plot(df_weather)\n",
    "plt.show()"
   ]
  },
  {
   "cell_type": "markdown",
   "metadata": {},
   "source": [
    "**Slicing Time Series**"
   ]
  },
  {
   "cell_type": "code",
   "execution_count": null,
   "metadata": {},
   "outputs": [],
   "source": [
    "temperature = df_weather['Temperature']\n",
    "march_apr = temperature['2010-03':'2010-04']\n",
    "print(march_apr.shape)\n",
    "print(march_apr.iloc[-4:])"
   ]
  },
  {
   "cell_type": "markdown",
   "metadata": {},
   "source": [
    "**Plotting Time Series Slices**"
   ]
  },
  {
   "cell_type": "code",
   "execution_count": null,
   "metadata": {},
   "outputs": [],
   "source": [
    "plt.plot(temperature['2010-01'], color='r', label='Temperature')\n",
    "dew_point = df_weather['DewPoint']\n",
    "plt.plot(dew_point['2010-01'], color='b', label='Dewpoint')\n",
    "plt.legend(loc='upper right')\n",
    "plt.xticks(rotation=60)\n",
    "plt.show()"
   ]
  },
  {
   "cell_type": "markdown",
   "metadata": {},
   "source": [
    "**Selecting & Formatting Dates**"
   ]
  },
  {
   "cell_type": "code",
   "execution_count": null,
   "metadata": {},
   "outputs": [],
   "source": [
    "jan = temperature['2010-01']\n",
    "dates = jan.index[::96]\n",
    "print(dates)\n",
    "labels = dates.strftime('%b %d')\n",
    "print(labels)"
   ]
  },
  {
   "cell_type": "markdown",
   "metadata": {},
   "source": [
    "**Cleaning Up Ticks on Axis**"
   ]
  },
  {
   "cell_type": "code",
   "execution_count": null,
   "metadata": {},
   "outputs": [],
   "source": [
    "plt.plot(temperature['2010-01'], color='r', label='Temperature')\n",
    "plt.plot(dew_point['2010-01'], color='b', label='Dewpoint')\n",
    "plt.legend(loc='upper right')\n",
    "plt.xticks(dates, labels, rotation=60)\n",
    "plt.show()"
   ]
  },
  {
   "cell_type": "markdown",
   "metadata": {},
   "source": [
    "#### Multiple time series on common axes\n",
    "\n",
    "For this exercise, you will construct a plot showing four time series stocks on the same axes. The time series in question are represented in the session using the identifiers `aapl`, `ibm`, `csco`, and `msft`. You'll generate a single plot showing all the time series on common axes with a legend.\n",
    "\n",
    "**Instructions**\n",
    "\n",
    "* Plot the `aapl` time series in blue with a label of` 'AAPL'`.\n",
    "* Plot the `ibm` time series in green with a label of `'IBM'`.\n",
    "* Plot the `csco` time series in red with a label of `'CSCO'`.\n",
    "* Plot the `msft` time series in magenta with a label of `'MSFT'`.\n",
    "* Specify a `rotation` of `60` for the xticks with `plt.xticks()`.\n",
    "* Add a legend in the `'upper left'` corner of the plot."
   ]
  },
  {
   "cell_type": "code",
   "execution_count": null,
   "metadata": {},
   "outputs": [],
   "source": [
    "# Plot the aapl time series in blue\n",
    "plt.plot(df_stocks['AAPL'], color='blue', label='AAPL')\n",
    "\n",
    "# Plot the ibm time series in green\n",
    "plt.plot(df_stocks['IBM'], color='green', label='IBM')\n",
    "\n",
    "# Plot the csco time series in red\n",
    "plt.plot(df_stocks['CSCO'], color='red', label='CSCO')\n",
    "\n",
    "# Plot the msft time series in magenta\n",
    "plt.plot(df_stocks['MSFT'], color='magenta', label='MSFT')\n",
    "\n",
    "# Add a legend in the top left corner of the plot\n",
    "plt.legend(loc='upper left')\n",
    "\n",
    "# Specify the orientation of the xticks\n",
    "plt.xticks(rotation=60)\n",
    "\n",
    "# Display the plot\n",
    "plt.show()"
   ]
  },
  {
   "cell_type": "markdown",
   "metadata": {},
   "source": [
    "#### Multiple time series slices (1)\n",
    "\n",
    "You can easily slice subsets corresponding to different time intervals from a time series. In particular, you can use strings like `'2001:2005'`, `'2011-03:2011-12'`, or `'2010-04-19:2010-04-30'` to extract data from time intervals of length 5 years, 10 months, or 12 days respectively.\n",
    "\n",
    " * Unlike slicing from standard Python lists, tuples, and strings, when slicing time series by labels (and other pandas Series & DataFrames by labels), the slice includes the right-most portion of the slice. That is, extracting `my_time_series['1990':'1995']` extracts data from `my_time_series` corresponding to `1990`, `1991`, `1992`, `1993`, `1994`, and `1995` inclusive.\n",
    " * You can use partial strings or `datetime` objects for indexing and slicing from time series.\n",
    "\n",
    "For this exercise, you will use time series slicing to plot the time series `aapl` over its full 11-year range and also over a shorter 2-year range. You'll arrange these plots in a **2 × 1** grid of subplots\n",
    "\n",
    "**Instructions**\n",
    "\n",
    "* Plot the series `aapl` in `'blue'` in the top subplot of a vertically-stacked pair of subplots, with the xticks rotated to 45 degrees.\n",
    "* Extract a slice named `view` from the series `aapl` containing data from the years 2007 to 2008 (inclusive). This has been done for you.\n",
    "* Plot the slice `view` in black in the bottom subplot."
   ]
  },
  {
   "cell_type": "code",
   "execution_count": null,
   "metadata": {},
   "outputs": [],
   "source": [
    "plt.figure(figsize=(8, 9))\n",
    "\n",
    "# Plot the series in the top subplot in blue\n",
    "plt.subplot(2,1,1)\n",
    "plt.xticks(rotation=45)\n",
    "plt.title('AAPL: 2001 to 2011')\n",
    "plt.plot(df_stocks.AAPL, color='blue')\n",
    "\n",
    "# Slice aapl from '2007' to '2008' inclusive: view\n",
    "view = df_stocks.AAPL['2007':'2008']\n",
    "\n",
    "# Plot the sliced data in the bottom subplot in black\n",
    "plt.subplot(2,1,2)\n",
    "plt.xticks(rotation=45)\n",
    "plt.title('AAPL: 2007 to 2008')\n",
    "plt.plot(view, color='black')\n",
    "plt.tight_layout()\n",
    "plt.show()"
   ]
  },
  {
   "cell_type": "markdown",
   "metadata": {},
   "source": [
    "**Plotting time series at different intervals can provide you with deeper insight into your data. Here, for example, you can see that the `AAPL` stock price rose and fell a great amount between 2007 and 2008.**"
   ]
  },
  {
   "cell_type": "markdown",
   "metadata": {},
   "source": [
    "#### Multiple time series slices (2)\n",
    "\n",
    "In this exercise, you will use the same time series `aapl` from the previous exercise and plot tighter views of the data.\n",
    "\n",
    " * Partial string indexing works without slicing as well. For instance, using `my_time_series['1995']`, `my_time_series['1999-05']`, and `my_time_series['2000-11-04']` respectively extracts views of the time series `my_time_series` corresponding to the entire year 1995, the entire month May 1999, and the entire day November 4, 2000.\n",
    "\n",
    "**Instructions**\n",
    "\n",
    "* Extract a slice named `view_1` from the series `aapl` containing data from November 2007 to April 2008 (inclusive). This has been done for you.\n",
    "* Plot the slice `view_1` in `'red'` in the top subplot of a vertically-stacked pair of subplots with the xticks rotated to 45 degrees.\n",
    "* Assign the slice `view_2` to contain data from the series `aapl` for January 2008. This has been done for you.\n",
    "* Plot the slice `view_2` in `'green'` in the bottom subplot with the xticks rotated to 45 degrees."
   ]
  },
  {
   "cell_type": "code",
   "execution_count": null,
   "metadata": {},
   "outputs": [],
   "source": [
    "plt.figure(figsize=(8, 9))\n",
    "\n",
    "# Slice aapl from Nov. 2007 to Apr. 2008 inclusive: view\n",
    "view_1 = df_stocks.AAPL['2007-11':'2008-04']\n",
    "\n",
    "# Plot the sliced series in the top subplot in red\n",
    "plt.subplot(2, 1, 1)\n",
    "plt.plot(view_1, color='red')\n",
    "plt.title('AAPL: Nov. 2007 to Apr. 2008')\n",
    "plt.xticks(rotation=45)\n",
    "\n",
    "# Reassign the series by slicing the month January 2008\n",
    "view_2 = df_stocks.AAPL['2008-01']\n",
    "\n",
    "# Plot the sliced series in the bottom subplot in green\n",
    "plt.subplot(2, 1, 2)\n",
    "plt.plot(view_2, color='green')\n",
    "plt.title('AAPL: Jan. 2008')\n",
    "plt.xticks(rotation=45)\n",
    "\n",
    "# Improve spacing and display the plot\n",
    "plt.tight_layout()\n",
    "plt.show()"
   ]
  },
  {
   "cell_type": "markdown",
   "metadata": {},
   "source": [
    "#### Plotting an inset view\n",
    "\n",
    "Remember, rather than comparing plots with subplots or overlayed plots, you can generate an inset view directly using `plt.axes()`. In this exercise, you'll reproduce two of the time series plots from the preceding two exercises. Your figure will contain an inset plot to highlight the dramatic changes in AAPL stock price between November 2007 and April 2008 (as compared to the 11 years from 2001 to 2011).\n",
    "\n",
    "**Instructions**\n",
    "\n",
    "* Extract a slice of series `aapl` from November 2007 to April 2008 inclusive. This has been done for you.\n",
    "* Plot the entire series `aapl`.\n",
    "* Create a set of axes with lower left corner (0.25, 0.5), width 0.35, and height 0.35. Pass these four coordinates to `plt.axes()` as a list (all in units relative to the figure dimensions).\n",
    "* Plot the sliced `view` in the current axes in `'red'`."
   ]
  },
  {
   "cell_type": "code",
   "execution_count": null,
   "metadata": {},
   "outputs": [],
   "source": [
    "plt.figure(figsize=(8, 8))\n",
    "\n",
    "# Slice aapl from Nov. 2007 to Apr. 2008 inclusive: view\n",
    "view = df_stocks.AAPL['2007-11':'2008-04']\n",
    "\n",
    "# Plot the entire series \n",
    "plt.plot(df_stocks.AAPL)\n",
    "plt.xticks(rotation=45)\n",
    "plt.title('AAPL: 2001-2011')\n",
    "\n",
    "# Specify the axes\n",
    "plt.axes([0.25, 0.5, 0.35, 0.35])\n",
    "\n",
    "# Plot the sliced series in red using the current axes\n",
    "plt.plot(view, color='red')\n",
    "plt.xticks(rotation=45)\n",
    "plt.title('2007/11-2008/04')\n",
    "plt.show()"
   ]
  },
  {
   "cell_type": "markdown",
   "metadata": {},
   "source": [
    "**Inset views are a useful way of comparing time series data.**"
   ]
  },
  {
   "cell_type": "markdown",
   "metadata": {},
   "source": [
    "### Time Series With Moving Windows"
   ]
  },
  {
   "cell_type": "markdown",
   "metadata": {},
   "source": [
    "**Hourly Data Over a Year**"
   ]
  },
  {
   "cell_type": "code",
   "execution_count": null,
   "metadata": {},
   "outputs": [],
   "source": [
    "plt.figure(figsize=(8, 5))\n",
    "plt.plot(df_weather.Temperature, color='blue')\n",
    "plt.xticks(rotation=45)\n",
    "plt.title('Temperature 2010')\n",
    "plt.show()"
   ]
  },
  {
   "cell_type": "markdown",
   "metadata": {},
   "source": [
    "**Zooming In**"
   ]
  },
  {
   "cell_type": "code",
   "execution_count": null,
   "metadata": {},
   "outputs": [],
   "source": [
    "view = df_weather.Temperature['2010-07']\n",
    "plt.plot(view, color='purple')\n",
    "plt.xticks(rotation=45)\n",
    "plt.title('Temperature 2010-07')\n",
    "plt.show()"
   ]
  },
  {
   "cell_type": "markdown",
   "metadata": {},
   "source": [
    "**Moving Averages**"
   ]
  },
  {
   "cell_type": "code",
   "execution_count": null,
   "metadata": {},
   "outputs": [],
   "source": [
    "smoothed = pd.DataFrame(df_weather['Temperature'].copy())\n",
    "smoothed['14d'] = smoothed.iloc[:, 0].rolling(336).mean()\n",
    "smoothed['1d'] = smoothed.iloc[:, 0].rolling(24).mean()\n",
    "smoothed['3d'] = smoothed.iloc[:, 0].rolling(72).mean()\n",
    "smoothed['7d'] = smoothed.iloc[:, 0].rolling(168).mean()\n",
    "smoothed.head()"
   ]
  },
  {
   "cell_type": "markdown",
   "metadata": {},
   "source": [
    "**Viewing 24-Hour Averages**"
   ]
  },
  {
   "cell_type": "code",
   "execution_count": null,
   "metadata": {},
   "outputs": [],
   "source": [
    "plt.plot(smoothed['1d']) # moving average over 24 hours\n",
    "plt.title('Temperature (2010)')\n",
    "plt.xticks(rotation=60)\n",
    "plt.show()"
   ]
  },
  {
   "cell_type": "markdown",
   "metadata": {},
   "source": [
    "**Viewing All Moving Averages**"
   ]
  },
  {
   "cell_type": "code",
   "execution_count": null,
   "metadata": {},
   "outputs": [],
   "source": [
    "plt.plot(smoothed.loc['2010-01'].iloc[:, 1:]) # plot DataFrame for January\n",
    "plt.legend(smoothed.columns[1:])\n",
    "plt.title('Temperature (Jan. 2010)')\n",
    "plt.xticks(rotation=60)\n",
    "plt.show()"
   ]
  },
  {
   "cell_type": "markdown",
   "metadata": {},
   "source": [
    "**Moving Standard Deviations**"
   ]
  },
  {
   "cell_type": "code",
   "execution_count": null,
   "metadata": {},
   "outputs": [],
   "source": [
    "variances = pd.DataFrame(df_weather['Temperature'].copy())\n",
    "variances['14d'] = variances.iloc[:, 0].rolling(336).std()\n",
    "variances['1d'] = variances.iloc[:, 0].rolling(24).std()\n",
    "variances['3d'] = variances.iloc[:, 0].rolling(72).std()\n",
    "variances['7d'] = variances.iloc[:, 0].rolling(168).std()\n",
    "variances.head()"
   ]
  },
  {
   "cell_type": "code",
   "execution_count": null,
   "metadata": {},
   "outputs": [],
   "source": [
    "plt.figure(figsize=(8, 5))\n",
    "plt.plot(variances.loc['2010-01'].iloc[:, 1:]) # plot DataFrame for January\n",
    "plt.legend(variances.columns[1:])\n",
    "plt.title('Temperature Deviations (Jan. 2010)')\n",
    "plt.xticks(rotation=60)\n",
    "plt.show()"
   ]
  },
  {
   "cell_type": "markdown",
   "metadata": {},
   "source": [
    "#### Plotting moving averages\n",
    "\n",
    "In this exercise, you will plot pre-computed moving averages of AAPL stock prices in distinct subplots.\n",
    "\n",
    " * The time series `aapl` is overlayed in black in each subplot for comparison.\n",
    " * The time series `mean_30`, `mean_75`, `mean_125`, and `mean_250` have been computed for you (containing the windowed averages of the series `aapl` computed over windows of width 30 days, 75 days, 125 days, and 250 days respectively).\n",
    "\n",
    "**Instructions**\n",
    "\n",
    "* In the top left subplot, plot the 30-day moving averages series `mean_30` in `'green'`.\n",
    "* In the top right subplot, plot the 75-day moving averages series `mean_75` in `'red'`.\n",
    "* In the bottom left subplot, plot the 125-day moving averages series `mean_125` in `'magenta'`.\n",
    "* In the bottom right subplot, plot the 250-day moving averages series `mean_250` in `'cyan'`."
   ]
  },
  {
   "cell_type": "code",
   "execution_count": null,
   "metadata": {},
   "outputs": [],
   "source": [
    "mean_30 = df_stocks['AAPL'].rolling(30).mean()\n",
    "mean_75 = df_stocks['AAPL'].rolling(75).mean()\n",
    "mean_125 = df_stocks['AAPL'].rolling(125).mean()\n",
    "mean_250 = df_stocks['AAPL'].rolling(250).mean()"
   ]
  },
  {
   "cell_type": "code",
   "execution_count": null,
   "metadata": {},
   "outputs": [],
   "source": [
    "plt.figure(figsize=(8, 12))\n",
    "\n",
    "# Plot the 30-day moving average in the top left subplot in green\n",
    "plt.subplot(2, 2, 1)\n",
    "plt.plot(mean_30, color='green')\n",
    "plt.plot(df_stocks.AAPL, 'k-.')\n",
    "plt.xticks(rotation=60)\n",
    "plt.title('30d averages')\n",
    "\n",
    "# Plot the 75-day moving average in the top right subplot in red\n",
    "plt.subplot(2, 2, 2)\n",
    "plt.plot(mean_75, color='red')\n",
    "plt.plot(df_stocks.AAPL, 'k-.')\n",
    "plt.xticks(rotation=60)\n",
    "plt.title('75d averages')\n",
    "\n",
    "# Plot the 125-day moving average in the bottom left subplot in magenta\n",
    "plt.subplot(2, 2, 3)\n",
    "plt.plot(mean_125, color='magenta')\n",
    "plt.plot(df_stocks.AAPL, 'k-.')\n",
    "plt.xticks(rotation=60)\n",
    "plt.title('125d averages')\n",
    "\n",
    "# Plot the 250-day moving average in the bottom right subplot in cyan\n",
    "plt.subplot(2, 2, 4)\n",
    "plt.plot(mean_250, color='cyan')\n",
    "plt.plot(df_stocks.AAPL, 'k-.')\n",
    "plt.xticks(rotation=60)\n",
    "plt.title('250d averages')\n",
    "\n",
    "# Display the plot\n",
    "plt.show()"
   ]
  },
  {
   "cell_type": "markdown",
   "metadata": {},
   "source": [
    "#### Plotting moving standard deviations\n",
    "\n",
    "Having plotted pre-computed moving averages of AAPL stock prices on distinct subplots in the previous exercise, you will now plot pre-computed moving _standard deviations_ of the same stock prices, this time together on common axes.\n",
    "\n",
    " * The time series `aapl` is not plotted in this case; it is of a different length scale than the standard deviations.\n",
    " * The time series `std_30`, `std_75`, `std_125`, & `std_250` have been computed for you (containing the windowed standard deviations of the series `apl` computed over windows of width 30 days, 75 days, 125 days, & 250 days respectively).\n",
    "\n",
    "**Instructions**\n",
    "\n",
    "* Produce a single plot with four curves overlayed:\n",
    " * the series `std_30` in `'red'` (with corresponding label `'30d'`).\n",
    " * the series `std_75` in `'cyan'` (with corresponding label `'75d'`).\n",
    " * the series `std_125` in `'green'` (with corresponding label `'125d'`).\n",
    " * the series `std_250` in `'magenta'` (with corresponding label `'250d'`).\n",
    "* Add a legend to the `'upper left'` corner of the plot."
   ]
  },
  {
   "cell_type": "code",
   "execution_count": null,
   "metadata": {},
   "outputs": [],
   "source": [
    "std_30 = df_stocks['AAPL'].rolling(30).std()\n",
    "std_75 = df_stocks['AAPL'].rolling(75).std()\n",
    "std_125 = df_stocks['AAPL'].rolling(125).std()\n",
    "std_250 = df_stocks['AAPL'].rolling(250).std()"
   ]
  },
  {
   "cell_type": "code",
   "execution_count": null,
   "metadata": {},
   "outputs": [],
   "source": [
    "plt.figure(figsize=(9, 6))\n",
    "\n",
    "# Plot std_30 in red\n",
    "plt.plot(std_30, color='green', label='30d')\n",
    "\n",
    "# Plot std_75 in cyan\n",
    "plt.plot(std_75, color='red', label='75d')\n",
    "\n",
    "# Plot std_125 in green\n",
    "plt.plot(std_125, color='magenta', label='125d')\n",
    "\n",
    "# Plot std_250 in magenta\n",
    "plt.plot(std_250, color='cyan', label='250d')\n",
    "\n",
    "# Add a legend to the upper left\n",
    "plt.legend(loc='upper left')\n",
    "\n",
    "# Add a title\n",
    "plt.title('Moving standard deviations')\n",
    "\n",
    "# Display the plot\n",
    "plt.show()"
   ]
  },
  {
   "cell_type": "markdown",
   "metadata": {},
   "source": [
    "#### Interpreting moving statistics\n",
    "\n",
    "From the previous plot of moving standard deviations, what length is the moving window that most consistently produces the greatest variance (standard deviation) in the `AAPL` stock price over the time interval shown?\n",
    "\n",
    "**Instructions**\n",
    "\n",
    "* ~~30 days~~\n",
    "* ~~75 days~~\n",
    "* ~~125 days~~\n",
    "* **250 days**"
   ]
  },
  {
   "cell_type": "markdown",
   "metadata": {},
   "source": [
    "**Wider moving windows admit greater variability!**"
   ]
  },
  {
   "cell_type": "markdown",
   "metadata": {},
   "source": [
    "### Histogram Equalization In Images\n",
    "\n",
    "\n",
    "**Original Low Contrast Mars Surface Image**\n",
    "\n",
    "![low contrast mars surface](https://raw.githubusercontent.com/trenton3983/DataCamp/master/Images/intro_to_data_visualization_in_python/4_3_low_contrast_mars_surface.JPG)\n",
    "\n",
    "\n",
    "I found the image at [Planetary Science Short Course](https://instruct.uwo.ca/geog/3241/short-course-1.htm).\n",
    "\n",
    "* This is a Mars Odyssey THEMIS infrared image mosaic of an area of Mars at 13 degrees south, 215 degrees east. Cratered highlands to the west are part of Terra Sirenum, and the plains to the west are Daedalia Planum. The image is about 600 km across (long dimension).\n",
    "* [Matplotlib Image Tutorial](https://matplotlib.org/stable/tutorials/images.html)"
   ]
  },
  {
   "cell_type": "markdown",
   "metadata": {},
   "source": [
    "**Image File**"
   ]
  },
  {
   "cell_type": "code",
   "execution_count": null,
   "metadata": {},
   "outputs": [],
   "source": [
    "lunar_image_url = 'https://raw.githubusercontent.com/trenton3983/DataCamp/master/Images/intro_to_data_visualization_in_python/4_3_low_contrast_mars_surface.JPG'\n",
    "lunar_image_path = Path('Images/intro_to_data_visualization_in_python/4_3_low_contrast_mars_surface.JPG')\n",
    "create_dir_save_file(lunar_image_path, lunar_image_url)"
   ]
  },
  {
   "cell_type": "markdown",
   "metadata": {},
   "source": [
    "**Image Histograms**"
   ]
  },
  {
   "cell_type": "code",
   "execution_count": null,
   "metadata": {},
   "outputs": [],
   "source": [
    "orig = plt.imread(lunar_image_path)\n",
    "pixels = orig.flatten()\n",
    "plt.hist(pixels, bins=256, range=(0,256), density=True, color='blue', alpha=0.3)\n",
    "plt.show()\n",
    "minval, maxval = orig.min(), orig.max()\n",
    "print(minval, maxval)"
   ]
  },
  {
   "cell_type": "markdown",
   "metadata": {},
   "source": [
    "**Rescaling the Image**"
   ]
  },
  {
   "cell_type": "code",
   "execution_count": null,
   "metadata": {},
   "outputs": [],
   "source": [
    "plt.figure(figsize=(12, 12))\n",
    "\n",
    "minval, maxval = orig.min(), orig.max()\n",
    "print(minval, maxval)\n",
    "\n",
    "# this is the equation from section 2.4.4\n",
    "rescaled = 256*(orig - minval) / (maxval - minval)\n",
    "# the rescaled equation from the slides is not correct\n",
    "# rescaled = (255/(maxval-minval)) * (pixels - minval) # original equation\n",
    "print(rescaled.min(), rescaled.max())\n",
    "\n",
    "plt.imshow(rescaled, cmap='gray')\n",
    "plt.axis('off')\n",
    "plt.show()"
   ]
  },
  {
   "cell_type": "markdown",
   "metadata": {},
   "source": [
    "**Original & Rescaled Histograms**"
   ]
  },
  {
   "cell_type": "code",
   "execution_count": null,
   "metadata": {},
   "outputs": [],
   "source": [
    "plt.hist(pixels, bins=256, range=(0,255), density=True, color='blue', alpha=0.2)\n",
    "plt.hist(rescaled.flatten(), bins=256, range=(0,255), density=True, color='green', alpha=0.2)\n",
    "plt.legend(['original', 'rescaled'])\n",
    "plt.show()"
   ]
  },
  {
   "cell_type": "markdown",
   "metadata": {},
   "source": [
    "**Image Histogram & CDF**"
   ]
  },
  {
   "cell_type": "code",
   "execution_count": null,
   "metadata": {},
   "outputs": [],
   "source": [
    "plt.hist(pixels, bins=256, range=(0,256), density=True, color='blue', alpha=0.3)\n",
    "plt.twinx()\n",
    "orig_cdf, bins, patches = plt.hist(pixels, cumulative=True, bins=256, range=(0,256), density=True, color='red', alpha=0.3)\n",
    "plt.title('Image histogram and CDF')\n",
    "plt.xlim((0, 255))\n",
    "plt.show()"
   ]
  },
  {
   "cell_type": "markdown",
   "metadata": {},
   "source": [
    "**Equalizing Intensity Values**"
   ]
  },
  {
   "cell_type": "code",
   "execution_count": null,
   "metadata": {},
   "outputs": [],
   "source": [
    "new_pixels = np.interp(pixels, bins[:-1], orig_cdf*255)\n",
    "new = new_pixels.reshape(orig.shape)\n",
    "plt.imshow(new, cmap='gray')\n",
    "plt.axis('off')\n",
    "plt.title('Equalized image')\n",
    "plt.show()"
   ]
  },
  {
   "cell_type": "markdown",
   "metadata": {},
   "source": [
    "**Equalized Histogram & CDF**"
   ]
  },
  {
   "cell_type": "code",
   "execution_count": null,
   "metadata": {},
   "outputs": [],
   "source": [
    "plt.hist(new_pixels, bins=256, range=(0,256), density=True, color='blue', alpha=0.3)\n",
    "plt.twinx()\n",
    "plt.hist(new_pixels, cumulative=True, bins=256, range=(0,256), density=True, color='red', alpha=0.1)\n",
    "plt.title('Equalized image histogram and CDF')\n",
    "plt.xlim((0, 255))\n",
    "plt.show()"
   ]
  },
  {
   "cell_type": "markdown",
   "metadata": {},
   "source": [
    "#### Extracting a histogram from a grayscale image\n",
    "\n",
    "For grayscale images, various image processing algorithms use an image histogram. Recall that an image is a two-dimensional array of numerical intensities. An image histogram, then, is computed by counting the occurences of distinct pixel intensities over all the pixels in the image.\n",
    "\n",
    "For this exercise, you will load [an unequalized low contrast image of Hawkes Bay, New Zealand](https://commons.wikimedia.org/wiki/File:Unequalized_Hawkes_Bay_NZ.jpg) (originally by Phillip Capper, modified by User:Konstable, via Wikimedia Commons, CC BY 2.0). You will plot the image and use the pixel intensity values to plot a normalized histogram of pixel intensities.\n",
    "\n",
    "**Instructions**\n",
    "\n",
    "* Load data from the file `'640px-Unequalized_Hawkes_Bay_NZ.jpg'` into an array.\n",
    "* Display `image` with a color map of `'gray'` in the top subplot.\n",
    "* Flatten `image` into a 1-D array using the `.flatten()` method.\n",
    "* Display a histogram of `pixels` in the bottom subplot.\n",
    " * Use histogram options `bins=64`, `range=(0,256)`, and `normed=True` to control numerical binning and the vertical scale.\n",
    " * Use plotting options `color='red'` and `alpha=0.4` to tailor the color and transparency."
   ]
  },
  {
   "cell_type": "code",
   "execution_count": null,
   "metadata": {},
   "outputs": [],
   "source": [
    "plt.figure(figsize=(12, 12))\n",
    "\n",
    "# Load the image into an array: image\n",
    "image = plt.imread(dir_path_hawk)  # path is from section 2.4.4\n",
    "\n",
    "# Display image in top subplot using color map 'gray'\n",
    "plt.subplot(2,1,1)\n",
    "plt.title('Original image')\n",
    "plt.axis('off')\n",
    "plt.imshow(image, cmap='gray')\n",
    "\n",
    "# Flatten the image into 1 dimension: pixels\n",
    "pixels = image.flatten()\n",
    "\n",
    "# Display a histogram of the pixels in the bottom subplot\n",
    "plt.subplot(2,1,2)\n",
    "plt.xlim((0,255))\n",
    "plt.title('Normalized histogram')\n",
    "plt.hist(pixels, bins=64, range=(0,256), density=True, color='red', alpha=0.4)\n",
    "\n",
    "# Display the plot\n",
    "plt.show()"
   ]
  },
  {
   "cell_type": "markdown",
   "metadata": {},
   "source": [
    "**Image histograms are an important component of many image processing algorithms.**"
   ]
  },
  {
   "cell_type": "markdown",
   "metadata": {},
   "source": [
    "#### Cumulative Distribution Function from an image histogram\n",
    "\n",
    "A histogram of a continuous random variable is sometimes called a _[Probability Distribution Function](https://en.wikipedia.org/wiki/Probability_density_function)_ (or PDF). The area under a PDF (a definite integral) is called a _[Cumulative Distribution Function](https://en.wikipedia.org/wiki/Cumulative_distribution_function)_ (or CDF). The CDF quantifies the probability of observing certain pixel intensities.\n",
    "\n",
    " * Additional information about CDF and ECDF can be found at [Plotting all of your data: Empirical cumulative distribution functions](https://trenton3983.github.io/posts/statistical-thinking-1/#plotting-all-of-your-data-empirical-cumulative-distribution-functions).\n",
    "\n",
    "Your task here is to plot the PDF and CDF of pixel intensities from a grayscale image. You will use the [grayscale image of Hawkes Bay, New Zealand](https://commons.wikimedia.org/wiki/File:Unequalized_Hawkes_Bay_NZ.jpg) (originally by Phillip Capper, modified by User:Konstable, via Wikimedia Commons, CC BY 2.0). This time, the 2D array image will be pre-loaded and pre-flattened into the 1D array pixels for you.\n",
    "\n",
    " * The histogram option `cumulative=True` permits viewing the CDF instead of the PDF.\n",
    " * Notice that `plt.grid('off')` switches off distracting grid lines.\n",
    " * The command `plt.twinx()` allows two plots to be overlayed sharing the x-axis but with different scales on the y-axis.\n",
    "\n",
    "**Instructions**\n",
    "\n",
    "* First, use `plt.hist()` to plot the histogram of the 1-D array `pixels` in the bottom subplot.\n",
    "* Use the histogram options `bins=64`, `range=(0,256)`, and `normed=False`.\n",
    "* Use the plotting options `alpha=0.4` and `color='red'` to make the overlayed plots easier to see.\n",
    "* Second, use `plt.twinx()` to overlay plots with different vertical scales on a common horizontal axis.\n",
    "* Third, call `plt.hist()` again to overlay the CDF in the bottom subplot.\n",
    "* Use the histogram options `bins=64`, `range=(0,256)`, and `normed=True`.\n",
    "* This time, also use `cumulative=True` to compute and display the CDF.\n",
    "* Also, use `alpha=0.4` and `color='blue'` to make the overlayed plots easier to see."
   ]
  },
  {
   "cell_type": "code",
   "execution_count": null,
   "metadata": {},
   "outputs": [],
   "source": [
    "plt.figure(figsize=(12, 12))\n",
    "\n",
    "# Load the image into an array: image\n",
    "image = plt.imread(dir_path_hawk)\n",
    "\n",
    "# Display image in top subplot using color map 'gray'\n",
    "plt.subplot(2,1,1)\n",
    "plt.imshow(image, cmap='gray')\n",
    "plt.title('Original image')\n",
    "plt.axis('off')\n",
    "\n",
    "# Flatten the image into 1 dimension: pixels\n",
    "pixels = image.flatten()\n",
    "\n",
    "# Display a histogram of the pixels in the bottom subplot\n",
    "plt.subplot(2,1,2)\n",
    "pdf = plt.hist(pixels, bins=64, range=(0,256), density=False, color='red', alpha=0.4)\n",
    "plt.grid('off')\n",
    "\n",
    "# Use plt.twinx() to overlay the CDF in the bottom subplot\n",
    "plt.twinx()\n",
    "\n",
    "# Display a cumulative histogram of the pixels\n",
    "cdf = plt.hist(pixels, bins=64, range=(0,256), cumulative=True, density=True, color='blue', alpha=0.4)\n",
    "               \n",
    "# Specify x-axis range, hide axes, add title and display plot\n",
    "plt.xlim((0,256))\n",
    "plt.grid('off')\n",
    "plt.title('PDF & CDF (original image)')\n",
    "plt.show()"
   ]
  },
  {
   "cell_type": "markdown",
   "metadata": {},
   "source": [
    "**Notice that the histogram is not well centered over the range of possible pixel intensities. The CDF rises sharply near the middle (that relates to the overall grayness of the image).**"
   ]
  },
  {
   "cell_type": "markdown",
   "metadata": {},
   "source": [
    "#### Equalizing an image histogram\n",
    "\n",
    "_[Histogram equalization](https://en.wikipedia.org/wiki/Histogram_equalization)_ is an image processing procedure that reassigns image pixel intensities. The basic idea is to use interpolation to map the original CDF of pixel intensities to a CDF that is almost a straight line. In essence, the pixel intensities are spread out and this has the practical effect of making a sharper, contrast-enhanced image. This is particularly useful in astronomy and medical imaging to help us see more features.\n",
    "\n",
    "For this exercise, you will again work with the [grayscale image of Hawkes Bay, New Zealand](https://commons.wikimedia.org/wiki/File:Unequalized_Hawkes_Bay_NZ.jpg) (originally by Phillip Capper, modified by User:Konstable, via Wikimedia Commons, CC BY 2.0). Notice the sample code produces the same plot as the previous exercise. Your task is to modify the code from the previous exercise to plot the new equalized image as well as its PDF and CDF.\n",
    "\n",
    " * The arrays `image` and `pixels` are extracted for you in advance.\n",
    " * The CDF of the original image is computed using `plt.hist()`.\n",
    " * Notice an array `new_pixels` is created for you that interpolates new pixel values using the original image CDF.\n",
    "\n",
    "**Instructions 1/2**\n",
    "\n",
    "* Plot the new equalized image.\n",
    "* Use the NumPy array method `.reshape()` to create a 2-D array `new_image` from the 1-D array `new_pixels`.\n",
    " * The resulting `new_image` should have the same shape as `image.shape`, which can be accomplished by passing this as the argument to `.reshape()`.\n",
    "* Display `new_image` with a `'gray'` color map to display the sharper, equalized image."
   ]
  },
  {
   "cell_type": "code",
   "execution_count": null,
   "metadata": {},
   "outputs": [],
   "source": [
    "# Load the image into an array: image\n",
    "image = plt.imread(dir_path_hawk)\n",
    "\n",
    "# Flatten the image into 1 dimension: pixels\n",
    "pixels = image.flatten()\n",
    "\n",
    "# Generate a cumulative histogram\n",
    "cdf, bins, patches = plt.hist(pixels, bins=256, range=(0,256), density=True, cumulative=True)"
   ]
  },
  {
   "cell_type": "code",
   "execution_count": null,
   "metadata": {},
   "outputs": [],
   "source": [
    "plt.figure(figsize=(12, 12))\n",
    "new_pixels = np.interp(pixels, bins[:-1], cdf*255)\n",
    "\n",
    "# Reshape new_pixels as a 2-D array: new_image\n",
    "new_image = new_pixels.reshape(image.shape)\n",
    "\n",
    "# Display the new image with 'gray' color map\n",
    "plt.subplot(2,1,1)\n",
    "plt.title('Equalized image')\n",
    "plt.axis('off')\n",
    "plt.imshow(new_image, cmap='gray')\n",
    "plt.show()"
   ]
  },
  {
   "cell_type": "markdown",
   "metadata": {},
   "source": [
    "**Instructions 2/2**\n",
    "\n",
    "* Plot the new equalized image's PDF and CDF.\n",
    " * Plot the PDF of `new_pixels` in `'red'`.\n",
    " * Use `plt.twinx()` to overlay plots with different vertical scales on a common horizontal axis.\n",
    " * Plot the CDF of `new_pixels` in `'blue'`."
   ]
  },
  {
   "cell_type": "code",
   "execution_count": null,
   "metadata": {},
   "outputs": [],
   "source": [
    "plt.figure(figsize=(8, 8))\n",
    "\n",
    "pdf = plt.hist(new_pixels, bins=64, range=(0,256), density=False, color='red', alpha=0.4)\n",
    "plt.grid('off')\n",
    "\n",
    "# Use plt.twinx() to overlay the CDF in the bottom subplot\n",
    "plt.twinx()\n",
    "plt.xlim((0,256))\n",
    "plt.grid('off')\n",
    "\n",
    "# Add title\n",
    "plt.title('PDF & CDF (equalized image)')\n",
    "\n",
    "# Generate a cumulative histogram of the new pixels\n",
    "cdf = plt.hist(new_pixels, bins=64, range=(0,256), cumulative=True, density=True, color='blue', alpha=0.4)\n",
    "plt.show()"
   ]
  },
  {
   "cell_type": "markdown",
   "metadata": {},
   "source": [
    "**Histogram equalization can help make an image sharper.**"
   ]
  },
  {
   "cell_type": "markdown",
   "metadata": {},
   "source": [
    "#### Extracting histograms from a color image"
   ]
  },
  {
   "cell_type": "markdown",
   "metadata": {},
   "source": [
    "##### Caveat: Considerations for False-Colored Astronomy Images\n",
    "\n",
    "While the provided code and explanation are excellent for analyzing real-color images, it is important to note a significant caveat when dealing with astronomy images that are \"false colored.\" In the field of astronomy, false coloring is a technique used to represent data from sensors that capture light outside the visible spectrum (such as infrared or ultraviolet) or to emphasize specific features within the image. Here, the RGB channels do not directly represent visible light colors but are typically mappings of different data types or wavelengths to visible colors for ease of interpretation.\n",
    "\n",
    "Consequently, histograms of these RGB channels do not reflect the actual colors as they would appear to the human eye but rather the distribution of data (which could be non-visible wavelengths) mapped to those colors. Analyzing these histograms can provide insights into the dynamic range of the data, detect anomalies, or understand the effects of data processing techniques like stretching or clipping. Therefore, while RGB histograms can offer valuable information about the distribution of the data encoded into each channel, they do not convey traditional color information as one might expect from non-astronomical images.\n",
    "\n",
    "This consideration is crucial for those analyzing or processing astronomy images, as the histograms will more so reflect the intensity and distribution of the data types assigned to each channel rather than true color distribution. This analysis can still be very useful for tasks such as validating the integrity of the data, assessing noise levels, or enhancing feature visibility based on scientific needs.\n",
    "\n",
    "For actual color images, analyzing RGB histograms remains highly beneficial. Histograms provide a visual representation of the distribution of pixel intensities across the red, green, and blue channels, which can be instrumental in tasks like color balancing, exposure adjustment, and contrast enhancement. By examining these histograms, one can identify areas where the image may be overexposed or underexposed and adjust accordingly to achieve a more balanced and visually appealing result. Additionally, histograms can aid in detecting and correcting color casts to ensure the colors in the image are represented accurately, enhancing overall image quality for both aesthetic and analytical purposes."
   ]
  },
  {
   "cell_type": "markdown",
   "metadata": {},
   "source": [
    "This exercise resembles the last in that you will plot histograms from an image. This time, you will use [color image of the Helix Nebula as seen by the Hubble and the Cerro Tololo Inter-American Observatory](https://hubblesite.org/contents/media/images/2004/32/1607-Image.html). The separate RGB (red-green-blue) channels will be extracted for you as two-dimensional arrays `red`, `green`, and `blue` respectively. You will plot three overlaid color histograms on common axes (one for each channel) in a subplot as well as the original image in a separate subplot.\n",
    "\n",
    "**Instructions**\n",
    "\n",
    "* Display `image` in the top subplot of a **2 × 1** subplot grid. Don't use a colormap here.\n",
    "* Flatten the 2-D arrays `red`, `green`, and `blue` into 1-D arrays.\n",
    "* Display three histograms in the bottom subplot: one for `red_pixels`, one for `green_pixels`, and one for `blue_pixels`. For each, use 64 bins and specify a translucency of `alpha=0.2`."
   ]
  },
  {
   "cell_type": "code",
   "execution_count": null,
   "metadata": {},
   "outputs": [],
   "source": [
    "helix_url = 'https://stsci-opo.org/STScI-01EVT8HHQBJF3ZSKKXTYYAFTQE.jpg'\n",
    "helix_dir_path = Path('Images/intro_to_data_visualization_in_python/ps09_display-helix.jpg')\n",
    "create_dir_save_file(helix_dir_path, helix_url)"
   ]
  },
  {
   "cell_type": "code",
   "execution_count": null,
   "metadata": {},
   "outputs": [],
   "source": [
    "fig, (ax1, ax2) = plt.subplots(nrows=2, figsize=(12, 12))\n",
    "\n",
    "# Load the image into an array: image\n",
    "image = plt.imread(helix_dir_path)\n",
    "\n",
    "# crop image\n",
    "image = image[100:560, 368:864, :]\n",
    "\n",
    "# Display image in top subplot\n",
    "ax1.set_title('Original image')\n",
    "ax1.axis('off')\n",
    "ax1.imshow(image)\n",
    "\n",
    "# Extract 2-D arrays of the RGB channels: red, green, blue\n",
    "red, green, blue = image[:,:,0], image[:,:,1], image[:,:,2]\n",
    "\n",
    "# Flatten the 2-D arrays of the RGB channels into 1-D\n",
    "red_pixels = red.flatten()\n",
    "green_pixels = green.flatten()\n",
    "blue_pixels = blue.flatten()\n",
    "\n",
    "# Overlay histograms of the pixels of each color in the bottom subplot\n",
    "ax2.set(title='Histograms from color image', ylabel='Counts', xlabel='Intensity')\n",
    "ax2.hist(red_pixels, bins=256, density=False, color='red', alpha=0.2)\n",
    "ax2.hist(green_pixels, bins=256, density=False, color='green', alpha=0.2)\n",
    "ax2.hist(blue_pixels, bins=256, density=False, color='blue', alpha=0.2)\n",
    "\n",
    "# set labels and ticks\n",
    "ax2.set_xticks(ticks=np.linspace(0, 1, 17), labels=range(0, 257, 16))\n",
    "\n",
    "ax2.margins(x=0, y=0)\n",
    "\n",
    "# Display the plot\n",
    "plt.show()"
   ]
  },
  {
   "cell_type": "markdown",
   "metadata": {},
   "source": [
    "* **Notice how the histogram generated from this color image differs from the histogram generated earlier from a grayscale image.**\n",
    "* **This image is slightly different than the one in the DataCamp exercise, which is why it needed to be cropped and why the histogram doesn't precisely match.**"
   ]
  },
  {
   "cell_type": "markdown",
   "metadata": {},
   "source": [
    "#### Extracting bivariate histograms from a color image\n",
    "\n",
    "Rather than overlaying univariate histograms of intensities in distinct channels, it is also possible to view the joint variation of pixel intensity in two different channels.\n",
    "\n",
    "For this final exercise, you will use the same [color image of the Helix Nebula as seen by the Hubble and the Cerro Tololo Inter-American Observatory](https://hubblesite.org/contents/media/images/2004/32/1607-Image.html). The separate RGB (red-green-blue) channels will be extracted for you as one-dimensional arrays `red_pixels`, `green_pixels`, & `blue_pixels` respectively.\n",
    "\n",
    "**Instructions**\n",
    "\n",
    "* Make a 2-D histogram (not a regular histogram) in the top left subplot showing the joint variation of `red_pixels` (on the x-axis) and `green_pixels` (on the y-axis). Use `bins=(32,32)` to control binning.\n",
    "* Make another 2-D histogram in the top right subplot showing the joint variation of `green_pixels` (on the x-axis) and `blue_pixels` (on the y-axis). Use `bins=(32,32)` to control binning.\n",
    "* Make another 2-D histogram in the bottom left subplot showing the joint variation of `blue_pixels` (on the x-axis) and `red_pixels` (on the y-axis). Use `bins=(32,32)` to control binning."
   ]
  },
  {
   "cell_type": "code",
   "execution_count": null,
   "metadata": {},
   "outputs": [],
   "source": [
    "plt.figure(figsize=(10, 10))\n",
    "\n",
    "# Load the image into an array: image\n",
    "image = plt.imread(helix_dir_path)\n",
    "\n",
    "# crop image\n",
    "image = image[100:560, 368:864, :]\n",
    "\n",
    "# Extract RGB channels and flatten into 1-D array\n",
    "red, green, blue = image[:,:,0], image[:,:,1], image[:,:,2]\n",
    "red_pixels = red.flatten()\n",
    "green_pixels = green.flatten()\n",
    "blue_pixels = blue.flatten()\n",
    "\n",
    "# Generate a 2-D histogram of the red and green pixels\n",
    "plt.subplot(2,2,1)\n",
    "plt.grid('off') \n",
    "plt.xticks(rotation=60)\n",
    "plt.xlabel('red')\n",
    "plt.ylabel('green')\n",
    "plt.hist2d(red_pixels, green_pixels, bins=(32, 32))\n",
    "\n",
    "# Generate a 2-D histogram of the green and blue pixels\n",
    "plt.subplot(2,2,2)\n",
    "plt.grid('off')\n",
    "plt.xticks(rotation=60)\n",
    "plt.xlabel('green')\n",
    "plt.ylabel('blue')\n",
    "plt.hist2d(green_pixels, blue_pixels, bins=(32, 32))\n",
    "\n",
    "# Generate a 2-D histogram of the blue and red pixels\n",
    "plt.subplot(2,2,3)\n",
    "plt.grid('off')\n",
    "plt.xticks(rotation=60)\n",
    "plt.xlabel('blue')\n",
    "plt.ylabel('red')\n",
    "plt.hist2d(blue_pixels, red_pixels, bins=(32, 32))\n",
    "\n",
    "# Display the plot\n",
    "plt.show()"
   ]
  },
  {
   "cell_type": "code",
   "execution_count": null,
   "metadata": {},
   "outputs": [],
   "source": [
    "plt.figure(figsize=(10, 10))\n",
    "\n",
    "# Custom colormaps for RGB\n",
    "red_cmap = LinearSegmentedColormap.from_list(\"red\", [\"white\", \"black\"], N=256)\n",
    "green_cmap = LinearSegmentedColormap.from_list(\"green\", [\"white\", \"black\"], N=256)\n",
    "blue_cmap = LinearSegmentedColormap.from_list(\"blue\", [\"white\", \"black\"], N=256)\n",
    "\n",
    "# For red and green\n",
    "plt.subplot(2, 2, 1)\n",
    "plt.grid('off')\n",
    "plt.xlabel('red')\n",
    "plt.ylabel('green')\n",
    "plt.hist2d(red_pixels, green_pixels, bins=(32, 32), cmap=red_cmap)\n",
    "\n",
    "# For green and blue\n",
    "plt.subplot(2, 2, 2)\n",
    "plt.grid('off')\n",
    "plt.xlabel('green')\n",
    "plt.ylabel('blue')\n",
    "plt.hist2d(green_pixels, blue_pixels, bins=(32, 32), cmap=green_cmap)\n",
    "\n",
    "# For blue and red\n",
    "plt.subplot(2, 2, 3)\n",
    "plt.grid('off')\n",
    "plt.xlabel('blue')\n",
    "plt.ylabel('red')\n",
    "plt.hist2d(blue_pixels, red_pixels, bins=(32, 32), cmap=blue_cmap)\n",
    "\n",
    "# Display the plot\n",
    "plt.show()"
   ]
  },
  {
   "cell_type": "markdown",
   "metadata": {},
   "source": [
    "#### Color Intensity Relationship Visualization in Images"
   ]
  },
  {
   "cell_type": "markdown",
   "metadata": {},
   "source": [
    "The provided code snippet is performing a series of operations to visualize the relationship between different color channel intensities within a specific region of an image. It's a useful way to analyze and understand the color dynamics and distribution within images, especially for tasks related to image processing, computer vision, and even artistic or scientific visualization. Here’s a step-by-step breakdown of what’s happening and its potential usefulness:\n",
    "\n",
    "1. **Loading the Image**: `image = plt.imread(helix_dir_path)` loads the image from a specified path (helix_dir_path) into an array named image. This is the initial step to work with the image data.\n",
    "\n",
    "2. **Cropping the Image**: The image is cropped to a specific region of interest `[100:560, 368:864, :]` to focus the analysis on a particular part of the image. This is useful when you're only interested in the color dynamics of a specific area within the image.\n",
    "\n",
    "3. **Extracting and Flattening RGB Channels**: The Red, Green, and Blue (RGB) color channels of the image are separated and then flattened from 2D arrays (the shape of the image) into 1D arrays. Flattening the arrays is necessary for the scatter plot visualization, where each point in the plot will correspond to a pixel in the flattened array.\n",
    "\n",
    "4. **Normalizing Pixel Intensities**: The `normalize_data` function normalizes the pixel intensity values of each color channel to a range between 0 and 1. This step is crucial for two reasons: it allows for a uniform scale when comparing intensities across different images or different parts of an image, and it prepares the values to be used directly as color specifications in the scatter plot (since color intensities in matplotlib are expected to be in the range `[0, 1]`).\n",
    "\n",
    "5. **Visualizing Color Combinations with Scatter Plots**: Three scatter plots are created to visualize the combinations of the two color intensities at a time:\n",
    "\n",
    "    - **Red-Green Combination**: This plot shows how red and green intensities relate to each other across all pixels in the cropped image area. Pixels with high red and green intensities might appear yellowish due to the combination of red and green light.\n",
    "    - **Green-Blue Combination**: Similarly, this plot visualizes the relationship between green and blue intensities.\n",
    "    - **Blue-Red Combination**: This plot shows the relationship between blue and red intensities.\n",
    "\n",
    "Each scatter plot uses color to represent the combination of two channels, effectively visualizing how the intensities of these channels interplay across the image. The `alpha=0.1` parameter makes the points semi-transparent, helping to visualize the density of points in areas of high overlap, and `s=0.1` adjusts the size of the points to be very small, allowing for a more detailed density visualization.\n",
    "\n",
    "**How It Might Be Helpful**:\n",
    "\n",
    "- **Color Analysis**: This approach can help in analyzing the color composition and balance within specific regions of an image. For example, it could reveal whether certain colors dominate or if there's a harmonious balance between colors in a scene.\n",
    "- **Image Processing and Computer Vision Applications**: Understanding the color dynamics can be crucial in tasks like object detection, segmentation, and color correction. It can also help in designing filters or algorithms that operate differently based on color intensities.\n",
    "- **Scientific Visualization**: For scientific images, especially those involving fluorescent dyes or markers in biology, this analysis could help in quantifying the presence and overlap of specific markers.\n"
   ]
  },
  {
   "cell_type": "code",
   "execution_count": null,
   "metadata": {},
   "outputs": [],
   "source": [
    "# Load the image from the specified directory path into a NumPy array.\n",
    "image = plt.imread(helix_dir_path)\n",
    "\n",
    "# Crop the image to focus on a specific area of interest,\n",
    "# removing unnecessary parts to better analyze the visual data.\n",
    "image = image[100:560, 368:864, :]\n",
    "\n",
    "# Extract the individual Red, Green, and Blue (RGB) channels from the cropped image.\n",
    "# Each channel is a 2D array where each value represents the intensity of that color at each pixel.\n",
    "red, green, blue = image[:,:,0], image[:,:,1], image[:,:,2]\n",
    "\n",
    "# Flatten each of the RGB channels from 2D arrays into 1D arrays.\n",
    "# This transformation is necessary for color intensity analysis across all pixels in a linear fashion.\n",
    "red_pixels = red.flatten()\n",
    "green_pixels = green.flatten()\n",
    "blue_pixels = blue.flatten()\n",
    "\n",
    "# Define a function to normalize pixel intensity values.\n",
    "# Normalization adjusts the range of color intensity values to be between 0 and 1.\n",
    "# This step is crucial for consistent visualization and analysis.\n",
    "def normalize_data(data):\n",
    "    return (data - np.min(data)) / (np.max(data) - np.min(data))\n",
    "\n",
    "# Normalize the pixel intensities for each color channel.\n",
    "# Normalized intensities are used for plotting to ensure the data is on a comparable scale.\n",
    "red_norm = normalize_data(red_pixels)\n",
    "green_norm = normalize_data(green_pixels)\n",
    "blue_norm = normalize_data(blue_pixels)\n",
    "\n",
    "# Create a figure and a set of subplots to visualize the relationships between color intensities.\n",
    "# This setup allows us to compare the distribution and correlation of two color intensities at a time.\n",
    "fig, (ax1, ax2, ax3) = plt.subplots(ncols=3, figsize=(14, 4))\n",
    "\n",
    "# Scatter plot for the Red-Green combination with normalized colors.\n",
    "# The plot visualizes the intensity relationship between red and green pixels.\n",
    "# Color for each point is determined by combining normalized red and green values, with blue set to zero.\n",
    "ax1.scatter(red_pixels, green_pixels, color=np.stack([red_norm, green_norm, np.zeros_like(red_norm)], axis=1), alpha=0.1, s=0.1)\n",
    "ax1.set(title='Red-Green Combination', xlabel='Red Intensity', ylabel='Green Intensity')\n",
    "\n",
    "# Scatter plot for the Green-Blue combination with normalized colors.\n",
    "# Similar to the Red-Green plot, but focuses on the relationship between green and blue intensities.\n",
    "ax2.scatter(green_pixels, blue_pixels, color=np.stack([np.zeros_like(green_norm), green_norm, blue_norm], axis=1), alpha=0.1, s=0.1)\n",
    "ax2.set(title='Green-Blue Combination', xlabel='Green Intensity', ylabel='Blue Intensity')\n",
    "\n",
    "# Scatter plot for the Blue-Red combination with normalized colors.\n",
    "# Visualizes how blue and red intensities correlate, completing the analysis of all primary color pairs.\n",
    "ax3.scatter(blue_pixels, red_pixels, color=np.stack([red_norm, np.zeros_like(blue_norm), blue_norm], axis=1), alpha=0.1, s=0.1)\n",
    "ax3.set(title='Blue-Red Combination', xlabel='Blue Intensity', ylabel='Red Intensity')\n",
    "\n",
    "# Display the plots.\n",
    "# This visual representation helps in understanding the color composition and interactions within the image.\n",
    "plt.show()"
   ]
  },
  {
   "cell_type": "markdown",
   "metadata": {},
   "source": [
    "## Certificate\n",
    "\n",
    "![](https://raw.githubusercontent.com/trenton3983/DataCamp/master/Images/intro_to_data_visualization_in_python/2020-03-15_certificate.jpg)"
   ]
  }
 ],
 "metadata": {
  "kernelspec": {
   "display_name": "py312",
   "language": "python",
   "name": "py312"
  },
  "language_info": {
   "codemirror_mode": {
    "name": "ipython",
    "version": 3
   },
   "file_extension": ".py",
   "mimetype": "text/x-python",
   "name": "python",
   "nbconvert_exporter": "python",
   "pygments_lexer": "ipython3",
   "version": "3.12.3"
  },
  "toc-autonumbering": true
 },
 "nbformat": 4,
 "nbformat_minor": 4
}
